{
 "cells": [
  {
   "cell_type": "code",
   "execution_count": 1,
   "id": "422e0a6d",
   "metadata": {},
   "outputs": [
    {
     "name": "stderr",
     "output_type": "stream",
     "text": [
      "C:\\Users\\rupes\\AppData\\Local\\Temp\\ipykernel_15132\\1180029222.py:14: UserWarning: pandas only supports SQLAlchemy connectable (engine/connection) or database string URI or sqlite3 DBAPI2 connection. Other DBAPI2 objects are not tested. Please consider using SQLAlchemy.\n",
      "  df = pd.read_sql_query(\"SELECT * FROM Electionresult\",\n"
     ]
    }
   ],
   "source": [
    "# connection to Rds Aws using sql connector\n",
    "\n",
    "import os\n",
    "import pymysql\n",
    "import pandas as pd\n",
    "conn = pymysql.connect(\n",
    "    host='transaction-instance.c9zdxn3lynuz.us-east-1.rds.amazonaws.com',\n",
    "    port=int(3306),\n",
    "    user=\"admin\",\n",
    "    passwd='Rupesh162451',\n",
    "    db=\"Electiondb\",\n",
    "    charset='utf8mb4')\n",
    "\n",
    "df = pd.read_sql_query(\"SELECT * FROM Electionresult\",\n",
    "    conn)\n"
   ]
  },
  {
   "cell_type": "code",
   "execution_count": 2,
   "id": "c9178ebe",
   "metadata": {},
   "outputs": [
    {
     "data": {
      "text/html": [
       "<div>\n",
       "<style scoped>\n",
       "    .dataframe tbody tr th:only-of-type {\n",
       "        vertical-align: middle;\n",
       "    }\n",
       "\n",
       "    .dataframe tbody tr th {\n",
       "        vertical-align: top;\n",
       "    }\n",
       "\n",
       "    .dataframe thead th {\n",
       "        text-align: right;\n",
       "    }\n",
       "</style>\n",
       "<table border=\"1\" class=\"dataframe\">\n",
       "  <thead>\n",
       "    <tr style=\"text-align: right;\">\n",
       "      <th></th>\n",
       "      <th>State</th>\n",
       "      <th>Party</th>\n",
       "      <th>Total_no_of_seats</th>\n",
       "      <th>Won</th>\n",
       "      <th>Loss</th>\n",
       "      <th>leads</th>\n",
       "      <th>Previous_Election_won</th>\n",
       "      <th>Percentage_of_change</th>\n",
       "      <th>Total_Votes</th>\n",
       "    </tr>\n",
       "  </thead>\n",
       "  <tbody>\n",
       "    <tr>\n",
       "      <th>0</th>\n",
       "      <td>Andaman &amp; Nicobar Islands</td>\n",
       "      <td>Bahujan Samaj Party</td>\n",
       "      <td>503</td>\n",
       "      <td>0</td>\n",
       "      <td>503</td>\n",
       "      <td>1823</td>\n",
       "      <td>414</td>\n",
       "      <td>4.14</td>\n",
       "      <td>22946182</td>\n",
       "    </tr>\n",
       "    <tr>\n",
       "      <th>1</th>\n",
       "      <td>Andhra Pradesh</td>\n",
       "      <td>Bharatiya Janata Party</td>\n",
       "      <td>428</td>\n",
       "      <td>282</td>\n",
       "      <td>146</td>\n",
       "      <td>1271</td>\n",
       "      <td>2818</td>\n",
       "      <td>31.00</td>\n",
       "      <td>171657549</td>\n",
       "    </tr>\n",
       "    <tr>\n",
       "      <th>2</th>\n",
       "      <td>Arunachal Pradesh</td>\n",
       "      <td>Communist Party of India</td>\n",
       "      <td>67</td>\n",
       "      <td>1</td>\n",
       "      <td>66</td>\n",
       "      <td>318</td>\n",
       "      <td>77</td>\n",
       "      <td>0.78</td>\n",
       "      <td>4327298</td>\n",
       "    </tr>\n",
       "    <tr>\n",
       "      <th>3</th>\n",
       "      <td>Assam</td>\n",
       "      <td>Communist Party of India  (Marxist)</td>\n",
       "      <td>93</td>\n",
       "      <td>9</td>\n",
       "      <td>84</td>\n",
       "      <td>4979</td>\n",
       "      <td>316</td>\n",
       "      <td>3.25</td>\n",
       "      <td>17986773</td>\n",
       "    </tr>\n",
       "    <tr>\n",
       "      <th>4</th>\n",
       "      <td>Bihar</td>\n",
       "      <td>Indian National Congress</td>\n",
       "      <td>464</td>\n",
       "      <td>44</td>\n",
       "      <td>420</td>\n",
       "      <td>3051</td>\n",
       "      <td>1887</td>\n",
       "      <td>19.31</td>\n",
       "      <td>106938242</td>\n",
       "    </tr>\n",
       "    <tr>\n",
       "      <th>...</th>\n",
       "      <td>...</td>\n",
       "      <td>...</td>\n",
       "      <td>...</td>\n",
       "      <td>...</td>\n",
       "      <td>...</td>\n",
       "      <td>...</td>\n",
       "      <td>...</td>\n",
       "      <td>...</td>\n",
       "      <td>...</td>\n",
       "    </tr>\n",
       "    <tr>\n",
       "      <th>459</th>\n",
       "      <td>Rajasthan</td>\n",
       "      <td>Voters Party</td>\n",
       "      <td>1</td>\n",
       "      <td>0</td>\n",
       "      <td>1</td>\n",
       "      <td>23878</td>\n",
       "      <td>0</td>\n",
       "      <td>0.00</td>\n",
       "      <td>1089</td>\n",
       "    </tr>\n",
       "    <tr>\n",
       "      <th>460</th>\n",
       "      <td>Sikkim</td>\n",
       "      <td>Welfare Party Of India</td>\n",
       "      <td>25</td>\n",
       "      <td>0</td>\n",
       "      <td>25</td>\n",
       "      <td>42349</td>\n",
       "      <td>4</td>\n",
       "      <td>0.04</td>\n",
       "      <td>228642</td>\n",
       "    </tr>\n",
       "    <tr>\n",
       "      <th>461</th>\n",
       "      <td>Tamil Nadu</td>\n",
       "      <td>Yuva Sarkar</td>\n",
       "      <td>2</td>\n",
       "      <td>0</td>\n",
       "      <td>2</td>\n",
       "      <td>9580</td>\n",
       "      <td>0</td>\n",
       "      <td>0.00</td>\n",
       "      <td>4578</td>\n",
       "    </tr>\n",
       "    <tr>\n",
       "      <th>462</th>\n",
       "      <td>Tripura</td>\n",
       "      <td>Yuvajana Sramika Rythu Congress Party</td>\n",
       "      <td>38</td>\n",
       "      <td>9</td>\n",
       "      <td>29</td>\n",
       "      <td>17609</td>\n",
       "      <td>244</td>\n",
       "      <td>2.53</td>\n",
       "      <td>13991280</td>\n",
       "    </tr>\n",
       "    <tr>\n",
       "      <th>463</th>\n",
       "      <td>Uttar Pradesh</td>\n",
       "      <td>Independent</td>\n",
       "      <td>3235</td>\n",
       "      <td>3</td>\n",
       "      <td>3232</td>\n",
       "      <td>62911</td>\n",
       "      <td>299</td>\n",
       "      <td>3.02</td>\n",
       "      <td>16743719</td>\n",
       "    </tr>\n",
       "  </tbody>\n",
       "</table>\n",
       "<p>464 rows × 9 columns</p>\n",
       "</div>"
      ],
      "text/plain": [
       "                         State                                  Party  \\\n",
       "0    Andaman & Nicobar Islands                    Bahujan Samaj Party   \n",
       "1               Andhra Pradesh                 Bharatiya Janata Party   \n",
       "2            Arunachal Pradesh               Communist Party of India   \n",
       "3                        Assam    Communist Party of India  (Marxist)   \n",
       "4                        Bihar               Indian National Congress   \n",
       "..                         ...                                    ...   \n",
       "459                  Rajasthan                           Voters Party   \n",
       "460                     Sikkim                 Welfare Party Of India   \n",
       "461                 Tamil Nadu                            Yuva Sarkar   \n",
       "462                    Tripura  Yuvajana Sramika Rythu Congress Party   \n",
       "463              Uttar Pradesh                            Independent   \n",
       "\n",
       "     Total_no_of_seats  Won  Loss  leads  Previous_Election_won  \\\n",
       "0                  503    0   503   1823                    414   \n",
       "1                  428  282   146   1271                   2818   \n",
       "2                   67    1    66    318                     77   \n",
       "3                   93    9    84   4979                    316   \n",
       "4                  464   44   420   3051                   1887   \n",
       "..                 ...  ...   ...    ...                    ...   \n",
       "459                  1    0     1  23878                      0   \n",
       "460                 25    0    25  42349                      4   \n",
       "461                  2    0     2   9580                      0   \n",
       "462                 38    9    29  17609                    244   \n",
       "463               3235    3  3232  62911                    299   \n",
       "\n",
       "     Percentage_of_change  Total_Votes  \n",
       "0                    4.14     22946182  \n",
       "1                   31.00    171657549  \n",
       "2                    0.78      4327298  \n",
       "3                    3.25     17986773  \n",
       "4                   19.31    106938242  \n",
       "..                    ...          ...  \n",
       "459                  0.00         1089  \n",
       "460                  0.04       228642  \n",
       "461                  0.00         4578  \n",
       "462                  2.53     13991280  \n",
       "463                  3.02     16743719  \n",
       "\n",
       "[464 rows x 9 columns]"
      ]
     },
     "execution_count": 2,
     "metadata": {},
     "output_type": "execute_result"
    }
   ],
   "source": [
    "df"
   ]
  },
  {
   "cell_type": "code",
   "execution_count": 5,
   "id": "52634f68",
   "metadata": {},
   "outputs": [
    {
     "data": {
      "application/vnd.plotly.v1+json": {
       "config": {
        "plotlyServerURL": "https://plot.ly"
       },
       "data": [
        {
         "hovertemplate": "Party=Bahujan Samaj Party<br>State=%{x}<br>Previous_Election_won=%{y}<extra></extra>",
         "legendgroup": "Bahujan Samaj Party",
         "marker": {
          "color": "#636efa",
          "symbol": "circle"
         },
         "mode": "markers",
         "name": "Bahujan Samaj Party",
         "orientation": "v",
         "showlegend": true,
         "type": "scatter",
         "x": [
          "Andaman & Nicobar Islands"
         ],
         "xaxis": "x",
         "y": [
          414
         ],
         "yaxis": "y"
        },
        {
         "hovertemplate": "Party=Bharatiya Janata Party<br>State=%{x}<br>Previous_Election_won=%{y}<extra></extra>",
         "legendgroup": "Bharatiya Janata Party",
         "marker": {
          "color": "#EF553B",
          "symbol": "circle"
         },
         "mode": "markers",
         "name": "Bharatiya Janata Party",
         "orientation": "v",
         "showlegend": true,
         "type": "scatter",
         "x": [
          "Andhra Pradesh"
         ],
         "xaxis": "x",
         "y": [
          2818
         ],
         "yaxis": "y"
        },
        {
         "hovertemplate": "Party=Communist Party of India<br>State=%{x}<br>Previous_Election_won=%{y}<extra></extra>",
         "legendgroup": "Communist Party of India",
         "marker": {
          "color": "#00cc96",
          "symbol": "circle"
         },
         "mode": "markers",
         "name": "Communist Party of India",
         "orientation": "v",
         "showlegend": true,
         "type": "scatter",
         "x": [
          "Arunachal Pradesh"
         ],
         "xaxis": "x",
         "y": [
          77
         ],
         "yaxis": "y"
        },
        {
         "hovertemplate": "Party=Communist Party of India  (Marxist)<br>State=%{x}<br>Previous_Election_won=%{y}<extra></extra>",
         "legendgroup": "Communist Party of India  (Marxist)",
         "marker": {
          "color": "#ab63fa",
          "symbol": "circle"
         },
         "mode": "markers",
         "name": "Communist Party of India  (Marxist)",
         "orientation": "v",
         "showlegend": true,
         "type": "scatter",
         "x": [
          "Assam"
         ],
         "xaxis": "x",
         "y": [
          316
         ],
         "yaxis": "y"
        },
        {
         "hovertemplate": "Party=Indian National Congress<br>State=%{x}<br>Previous_Election_won=%{y}<extra></extra>",
         "legendgroup": "Indian National Congress",
         "marker": {
          "color": "#FFA15A",
          "symbol": "circle"
         },
         "mode": "markers",
         "name": "Indian National Congress",
         "orientation": "v",
         "showlegend": true,
         "type": "scatter",
         "x": [
          "Bihar"
         ],
         "xaxis": "x",
         "y": [
          1887
         ],
         "yaxis": "y"
        },
        {
         "hovertemplate": "Party=Nationalist Congress Party<br>State=%{x}<br>Previous_Election_won=%{y}<extra></extra>",
         "legendgroup": "Nationalist Congress Party",
         "marker": {
          "color": "#19d3f3",
          "symbol": "circle"
         },
         "mode": "markers",
         "name": "Nationalist Congress Party",
         "orientation": "v",
         "showlegend": true,
         "type": "scatter",
         "x": [
          "Chandigarh"
         ],
         "xaxis": "x",
         "y": [
          150
         ],
         "yaxis": "y"
        },
        {
         "hovertemplate": "Party=Aam Aadmi Party<br>State=%{x}<br>Previous_Election_won=%{y}<extra></extra>",
         "legendgroup": "Aam Aadmi Party",
         "marker": {
          "color": "#FF6692",
          "symbol": "circle"
         },
         "mode": "markers",
         "name": "Aam Aadmi Party",
         "orientation": "v",
         "showlegend": true,
         "type": "scatter",
         "x": [
          "Chhattisgarh"
         ],
         "xaxis": "x",
         "y": [
          201
         ],
         "yaxis": "y"
        },
        {
         "hovertemplate": "Party=AJSU Party<br>State=%{x}<br>Previous_Election_won=%{y}<extra></extra>",
         "legendgroup": "AJSU Party",
         "marker": {
          "color": "#B6E880",
          "symbol": "circle"
         },
         "mode": "markers",
         "name": "AJSU Party",
         "orientation": "v",
         "showlegend": true,
         "type": "scatter",
         "x": [
          "Dadra & Nagar Haveli"
         ],
         "xaxis": "x",
         "y": [
          9
         ],
         "yaxis": "y"
        },
        {
         "hovertemplate": "Party=All India Anna Dravida Munnetra Kazhagam<br>State=%{x}<br>Previous_Election_won=%{y}<extra></extra>",
         "legendgroup": "All India Anna Dravida Munnetra Kazhagam",
         "marker": {
          "color": "#FF97FF",
          "symbol": "circle"
         },
         "mode": "markers",
         "name": "All India Anna Dravida Munnetra Kazhagam",
         "orientation": "v",
         "showlegend": true,
         "type": "scatter",
         "x": [
          "Daman & Diu"
         ],
         "xaxis": "x",
         "y": [
          290
         ],
         "yaxis": "y"
        },
        {
         "hovertemplate": "Party=All India Forward Bloc<br>State=%{x}<br>Previous_Election_won=%{y}<extra></extra>",
         "legendgroup": "All India Forward Bloc",
         "marker": {
          "color": "#FECB52",
          "symbol": "circle"
         },
         "mode": "markers",
         "name": "All India Forward Bloc",
         "orientation": "v",
         "showlegend": true,
         "type": "scatter",
         "x": [
          "Goa"
         ],
         "xaxis": "x",
         "y": [
          22
         ],
         "yaxis": "y"
        },
        {
         "hovertemplate": "Party=All India N.R. Congress<br>State=%{x}<br>Previous_Election_won=%{y}<extra></extra>",
         "legendgroup": "All India N.R. Congress",
         "marker": {
          "color": "#636efa",
          "symbol": "circle"
         },
         "mode": "markers",
         "name": "All India N.R. Congress",
         "orientation": "v",
         "showlegend": true,
         "type": "scatter",
         "x": [
          "Gujarat"
         ],
         "xaxis": "x",
         "y": [
          4
         ],
         "yaxis": "y"
        },
        {
         "hovertemplate": "Party=All India Trinamool Congress<br>State=%{x}<br>Previous_Election_won=%{y}<extra></extra>",
         "legendgroup": "All India Trinamool Congress",
         "marker": {
          "color": "#EF553B",
          "symbol": "circle"
         },
         "mode": "markers",
         "name": "All India Trinamool Congress",
         "orientation": "v",
         "showlegend": true,
         "type": "scatter",
         "x": [
          "Haryana"
         ],
         "xaxis": "x",
         "y": [
          350
         ],
         "yaxis": "y"
        },
        {
         "hovertemplate": "Party=All India United Democratic Front<br>State=%{x}<br>Previous_Election_won=%{y}<extra></extra>",
         "legendgroup": "All India United Democratic Front",
         "marker": {
          "color": "#00cc96",
          "symbol": "circle"
         },
         "mode": "markers",
         "name": "All India United Democratic Front",
         "orientation": "v",
         "showlegend": true,
         "type": "scatter",
         "x": [
          "Himachal Pradesh"
         ],
         "xaxis": "x",
         "y": [
          39
         ],
         "yaxis": "y"
        },
        {
         "hovertemplate": "Party=Asom Gana Parishad<br>State=%{x}<br>Previous_Election_won=%{y}<extra></extra>",
         "legendgroup": "Asom Gana Parishad",
         "marker": {
          "color": "#ab63fa",
          "symbol": "circle"
         },
         "mode": "markers",
         "name": "Asom Gana Parishad",
         "orientation": "v",
         "showlegend": true,
         "type": "scatter",
         "x": [
          "Jammu & Kashmir"
         ],
         "xaxis": "x",
         "y": [
          10
         ],
         "yaxis": "y"
        },
        {
         "hovertemplate": "Party=Biju Janata Dal<br>State=%{x}<br>Previous_Election_won=%{y}<extra></extra>",
         "legendgroup": "Biju Janata Dal",
         "marker": {
          "color": "#FFA15A",
          "symbol": "circle"
         },
         "mode": "markers",
         "name": "Biju Janata Dal",
         "orientation": "v",
         "showlegend": true,
         "type": "scatter",
         "x": [
          "Jharkhand"
         ],
         "xaxis": "x",
         "y": [
          151
         ],
         "yaxis": "y"
        },
        {
         "hovertemplate": "Party=Bodoland Peoples Front<br>State=%{x}<br>Previous_Election_won=%{y}<extra></extra>",
         "legendgroup": "Bodoland Peoples Front",
         "marker": {
          "color": "#19d3f3",
          "symbol": "circle"
         },
         "mode": "markers",
         "name": "Bodoland Peoples Front",
         "orientation": "v",
         "showlegend": true,
         "type": "scatter",
         "x": [
          "Karnataka"
         ],
         "xaxis": "x",
         "y": [
          6
         ],
         "yaxis": "y"
        },
        {
         "hovertemplate": "Party=Desiya Murpokku Dravida Kazhagam<br>State=%{x}<br>Previous_Election_won=%{y}<extra></extra>",
         "legendgroup": "Desiya Murpokku Dravida Kazhagam",
         "marker": {
          "color": "#FF6692",
          "symbol": "circle"
         },
         "mode": "markers",
         "name": "Desiya Murpokku Dravida Kazhagam",
         "orientation": "v",
         "showlegend": true,
         "type": "scatter",
         "x": [
          "Kerala"
         ],
         "xaxis": "x",
         "y": [
          38
         ],
         "yaxis": "y"
        },
        {
         "hovertemplate": "Party=Dravida Munnetra Kazhagam<br>State=%{x}<br>Previous_Election_won=%{y}<extra></extra>",
         "legendgroup": "Dravida Munnetra Kazhagam",
         "marker": {
          "color": "#B6E880",
          "symbol": "circle"
         },
         "mode": "markers",
         "name": "Dravida Munnetra Kazhagam",
         "orientation": "v",
         "showlegend": true,
         "type": "scatter",
         "x": [
          "Lakshadweep"
         ],
         "xaxis": "x",
         "y": [
          174
         ],
         "yaxis": "y"
        },
        {
         "hovertemplate": "Party=Haryana Janhit Congress (BL)<br>State=%{x}<br>Previous_Election_won=%{y}<extra></extra>",
         "legendgroup": "Haryana Janhit Congress (BL)",
         "marker": {
          "color": "#FF97FF",
          "symbol": "circle"
         },
         "mode": "markers",
         "name": "Haryana Janhit Congress (BL)",
         "orientation": "v",
         "showlegend": true,
         "type": "scatter",
         "x": [
          "Madhya Pradesh"
         ],
         "xaxis": "x",
         "y": [
          13
         ],
         "yaxis": "y"
        },
        {
         "hovertemplate": "Party=Indian National Lok Dal<br>State=%{x}<br>Previous_Election_won=%{y}<extra></extra>",
         "legendgroup": "Indian National Lok Dal",
         "marker": {
          "color": "#FECB52",
          "symbol": "circle"
         },
         "mode": "markers",
         "name": "Indian National Lok Dal",
         "orientation": "v",
         "showlegend": true,
         "type": "scatter",
         "x": [
          "Maharashtra"
         ],
         "xaxis": "x",
         "y": [
          49
         ],
         "yaxis": "y"
        },
        {
         "hovertemplate": "Party=Indian Union Muslim League<br>State=%{x}<br>Previous_Election_won=%{y}<extra></extra>",
         "legendgroup": "Indian Union Muslim League",
         "marker": {
          "color": "#636efa",
          "symbol": "circle"
         },
         "mode": "markers",
         "name": "Indian Union Muslim League",
         "orientation": "v",
         "showlegend": true,
         "type": "scatter",
         "x": [
          "Manipur"
         ],
         "xaxis": "x",
         "y": [
          18
         ],
         "yaxis": "y"
        },
        {
         "hovertemplate": "Party=Jammu & Kashmir National Conference<br>State=%{x}<br>Previous_Election_won=%{y}<extra></extra>",
         "legendgroup": "Jammu & Kashmir National Conference",
         "marker": {
          "color": "#EF553B",
          "symbol": "circle"
         },
         "mode": "markers",
         "name": "Jammu & Kashmir National Conference",
         "orientation": "v",
         "showlegend": true,
         "type": "scatter",
         "x": [
          "Meghalaya"
         ],
         "xaxis": "x",
         "y": [
          7
         ],
         "yaxis": "y"
        },
        {
         "hovertemplate": "Party=Jammu & Kashmir National Panthers Party<br>State=%{x}<br>Previous_Election_won=%{y}<extra></extra>",
         "legendgroup": "Jammu & Kashmir National Panthers Party",
         "marker": {
          "color": "#00cc96",
          "symbol": "circle"
         },
         "mode": "markers",
         "name": "Jammu & Kashmir National Panthers Party",
         "orientation": "v",
         "showlegend": true,
         "type": "scatter",
         "x": [
          "Mizoram"
         ],
         "xaxis": "x",
         "y": [
          1
         ],
         "yaxis": "y"
        },
        {
         "hovertemplate": "Party=Jammu & Kashmir Peoples Democratic Party<br>State=%{x}<br>Previous_Election_won=%{y}<extra></extra>",
         "legendgroup": "Jammu & Kashmir Peoples Democratic Party",
         "marker": {
          "color": "#ab63fa",
          "symbol": "circle"
         },
         "mode": "markers",
         "name": "Jammu & Kashmir Peoples Democratic Party",
         "orientation": "v",
         "showlegend": true,
         "type": "scatter",
         "x": [
          "Nagaland"
         ],
         "xaxis": "x",
         "y": [
          10
         ],
         "yaxis": "y"
        },
        {
         "hovertemplate": "Party=Janata Dal  (Secular)<br>State=%{x}<br>Previous_Election_won=%{y}<extra></extra>",
         "legendgroup": "Janata Dal  (Secular)",
         "marker": {
          "color": "#FFA15A",
          "symbol": "circle"
         },
         "mode": "markers",
         "name": "Janata Dal  (Secular)",
         "orientation": "v",
         "showlegend": true,
         "type": "scatter",
         "x": [
          "NCT OF Delhi"
         ],
         "xaxis": "x",
         "y": [
          65
         ],
         "yaxis": "y"
        },
        {
         "hovertemplate": "Party=Janata Dal  (United)<br>State=%{x}<br>Previous_Election_won=%{y}<extra></extra>",
         "legendgroup": "Janata Dal  (United)",
         "marker": {
          "color": "#19d3f3",
          "symbol": "circle"
         },
         "mode": "markers",
         "name": "Janata Dal  (United)",
         "orientation": "v",
         "showlegend": true,
         "type": "scatter",
         "x": [
          "Odisha"
         ],
         "xaxis": "x",
         "y": [
          106
         ],
         "yaxis": "y"
        },
        {
         "hovertemplate": "Party=Jharkhand Mukti Morcha<br>State=%{x}<br>Previous_Election_won=%{y}<extra></extra>",
         "legendgroup": "Jharkhand Mukti Morcha",
         "marker": {
          "color": "#FF6692",
          "symbol": "circle"
         },
         "mode": "markers",
         "name": "Jharkhand Mukti Morcha",
         "orientation": "v",
         "showlegend": true,
         "type": "scatter",
         "x": [
          "Puducherry"
         ],
         "xaxis": "x",
         "y": [
          28
         ],
         "yaxis": "y"
        },
        {
         "hovertemplate": "Party=Jharkhand Vikas Morcha (Prajatantrik)<br>State=%{x}<br>Previous_Election_won=%{y}<extra></extra>",
         "legendgroup": "Jharkhand Vikas Morcha (Prajatantrik)",
         "marker": {
          "color": "#B6E880",
          "symbol": "circle"
         },
         "mode": "markers",
         "name": "Jharkhand Vikas Morcha (Prajatantrik)",
         "orientation": "v",
         "showlegend": true,
         "type": "scatter",
         "x": [
          "Punjab"
         ],
         "xaxis": "x",
         "y": [
          29
         ],
         "yaxis": "y"
        },
        {
         "hovertemplate": "Party=Kerala Congress  (M)<br>State=%{x}<br>Previous_Election_won=%{y}<extra></extra>",
         "legendgroup": "Kerala Congress  (M)",
         "marker": {
          "color": "#FF97FF",
          "symbol": "circle"
         },
         "mode": "markers",
         "name": "Kerala Congress  (M)",
         "orientation": "v",
         "showlegend": true,
         "type": "scatter",
         "x": [
          "Rajasthan"
         ],
         "xaxis": "x",
         "y": [
          7
         ],
         "yaxis": "y"
        },
        {
         "hovertemplate": "Party=Lok Jan Shakti Party<br>State=%{x}<br>Previous_Election_won=%{y}<extra></extra>",
         "legendgroup": "Lok Jan Shakti Party",
         "marker": {
          "color": "#FECB52",
          "symbol": "circle"
         },
         "mode": "markers",
         "name": "Lok Jan Shakti Party",
         "orientation": "v",
         "showlegend": true,
         "type": "scatter",
         "x": [
          "Sikkim"
         ],
         "xaxis": "x",
         "y": [
          35
         ],
         "yaxis": "y"
        },
        {
         "hovertemplate": "Party=Maharashtra Navnirman sena<br>State=%{x}<br>Previous_Election_won=%{y}<extra></extra>",
         "legendgroup": "Maharashtra Navnirman sena",
         "marker": {
          "color": "#636efa",
          "symbol": "circle"
         },
         "mode": "markers",
         "name": "Maharashtra Navnirman sena",
         "orientation": "v",
         "showlegend": true,
         "type": "scatter",
         "x": [
          "Tamil Nadu"
         ],
         "xaxis": "x",
         "y": [
          13
         ],
         "yaxis": "y"
        },
        {
         "hovertemplate": "Party=Naga Peoples Front<br>State=%{x}<br>Previous_Election_won=%{y}<extra></extra>",
         "legendgroup": "Naga Peoples Front",
         "marker": {
          "color": "#EF553B",
          "symbol": "circle"
         },
         "mode": "markers",
         "name": "Naga Peoples Front",
         "orientation": "v",
         "showlegend": true,
         "type": "scatter",
         "x": [
          "Tripura"
         ],
         "xaxis": "x",
         "y": [
          17
         ],
         "yaxis": "y"
        },
        {
         "hovertemplate": "Party=National Peoples Party<br>State=%{x}<br>Previous_Election_won=%{y}<extra></extra>",
         "legendgroup": "National Peoples Party",
         "marker": {
          "color": "#00cc96",
          "symbol": "circle"
         },
         "mode": "markers",
         "name": "National Peoples Party",
         "orientation": "v",
         "showlegend": true,
         "type": "scatter",
         "x": [
          "Uttar Pradesh"
         ],
         "xaxis": "x",
         "y": [
          9
         ],
         "yaxis": "y"
        },
        {
         "hovertemplate": "Party=Pattali Makkal Katchi<br>State=%{x}<br>Previous_Election_won=%{y}<extra></extra>",
         "legendgroup": "Pattali Makkal Katchi",
         "marker": {
          "color": "#ab63fa",
          "symbol": "circle"
         },
         "mode": "markers",
         "name": "Pattali Makkal Katchi",
         "orientation": "v",
         "showlegend": true,
         "type": "scatter",
         "x": [
          "Uttarakhand"
         ],
         "xaxis": "x",
         "y": [
          32
         ],
         "yaxis": "y"
        },
        {
         "hovertemplate": "Party=People's Party of Arunachal<br>State=%{x}<br>Previous_Election_won=%{y}<extra></extra>",
         "legendgroup": "People's Party of Arunachal",
         "marker": {
          "color": "#FFA15A",
          "symbol": "circle"
         },
         "mode": "markers",
         "name": "People's Party of Arunachal",
         "orientation": "v",
         "showlegend": true,
         "type": "scatter",
         "x": [
          "West Bengal"
         ],
         "xaxis": "x",
         "y": [
          1
         ],
         "yaxis": "y"
        },
        {
         "hovertemplate": "Party=Rashtriya Janata Dal<br>State=%{x}<br>Previous_Election_won=%{y}<extra></extra>",
         "legendgroup": "Rashtriya Janata Dal",
         "marker": {
          "color": "#19d3f3",
          "symbol": "circle"
         },
         "mode": "markers",
         "name": "Rashtriya Janata Dal",
         "orientation": "v",
         "showlegend": true,
         "type": "scatter",
         "x": [
          "West Bengal"
         ],
         "xaxis": "x",
         "y": [
          130
         ],
         "yaxis": "y"
        },
        {
         "hovertemplate": "Party=Rashtriya Lok Dal<br>State=%{x}<br>Previous_Election_won=%{y}<extra></extra>",
         "legendgroup": "Rashtriya Lok Dal",
         "marker": {
          "color": "#FF6692",
          "symbol": "circle"
         },
         "mode": "markers",
         "name": "Rashtriya Lok Dal",
         "orientation": "v",
         "showlegend": true,
         "type": "scatter",
         "x": [
          "West Bengal"
         ],
         "xaxis": "x",
         "y": [
          13
         ],
         "yaxis": "y"
        },
        {
         "hovertemplate": "Party=Revolutionary Socialist Party<br>State=%{x}<br>Previous_Election_won=%{y}<extra></extra>",
         "legendgroup": "Revolutionary Socialist Party",
         "marker": {
          "color": "#B6E880",
          "symbol": "circle"
         },
         "mode": "markers",
         "name": "Revolutionary Socialist Party",
         "orientation": "v",
         "showlegend": true,
         "type": "scatter",
         "x": [
          "Tamil Nadu"
         ],
         "xaxis": "x",
         "y": [
          29
         ],
         "yaxis": "y"
        },
        {
         "hovertemplate": "Party=Samajwadi Party<br>State=%{x}<br>Previous_Election_won=%{y}<extra></extra>",
         "legendgroup": "Samajwadi Party",
         "marker": {
          "color": "#FF97FF",
          "symbol": "circle"
         },
         "mode": "markers",
         "name": "Samajwadi Party",
         "orientation": "v",
         "showlegend": true,
         "type": "scatter",
         "x": [
          "Uttar Pradesh"
         ],
         "xaxis": "x",
         "y": [
          332
         ],
         "yaxis": "y"
        },
        {
         "hovertemplate": "Party=Shiromani Akali Dal<br>State=%{x}<br>Previous_Election_won=%{y}<extra></extra>",
         "legendgroup": "Shiromani Akali Dal",
         "marker": {
          "color": "#FECB52",
          "symbol": "circle"
         },
         "mode": "markers",
         "name": "Shiromani Akali Dal",
         "orientation": "v",
         "showlegend": true,
         "type": "scatter",
         "x": [
          "Gujarat"
         ],
         "xaxis": "x",
         "y": [
          62
         ],
         "yaxis": "y"
        },
        {
         "hovertemplate": "Party=Shivsena<br>State=%{x}<br>Previous_Election_won=%{y}<extra></extra>",
         "legendgroup": "Shivsena",
         "marker": {
          "color": "#636efa",
          "symbol": "circle"
         },
         "mode": "markers",
         "name": "Shivsena",
         "orientation": "v",
         "showlegend": true,
         "type": "scatter",
         "x": [
          "Himachal Pradesh"
         ],
         "xaxis": "x",
         "y": [
          167
         ],
         "yaxis": "y"
        },
        {
         "hovertemplate": "Party=Sikkim Democratic Front<br>State=%{x}<br>Previous_Election_won=%{y}<extra></extra>",
         "legendgroup": "Sikkim Democratic Front",
         "marker": {
          "color": "#EF553B",
          "symbol": "circle"
         },
         "mode": "markers",
         "name": "Sikkim Democratic Front",
         "orientation": "v",
         "showlegend": true,
         "type": "scatter",
         "x": [
          "Jammu & Kashmir"
         ],
         "xaxis": "x",
         "y": [
          2
         ],
         "yaxis": "y"
        },
        {
         "hovertemplate": "Party=Telangana Rashtra Samithi<br>State=%{x}<br>Previous_Election_won=%{y}<extra></extra>",
         "legendgroup": "Telangana Rashtra Samithi",
         "marker": {
          "color": "#00cc96",
          "symbol": "circle"
         },
         "mode": "markers",
         "name": "Telangana Rashtra Samithi",
         "orientation": "v",
         "showlegend": true,
         "type": "scatter",
         "x": [
          "Jharkhand"
         ],
         "xaxis": "x",
         "y": [
          111
         ],
         "yaxis": "y"
        },
        {
         "hovertemplate": "Party=Telugu Desam<br>State=%{x}<br>Previous_Election_won=%{y}<extra></extra>",
         "legendgroup": "Telugu Desam",
         "marker": {
          "color": "#ab63fa",
          "symbol": "circle"
         },
         "mode": "markers",
         "name": "Telugu Desam",
         "orientation": "v",
         "showlegend": true,
         "type": "scatter",
         "x": [
          "Karnataka"
         ],
         "xaxis": "x",
         "y": [
          239
         ],
         "yaxis": "y"
        },
        {
         "hovertemplate": "Party=United Democratic Party<br>State=%{x}<br>Previous_Election_won=%{y}<extra></extra>",
         "legendgroup": "United Democratic Party",
         "marker": {
          "color": "#FFA15A",
          "symbol": "circle"
         },
         "mode": "markers",
         "name": "United Democratic Party",
         "orientation": "v",
         "showlegend": true,
         "type": "scatter",
         "x": [
          "Kerala"
         ],
         "xaxis": "x",
         "y": [
          2
         ],
         "yaxis": "y"
        },
        {
         "hovertemplate": "Party=Aadijan Mukti Sena<br>State=%{x}<br>Previous_Election_won=%{y}<extra></extra>",
         "legendgroup": "Aadijan Mukti Sena",
         "marker": {
          "color": "#19d3f3",
          "symbol": "circle"
         },
         "mode": "markers",
         "name": "Aadijan Mukti Sena",
         "orientation": "v",
         "showlegend": true,
         "type": "scatter",
         "x": [
          "Lakshadweep"
         ],
         "xaxis": "x",
         "y": [
          0
         ],
         "yaxis": "y"
        },
        {
         "hovertemplate": "Party=Aadivasi Sena Party<br>State=%{x}<br>Previous_Election_won=%{y}<extra></extra>",
         "legendgroup": "Aadivasi Sena Party",
         "marker": {
          "color": "#FF6692",
          "symbol": "circle"
         },
         "mode": "markers",
         "name": "Aadivasi Sena Party",
         "orientation": "v",
         "showlegend": true,
         "type": "scatter",
         "x": [
          "Madhya Pradesh"
         ],
         "xaxis": "x",
         "y": [
          0
         ],
         "yaxis": "y"
        },
        {
         "hovertemplate": "Party=Aam Janata Party<br>State=%{x}<br>Previous_Election_won=%{y}<extra></extra>",
         "legendgroup": "Aam Janata Party",
         "marker": {
          "color": "#B6E880",
          "symbol": "circle"
         },
         "mode": "markers",
         "name": "Aam Janata Party",
         "orientation": "v",
         "showlegend": true,
         "type": "scatter",
         "x": [
          "Maharashtra"
         ],
         "xaxis": "x",
         "y": [
          0
         ],
         "yaxis": "y"
        },
        {
         "hovertemplate": "Party=Aama Odisha Party<br>State=%{x}<br>Previous_Election_won=%{y}<extra></extra>",
         "legendgroup": "Aama Odisha Party",
         "marker": {
          "color": "#FF97FF",
          "symbol": "circle"
         },
         "mode": "markers",
         "name": "Aama Odisha Party",
         "orientation": "v",
         "showlegend": true,
         "type": "scatter",
         "x": [
          "Manipur"
         ],
         "xaxis": "x",
         "y": [
          3
         ],
         "yaxis": "y"
        },
        {
         "hovertemplate": "Party=AARAKSHAN VIRODHI PARTY<br>State=%{x}<br>Previous_Election_won=%{y}<extra></extra>",
         "legendgroup": "AARAKSHAN VIRODHI PARTY",
         "marker": {
          "color": "#FECB52",
          "symbol": "circle"
         },
         "mode": "markers",
         "name": "AARAKSHAN VIRODHI PARTY",
         "orientation": "v",
         "showlegend": true,
         "type": "scatter",
         "x": [
          "Meghalaya"
         ],
         "xaxis": "x",
         "y": [
          0
         ],
         "yaxis": "y"
        },
        {
         "hovertemplate": "Party=Aazadi Ka Antim Aandolan Dal<br>State=%{x}<br>Previous_Election_won=%{y}<extra></extra>",
         "legendgroup": "Aazadi Ka Antim Aandolan Dal",
         "marker": {
          "color": "#636efa",
          "symbol": "circle"
         },
         "mode": "markers",
         "name": "Aazadi Ka Antim Aandolan Dal",
         "orientation": "v",
         "showlegend": true,
         "type": "scatter",
         "x": [
          "Mizoram"
         ],
         "xaxis": "x",
         "y": [
          0
         ],
         "yaxis": "y"
        },
        {
         "hovertemplate": "Party=Adarsh Manavtawadi Party<br>State=%{x}<br>Previous_Election_won=%{y}<extra></extra>",
         "legendgroup": "Adarsh Manavtawadi Party",
         "marker": {
          "color": "#EF553B",
          "symbol": "circle"
         },
         "mode": "markers",
         "name": "Adarsh Manavtawadi Party",
         "orientation": "v",
         "showlegend": true,
         "type": "scatter",
         "x": [
          "Nagaland"
         ],
         "xaxis": "x",
         "y": [
          0
         ],
         "yaxis": "y"
        },
        {
         "hovertemplate": "Party=Adarsh Rashtriya Vikas Party<br>State=%{x}<br>Previous_Election_won=%{y}<extra></extra>",
         "legendgroup": "Adarsh Rashtriya Vikas Party",
         "marker": {
          "color": "#00cc96",
          "symbol": "circle"
         },
         "mode": "markers",
         "name": "Adarsh Rashtriya Vikas Party",
         "orientation": "v",
         "showlegend": true,
         "type": "scatter",
         "x": [
          "NCT OF Delhi"
         ],
         "xaxis": "x",
         "y": [
          0
         ],
         "yaxis": "y"
        },
        {
         "hovertemplate": "Party=Adarsh Samaj Party<br>State=%{x}<br>Previous_Election_won=%{y}<extra></extra>",
         "legendgroup": "Adarsh Samaj Party",
         "marker": {
          "color": "#ab63fa",
          "symbol": "circle"
         },
         "mode": "markers",
         "name": "Adarsh Samaj Party",
         "orientation": "v",
         "showlegend": true,
         "type": "scatter",
         "x": [
          "Odisha"
         ],
         "xaxis": "x",
         "y": [
          0
         ],
         "yaxis": "y"
        },
        {
         "hovertemplate": "Party=Agar Jan Party<br>State=%{x}<br>Previous_Election_won=%{y}<extra></extra>",
         "legendgroup": "Agar Jan Party",
         "marker": {
          "color": "#FFA15A",
          "symbol": "circle"
         },
         "mode": "markers",
         "name": "Agar Jan Party",
         "orientation": "v",
         "showlegend": true,
         "type": "scatter",
         "x": [
          "Puducherry"
         ],
         "xaxis": "x",
         "y": [
          0
         ],
         "yaxis": "y"
        },
        {
         "hovertemplate": "Party=Akhand Bharat Samaj Party<br>State=%{x}<br>Previous_Election_won=%{y}<extra></extra>",
         "legendgroup": "Akhand Bharat Samaj Party",
         "marker": {
          "color": "#19d3f3",
          "symbol": "circle"
         },
         "mode": "markers",
         "name": "Akhand Bharat Samaj Party",
         "orientation": "v",
         "showlegend": true,
         "type": "scatter",
         "x": [
          "Punjab"
         ],
         "xaxis": "x",
         "y": [
          0
         ],
         "yaxis": "y"
        },
        {
         "hovertemplate": "Party=Akhil Bharat Hindu Mahasabha<br>State=%{x}<br>Previous_Election_won=%{y}<extra></extra>",
         "legendgroup": "Akhil Bharat Hindu Mahasabha",
         "marker": {
          "color": "#FF6692",
          "symbol": "circle"
         },
         "mode": "markers",
         "name": "Akhil Bharat Hindu Mahasabha",
         "orientation": "v",
         "showlegend": true,
         "type": "scatter",
         "x": [
          "Rajasthan"
         ],
         "xaxis": "x",
         "y": [
          1
         ],
         "yaxis": "y"
        },
        {
         "hovertemplate": "Party=Akhil Bharatiya Ashok Sena<br>State=%{x}<br>Previous_Election_won=%{y}<extra></extra>",
         "legendgroup": "Akhil Bharatiya Ashok Sena",
         "marker": {
          "color": "#B6E880",
          "symbol": "circle"
         },
         "mode": "markers",
         "name": "Akhil Bharatiya Ashok Sena",
         "orientation": "v",
         "showlegend": true,
         "type": "scatter",
         "x": [
          "Sikkim"
         ],
         "xaxis": "x",
         "y": [
          0
         ],
         "yaxis": "y"
        },
        {
         "hovertemplate": "Party=Akhil Bharatiya Congress Dal (Ambedkar)<br>State=%{x}<br>Previous_Election_won=%{y}<extra></extra>",
         "legendgroup": "Akhil Bharatiya Congress Dal (Ambedkar)",
         "marker": {
          "color": "#FF97FF",
          "symbol": "circle"
         },
         "mode": "markers",
         "name": "Akhil Bharatiya Congress Dal (Ambedkar)",
         "orientation": "v",
         "showlegend": true,
         "type": "scatter",
         "x": [
          "Tamil Nadu"
         ],
         "xaxis": "x",
         "y": [
          0
         ],
         "yaxis": "y"
        },
        {
         "hovertemplate": "Party=Akhil Bharatiya Hind Kranti Party<br>State=%{x}<br>Previous_Election_won=%{y}<extra></extra>",
         "legendgroup": "Akhil Bharatiya Hind Kranti Party",
         "marker": {
          "color": "#FECB52",
          "symbol": "circle"
         },
         "mode": "markers",
         "name": "Akhil Bharatiya Hind Kranti Party",
         "orientation": "v",
         "showlegend": true,
         "type": "scatter",
         "x": [
          "Tripura"
         ],
         "xaxis": "x",
         "y": [
          0
         ],
         "yaxis": "y"
        },
        {
         "hovertemplate": "Party=Akhil Bharatiya Jan Sangh<br>State=%{x}<br>Previous_Election_won=%{y}<extra></extra>",
         "legendgroup": "Akhil Bharatiya Jan Sangh",
         "marker": {
          "color": "#636efa",
          "symbol": "circle"
         },
         "mode": "markers",
         "name": "Akhil Bharatiya Jan Sangh",
         "orientation": "v",
         "showlegend": true,
         "type": "scatter",
         "x": [
          "Uttar Pradesh"
         ],
         "xaxis": "x",
         "y": [
          0
         ],
         "yaxis": "y"
        },
        {
         "hovertemplate": "Party=Akhil Bharatiya Manavata Paksha<br>State=%{x}<br>Previous_Election_won=%{y}<extra></extra>",
         "legendgroup": "Akhil Bharatiya Manavata Paksha",
         "marker": {
          "color": "#EF553B",
          "symbol": "circle"
         },
         "mode": "markers",
         "name": "Akhil Bharatiya Manavata Paksha",
         "orientation": "v",
         "showlegend": true,
         "type": "scatter",
         "x": [
          "Uttarakhand"
         ],
         "xaxis": "x",
         "y": [
          0
         ],
         "yaxis": "y"
        },
        {
         "hovertemplate": "Party=Akhil Bharatiya Muslim League (Secular)<br>State=%{x}<br>Previous_Election_won=%{y}<extra></extra>",
         "legendgroup": "Akhil Bharatiya Muslim League (Secular)",
         "marker": {
          "color": "#00cc96",
          "symbol": "circle"
         },
         "mode": "markers",
         "name": "Akhil Bharatiya Muslim League (Secular)",
         "orientation": "v",
         "showlegend": true,
         "type": "scatter",
         "x": [
          "West Bengal"
         ],
         "xaxis": "x",
         "y": [
          1
         ],
         "yaxis": "y"
        },
        {
         "hovertemplate": "Party=Akhil Bharatiya Rajarya Sabha<br>State=%{x}<br>Previous_Election_won=%{y}<extra></extra>",
         "legendgroup": "Akhil Bharatiya Rajarya Sabha",
         "marker": {
          "color": "#ab63fa",
          "symbol": "circle"
         },
         "mode": "markers",
         "name": "Akhil Bharatiya Rajarya Sabha",
         "orientation": "v",
         "showlegend": true,
         "type": "scatter",
         "x": [
          "Himachal Pradesh"
         ],
         "xaxis": "x",
         "y": [
          0
         ],
         "yaxis": "y"
        },
        {
         "hovertemplate": "Party=Akhil Bharatiya Samajwadi Congress<br>State=%{x}<br>Previous_Election_won=%{y}<extra></extra>",
         "legendgroup": "Akhil Bharatiya Samajwadi Congress",
         "marker": {
          "color": "#FFA15A",
          "symbol": "circle"
         },
         "mode": "markers",
         "name": "Akhil Bharatiya Samajwadi Congress",
         "orientation": "v",
         "showlegend": true,
         "type": "scatter",
         "x": [
          "Jammu & Kashmir"
         ],
         "xaxis": "x",
         "y": [
          0
         ],
         "yaxis": "y"
        },
        {
         "hovertemplate": "Party=Akhil Bharatiya Shivsena Rashtrawadi<br>State=%{x}<br>Previous_Election_won=%{y}<extra></extra>",
         "legendgroup": "Akhil Bharatiya Shivsena Rashtrawadi",
         "marker": {
          "color": "#19d3f3",
          "symbol": "circle"
         },
         "mode": "markers",
         "name": "Akhil Bharatiya Shivsena Rashtrawadi",
         "orientation": "v",
         "showlegend": true,
         "type": "scatter",
         "x": [
          "Jharkhand"
         ],
         "xaxis": "x",
         "y": [
          0
         ],
         "yaxis": "y"
        },
        {
         "hovertemplate": "Party=Akhil Bhartiya Aamjan Party<br>State=%{x}<br>Previous_Election_won=%{y}<extra></extra>",
         "legendgroup": "Akhil Bhartiya Aamjan Party",
         "marker": {
          "color": "#FF6692",
          "symbol": "circle"
         },
         "mode": "markers",
         "name": "Akhil Bhartiya Aamjan Party",
         "orientation": "v",
         "showlegend": true,
         "type": "scatter",
         "x": [
          "Karnataka"
         ],
         "xaxis": "x",
         "y": [
          0
         ],
         "yaxis": "y"
        },
        {
         "hovertemplate": "Party=Akhil Bhartiya Jharkhand Party<br>State=%{x}<br>Previous_Election_won=%{y}<extra></extra>",
         "legendgroup": "Akhil Bhartiya Jharkhand Party",
         "marker": {
          "color": "#B6E880",
          "symbol": "circle"
         },
         "mode": "markers",
         "name": "Akhil Bhartiya Jharkhand Party",
         "orientation": "v",
         "showlegend": true,
         "type": "scatter",
         "x": [
          "Kerala"
         ],
         "xaxis": "x",
         "y": [
          0
         ],
         "yaxis": "y"
        },
        {
         "hovertemplate": "Party=Akhil Bhartiya Mithila Party<br>State=%{x}<br>Previous_Election_won=%{y}<extra></extra>",
         "legendgroup": "Akhil Bhartiya Mithila Party",
         "marker": {
          "color": "#FF97FF",
          "symbol": "circle"
         },
         "mode": "markers",
         "name": "Akhil Bhartiya Mithila Party",
         "orientation": "v",
         "showlegend": true,
         "type": "scatter",
         "x": [
          "Lakshadweep"
         ],
         "xaxis": "x",
         "y": [
          0
         ],
         "yaxis": "y"
        },
        {
         "hovertemplate": "Party=Akhil Bhartiya Vikas Congress Party<br>State=%{x}<br>Previous_Election_won=%{y}<extra></extra>",
         "legendgroup": "Akhil Bhartiya Vikas Congress Party",
         "marker": {
          "color": "#FECB52",
          "symbol": "circle"
         },
         "mode": "markers",
         "name": "Akhil Bhartiya Vikas Congress Party",
         "orientation": "v",
         "showlegend": true,
         "type": "scatter",
         "x": [
          "Madhya Pradesh"
         ],
         "xaxis": "x",
         "y": [
          0
         ],
         "yaxis": "y"
        },
        {
         "hovertemplate": "Party=Akhil Rashtrawadi Party<br>State=%{x}<br>Previous_Election_won=%{y}<extra></extra>",
         "legendgroup": "Akhil Rashtrawadi Party",
         "marker": {
          "color": "#636efa",
          "symbol": "circle"
         },
         "mode": "markers",
         "name": "Akhil Rashtrawadi Party",
         "orientation": "v",
         "showlegend": true,
         "type": "scatter",
         "x": [
          "Maharashtra"
         ],
         "xaxis": "x",
         "y": [
          0
         ],
         "yaxis": "y"
        },
        {
         "hovertemplate": "Party=Al-Hind Party<br>State=%{x}<br>Previous_Election_won=%{y}<extra></extra>",
         "legendgroup": "Al-Hind Party",
         "marker": {
          "color": "#EF553B",
          "symbol": "circle"
         },
         "mode": "markers",
         "name": "Al-Hind Party",
         "orientation": "v",
         "showlegend": true,
         "type": "scatter",
         "x": [
          "Manipur"
         ],
         "xaxis": "x",
         "y": [
          0
         ],
         "yaxis": "y"
        },
        {
         "hovertemplate": "Party=All India Azaad Congress Party<br>State=%{x}<br>Previous_Election_won=%{y}<extra></extra>",
         "legendgroup": "All India Azaad Congress Party",
         "marker": {
          "color": "#00cc96",
          "symbol": "circle"
         },
         "mode": "markers",
         "name": "All India Azaad Congress Party",
         "orientation": "v",
         "showlegend": true,
         "type": "scatter",
         "x": [
          "Meghalaya"
         ],
         "xaxis": "x",
         "y": [
          0
         ],
         "yaxis": "y"
        },
        {
         "hovertemplate": "Party=All India Majlis-E-Ittehadul Muslimeen<br>State=%{x}<br>Previous_Election_won=%{y}<extra></extra>",
         "legendgroup": "All India Majlis-E-Ittehadul Muslimeen",
         "marker": {
          "color": "#ab63fa",
          "symbol": "circle"
         },
         "mode": "markers",
         "name": "All India Majlis-E-Ittehadul Muslimeen",
         "orientation": "v",
         "showlegend": true,
         "type": "scatter",
         "x": [
          "Mizoram"
         ],
         "xaxis": "x",
         "y": [
          11
         ],
         "yaxis": "y"
        },
        {
         "hovertemplate": "Party=All India Mazdoor Party (Rangreta)<br>State=%{x}<br>Previous_Election_won=%{y}<extra></extra>",
         "legendgroup": "All India Mazdoor Party (Rangreta)",
         "marker": {
          "color": "#FFA15A",
          "symbol": "circle"
         },
         "mode": "markers",
         "name": "All India Mazdoor Party (Rangreta)",
         "orientation": "v",
         "showlegend": true,
         "type": "scatter",
         "x": [
          "Nagaland"
         ],
         "xaxis": "x",
         "y": [
          0
         ],
         "yaxis": "y"
        },
        {
         "hovertemplate": "Party=All India Minorities Front<br>State=%{x}<br>Previous_Election_won=%{y}<extra></extra>",
         "legendgroup": "All India Minorities Front",
         "marker": {
          "color": "#19d3f3",
          "symbol": "circle"
         },
         "mode": "markers",
         "name": "All India Minorities Front",
         "orientation": "v",
         "showlegend": true,
         "type": "scatter",
         "x": [
          "NCT OF Delhi"
         ],
         "xaxis": "x",
         "y": [
          0
         ],
         "yaxis": "y"
        },
        {
         "hovertemplate": "Party=All India Peoples' Front (Radical)<br>State=%{x}<br>Previous_Election_won=%{y}<extra></extra>",
         "legendgroup": "All India Peoples' Front (Radical)",
         "marker": {
          "color": "#FF6692",
          "symbol": "circle"
         },
         "mode": "markers",
         "name": "All India Peoples' Front (Radical)",
         "orientation": "v",
         "showlegend": true,
         "type": "scatter",
         "x": [
          "Odisha"
         ],
         "xaxis": "x",
         "y": [
          0
         ],
         "yaxis": "y"
        },
        {
         "hovertemplate": "Party=All India Ravidas Samata Party<br>State=%{x}<br>Previous_Election_won=%{y}<extra></extra>",
         "legendgroup": "All India Ravidas Samata Party",
         "marker": {
          "color": "#B6E880",
          "symbol": "circle"
         },
         "mode": "markers",
         "name": "All India Ravidas Samata Party",
         "orientation": "v",
         "showlegend": true,
         "type": "scatter",
         "x": [
          "Puducherry"
         ],
         "xaxis": "x",
         "y": [
          0
         ],
         "yaxis": "y"
        },
        {
         "hovertemplate": "Party=All J & K Kisan Majdoor Party<br>State=%{x}<br>Previous_Election_won=%{y}<extra></extra>",
         "legendgroup": "All J & K Kisan Majdoor Party",
         "marker": {
          "color": "#FF97FF",
          "symbol": "circle"
         },
         "mode": "markers",
         "name": "All J & K Kisan Majdoor Party",
         "orientation": "v",
         "showlegend": true,
         "type": "scatter",
         "x": [
          "Punjab"
         ],
         "xaxis": "x",
         "y": [
          0
         ],
         "yaxis": "y"
        },
        {
         "hovertemplate": "Party=All Jammu and Kashmir Republican Party<br>State=%{x}<br>Previous_Election_won=%{y}<extra></extra>",
         "legendgroup": "All Jammu and Kashmir Republican Party",
         "marker": {
          "color": "#FECB52",
          "symbol": "circle"
         },
         "mode": "markers",
         "name": "All Jammu and Kashmir Republican Party",
         "orientation": "v",
         "showlegend": true,
         "type": "scatter",
         "x": [
          "Rajasthan"
         ],
         "xaxis": "x",
         "y": [
          0
         ],
         "yaxis": "y"
        },
        {
         "hovertemplate": "Party=Ambedkar National Congress<br>State=%{x}<br>Previous_Election_won=%{y}<extra></extra>",
         "legendgroup": "Ambedkar National Congress",
         "marker": {
          "color": "#636efa",
          "symbol": "circle"
         },
         "mode": "markers",
         "name": "Ambedkar National Congress",
         "orientation": "v",
         "showlegend": true,
         "type": "scatter",
         "x": [
          "Sikkim"
         ],
         "xaxis": "x",
         "y": [
          0
         ],
         "yaxis": "y"
        },
        {
         "hovertemplate": "Party=Ambedkar People's Movement<br>State=%{x}<br>Previous_Election_won=%{y}<extra></extra>",
         "legendgroup": "Ambedkar People's Movement",
         "marker": {
          "color": "#EF553B",
          "symbol": "circle"
         },
         "mode": "markers",
         "name": "Ambedkar People's Movement",
         "orientation": "v",
         "showlegend": true,
         "type": "scatter",
         "x": [
          "Tamil Nadu"
         ],
         "xaxis": "x",
         "y": [
          0
         ],
         "yaxis": "y"
        },
        {
         "hovertemplate": "Party=Ambedkar Samaj Party<br>State=%{x}<br>Previous_Election_won=%{y}<extra></extra>",
         "legendgroup": "Ambedkar Samaj Party",
         "marker": {
          "color": "#00cc96",
          "symbol": "circle"
         },
         "mode": "markers",
         "name": "Ambedkar Samaj Party",
         "orientation": "v",
         "showlegend": true,
         "type": "scatter",
         "x": [
          "Tripura"
         ],
         "xaxis": "x",
         "y": [
          0
         ],
         "yaxis": "y"
        },
        {
         "hovertemplate": "Party=Ambedkarist Republican Party<br>State=%{x}<br>Previous_Election_won=%{y}<extra></extra>",
         "legendgroup": "Ambedkarist Republican Party",
         "marker": {
          "color": "#ab63fa",
          "symbol": "circle"
         },
         "mode": "markers",
         "name": "Ambedkarist Republican Party",
         "orientation": "v",
         "showlegend": true,
         "type": "scatter",
         "x": [
          "Uttar Pradesh"
         ],
         "xaxis": "x",
         "y": [
          0
         ],
         "yaxis": "y"
        },
        {
         "hovertemplate": "Party=Ambedkarite Party of India<br>State=%{x}<br>Previous_Election_won=%{y}<extra></extra>",
         "legendgroup": "Ambedkarite Party of India",
         "marker": {
          "color": "#FFA15A",
          "symbol": "circle"
         },
         "mode": "markers",
         "name": "Ambedkarite Party of India",
         "orientation": "v",
         "showlegend": true,
         "type": "scatter",
         "x": [
          "Uttarakhand"
         ],
         "xaxis": "x",
         "y": [
          3
         ],
         "yaxis": "y"
        },
        {
         "hovertemplate": "Party=Amra Bangalee<br>State=%{x}<br>Previous_Election_won=%{y}<extra></extra>",
         "legendgroup": "Amra Bangalee",
         "marker": {
          "color": "#19d3f3",
          "symbol": "circle"
         },
         "mode": "markers",
         "name": "Amra Bangalee",
         "orientation": "v",
         "showlegend": true,
         "type": "scatter",
         "x": [
          "West Bengal"
         ],
         "xaxis": "x",
         "y": [
          1
         ],
         "yaxis": "y"
        },
        {
         "hovertemplate": "Party=Anaithindia Dravidar Samudaya Munnetra Kazhagam<br>State=%{x}<br>Previous_Election_won=%{y}<extra></extra>",
         "legendgroup": "Anaithindia Dravidar Samudaya Munnetra Kazhagam",
         "marker": {
          "color": "#FF6692",
          "symbol": "circle"
         },
         "mode": "markers",
         "name": "Anaithindia Dravidar Samudaya Munnetra Kazhagam",
         "orientation": "v",
         "showlegend": true,
         "type": "scatter",
         "x": [
          "Himachal Pradesh"
         ],
         "xaxis": "x",
         "y": [
          0
         ],
         "yaxis": "y"
        },
        {
         "hovertemplate": "Party=Andhra Pradesh Rashtra Samaikya Samithi Party<br>State=%{x}<br>Previous_Election_won=%{y}<extra></extra>",
         "legendgroup": "Andhra Pradesh Rashtra Samaikya Samithi Party",
         "marker": {
          "color": "#B6E880",
          "symbol": "circle"
         },
         "mode": "markers",
         "name": "Andhra Pradesh Rashtra Samaikya Samithi Party",
         "orientation": "v",
         "showlegend": true,
         "type": "scatter",
         "x": [
          "Jammu & Kashmir"
         ],
         "xaxis": "x",
         "y": [
          0
         ],
         "yaxis": "y"
        },
        {
         "hovertemplate": "Party=Andhra Rastra Praja Samithi<br>State=%{x}<br>Previous_Election_won=%{y}<extra></extra>",
         "legendgroup": "Andhra Rastra Praja Samithi",
         "marker": {
          "color": "#FF97FF",
          "symbol": "circle"
         },
         "mode": "markers",
         "name": "Andhra Rastra Praja Samithi",
         "orientation": "v",
         "showlegend": true,
         "type": "scatter",
         "x": [
          "Jharkhand"
         ],
         "xaxis": "x",
         "y": [
          0
         ],
         "yaxis": "y"
        },
        {
         "hovertemplate": "Party=Apna Dal<br>State=%{x}<br>Previous_Election_won=%{y}<extra></extra>",
         "legendgroup": "Apna Dal",
         "marker": {
          "color": "#FECB52",
          "symbol": "circle"
         },
         "mode": "markers",
         "name": "Apna Dal",
         "orientation": "v",
         "showlegend": true,
         "type": "scatter",
         "x": [
          "Karnataka"
         ],
         "xaxis": "x",
         "y": [
          13
         ],
         "yaxis": "y"
        },
        {
         "hovertemplate": "Party=Apna Dal United Party<br>State=%{x}<br>Previous_Election_won=%{y}<extra></extra>",
         "legendgroup": "Apna Dal United Party",
         "marker": {
          "color": "#636efa",
          "symbol": "circle"
         },
         "mode": "markers",
         "name": "Apna Dal United Party",
         "orientation": "v",
         "showlegend": true,
         "type": "scatter",
         "x": [
          "Kerala"
         ],
         "xaxis": "x",
         "y": [
          0
         ],
         "yaxis": "y"
        },
        {
         "hovertemplate": "Party=Apna Desh Party<br>State=%{x}<br>Previous_Election_won=%{y}<extra></extra>",
         "legendgroup": "Apna Desh Party",
         "marker": {
          "color": "#EF553B",
          "symbol": "circle"
         },
         "mode": "markers",
         "name": "Apna Desh Party",
         "orientation": "v",
         "showlegend": true,
         "type": "scatter",
         "x": [
          "Lakshadweep"
         ],
         "xaxis": "x",
         "y": [
          0
         ],
         "yaxis": "y"
        },
        {
         "hovertemplate": "Party=Asankhya Samaj Party<br>State=%{x}<br>Previous_Election_won=%{y}<extra></extra>",
         "legendgroup": "Asankhya Samaj Party",
         "marker": {
          "color": "#00cc96",
          "symbol": "circle"
         },
         "mode": "markers",
         "name": "Asankhya Samaj Party",
         "orientation": "v",
         "showlegend": true,
         "type": "scatter",
         "x": [
          "Madhya Pradesh"
         ],
         "xaxis": "x",
         "y": [
          0
         ],
         "yaxis": "y"
        },
        {
         "hovertemplate": "Party=Ati Picchara party<br>State=%{x}<br>Previous_Election_won=%{y}<extra></extra>",
         "legendgroup": "Ati Picchara party",
         "marker": {
          "color": "#ab63fa",
          "symbol": "circle"
         },
         "mode": "markers",
         "name": "Ati Picchara party",
         "orientation": "v",
         "showlegend": true,
         "type": "scatter",
         "x": [
          "Maharashtra"
         ],
         "xaxis": "x",
         "y": [
          0
         ],
         "yaxis": "y"
        },
        {
         "hovertemplate": "Party=Atulya Bharat Party<br>State=%{x}<br>Previous_Election_won=%{y}<extra></extra>",
         "legendgroup": "Atulya Bharat Party",
         "marker": {
          "color": "#FFA15A",
          "symbol": "circle"
         },
         "mode": "markers",
         "name": "Atulya Bharat Party",
         "orientation": "v",
         "showlegend": true,
         "type": "scatter",
         "x": [
          "Manipur"
         ],
         "xaxis": "x",
         "y": [
          0
         ],
         "yaxis": "y"
        },
        {
         "hovertemplate": "Party=awami aamjan party<br>State=%{x}<br>Previous_Election_won=%{y}<extra></extra>",
         "legendgroup": "awami aamjan party",
         "marker": {
          "color": "#19d3f3",
          "symbol": "circle"
         },
         "mode": "markers",
         "name": "awami aamjan party",
         "orientation": "v",
         "showlegend": true,
         "type": "scatter",
         "x": [
          "Meghalaya"
         ],
         "xaxis": "x",
         "y": [
          0
         ],
         "yaxis": "y"
        },
        {
         "hovertemplate": "Party=Awami Samta Party<br>State=%{x}<br>Previous_Election_won=%{y}<extra></extra>",
         "legendgroup": "Awami Samta Party",
         "marker": {
          "color": "#FF6692",
          "symbol": "circle"
         },
         "mode": "markers",
         "name": "Awami Samta Party",
         "orientation": "v",
         "showlegend": true,
         "type": "scatter",
         "x": [
          "Mizoram"
         ],
         "xaxis": "x",
         "y": [
          0
         ],
         "yaxis": "y"
        },
        {
         "hovertemplate": "Party=Awami Vikas Party<br>State=%{x}<br>Previous_Election_won=%{y}<extra></extra>",
         "legendgroup": "Awami Vikas Party",
         "marker": {
          "color": "#B6E880",
          "symbol": "circle"
         },
         "mode": "markers",
         "name": "Awami Vikas Party",
         "orientation": "v",
         "showlegend": true,
         "type": "scatter",
         "x": [
          "Nagaland"
         ],
         "xaxis": "x",
         "y": [
          0
         ],
         "yaxis": "y"
        },
        {
         "hovertemplate": "Party=B. C. United Front<br>State=%{x}<br>Previous_Election_won=%{y}<extra></extra>",
         "legendgroup": "B. C. United Front",
         "marker": {
          "color": "#FF97FF",
          "symbol": "circle"
         },
         "mode": "markers",
         "name": "B. C. United Front",
         "orientation": "v",
         "showlegend": true,
         "type": "scatter",
         "x": [
          "NCT OF Delhi"
         ],
         "xaxis": "x",
         "y": [
          0
         ],
         "yaxis": "y"
        },
        {
         "hovertemplate": "Party=B.C.Bharata Desam Party<br>State=%{x}<br>Previous_Election_won=%{y}<extra></extra>",
         "legendgroup": "B.C.Bharata Desam Party",
         "marker": {
          "color": "#FECB52",
          "symbol": "circle"
         },
         "mode": "markers",
         "name": "B.C.Bharata Desam Party",
         "orientation": "v",
         "showlegend": true,
         "type": "scatter",
         "x": [
          "Odisha"
         ],
         "xaxis": "x",
         "y": [
          0
         ],
         "yaxis": "y"
        },
        {
         "hovertemplate": "Party=Bahujan Kranti Party (Marxwad-Ambedkarwad)<br>State=%{x}<br>Previous_Election_won=%{y}<extra></extra>",
         "legendgroup": "Bahujan Kranti Party (Marxwad-Ambedkarwad)",
         "marker": {
          "color": "#636efa",
          "symbol": "circle"
         },
         "mode": "markers",
         "name": "Bahujan Kranti Party (Marxwad-Ambedkarwad)",
         "orientation": "v",
         "showlegend": true,
         "type": "scatter",
         "x": [
          "Puducherry"
         ],
         "xaxis": "x",
         "y": [
          0
         ],
         "yaxis": "y"
        },
        {
         "hovertemplate": "Party=Bahujan Mukti Party<br>State=%{x}<br>Previous_Election_won=%{y}<extra></extra>",
         "legendgroup": "Bahujan Mukti Party",
         "marker": {
          "color": "#EF553B",
          "symbol": "circle"
         },
         "mode": "markers",
         "name": "Bahujan Mukti Party",
         "orientation": "v",
         "showlegend": true,
         "type": "scatter",
         "x": [
          "Punjab"
         ],
         "xaxis": "x",
         "y": [
          14
         ],
         "yaxis": "y"
        },
        {
         "hovertemplate": "Party=Bahujan Samaj Party  (Ambedkar)<br>State=%{x}<br>Previous_Election_won=%{y}<extra></extra>",
         "legendgroup": "Bahujan Samaj Party  (Ambedkar)",
         "marker": {
          "color": "#00cc96",
          "symbol": "circle"
         },
         "mode": "markers",
         "name": "Bahujan Samaj Party  (Ambedkar)",
         "orientation": "v",
         "showlegend": true,
         "type": "scatter",
         "x": [
          "Rajasthan"
         ],
         "xaxis": "x",
         "y": [
          0
         ],
         "yaxis": "y"
        },
        {
         "hovertemplate": "Party=Bahujan Sangharsh Party (Kanshiram)<br>State=%{x}<br>Previous_Election_won=%{y}<extra></extra>",
         "legendgroup": "Bahujan Sangharsh Party (Kanshiram)",
         "marker": {
          "color": "#ab63fa",
          "symbol": "circle"
         },
         "mode": "markers",
         "name": "Bahujan Sangharsh Party (Kanshiram)",
         "orientation": "v",
         "showlegend": true,
         "type": "scatter",
         "x": [
          "Sikkim"
         ],
         "xaxis": "x",
         "y": [
          0
         ],
         "yaxis": "y"
        },
        {
         "hovertemplate": "Party=Bahujan Sangharshh Dal<br>State=%{x}<br>Previous_Election_won=%{y}<extra></extra>",
         "legendgroup": "Bahujan Sangharshh Dal",
         "marker": {
          "color": "#FFA15A",
          "symbol": "circle"
         },
         "mode": "markers",
         "name": "Bahujan Sangharshh Dal",
         "orientation": "v",
         "showlegend": true,
         "type": "scatter",
         "x": [
          "Tamil Nadu"
         ],
         "xaxis": "x",
         "y": [
          1
         ],
         "yaxis": "y"
        },
        {
         "hovertemplate": "Party=Bahujan Suraksha Dal<br>State=%{x}<br>Previous_Election_won=%{y}<extra></extra>",
         "legendgroup": "Bahujan Suraksha Dal",
         "marker": {
          "color": "#19d3f3",
          "symbol": "circle"
         },
         "mode": "markers",
         "name": "Bahujan Suraksha Dal",
         "orientation": "v",
         "showlegend": true,
         "type": "scatter",
         "x": [
          "Tripura"
         ],
         "xaxis": "x",
         "y": [
          0
         ],
         "yaxis": "y"
        },
        {
         "hovertemplate": "Party=Bahujan Vikas Aaghadi<br>State=%{x}<br>Previous_Election_won=%{y}<extra></extra>",
         "legendgroup": "Bahujan Vikas Aaghadi",
         "marker": {
          "color": "#FF6692",
          "symbol": "circle"
         },
         "mode": "markers",
         "name": "Bahujan Vikas Aaghadi",
         "orientation": "v",
         "showlegend": true,
         "type": "scatter",
         "x": [
          "Uttar Pradesh"
         ],
         "xaxis": "x",
         "y": [
          5
         ],
         "yaxis": "y"
        },
        {
         "hovertemplate": "Party=Bajjikanchal Vikas Party<br>State=%{x}<br>Previous_Election_won=%{y}<extra></extra>",
         "legendgroup": "Bajjikanchal Vikas Party",
         "marker": {
          "color": "#B6E880",
          "symbol": "circle"
         },
         "mode": "markers",
         "name": "Bajjikanchal Vikas Party",
         "orientation": "v",
         "showlegend": true,
         "type": "scatter",
         "x": [
          "Uttarakhand"
         ],
         "xaxis": "x",
         "y": [
          0
         ],
         "yaxis": "y"
        },
        {
         "hovertemplate": "Party=Bharat Bhrashtachar Mitao Party<br>State=%{x}<br>Previous_Election_won=%{y}<extra></extra>",
         "legendgroup": "Bharat Bhrashtachar Mitao Party",
         "marker": {
          "color": "#FF97FF",
          "symbol": "circle"
         },
         "mode": "markers",
         "name": "Bharat Bhrashtachar Mitao Party",
         "orientation": "v",
         "showlegend": true,
         "type": "scatter",
         "x": [
          "West Bengal"
         ],
         "xaxis": "x",
         "y": [
          0
         ],
         "yaxis": "y"
        },
        {
         "hovertemplate": "Party=Bharat Ki Lok Jimmedar Party<br>State=%{x}<br>Previous_Election_won=%{y}<extra></extra>",
         "legendgroup": "Bharat Ki Lok Jimmedar Party",
         "marker": {
          "color": "#FECB52",
          "symbol": "circle"
         },
         "mode": "markers",
         "name": "Bharat Ki Lok Jimmedar Party",
         "orientation": "v",
         "showlegend": true,
         "type": "scatter",
         "x": [
          "Himachal Pradesh"
         ],
         "xaxis": "x",
         "y": [
          0
         ],
         "yaxis": "y"
        },
        {
         "hovertemplate": "Party=Bharat Nav Nirman Party<br>State=%{x}<br>Previous_Election_won=%{y}<extra></extra>",
         "legendgroup": "Bharat Nav Nirman Party",
         "marker": {
          "color": "#636efa",
          "symbol": "circle"
         },
         "mode": "markers",
         "name": "Bharat Nav Nirman Party",
         "orientation": "v",
         "showlegend": true,
         "type": "scatter",
         "x": [
          "Jammu & Kashmir"
         ],
         "xaxis": "x",
         "y": [
          0
         ],
         "yaxis": "y"
        },
        {
         "hovertemplate": "Party=Bharat Nirman Party<br>State=%{x}<br>Previous_Election_won=%{y}<extra></extra>",
         "legendgroup": "Bharat Nirman Party",
         "marker": {
          "color": "#EF553B",
          "symbol": "circle"
         },
         "mode": "markers",
         "name": "Bharat Nirman Party",
         "orientation": "v",
         "showlegend": true,
         "type": "scatter",
         "x": [
          "Jharkhand"
         ],
         "xaxis": "x",
         "y": [
          0
         ],
         "yaxis": "y"
        },
        {
         "hovertemplate": "Party=Bharat Vikas Morcha<br>State=%{x}<br>Previous_Election_won=%{y}<extra></extra>",
         "legendgroup": "Bharat Vikas Morcha",
         "marker": {
          "color": "#00cc96",
          "symbol": "circle"
         },
         "mode": "markers",
         "name": "Bharat Vikas Morcha",
         "orientation": "v",
         "showlegend": true,
         "type": "scatter",
         "x": [
          "Karnataka"
         ],
         "xaxis": "x",
         "y": [
          1
         ],
         "yaxis": "y"
        },
        {
         "hovertemplate": "Party=Bharat Vishal Party<br>State=%{x}<br>Previous_Election_won=%{y}<extra></extra>",
         "legendgroup": "Bharat Vishal Party",
         "marker": {
          "color": "#ab63fa",
          "symbol": "circle"
         },
         "mode": "markers",
         "name": "Bharat Vishal Party",
         "orientation": "v",
         "showlegend": true,
         "type": "scatter",
         "x": [
          "Kerala"
         ],
         "xaxis": "x",
         "y": [
          0
         ],
         "yaxis": "y"
        },
        {
         "hovertemplate": "Party=Bharatiya Bahujan Congress<br>State=%{x}<br>Previous_Election_won=%{y}<extra></extra>",
         "legendgroup": "Bharatiya Bahujan Congress",
         "marker": {
          "color": "#FFA15A",
          "symbol": "circle"
         },
         "mode": "markers",
         "name": "Bharatiya Bahujan Congress",
         "orientation": "v",
         "showlegend": true,
         "type": "scatter",
         "x": [
          "Lakshadweep"
         ],
         "xaxis": "x",
         "y": [
          0
         ],
         "yaxis": "y"
        },
        {
         "hovertemplate": "Party=Bharatiya Bahujan Party<br>State=%{x}<br>Previous_Election_won=%{y}<extra></extra>",
         "legendgroup": "Bharatiya Bahujan Party",
         "marker": {
          "color": "#19d3f3",
          "symbol": "circle"
         },
         "mode": "markers",
         "name": "Bharatiya Bahujan Party",
         "orientation": "v",
         "showlegend": true,
         "type": "scatter",
         "x": [
          "Madhya Pradesh"
         ],
         "xaxis": "x",
         "y": [
          0
         ],
         "yaxis": "y"
        },
        {
         "hovertemplate": "Party=Bharatiya Dr. B.R.Ambedkar Janta Party<br>State=%{x}<br>Previous_Election_won=%{y}<extra></extra>",
         "legendgroup": "Bharatiya Dr. B.R.Ambedkar Janta Party",
         "marker": {
          "color": "#FF6692",
          "symbol": "circle"
         },
         "mode": "markers",
         "name": "Bharatiya Dr. B.R.Ambedkar Janta Party",
         "orientation": "v",
         "showlegend": true,
         "type": "scatter",
         "x": [
          "Maharashtra"
         ],
         "xaxis": "x",
         "y": [
          0
         ],
         "yaxis": "y"
        },
        {
         "hovertemplate": "Party=Bharatiya Ekta Dal<br>State=%{x}<br>Previous_Election_won=%{y}<extra></extra>",
         "legendgroup": "Bharatiya Ekta Dal",
         "marker": {
          "color": "#B6E880",
          "symbol": "circle"
         },
         "mode": "markers",
         "name": "Bharatiya Ekta Dal",
         "orientation": "v",
         "showlegend": true,
         "type": "scatter",
         "x": [
          "Manipur"
         ],
         "xaxis": "x",
         "y": [
          2
         ],
         "yaxis": "y"
        },
        {
         "hovertemplate": "Party=Bharatiya Gaon Taj Dal<br>State=%{x}<br>Previous_Election_won=%{y}<extra></extra>",
         "legendgroup": "Bharatiya Gaon Taj Dal",
         "marker": {
          "color": "#FF97FF",
          "symbol": "circle"
         },
         "mode": "markers",
         "name": "Bharatiya Gaon Taj Dal",
         "orientation": "v",
         "showlegend": true,
         "type": "scatter",
         "x": [
          "Meghalaya"
         ],
         "xaxis": "x",
         "y": [
          0
         ],
         "yaxis": "y"
        },
        {
         "hovertemplate": "Party=Bharatiya Inqalab Party<br>State=%{x}<br>Previous_Election_won=%{y}<extra></extra>",
         "legendgroup": "Bharatiya Inqalab Party",
         "marker": {
          "color": "#FECB52",
          "symbol": "circle"
         },
         "mode": "markers",
         "name": "Bharatiya Inqalab Party",
         "orientation": "v",
         "showlegend": true,
         "type": "scatter",
         "x": [
          "Mizoram"
         ],
         "xaxis": "x",
         "y": [
          0
         ],
         "yaxis": "y"
        },
        {
         "hovertemplate": "Party=Bharatiya Jan Kranti Dal (Democratic)<br>State=%{x}<br>Previous_Election_won=%{y}<extra></extra>",
         "legendgroup": "Bharatiya Jan Kranti Dal (Democratic)",
         "marker": {
          "color": "#636efa",
          "symbol": "circle"
         },
         "mode": "markers",
         "name": "Bharatiya Jan Kranti Dal (Democratic)",
         "orientation": "v",
         "showlegend": true,
         "type": "scatter",
         "x": [
          "Nagaland"
         ],
         "xaxis": "x",
         "y": [
          0
         ],
         "yaxis": "y"
        },
        {
         "hovertemplate": "Party=Bharatiya Jawala Shakti Paksha <br>State=%{x}<br>Previous_Election_won=%{y}<extra></extra>",
         "legendgroup": "Bharatiya Jawala Shakti Paksha ",
         "marker": {
          "color": "#EF553B",
          "symbol": "circle"
         },
         "mode": "markers",
         "name": "Bharatiya Jawala Shakti Paksha ",
         "orientation": "v",
         "showlegend": true,
         "type": "scatter",
         "x": [
          "NCT OF Delhi"
         ],
         "xaxis": "x",
         "y": [
          0
         ],
         "yaxis": "y"
        },
        {
         "hovertemplate": "Party=Bharatiya Kisan Parivartan Party<br>State=%{x}<br>Previous_Election_won=%{y}<extra></extra>",
         "legendgroup": "Bharatiya Kisan Parivartan Party",
         "marker": {
          "color": "#00cc96",
          "symbol": "circle"
         },
         "mode": "markers",
         "name": "Bharatiya Kisan Parivartan Party",
         "orientation": "v",
         "showlegend": true,
         "type": "scatter",
         "x": [
          "Odisha"
         ],
         "xaxis": "x",
         "y": [
          0
         ],
         "yaxis": "y"
        },
        {
         "hovertemplate": "Party=Bharatiya Kisan Sena Loktantrik<br>State=%{x}<br>Previous_Election_won=%{y}<extra></extra>",
         "legendgroup": "Bharatiya Kisan Sena Loktantrik",
         "marker": {
          "color": "#ab63fa",
          "symbol": "circle"
         },
         "mode": "markers",
         "name": "Bharatiya Kisan Sena Loktantrik",
         "orientation": "v",
         "showlegend": true,
         "type": "scatter",
         "x": [
          "Puducherry"
         ],
         "xaxis": "x",
         "y": [
          0
         ],
         "yaxis": "y"
        },
        {
         "hovertemplate": "Party=Bharatiya Minorities Suraksha Mahasangh<br>State=%{x}<br>Previous_Election_won=%{y}<extra></extra>",
         "legendgroup": "Bharatiya Minorities Suraksha Mahasangh",
         "marker": {
          "color": "#FFA15A",
          "symbol": "circle"
         },
         "mode": "markers",
         "name": "Bharatiya Minorities Suraksha Mahasangh",
         "orientation": "v",
         "showlegend": true,
         "type": "scatter",
         "x": [
          "Punjab"
         ],
         "xaxis": "x",
         "y": [
          0
         ],
         "yaxis": "y"
        },
        {
         "hovertemplate": "Party=Bharatiya Momin Front<br>State=%{x}<br>Previous_Election_won=%{y}<extra></extra>",
         "legendgroup": "Bharatiya Momin Front",
         "marker": {
          "color": "#19d3f3",
          "symbol": "circle"
         },
         "mode": "markers",
         "name": "Bharatiya Momin Front",
         "orientation": "v",
         "showlegend": true,
         "type": "scatter",
         "x": [
          "Rajasthan"
         ],
         "xaxis": "x",
         "y": [
          0
         ],
         "yaxis": "y"
        },
        {
         "hovertemplate": "Party=Bharatiya Mool Niwasi Samaj Party<br>State=%{x}<br>Previous_Election_won=%{y}<extra></extra>",
         "legendgroup": "Bharatiya Mool Niwasi Samaj Party",
         "marker": {
          "color": "#FF6692",
          "symbol": "circle"
         },
         "mode": "markers",
         "name": "Bharatiya Mool Niwasi Samaj Party",
         "orientation": "v",
         "showlegend": true,
         "type": "scatter",
         "x": [
          "Sikkim"
         ],
         "xaxis": "x",
         "y": [
          0
         ],
         "yaxis": "y"
        },
        {
         "hovertemplate": "Party=Bharatiya National Janta Dal<br>State=%{x}<br>Previous_Election_won=%{y}<extra></extra>",
         "legendgroup": "Bharatiya National Janta Dal",
         "marker": {
          "color": "#B6E880",
          "symbol": "circle"
         },
         "mode": "markers",
         "name": "Bharatiya National Janta Dal",
         "orientation": "v",
         "showlegend": true,
         "type": "scatter",
         "x": [
          "Tamil Nadu"
         ],
         "xaxis": "x",
         "y": [
          0
         ],
         "yaxis": "y"
        },
        {
         "hovertemplate": "Party=Bharatiya Nav Kranti Party<br>State=%{x}<br>Previous_Election_won=%{y}<extra></extra>",
         "legendgroup": "Bharatiya Nav Kranti Party",
         "marker": {
          "color": "#FF97FF",
          "symbol": "circle"
         },
         "mode": "markers",
         "name": "Bharatiya Nav Kranti Party",
         "orientation": "v",
         "showlegend": true,
         "type": "scatter",
         "x": [
          "Tripura"
         ],
         "xaxis": "x",
         "y": [
          0
         ],
         "yaxis": "y"
        },
        {
         "hovertemplate": "Party=Bharatiya Navyuvak Party<br>State=%{x}<br>Previous_Election_won=%{y}<extra></extra>",
         "legendgroup": "Bharatiya Navyuvak Party",
         "marker": {
          "color": "#FECB52",
          "symbol": "circle"
         },
         "mode": "markers",
         "name": "Bharatiya Navyuvak Party",
         "orientation": "v",
         "showlegend": true,
         "type": "scatter",
         "x": [
          "Uttar Pradesh"
         ],
         "xaxis": "x",
         "y": [
          0
         ],
         "yaxis": "y"
        },
        {
         "hovertemplate": "Party=Bharatiya Peoples Party<br>State=%{x}<br>Previous_Election_won=%{y}<extra></extra>",
         "legendgroup": "Bharatiya Peoples Party",
         "marker": {
          "color": "#636efa",
          "symbol": "circle"
         },
         "mode": "markers",
         "name": "Bharatiya Peoples Party",
         "orientation": "v",
         "showlegend": true,
         "type": "scatter",
         "x": [
          "Uttarakhand"
         ],
         "xaxis": "x",
         "y": [
          0
         ],
         "yaxis": "y"
        },
        {
         "hovertemplate": "Party=Bharatiya Rashtriya Bahujan Samaj Vikas Party<br>State=%{x}<br>Previous_Election_won=%{y}<extra></extra>",
         "legendgroup": "Bharatiya Rashtriya Bahujan Samaj Vikas Party",
         "marker": {
          "color": "#EF553B",
          "symbol": "circle"
         },
         "mode": "markers",
         "name": "Bharatiya Rashtriya Bahujan Samaj Vikas Party",
         "orientation": "v",
         "showlegend": true,
         "type": "scatter",
         "x": [
          "West Bengal"
         ],
         "xaxis": "x",
         "y": [
          0
         ],
         "yaxis": "y"
        },
        {
         "hovertemplate": "Party=Bharatiya Rashtriya Mazdoor Dal<br>State=%{x}<br>Previous_Election_won=%{y}<extra></extra>",
         "legendgroup": "Bharatiya Rashtriya Mazdoor Dal",
         "marker": {
          "color": "#00cc96",
          "symbol": "circle"
         },
         "mode": "markers",
         "name": "Bharatiya Rashtriya Mazdoor Dal",
         "orientation": "v",
         "showlegend": true,
         "type": "scatter",
         "x": [
          "Himachal Pradesh"
         ],
         "xaxis": "x",
         "y": [
          0
         ],
         "yaxis": "y"
        },
        {
         "hovertemplate": "Party=Bharatiya Republican Paksha<br>State=%{x}<br>Previous_Election_won=%{y}<extra></extra>",
         "legendgroup": "Bharatiya Republican Paksha",
         "marker": {
          "color": "#ab63fa",
          "symbol": "circle"
         },
         "mode": "markers",
         "name": "Bharatiya Republican Paksha",
         "orientation": "v",
         "showlegend": true,
         "type": "scatter",
         "x": [
          "Jammu & Kashmir"
         ],
         "xaxis": "x",
         "y": [
          0
         ],
         "yaxis": "y"
        },
        {
         "hovertemplate": "Party=Bharatiya Samaj Dal<br>State=%{x}<br>Previous_Election_won=%{y}<extra></extra>",
         "legendgroup": "Bharatiya Samaj Dal",
         "marker": {
          "color": "#FFA15A",
          "symbol": "circle"
         },
         "mode": "markers",
         "name": "Bharatiya Samaj Dal",
         "orientation": "v",
         "showlegend": true,
         "type": "scatter",
         "x": [
          "Jharkhand"
         ],
         "xaxis": "x",
         "y": [
          0
         ],
         "yaxis": "y"
        },
        {
         "hovertemplate": "Party=Bharatiya Sant Mat Party<br>State=%{x}<br>Previous_Election_won=%{y}<extra></extra>",
         "legendgroup": "Bharatiya Sant Mat Party",
         "marker": {
          "color": "#19d3f3",
          "symbol": "circle"
         },
         "mode": "markers",
         "name": "Bharatiya Sant Mat Party",
         "orientation": "v",
         "showlegend": true,
         "type": "scatter",
         "x": [
          "Karnataka"
         ],
         "xaxis": "x",
         "y": [
          0
         ],
         "yaxis": "y"
        },
        {
         "hovertemplate": "Party=Bharatiya Sarvodaya Kranti Party<br>State=%{x}<br>Previous_Election_won=%{y}<extra></extra>",
         "legendgroup": "Bharatiya Sarvodaya Kranti Party",
         "marker": {
          "color": "#FF6692",
          "symbol": "circle"
         },
         "mode": "markers",
         "name": "Bharatiya Sarvodaya Kranti Party",
         "orientation": "v",
         "showlegend": true,
         "type": "scatter",
         "x": [
          "Kerala"
         ],
         "xaxis": "x",
         "y": [
          0
         ],
         "yaxis": "y"
        },
        {
         "hovertemplate": "Party=Bharatiya Yuva Shakti<br>State=%{x}<br>Previous_Election_won=%{y}<extra></extra>",
         "legendgroup": "Bharatiya Yuva Shakti",
         "marker": {
          "color": "#B6E880",
          "symbol": "circle"
         },
         "mode": "markers",
         "name": "Bharatiya Yuva Shakti",
         "orientation": "v",
         "showlegend": true,
         "type": "scatter",
         "x": [
          "Lakshadweep"
         ],
         "xaxis": "x",
         "y": [
          1
         ],
         "yaxis": "y"
        },
        {
         "hovertemplate": "Party=Bharipa Bahujan Mahasangh<br>State=%{x}<br>Previous_Election_won=%{y}<extra></extra>",
         "legendgroup": "Bharipa Bahujan Mahasangh",
         "marker": {
          "color": "#FF97FF",
          "symbol": "circle"
         },
         "mode": "markers",
         "name": "Bharipa Bahujan Mahasangh",
         "orientation": "v",
         "showlegend": true,
         "type": "scatter",
         "x": [
          "Madhya Pradesh"
         ],
         "xaxis": "x",
         "y": [
          7
         ],
         "yaxis": "y"
        },
        {
         "hovertemplate": "Party=Bharti Jan Suraksha Party<br>State=%{x}<br>Previous_Election_won=%{y}<extra></extra>",
         "legendgroup": "Bharti Jan Suraksha Party",
         "marker": {
          "color": "#FECB52",
          "symbol": "circle"
         },
         "mode": "markers",
         "name": "Bharti Jan Suraksha Party",
         "orientation": "v",
         "showlegend": true,
         "type": "scatter",
         "x": [
          "Maharashtra"
         ],
         "xaxis": "x",
         "y": [
          0
         ],
         "yaxis": "y"
        },
        {
         "hovertemplate": "Party=Bhartiya  Sarvjan Party<br>State=%{x}<br>Previous_Election_won=%{y}<extra></extra>",
         "legendgroup": "Bhartiya  Sarvjan Party",
         "marker": {
          "color": "#636efa",
          "symbol": "circle"
         },
         "mode": "markers",
         "name": "Bhartiya  Sarvjan Party",
         "orientation": "v",
         "showlegend": true,
         "type": "scatter",
         "x": [
          "Manipur"
         ],
         "xaxis": "x",
         "y": [
          0
         ],
         "yaxis": "y"
        },
        {
         "hovertemplate": "Party=Bhartiya Chaitanya Party<br>State=%{x}<br>Previous_Election_won=%{y}<extra></extra>",
         "legendgroup": "Bhartiya Chaitanya Party",
         "marker": {
          "color": "#EF553B",
          "symbol": "circle"
         },
         "mode": "markers",
         "name": "Bhartiya Chaitanya Party",
         "orientation": "v",
         "showlegend": true,
         "type": "scatter",
         "x": [
          "Meghalaya"
         ],
         "xaxis": "x",
         "y": [
          0
         ],
         "yaxis": "y"
        },
        {
         "hovertemplate": "Party=Bhartiya Ekta Manch Party<br>State=%{x}<br>Previous_Election_won=%{y}<extra></extra>",
         "legendgroup": "Bhartiya Ekta Manch Party",
         "marker": {
          "color": "#00cc96",
          "symbol": "circle"
         },
         "mode": "markers",
         "name": "Bhartiya Ekta Manch Party",
         "orientation": "v",
         "showlegend": true,
         "type": "scatter",
         "x": [
          "Mizoram"
         ],
         "xaxis": "x",
         "y": [
          0
         ],
         "yaxis": "y"
        },
        {
         "hovertemplate": "Party=Bhartiya Jan Manch<br>State=%{x}<br>Previous_Election_won=%{y}<extra></extra>",
         "legendgroup": "Bhartiya Jan Manch",
         "marker": {
          "color": "#ab63fa",
          "symbol": "circle"
         },
         "mode": "markers",
         "name": "Bhartiya Jan Manch",
         "orientation": "v",
         "showlegend": true,
         "type": "scatter",
         "x": [
          "Nagaland"
         ],
         "xaxis": "x",
         "y": [
          0
         ],
         "yaxis": "y"
        },
        {
         "hovertemplate": "Party=Bhartiya Jan Yug Party<br>State=%{x}<br>Previous_Election_won=%{y}<extra></extra>",
         "legendgroup": "Bhartiya Jan Yug Party",
         "marker": {
          "color": "#FFA15A",
          "symbol": "circle"
         },
         "mode": "markers",
         "name": "Bhartiya Jan Yug Party",
         "orientation": "v",
         "showlegend": true,
         "type": "scatter",
         "x": [
          "NCT OF Delhi"
         ],
         "xaxis": "x",
         "y": [
          0
         ],
         "yaxis": "y"
        },
        {
         "hovertemplate": "Party=Bhartiya Janta Dal (Integrated)<br>State=%{x}<br>Previous_Election_won=%{y}<extra></extra>",
         "legendgroup": "Bhartiya Janta Dal (Integrated)",
         "marker": {
          "color": "#19d3f3",
          "symbol": "circle"
         },
         "mode": "markers",
         "name": "Bhartiya Janta Dal (Integrated)",
         "orientation": "v",
         "showlegend": true,
         "type": "scatter",
         "x": [
          "Odisha"
         ],
         "xaxis": "x",
         "y": [
          0
         ],
         "yaxis": "y"
        },
        {
         "hovertemplate": "Party=Bhartiya Jantantrik Janata Dal<br>State=%{x}<br>Previous_Election_won=%{y}<extra></extra>",
         "legendgroup": "Bhartiya Jantantrik Janata Dal",
         "marker": {
          "color": "#FF6692",
          "symbol": "circle"
         },
         "mode": "markers",
         "name": "Bhartiya Jantantrik Janata Dal",
         "orientation": "v",
         "showlegend": true,
         "type": "scatter",
         "x": [
          "Puducherry"
         ],
         "xaxis": "x",
         "y": [
          0
         ],
         "yaxis": "y"
        },
        {
         "hovertemplate": "Party=Bhartiya Krishak Dal<br>State=%{x}<br>Previous_Election_won=%{y}<extra></extra>",
         "legendgroup": "Bhartiya Krishak Dal",
         "marker": {
          "color": "#B6E880",
          "symbol": "circle"
         },
         "mode": "markers",
         "name": "Bhartiya Krishak Dal",
         "orientation": "v",
         "showlegend": true,
         "type": "scatter",
         "x": [
          "Punjab"
         ],
         "xaxis": "x",
         "y": [
          0
         ],
         "yaxis": "y"
        },
        {
         "hovertemplate": "Party=Bhartiya Naujawan Inklav Party<br>State=%{x}<br>Previous_Election_won=%{y}<extra></extra>",
         "legendgroup": "Bhartiya Naujawan Inklav Party",
         "marker": {
          "color": "#FF97FF",
          "symbol": "circle"
         },
         "mode": "markers",
         "name": "Bhartiya Naujawan Inklav Party",
         "orientation": "v",
         "showlegend": true,
         "type": "scatter",
         "x": [
          "Rajasthan"
         ],
         "xaxis": "x",
         "y": [
          0
         ],
         "yaxis": "y"
        },
        {
         "hovertemplate": "Party=Bhartiya Navjawan Sena (Paksha)<br>State=%{x}<br>Previous_Election_won=%{y}<extra></extra>",
         "legendgroup": "Bhartiya Navjawan Sena (Paksha)",
         "marker": {
          "color": "#FECB52",
          "symbol": "circle"
         },
         "mode": "markers",
         "name": "Bhartiya Navjawan Sena (Paksha)",
         "orientation": "v",
         "showlegend": true,
         "type": "scatter",
         "x": [
          "Sikkim"
         ],
         "xaxis": "x",
         "y": [
          0
         ],
         "yaxis": "y"
        },
        {
         "hovertemplate": "Party=Bhartiya Party<br>State=%{x}<br>Previous_Election_won=%{y}<extra></extra>",
         "legendgroup": "Bhartiya Party",
         "marker": {
          "color": "#636efa",
          "symbol": "circle"
         },
         "mode": "markers",
         "name": "Bhartiya Party",
         "orientation": "v",
         "showlegend": true,
         "type": "scatter",
         "x": [
          "Tamil Nadu"
         ],
         "xaxis": "x",
         "y": [
          0
         ],
         "yaxis": "y"
        },
        {
         "hovertemplate": "Party=Bhartiya Pragatisheel Congress<br>State=%{x}<br>Previous_Election_won=%{y}<extra></extra>",
         "legendgroup": "Bhartiya Pragatisheel Congress",
         "marker": {
          "color": "#EF553B",
          "symbol": "circle"
         },
         "mode": "markers",
         "name": "Bhartiya Pragatisheel Congress",
         "orientation": "v",
         "showlegend": true,
         "type": "scatter",
         "x": [
          "Tripura"
         ],
         "xaxis": "x",
         "y": [
          0
         ],
         "yaxis": "y"
        },
        {
         "hovertemplate": "Party=Bhartiya Republican Party (Insan)<br>State=%{x}<br>Previous_Election_won=%{y}<extra></extra>",
         "legendgroup": "Bhartiya Republican Party (Insan)",
         "marker": {
          "color": "#00cc96",
          "symbol": "circle"
         },
         "mode": "markers",
         "name": "Bhartiya Republican Party (Insan)",
         "orientation": "v",
         "showlegend": true,
         "type": "scatter",
         "x": [
          "Uttar Pradesh"
         ],
         "xaxis": "x",
         "y": [
          0
         ],
         "yaxis": "y"
        },
        {
         "hovertemplate": "Party=Bhartiya Samajik Kranti Dal<br>State=%{x}<br>Previous_Election_won=%{y}<extra></extra>",
         "legendgroup": "Bhartiya Samajik Kranti Dal",
         "marker": {
          "color": "#ab63fa",
          "symbol": "circle"
         },
         "mode": "markers",
         "name": "Bhartiya Samajik Kranti Dal",
         "orientation": "v",
         "showlegend": true,
         "type": "scatter",
         "x": [
          "Uttarakhand"
         ],
         "xaxis": "x",
         "y": [
          0
         ],
         "yaxis": "y"
        },
        {
         "hovertemplate": "Party=Bhartiya Satya Sangharsh Party<br>State=%{x}<br>Previous_Election_won=%{y}<extra></extra>",
         "legendgroup": "Bhartiya Satya Sangharsh Party",
         "marker": {
          "color": "#FFA15A",
          "symbol": "circle"
         },
         "mode": "markers",
         "name": "Bhartiya Satya Sangharsh Party",
         "orientation": "v",
         "showlegend": true,
         "type": "scatter",
         "x": [
          "West Bengal"
         ],
         "xaxis": "x",
         "y": [
          0
         ],
         "yaxis": "y"
        },
        {
         "hovertemplate": "Party=Bhartiya Shakti Chetna Party<br>State=%{x}<br>Previous_Election_won=%{y}<extra></extra>",
         "legendgroup": "Bhartiya Shakti Chetna Party",
         "marker": {
          "color": "#19d3f3",
          "symbol": "circle"
         },
         "mode": "markers",
         "name": "Bhartiya Shakti Chetna Party",
         "orientation": "v",
         "showlegend": true,
         "type": "scatter",
         "x": [
          "Himachal Pradesh"
         ],
         "xaxis": "x",
         "y": [
          1
         ],
         "yaxis": "y"
        },
        {
         "hovertemplate": "Party=Bhartiya Shramik Dal Socialist<br>State=%{x}<br>Previous_Election_won=%{y}<extra></extra>",
         "legendgroup": "Bhartiya Shramik Dal Socialist",
         "marker": {
          "color": "#FF6692",
          "symbol": "circle"
         },
         "mode": "markers",
         "name": "Bhartiya Shramik Dal Socialist",
         "orientation": "v",
         "showlegend": true,
         "type": "scatter",
         "x": [
          "Jammu & Kashmir"
         ],
         "xaxis": "x",
         "y": [
          0
         ],
         "yaxis": "y"
        },
        {
         "hovertemplate": "Party=Bhartiya Vanchitsamaj Party<br>State=%{x}<br>Previous_Election_won=%{y}<extra></extra>",
         "legendgroup": "Bhartiya Vanchitsamaj Party",
         "marker": {
          "color": "#B6E880",
          "symbol": "circle"
         },
         "mode": "markers",
         "name": "Bhartiya Vanchitsamaj Party",
         "orientation": "v",
         "showlegend": true,
         "type": "scatter",
         "x": [
          "Jharkhand"
         ],
         "xaxis": "x",
         "y": [
          0
         ],
         "yaxis": "y"
        },
        {
         "hovertemplate": "Party=Bhartiya Vikas Party<br>State=%{x}<br>Previous_Election_won=%{y}<extra></extra>",
         "legendgroup": "Bhartiya Vikas Party",
         "marker": {
          "color": "#FF97FF",
          "symbol": "circle"
         },
         "mode": "markers",
         "name": "Bhartiya Vikas Party",
         "orientation": "v",
         "showlegend": true,
         "type": "scatter",
         "x": [
          "Karnataka"
         ],
         "xaxis": "x",
         "y": [
          0
         ],
         "yaxis": "y"
        },
        {
         "hovertemplate": "Party=Bhrashtachar Mukti Morcha<br>State=%{x}<br>Previous_Election_won=%{y}<extra></extra>",
         "legendgroup": "Bhrashtachar Mukti Morcha",
         "marker": {
          "color": "#FECB52",
          "symbol": "circle"
         },
         "mode": "markers",
         "name": "Bhrashtachar Mukti Morcha",
         "orientation": "v",
         "showlegend": true,
         "type": "scatter",
         "x": [
          "Kerala"
         ],
         "xaxis": "x",
         "y": [
          0
         ],
         "yaxis": "y"
        },
        {
         "hovertemplate": "Party=Bihar Janta Party<br>State=%{x}<br>Previous_Election_won=%{y}<extra></extra>",
         "legendgroup": "Bihar Janta Party",
         "marker": {
          "color": "#636efa",
          "symbol": "circle"
         },
         "mode": "markers",
         "name": "Bihar Janta Party",
         "orientation": "v",
         "showlegend": true,
         "type": "scatter",
         "x": [
          "Lakshadweep"
         ],
         "xaxis": "x",
         "y": [
          0
         ],
         "yaxis": "y"
        },
        {
         "hovertemplate": "Party=Braj Vikas Party<br>State=%{x}<br>Previous_Election_won=%{y}<extra></extra>",
         "legendgroup": "Braj Vikas Party",
         "marker": {
          "color": "#EF553B",
          "symbol": "circle"
         },
         "mode": "markers",
         "name": "Braj Vikas Party",
         "orientation": "v",
         "showlegend": true,
         "type": "scatter",
         "x": [
          "Madhya Pradesh"
         ],
         "xaxis": "x",
         "y": [
          0
         ],
         "yaxis": "y"
        },
        {
         "hovertemplate": "Party=Brihattar Bharat Prajatantra Sewa Party<br>State=%{x}<br>Previous_Election_won=%{y}<extra></extra>",
         "legendgroup": "Brihattar Bharat Prajatantra Sewa Party",
         "marker": {
          "color": "#00cc96",
          "symbol": "circle"
         },
         "mode": "markers",
         "name": "Brihattar Bharat Prajatantra Sewa Party",
         "orientation": "v",
         "showlegend": true,
         "type": "scatter",
         "x": [
          "Maharashtra"
         ],
         "xaxis": "x",
         "y": [
          0
         ],
         "yaxis": "y"
        },
        {
         "hovertemplate": "Party=Bundelkhand Congress<br>State=%{x}<br>Previous_Election_won=%{y}<extra></extra>",
         "legendgroup": "Bundelkhand Congress",
         "marker": {
          "color": "#ab63fa",
          "symbol": "circle"
         },
         "mode": "markers",
         "name": "Bundelkhand Congress",
         "orientation": "v",
         "showlegend": true,
         "type": "scatter",
         "x": [
          "Manipur"
         ],
         "xaxis": "x",
         "y": [
          0
         ],
         "yaxis": "y"
        },
        {
         "hovertemplate": "Party=Chhattisgarh Swabhiman Manch<br>State=%{x}<br>Previous_Election_won=%{y}<extra></extra>",
         "legendgroup": "Chhattisgarh Swabhiman Manch",
         "marker": {
          "color": "#FFA15A",
          "symbol": "circle"
         },
         "mode": "markers",
         "name": "Chhattisgarh Swabhiman Manch",
         "orientation": "v",
         "showlegend": true,
         "type": "scatter",
         "x": [
          "Meghalaya"
         ],
         "xaxis": "x",
         "y": [
          1
         ],
         "yaxis": "y"
        },
        {
         "hovertemplate": "Party=Chhattisgarhiya Party<br>State=%{x}<br>Previous_Election_won=%{y}<extra></extra>",
         "legendgroup": "Chhattisgarhiya Party",
         "marker": {
          "color": "#19d3f3",
          "symbol": "circle"
         },
         "mode": "markers",
         "name": "Chhattisgarhiya Party",
         "orientation": "v",
         "showlegend": true,
         "type": "scatter",
         "x": [
          "Mizoram"
         ],
         "xaxis": "x",
         "y": [
          0
         ],
         "yaxis": "y"
        },
        {
         "hovertemplate": "Party=Communist Party of India  (Marxist-Leninist)  (Liberation)<br>State=%{x}<br>Previous_Election_won=%{y}<extra></extra>",
         "legendgroup": "Communist Party of India  (Marxist-Leninist)  (Liberation)",
         "marker": {
          "color": "#FF6692",
          "symbol": "circle"
         },
         "mode": "markers",
         "name": "Communist Party of India  (Marxist-Leninist)  (Liberation)",
         "orientation": "v",
         "showlegend": true,
         "type": "scatter",
         "x": [
          "Nagaland"
         ],
         "xaxis": "x",
         "y": [
          18
         ],
         "yaxis": "y"
        },
        {
         "hovertemplate": "Party=Communist Party of India (Marxist-Leninist) Red Star<br>State=%{x}<br>Previous_Election_won=%{y}<extra></extra>",
         "legendgroup": "Communist Party of India (Marxist-Leninist) Red Star",
         "marker": {
          "color": "#B6E880",
          "symbol": "circle"
         },
         "mode": "markers",
         "name": "Communist Party of India (Marxist-Leninist) Red Star",
         "orientation": "v",
         "showlegend": true,
         "type": "scatter",
         "x": [
          "NCT OF Delhi"
         ],
         "xaxis": "x",
         "y": [
          2
         ],
         "yaxis": "y"
        },
        {
         "hovertemplate": "Party=Dalit Vikas Party(Bharat)<br>State=%{x}<br>Previous_Election_won=%{y}<extra></extra>",
         "legendgroup": "Dalit Vikas Party(Bharat)",
         "marker": {
          "color": "#FF97FF",
          "symbol": "circle"
         },
         "mode": "markers",
         "name": "Dalit Vikas Party(Bharat)",
         "orientation": "v",
         "showlegend": true,
         "type": "scatter",
         "x": [
          "Odisha"
         ],
         "xaxis": "x",
         "y": [
          0
         ],
         "yaxis": "y"
        },
        {
         "hovertemplate": "Party=Dalita Bahujana Party<br>State=%{x}<br>Previous_Election_won=%{y}<extra></extra>",
         "legendgroup": "Dalita Bahujana Party",
         "marker": {
          "color": "#FECB52",
          "symbol": "circle"
         },
         "mode": "markers",
         "name": "Dalita Bahujana Party",
         "orientation": "v",
         "showlegend": true,
         "type": "scatter",
         "x": [
          "Puducherry"
         ],
         "xaxis": "x",
         "y": [
          0
         ],
         "yaxis": "y"
        },
        {
         "hovertemplate": "Party=Democratic Bharatiya Samaj Party<br>State=%{x}<br>Previous_Election_won=%{y}<extra></extra>",
         "legendgroup": "Democratic Bharatiya Samaj Party",
         "marker": {
          "color": "#636efa",
          "symbol": "circle"
         },
         "mode": "markers",
         "name": "Democratic Bharatiya Samaj Party",
         "orientation": "v",
         "showlegend": true,
         "type": "scatter",
         "x": [
          "Punjab"
         ],
         "xaxis": "x",
         "y": [
          0
         ],
         "yaxis": "y"
        },
        {
         "hovertemplate": "Party=Democratic Congress Party<br>State=%{x}<br>Previous_Election_won=%{y}<extra></extra>",
         "legendgroup": "Democratic Congress Party",
         "marker": {
          "color": "#EF553B",
          "symbol": "circle"
         },
         "mode": "markers",
         "name": "Democratic Congress Party",
         "orientation": "v",
         "showlegend": true,
         "type": "scatter",
         "x": [
          "Rajasthan"
         ],
         "xaxis": "x",
         "y": [
          0
         ],
         "yaxis": "y"
        },
        {
         "hovertemplate": "Party=Democratic Prajakranthi Party Secularist<br>State=%{x}<br>Previous_Election_won=%{y}<extra></extra>",
         "legendgroup": "Democratic Prajakranthi Party Secularist",
         "marker": {
          "color": "#00cc96",
          "symbol": "circle"
         },
         "mode": "markers",
         "name": "Democratic Prajakranthi Party Secularist",
         "orientation": "v",
         "showlegend": true,
         "type": "scatter",
         "x": [
          "Sikkim"
         ],
         "xaxis": "x",
         "y": [
          0
         ],
         "yaxis": "y"
        },
        {
         "hovertemplate": "Party=Democratic Secular Party<br>State=%{x}<br>Previous_Election_won=%{y}<extra></extra>",
         "legendgroup": "Democratic Secular Party",
         "marker": {
          "color": "#ab63fa",
          "symbol": "circle"
         },
         "mode": "markers",
         "name": "Democratic Secular Party",
         "orientation": "v",
         "showlegend": true,
         "type": "scatter",
         "x": [
          "Tamil Nadu"
         ],
         "xaxis": "x",
         "y": [
          0
         ],
         "yaxis": "y"
        },
        {
         "hovertemplate": "Party=Deshbhakt Nirman Party<br>State=%{x}<br>Previous_Election_won=%{y}<extra></extra>",
         "legendgroup": "Deshbhakt Nirman Party",
         "marker": {
          "color": "#FFA15A",
          "symbol": "circle"
         },
         "mode": "markers",
         "name": "Deshbhakt Nirman Party",
         "orientation": "v",
         "showlegend": true,
         "type": "scatter",
         "x": [
          "Tripura"
         ],
         "xaxis": "x",
         "y": [
          0
         ],
         "yaxis": "y"
        },
        {
         "hovertemplate": "Party=Desiya Forward Bloc<br>State=%{x}<br>Previous_Election_won=%{y}<extra></extra>",
         "legendgroup": "Desiya Forward Bloc",
         "marker": {
          "color": "#19d3f3",
          "symbol": "circle"
         },
         "mode": "markers",
         "name": "Desiya Forward Bloc",
         "orientation": "v",
         "showlegend": true,
         "type": "scatter",
         "x": [
          "Uttar Pradesh"
         ],
         "xaxis": "x",
         "y": [
          0
         ],
         "yaxis": "y"
        },
        {
         "hovertemplate": "Party=Dharam Nirpeksh Dal<br>State=%{x}<br>Previous_Election_won=%{y}<extra></extra>",
         "legendgroup": "Dharam Nirpeksh Dal",
         "marker": {
          "color": "#FF6692",
          "symbol": "circle"
         },
         "mode": "markers",
         "name": "Dharam Nirpeksh Dal",
         "orientation": "v",
         "showlegend": true,
         "type": "scatter",
         "x": [
          "Uttarakhand"
         ],
         "xaxis": "x",
         "y": [
          0
         ],
         "yaxis": "y"
        },
        {
         "hovertemplate": "Party=Dharmarajya Paksha<br>State=%{x}<br>Previous_Election_won=%{y}<extra></extra>",
         "legendgroup": "Dharmarajya Paksha",
         "marker": {
          "color": "#B6E880",
          "symbol": "circle"
         },
         "mode": "markers",
         "name": "Dharmarajya Paksha",
         "orientation": "v",
         "showlegend": true,
         "type": "scatter",
         "x": [
          "West Bengal"
         ],
         "xaxis": "x",
         "y": [
          0
         ],
         "yaxis": "y"
        },
        {
         "hovertemplate": "Party=Dr. Ambedkar Samajvadi Democratic Party<br>State=%{x}<br>Previous_Election_won=%{y}<extra></extra>",
         "legendgroup": "Dr. Ambedkar Samajvadi Democratic Party",
         "marker": {
          "color": "#FF97FF",
          "symbol": "circle"
         },
         "mode": "markers",
         "name": "Dr. Ambedkar Samajvadi Democratic Party",
         "orientation": "v",
         "showlegend": true,
         "type": "scatter",
         "x": [
          "Himachal Pradesh"
         ],
         "xaxis": "x",
         "y": [
          0
         ],
         "yaxis": "y"
        },
        {
         "hovertemplate": "Party=Eklavya Samaj Party<br>State=%{x}<br>Previous_Election_won=%{y}<extra></extra>",
         "legendgroup": "Eklavya Samaj Party",
         "marker": {
          "color": "#FECB52",
          "symbol": "circle"
         },
         "mode": "markers",
         "name": "Eklavya Samaj Party",
         "orientation": "v",
         "showlegend": true,
         "type": "scatter",
         "x": [
          "Jammu & Kashmir"
         ],
         "xaxis": "x",
         "y": [
          0
         ],
         "yaxis": "y"
        },
        {
         "hovertemplate": "Party=Ex-Sainik Kissan Party<br>State=%{x}<br>Previous_Election_won=%{y}<extra></extra>",
         "legendgroup": "Ex-Sainik Kissan Party",
         "marker": {
          "color": "#636efa",
          "symbol": "circle"
         },
         "mode": "markers",
         "name": "Ex-Sainik Kissan Party",
         "orientation": "v",
         "showlegend": true,
         "type": "scatter",
         "x": [
          "Jharkhand"
         ],
         "xaxis": "x",
         "y": [
          0
         ],
         "yaxis": "y"
        },
        {
         "hovertemplate": "Party=Ezhuchi Tamilargal Munnetra Kazhagam<br>State=%{x}<br>Previous_Election_won=%{y}<extra></extra>",
         "legendgroup": "Ezhuchi Tamilargal Munnetra Kazhagam",
         "marker": {
          "color": "#EF553B",
          "symbol": "circle"
         },
         "mode": "markers",
         "name": "Ezhuchi Tamilargal Munnetra Kazhagam",
         "orientation": "v",
         "showlegend": true,
         "type": "scatter",
         "x": [
          "Karnataka"
         ],
         "xaxis": "x",
         "y": [
          0
         ],
         "yaxis": "y"
        },
        {
         "hovertemplate": "Party=Gareeb Aadmi Party<br>State=%{x}<br>Previous_Election_won=%{y}<extra></extra>",
         "legendgroup": "Gareeb Aadmi Party",
         "marker": {
          "color": "#00cc96",
          "symbol": "circle"
         },
         "mode": "markers",
         "name": "Gareeb Aadmi Party",
         "orientation": "v",
         "showlegend": true,
         "type": "scatter",
         "x": [
          "Kerala"
         ],
         "xaxis": "x",
         "y": [
          0
         ],
         "yaxis": "y"
        },
        {
         "hovertemplate": "Party=Goa Su-Raj Party<br>State=%{x}<br>Previous_Election_won=%{y}<extra></extra>",
         "legendgroup": "Goa Su-Raj Party",
         "marker": {
          "color": "#ab63fa",
          "symbol": "circle"
         },
         "mode": "markers",
         "name": "Goa Su-Raj Party",
         "orientation": "v",
         "showlegend": true,
         "type": "scatter",
         "x": [
          "Lakshadweep"
         ],
         "xaxis": "x",
         "y": [
          0
         ],
         "yaxis": "y"
        },
        {
         "hovertemplate": "Party=Goemcarancho Otrec Astro<br>State=%{x}<br>Previous_Election_won=%{y}<extra></extra>",
         "legendgroup": "Goemcarancho Otrec Astro",
         "marker": {
          "color": "#FFA15A",
          "symbol": "circle"
         },
         "mode": "markers",
         "name": "Goemcarancho Otrec Astro",
         "orientation": "v",
         "showlegend": true,
         "type": "scatter",
         "x": [
          "Madhya Pradesh"
         ],
         "xaxis": "x",
         "y": [
          0
         ],
         "yaxis": "y"
        },
        {
         "hovertemplate": "Party=Gondvana Gantantra Party<br>State=%{x}<br>Previous_Election_won=%{y}<extra></extra>",
         "legendgroup": "Gondvana Gantantra Party",
         "marker": {
          "color": "#19d3f3",
          "symbol": "circle"
         },
         "mode": "markers",
         "name": "Gondvana Gantantra Party",
         "orientation": "v",
         "showlegend": true,
         "type": "scatter",
         "x": [
          "Maharashtra"
         ],
         "xaxis": "x",
         "y": [
          5
         ],
         "yaxis": "y"
        },
        {
         "hovertemplate": "Party=Gorkha Rashtriya Congress<br>State=%{x}<br>Previous_Election_won=%{y}<extra></extra>",
         "legendgroup": "Gorkha Rashtriya Congress",
         "marker": {
          "color": "#FF6692",
          "symbol": "circle"
         },
         "mode": "markers",
         "name": "Gorkha Rashtriya Congress",
         "orientation": "v",
         "showlegend": true,
         "type": "scatter",
         "x": [
          "Manipur"
         ],
         "xaxis": "x",
         "y": [
          0
         ],
         "yaxis": "y"
        },
        {
         "hovertemplate": "Party=Great India Party<br>State=%{x}<br>Previous_Election_won=%{y}<extra></extra>",
         "legendgroup": "Great India Party",
         "marker": {
          "color": "#B6E880",
          "symbol": "circle"
         },
         "mode": "markers",
         "name": "Great India Party",
         "orientation": "v",
         "showlegend": true,
         "type": "scatter",
         "x": [
          "Meghalaya"
         ],
         "xaxis": "x",
         "y": [
          0
         ],
         "yaxis": "y"
        },
        {
         "hovertemplate": "Party=Himachal Swabhiman Party<br>State=%{x}<br>Previous_Election_won=%{y}<extra></extra>",
         "legendgroup": "Himachal Swabhiman Party",
         "marker": {
          "color": "#FF97FF",
          "symbol": "circle"
         },
         "mode": "markers",
         "name": "Himachal Swabhiman Party",
         "orientation": "v",
         "showlegend": true,
         "type": "scatter",
         "x": [
          "Mizoram"
         ],
         "xaxis": "x",
         "y": [
          0
         ],
         "yaxis": "y"
        },
        {
         "hovertemplate": "Party=Hindustan Ekta Party<br>State=%{x}<br>Previous_Election_won=%{y}<extra></extra>",
         "legendgroup": "Hindustan Ekta Party",
         "marker": {
          "color": "#FECB52",
          "symbol": "circle"
         },
         "mode": "markers",
         "name": "Hindustan Ekta Party",
         "orientation": "v",
         "showlegend": true,
         "type": "scatter",
         "x": [
          "Nagaland"
         ],
         "xaxis": "x",
         "y": [
          0
         ],
         "yaxis": "y"
        },
        {
         "hovertemplate": "Party=Hindustan Janta Party<br>State=%{x}<br>Previous_Election_won=%{y}<extra></extra>",
         "legendgroup": "Hindustan Janta Party",
         "marker": {
          "color": "#636efa",
          "symbol": "circle"
         },
         "mode": "markers",
         "name": "Hindustan Janta Party",
         "orientation": "v",
         "showlegend": true,
         "type": "scatter",
         "x": [
          "NCT OF Delhi"
         ],
         "xaxis": "x",
         "y": [
          1
         ],
         "yaxis": "y"
        },
        {
         "hovertemplate": "Party=Hindustan Kranti Dal<br>State=%{x}<br>Previous_Election_won=%{y}<extra></extra>",
         "legendgroup": "Hindustan Kranti Dal",
         "marker": {
          "color": "#EF553B",
          "symbol": "circle"
         },
         "mode": "markers",
         "name": "Hindustan Kranti Dal",
         "orientation": "v",
         "showlegend": true,
         "type": "scatter",
         "x": [
          "Odisha"
         ],
         "xaxis": "x",
         "y": [
          0
         ],
         "yaxis": "y"
        },
        {
         "hovertemplate": "Party=Hindustan Krantikari Dal<br>State=%{x}<br>Previous_Election_won=%{y}<extra></extra>",
         "legendgroup": "Hindustan Krantikari Dal",
         "marker": {
          "color": "#00cc96",
          "symbol": "circle"
         },
         "mode": "markers",
         "name": "Hindustan Krantikari Dal",
         "orientation": "v",
         "showlegend": true,
         "type": "scatter",
         "x": [
          "Puducherry"
         ],
         "xaxis": "x",
         "y": [
          0
         ],
         "yaxis": "y"
        },
        {
         "hovertemplate": "Party=Hindustan Swaraj Congress Party<br>State=%{x}<br>Previous_Election_won=%{y}<extra></extra>",
         "legendgroup": "Hindustan Swaraj Congress Party",
         "marker": {
          "color": "#ab63fa",
          "symbol": "circle"
         },
         "mode": "markers",
         "name": "Hindustan Swaraj Congress Party",
         "orientation": "v",
         "showlegend": true,
         "type": "scatter",
         "x": [
          "Punjab"
         ],
         "xaxis": "x",
         "y": [
          0
         ],
         "yaxis": "y"
        },
        {
         "hovertemplate": "Party=Hindustan Vikas Dal<br>State=%{x}<br>Previous_Election_won=%{y}<extra></extra>",
         "legendgroup": "Hindustan Vikas Dal",
         "marker": {
          "color": "#FFA15A",
          "symbol": "circle"
         },
         "mode": "markers",
         "name": "Hindustan Vikas Dal",
         "orientation": "v",
         "showlegend": true,
         "type": "scatter",
         "x": [
          "Rajasthan"
         ],
         "xaxis": "x",
         "y": [
          0
         ],
         "yaxis": "y"
        },
        {
         "hovertemplate": "Party=Hindusthan Nirman Dal<br>State=%{x}<br>Previous_Election_won=%{y}<extra></extra>",
         "legendgroup": "Hindusthan Nirman Dal",
         "marker": {
          "color": "#19d3f3",
          "symbol": "circle"
         },
         "mode": "markers",
         "name": "Hindusthan Nirman Dal",
         "orientation": "v",
         "showlegend": true,
         "type": "scatter",
         "x": [
          "Sikkim"
         ],
         "xaxis": "x",
         "y": [
          0
         ],
         "yaxis": "y"
        },
        {
         "hovertemplate": "Party=Hindusthan Praja Paksha<br>State=%{x}<br>Previous_Election_won=%{y}<extra></extra>",
         "legendgroup": "Hindusthan Praja Paksha",
         "marker": {
          "color": "#FF6692",
          "symbol": "circle"
         },
         "mode": "markers",
         "name": "Hindusthan Praja Paksha",
         "orientation": "v",
         "showlegend": true,
         "type": "scatter",
         "x": [
          "Tamil Nadu"
         ],
         "xaxis": "x",
         "y": [
          0
         ],
         "yaxis": "y"
        },
        {
         "hovertemplate": "Party=Indian Bahujan Samajwadi Party<br>State=%{x}<br>Previous_Election_won=%{y}<extra></extra>",
         "legendgroup": "Indian Bahujan Samajwadi Party",
         "marker": {
          "color": "#B6E880",
          "symbol": "circle"
         },
         "mode": "markers",
         "name": "Indian Bahujan Samajwadi Party",
         "orientation": "v",
         "showlegend": true,
         "type": "scatter",
         "x": [
          "Tripura"
         ],
         "xaxis": "x",
         "y": [
          0
         ],
         "yaxis": "y"
        },
        {
         "hovertemplate": "Party=Indian Bahujan Sandesh Party (Kanshiram)<br>State=%{x}<br>Previous_Election_won=%{y}<extra></extra>",
         "legendgroup": "Indian Bahujan Sandesh Party (Kanshiram)",
         "marker": {
          "color": "#FF97FF",
          "symbol": "circle"
         },
         "mode": "markers",
         "name": "Indian Bahujan Sandesh Party (Kanshiram)",
         "orientation": "v",
         "showlegend": true,
         "type": "scatter",
         "x": [
          "Uttar Pradesh"
         ],
         "xaxis": "x",
         "y": [
          0
         ],
         "yaxis": "y"
        },
        {
         "hovertemplate": "Party=Indian Christian Secular Party<br>State=%{x}<br>Previous_Election_won=%{y}<extra></extra>",
         "legendgroup": "Indian Christian Secular Party",
         "marker": {
          "color": "#FECB52",
          "symbol": "circle"
         },
         "mode": "markers",
         "name": "Indian Christian Secular Party",
         "orientation": "v",
         "showlegend": true,
         "type": "scatter",
         "x": [
          "Uttarakhand"
         ],
         "xaxis": "x",
         "y": [
          0
         ],
         "yaxis": "y"
        },
        {
         "hovertemplate": "Party=Indian Gandhiyan Party<br>State=%{x}<br>Previous_Election_won=%{y}<extra></extra>",
         "legendgroup": "Indian Gandhiyan Party",
         "marker": {
          "color": "#636efa",
          "symbol": "circle"
         },
         "mode": "markers",
         "name": "Indian Gandhiyan Party",
         "orientation": "v",
         "showlegend": true,
         "type": "scatter",
         "x": [
          "West Bengal"
         ],
         "xaxis": "x",
         "y": [
          0
         ],
         "yaxis": "y"
        },
        {
         "hovertemplate": "Party=Indian Krantikari Lehar<br>State=%{x}<br>Previous_Election_won=%{y}<extra></extra>",
         "legendgroup": "Indian Krantikari Lehar",
         "marker": {
          "color": "#EF553B",
          "symbol": "circle"
         },
         "mode": "markers",
         "name": "Indian Krantikari Lehar",
         "orientation": "v",
         "showlegend": true,
         "type": "scatter",
         "x": [
          "Himachal Pradesh"
         ],
         "xaxis": "x",
         "y": [
          0
         ],
         "yaxis": "y"
        },
        {
         "hovertemplate": "Party=Indian Labour Party (Ambedkar Phule)<br>State=%{x}<br>Previous_Election_won=%{y}<extra></extra>",
         "legendgroup": "Indian Labour Party (Ambedkar Phule)",
         "marker": {
          "color": "#00cc96",
          "symbol": "circle"
         },
         "mode": "markers",
         "name": "Indian Labour Party (Ambedkar Phule)",
         "orientation": "v",
         "showlegend": true,
         "type": "scatter",
         "x": [
          "Jammu & Kashmir"
         ],
         "xaxis": "x",
         "y": [
          0
         ],
         "yaxis": "y"
        },
        {
         "hovertemplate": "Party=Indian National League<br>State=%{x}<br>Previous_Election_won=%{y}<extra></extra>",
         "legendgroup": "Indian National League",
         "marker": {
          "color": "#ab63fa",
          "symbol": "circle"
         },
         "mode": "markers",
         "name": "Indian National League",
         "orientation": "v",
         "showlegend": true,
         "type": "scatter",
         "x": [
          "Jharkhand"
         ],
         "xaxis": "x",
         "y": [
          0
         ],
         "yaxis": "y"
        },
        {
         "hovertemplate": "Party=Indian Oceanic Party<br>State=%{x}<br>Previous_Election_won=%{y}<extra></extra>",
         "legendgroup": "Indian Oceanic Party",
         "marker": {
          "color": "#FFA15A",
          "symbol": "circle"
         },
         "mode": "markers",
         "name": "Indian Oceanic Party",
         "orientation": "v",
         "showlegend": true,
         "type": "scatter",
         "x": [
          "Karnataka"
         ],
         "xaxis": "x",
         "y": [
          0
         ],
         "yaxis": "y"
        },
        {
         "hovertemplate": "Party=Indian Peace Party<br>State=%{x}<br>Previous_Election_won=%{y}<extra></extra>",
         "legendgroup": "Indian Peace Party",
         "marker": {
          "color": "#19d3f3",
          "symbol": "circle"
         },
         "mode": "markers",
         "name": "Indian Peace Party",
         "orientation": "v",
         "showlegend": true,
         "type": "scatter",
         "x": [
          "Kerala"
         ],
         "xaxis": "x",
         "y": [
          0
         ],
         "yaxis": "y"
        },
        {
         "hovertemplate": "Party=Indian Peoples Green Party<br>State=%{x}<br>Previous_Election_won=%{y}<extra></extra>",
         "legendgroup": "Indian Peoples Green Party",
         "marker": {
          "color": "#FF6692",
          "symbol": "circle"
         },
         "mode": "markers",
         "name": "Indian Peoples Green Party",
         "orientation": "v",
         "showlegend": true,
         "type": "scatter",
         "x": [
          "Lakshadweep"
         ],
         "xaxis": "x",
         "y": [
          0
         ],
         "yaxis": "y"
        },
        {
         "hovertemplate": "Party=Indian Savarn Samaj Party<br>State=%{x}<br>Previous_Election_won=%{y}<extra></extra>",
         "legendgroup": "Indian Savarn Samaj Party",
         "marker": {
          "color": "#B6E880",
          "symbol": "circle"
         },
         "mode": "markers",
         "name": "Indian Savarn Samaj Party",
         "orientation": "v",
         "showlegend": true,
         "type": "scatter",
         "x": [
          "Madhya Pradesh"
         ],
         "xaxis": "x",
         "y": [
          0
         ],
         "yaxis": "y"
        },
        {
         "hovertemplate": "Party=Indian Unity Centre<br>State=%{x}<br>Previous_Election_won=%{y}<extra></extra>",
         "legendgroup": "Indian Unity Centre",
         "marker": {
          "color": "#FF97FF",
          "symbol": "circle"
         },
         "mode": "markers",
         "name": "Indian Unity Centre",
         "orientation": "v",
         "showlegend": true,
         "type": "scatter",
         "x": [
          "Maharashtra"
         ],
         "xaxis": "x",
         "y": [
          0
         ],
         "yaxis": "y"
        },
        {
         "hovertemplate": "Party=Indians Victory Party<br>State=%{x}<br>Previous_Election_won=%{y}<extra></extra>",
         "legendgroup": "Indians Victory Party",
         "marker": {
          "color": "#FECB52",
          "symbol": "circle"
         },
         "mode": "markers",
         "name": "Indians Victory Party",
         "orientation": "v",
         "showlegend": true,
         "type": "scatter",
         "x": [
          "Manipur"
         ],
         "xaxis": "x",
         "y": [
          0
         ],
         "yaxis": "y"
        },
        {
         "hovertemplate": "Party=Indigenousn People's Front Of Tripura<br>State=%{x}<br>Previous_Election_won=%{y}<extra></extra>",
         "legendgroup": "Indigenousn People's Front Of Tripura",
         "marker": {
          "color": "#636efa",
          "symbol": "circle"
         },
         "mode": "markers",
         "name": "Indigenousn People's Front Of Tripura",
         "orientation": "v",
         "showlegend": true,
         "type": "scatter",
         "x": [
          "Meghalaya"
         ],
         "xaxis": "x",
         "y": [
          0
         ],
         "yaxis": "y"
        },
        {
         "hovertemplate": "Party=Inqalab Vikas Dal<br>State=%{x}<br>Previous_Election_won=%{y}<extra></extra>",
         "legendgroup": "Inqalab Vikas Dal",
         "marker": {
          "color": "#EF553B",
          "symbol": "circle"
         },
         "mode": "markers",
         "name": "Inqalab Vikas Dal",
         "orientation": "v",
         "showlegend": true,
         "type": "scatter",
         "x": [
          "Mizoram"
         ],
         "xaxis": "x",
         "y": [
          0
         ],
         "yaxis": "y"
        },
        {
         "hovertemplate": "Party=Jago Party<br>State=%{x}<br>Previous_Election_won=%{y}<extra></extra>",
         "legendgroup": "Jago Party",
         "marker": {
          "color": "#00cc96",
          "symbol": "circle"
         },
         "mode": "markers",
         "name": "Jago Party",
         "orientation": "v",
         "showlegend": true,
         "type": "scatter",
         "x": [
          "Nagaland"
         ],
         "xaxis": "x",
         "y": [
          0
         ],
         "yaxis": "y"
        },
        {
         "hovertemplate": "Party=Jai Bharat Samanta Party<br>State=%{x}<br>Previous_Election_won=%{y}<extra></extra>",
         "legendgroup": "Jai Bharat Samanta Party",
         "marker": {
          "color": "#ab63fa",
          "symbol": "circle"
         },
         "mode": "markers",
         "name": "Jai Bharat Samanta Party",
         "orientation": "v",
         "showlegend": true,
         "type": "scatter",
         "x": [
          "NCT OF Delhi"
         ],
         "xaxis": "x",
         "y": [
          4
         ],
         "yaxis": "y"
        },
        {
         "hovertemplate": "Party=Jai Hind Party<br>State=%{x}<br>Previous_Election_won=%{y}<extra></extra>",
         "legendgroup": "Jai Hind Party",
         "marker": {
          "color": "#FFA15A",
          "symbol": "circle"
         },
         "mode": "markers",
         "name": "Jai Hind Party",
         "orientation": "v",
         "showlegend": true,
         "type": "scatter",
         "x": [
          "Odisha"
         ],
         "xaxis": "x",
         "y": [
          0
         ],
         "yaxis": "y"
        },
        {
         "hovertemplate": "Party=Jai Hind Samaj Party<br>State=%{x}<br>Previous_Election_won=%{y}<extra></extra>",
         "legendgroup": "Jai Hind Samaj Party",
         "marker": {
          "color": "#19d3f3",
          "symbol": "circle"
         },
         "mode": "markers",
         "name": "Jai Hind Samaj Party",
         "orientation": "v",
         "showlegend": true,
         "type": "scatter",
         "x": [
          "Puducherry"
         ],
         "xaxis": "x",
         "y": [
          0
         ],
         "yaxis": "y"
        },
        {
         "hovertemplate": "Party=Jai Maha Bharath Party<br>State=%{x}<br>Previous_Election_won=%{y}<extra></extra>",
         "legendgroup": "Jai Maha Bharath Party",
         "marker": {
          "color": "#FF6692",
          "symbol": "circle"
         },
         "mode": "markers",
         "name": "Jai Maha Bharath Party",
         "orientation": "v",
         "showlegend": true,
         "type": "scatter",
         "x": [
          "Punjab"
         ],
         "xaxis": "x",
         "y": [
          1
         ],
         "yaxis": "y"
        },
        {
         "hovertemplate": "Party=Jai Prakash Janata Dal<br>State=%{x}<br>Previous_Election_won=%{y}<extra></extra>",
         "legendgroup": "Jai Prakash Janata Dal",
         "marker": {
          "color": "#B6E880",
          "symbol": "circle"
         },
         "mode": "markers",
         "name": "Jai Prakash Janata Dal",
         "orientation": "v",
         "showlegend": true,
         "type": "scatter",
         "x": [
          "Rajasthan"
         ],
         "xaxis": "x",
         "y": [
          0
         ],
         "yaxis": "y"
        },
        {
         "hovertemplate": "Party=Jai Samaikyandhra Party<br>State=%{x}<br>Previous_Election_won=%{y}<extra></extra>",
         "legendgroup": "Jai Samaikyandhra Party",
         "marker": {
          "color": "#FF97FF",
          "symbol": "circle"
         },
         "mode": "markers",
         "name": "Jai Samaikyandhra Party",
         "orientation": "v",
         "showlegend": true,
         "type": "scatter",
         "x": [
          "Sikkim"
         ],
         "xaxis": "x",
         "y": [
          4
         ],
         "yaxis": "y"
        },
        {
         "hovertemplate": "Party=Jai Vijaya Bharathi Party<br>State=%{x}<br>Previous_Election_won=%{y}<extra></extra>",
         "legendgroup": "Jai Vijaya Bharathi Party",
         "marker": {
          "color": "#FECB52",
          "symbol": "circle"
         },
         "mode": "markers",
         "name": "Jai Vijaya Bharathi Party",
         "orientation": "v",
         "showlegend": true,
         "type": "scatter",
         "x": [
          "Tamil Nadu"
         ],
         "xaxis": "x",
         "y": [
          0
         ],
         "yaxis": "y"
        },
        {
         "hovertemplate": "Party=Jamat-E-Seratul Mustakim<br>State=%{x}<br>Previous_Election_won=%{y}<extra></extra>",
         "legendgroup": "Jamat-E-Seratul Mustakim",
         "marker": {
          "color": "#636efa",
          "symbol": "circle"
         },
         "mode": "markers",
         "name": "Jamat-E-Seratul Mustakim",
         "orientation": "v",
         "showlegend": true,
         "type": "scatter",
         "x": [
          "Tripura"
         ],
         "xaxis": "x",
         "y": [
          0
         ],
         "yaxis": "y"
        },
        {
         "hovertemplate": "Party=Jammu & Kashmir People Conference<br>State=%{x}<br>Previous_Election_won=%{y}<extra></extra>",
         "legendgroup": "Jammu & Kashmir People Conference",
         "marker": {
          "color": "#EF553B",
          "symbol": "circle"
         },
         "mode": "markers",
         "name": "Jammu & Kashmir People Conference",
         "orientation": "v",
         "showlegend": true,
         "type": "scatter",
         "x": [
          "Uttar Pradesh"
         ],
         "xaxis": "x",
         "y": [
          1
         ],
         "yaxis": "y"
        },
        {
         "hovertemplate": "Party=Jan Morcha<br>State=%{x}<br>Previous_Election_won=%{y}<extra></extra>",
         "legendgroup": "Jan Morcha",
         "marker": {
          "color": "#00cc96",
          "symbol": "circle"
         },
         "mode": "markers",
         "name": "Jan Morcha",
         "orientation": "v",
         "showlegend": true,
         "type": "scatter",
         "x": [
          "Uttarakhand"
         ],
         "xaxis": "x",
         "y": [
          0
         ],
         "yaxis": "y"
        },
        {
         "hovertemplate": "Party=Jan Raajya Party<br>State=%{x}<br>Previous_Election_won=%{y}<extra></extra>",
         "legendgroup": "Jan Raajya Party",
         "marker": {
          "color": "#ab63fa",
          "symbol": "circle"
         },
         "mode": "markers",
         "name": "Jan Raajya Party",
         "orientation": "v",
         "showlegend": true,
         "type": "scatter",
         "x": [
          "West Bengal"
         ],
         "xaxis": "x",
         "y": [
          0
         ],
         "yaxis": "y"
        },
        {
         "hovertemplate": "Party=Jan Raksha Party<br>State=%{x}<br>Previous_Election_won=%{y}<extra></extra>",
         "legendgroup": "Jan Raksha Party",
         "marker": {
          "color": "#FFA15A",
          "symbol": "circle"
         },
         "mode": "markers",
         "name": "Jan Raksha Party",
         "orientation": "v",
         "showlegend": true,
         "type": "scatter",
         "x": [
          "Himachal Pradesh"
         ],
         "xaxis": "x",
         "y": [
          0
         ],
         "yaxis": "y"
        },
        {
         "hovertemplate": "Party=Jan Samanta Party<br>State=%{x}<br>Previous_Election_won=%{y}<extra></extra>",
         "legendgroup": "Jan Samanta Party",
         "marker": {
          "color": "#19d3f3",
          "symbol": "circle"
         },
         "mode": "markers",
         "name": "Jan Samanta Party",
         "orientation": "v",
         "showlegend": true,
         "type": "scatter",
         "x": [
          "Jammu & Kashmir"
         ],
         "xaxis": "x",
         "y": [
          0
         ],
         "yaxis": "y"
        },
        {
         "hovertemplate": "Party=Jan Sevak Party<br>State=%{x}<br>Previous_Election_won=%{y}<extra></extra>",
         "legendgroup": "Jan Sevak Party",
         "marker": {
          "color": "#FF6692",
          "symbol": "circle"
         },
         "mode": "markers",
         "name": "Jan Sevak Party",
         "orientation": "v",
         "showlegend": true,
         "type": "scatter",
         "x": [
          "Jharkhand"
         ],
         "xaxis": "x",
         "y": [
          0
         ],
         "yaxis": "y"
        },
        {
         "hovertemplate": "Party=Jan Shakti Ekta Party<br>State=%{x}<br>Previous_Election_won=%{y}<extra></extra>",
         "legendgroup": "Jan Shakti Ekta Party",
         "marker": {
          "color": "#B6E880",
          "symbol": "circle"
         },
         "mode": "markers",
         "name": "Jan Shakti Ekta Party",
         "orientation": "v",
         "showlegend": true,
         "type": "scatter",
         "x": [
          "Karnataka"
         ],
         "xaxis": "x",
         "y": [
          0
         ],
         "yaxis": "y"
        },
        {
         "hovertemplate": "Party=Jan-Nyay Dal<br>State=%{x}<br>Previous_Election_won=%{y}<extra></extra>",
         "legendgroup": "Jan-Nyay Dal",
         "marker": {
          "color": "#FF97FF",
          "symbol": "circle"
         },
         "mode": "markers",
         "name": "Jan-Nyay Dal",
         "orientation": "v",
         "showlegend": true,
         "type": "scatter",
         "x": [
          "Kerala"
         ],
         "xaxis": "x",
         "y": [
          0
         ],
         "yaxis": "y"
        },
        {
         "hovertemplate": "Party=Janral Samaj Party<br>State=%{x}<br>Previous_Election_won=%{y}<extra></extra>",
         "legendgroup": "Janral Samaj Party",
         "marker": {
          "color": "#FECB52",
          "symbol": "circle"
         },
         "mode": "markers",
         "name": "Janral Samaj Party",
         "orientation": "v",
         "showlegend": true,
         "type": "scatter",
         "x": [
          "Lakshadweep"
         ],
         "xaxis": "x",
         "y": [
          0
         ],
         "yaxis": "y"
        },
        {
         "hovertemplate": "Party=Janta Dal Rashtravadi<br>State=%{x}<br>Previous_Election_won=%{y}<extra></extra>",
         "legendgroup": "Janta Dal Rashtravadi",
         "marker": {
          "color": "#636efa",
          "symbol": "circle"
         },
         "mode": "markers",
         "name": "Janta Dal Rashtravadi",
         "orientation": "v",
         "showlegend": true,
         "type": "scatter",
         "x": [
          "Madhya Pradesh"
         ],
         "xaxis": "x",
         "y": [
          1
         ],
         "yaxis": "y"
        },
        {
         "hovertemplate": "Party=Janta Raj Party<br>State=%{x}<br>Previous_Election_won=%{y}<extra></extra>",
         "legendgroup": "Janta Raj Party",
         "marker": {
          "color": "#EF553B",
          "symbol": "circle"
         },
         "mode": "markers",
         "name": "Janta Raj Party",
         "orientation": "v",
         "showlegend": true,
         "type": "scatter",
         "x": [
          "Maharashtra"
         ],
         "xaxis": "x",
         "y": [
          0
         ],
         "yaxis": "y"
        },
        {
         "hovertemplate": "Party=Jantantra Party<br>State=%{x}<br>Previous_Election_won=%{y}<extra></extra>",
         "legendgroup": "Jantantra Party",
         "marker": {
          "color": "#00cc96",
          "symbol": "circle"
         },
         "mode": "markers",
         "name": "Jantantra Party",
         "orientation": "v",
         "showlegend": true,
         "type": "scatter",
         "x": [
          "Manipur"
         ],
         "xaxis": "x",
         "y": [
          0
         ],
         "yaxis": "y"
        },
        {
         "hovertemplate": "Party=Janvadi Party(Socialist)<br>State=%{x}<br>Previous_Election_won=%{y}<extra></extra>",
         "legendgroup": "Janvadi Party(Socialist)",
         "marker": {
          "color": "#ab63fa",
          "symbol": "circle"
         },
         "mode": "markers",
         "name": "Janvadi Party(Socialist)",
         "orientation": "v",
         "showlegend": true,
         "type": "scatter",
         "x": [
          "Meghalaya"
         ],
         "xaxis": "x",
         "y": [
          1
         ],
         "yaxis": "y"
        },
        {
         "hovertemplate": "Party=Jawan Kisan Morcha<br>State=%{x}<br>Previous_Election_won=%{y}<extra></extra>",
         "legendgroup": "Jawan Kisan Morcha",
         "marker": {
          "color": "#FFA15A",
          "symbol": "circle"
         },
         "mode": "markers",
         "name": "Jawan Kisan Morcha",
         "orientation": "v",
         "showlegend": true,
         "type": "scatter",
         "x": [
          "Mizoram"
         ],
         "xaxis": "x",
         "y": [
          0
         ],
         "yaxis": "y"
        },
        {
         "hovertemplate": "Party=Jebamani Janata<br>State=%{x}<br>Previous_Election_won=%{y}<extra></extra>",
         "legendgroup": "Jebamani Janata",
         "marker": {
          "color": "#19d3f3",
          "symbol": "circle"
         },
         "mode": "markers",
         "name": "Jebamani Janata",
         "orientation": "v",
         "showlegend": true,
         "type": "scatter",
         "x": [
          "Nagaland"
         ],
         "xaxis": "x",
         "y": [
          0
         ],
         "yaxis": "y"
        },
        {
         "hovertemplate": "Party=Jharkhand Anushilan Party<br>State=%{x}<br>Previous_Election_won=%{y}<extra></extra>",
         "legendgroup": "Jharkhand Anushilan Party",
         "marker": {
          "color": "#FF6692",
          "symbol": "circle"
         },
         "mode": "markers",
         "name": "Jharkhand Anushilan Party",
         "orientation": "v",
         "showlegend": true,
         "type": "scatter",
         "x": [
          "NCT OF Delhi"
         ],
         "xaxis": "x",
         "y": [
          0
         ],
         "yaxis": "y"
        },
        {
         "hovertemplate": "Party=Jharkhand Disom Party<br>State=%{x}<br>Previous_Election_won=%{y}<extra></extra>",
         "legendgroup": "Jharkhand Disom Party",
         "marker": {
          "color": "#B6E880",
          "symbol": "circle"
         },
         "mode": "markers",
         "name": "Jharkhand Disom Party",
         "orientation": "v",
         "showlegend": true,
         "type": "scatter",
         "x": [
          "Odisha"
         ],
         "xaxis": "x",
         "y": [
          2
         ],
         "yaxis": "y"
        },
        {
         "hovertemplate": "Party=Jharkhand Mukti Morcha  (Ulgulan)<br>State=%{x}<br>Previous_Election_won=%{y}<extra></extra>",
         "legendgroup": "Jharkhand Mukti Morcha  (Ulgulan)",
         "marker": {
          "color": "#FF97FF",
          "symbol": "circle"
         },
         "mode": "markers",
         "name": "Jharkhand Mukti Morcha  (Ulgulan)",
         "orientation": "v",
         "showlegend": true,
         "type": "scatter",
         "x": [
          "Puducherry"
         ],
         "xaxis": "x",
         "y": [
          0
         ],
         "yaxis": "y"
        },
        {
         "hovertemplate": "Party=Jharkhand Party<br>State=%{x}<br>Previous_Election_won=%{y}<extra></extra>",
         "legendgroup": "Jharkhand Party",
         "marker": {
          "color": "#FECB52",
          "symbol": "circle"
         },
         "mode": "markers",
         "name": "Jharkhand Party",
         "orientation": "v",
         "showlegend": true,
         "type": "scatter",
         "x": [
          "Punjab"
         ],
         "xaxis": "x",
         "y": [
          4
         ],
         "yaxis": "y"
        },
        {
         "hovertemplate": "Party=Jharkhand Party  (Naren)<br>State=%{x}<br>Previous_Election_won=%{y}<extra></extra>",
         "legendgroup": "Jharkhand Party  (Naren)",
         "marker": {
          "color": "#636efa",
          "symbol": "circle"
         },
         "mode": "markers",
         "name": "Jharkhand Party  (Naren)",
         "orientation": "v",
         "showlegend": true,
         "type": "scatter",
         "x": [
          "Rajasthan"
         ],
         "xaxis": "x",
         "y": [
          0
         ],
         "yaxis": "y"
        },
        {
         "hovertemplate": "Party=Jharkhand Vikas Dal<br>State=%{x}<br>Previous_Election_won=%{y}<extra></extra>",
         "legendgroup": "Jharkhand Vikas Dal",
         "marker": {
          "color": "#EF553B",
          "symbol": "circle"
         },
         "mode": "markers",
         "name": "Jharkhand Vikas Dal",
         "orientation": "v",
         "showlegend": true,
         "type": "scatter",
         "x": [
          "Sikkim"
         ],
         "xaxis": "x",
         "y": [
          0
         ],
         "yaxis": "y"
        },
        {
         "hovertemplate": "Party=Kalinga Sena<br>State=%{x}<br>Previous_Election_won=%{y}<extra></extra>",
         "legendgroup": "Kalinga Sena",
         "marker": {
          "color": "#00cc96",
          "symbol": "circle"
         },
         "mode": "markers",
         "name": "Kalinga Sena",
         "orientation": "v",
         "showlegend": true,
         "type": "scatter",
         "x": [
          "Tamil Nadu"
         ],
         "xaxis": "x",
         "y": [
          0
         ],
         "yaxis": "y"
        },
        {
         "hovertemplate": "Party=Kalyankari Jantantrik Party<br>State=%{x}<br>Previous_Election_won=%{y}<extra></extra>",
         "legendgroup": "Kalyankari Jantantrik Party",
         "marker": {
          "color": "#ab63fa",
          "symbol": "circle"
         },
         "mode": "markers",
         "name": "Kalyankari Jantantrik Party",
         "orientation": "v",
         "showlegend": true,
         "type": "scatter",
         "x": [
          "Tripura"
         ],
         "xaxis": "x",
         "y": [
          0
         ],
         "yaxis": "y"
        },
        {
         "hovertemplate": "Party=Kamarajar Deseeya Congress<br>State=%{x}<br>Previous_Election_won=%{y}<extra></extra>",
         "legendgroup": "Kamarajar Deseeya Congress",
         "marker": {
          "color": "#FFA15A",
          "symbol": "circle"
         },
         "mode": "markers",
         "name": "Kamarajar Deseeya Congress",
         "orientation": "v",
         "showlegend": true,
         "type": "scatter",
         "x": [
          "Uttar Pradesh"
         ],
         "xaxis": "x",
         "y": [
          0
         ],
         "yaxis": "y"
        },
        {
         "hovertemplate": "Party=Kannada Chalavali Vatal Paksha<br>State=%{x}<br>Previous_Election_won=%{y}<extra></extra>",
         "legendgroup": "Kannada Chalavali Vatal Paksha",
         "marker": {
          "color": "#19d3f3",
          "symbol": "circle"
         },
         "mode": "markers",
         "name": "Kannada Chalavali Vatal Paksha",
         "orientation": "v",
         "showlegend": true,
         "type": "scatter",
         "x": [
          "Uttarakhand"
         ],
         "xaxis": "x",
         "y": [
          0
         ],
         "yaxis": "y"
        },
        {
         "hovertemplate": "Party=Karunaadu Party<br>State=%{x}<br>Previous_Election_won=%{y}<extra></extra>",
         "legendgroup": "Karunaadu Party",
         "marker": {
          "color": "#FF6692",
          "symbol": "circle"
         },
         "mode": "markers",
         "name": "Karunaadu Party",
         "orientation": "v",
         "showlegend": true,
         "type": "scatter",
         "x": [
          "West Bengal"
         ],
         "xaxis": "x",
         "y": [
          1
         ],
         "yaxis": "y"
        },
        {
         "hovertemplate": "Party=Kisan Majdoor Berojgar Sangh<br>State=%{x}<br>Previous_Election_won=%{y}<extra></extra>",
         "legendgroup": "Kisan Majdoor Berojgar Sangh",
         "marker": {
          "color": "#B6E880",
          "symbol": "circle"
         },
         "mode": "markers",
         "name": "Kisan Majdoor Berojgar Sangh",
         "orientation": "v",
         "showlegend": true,
         "type": "scatter",
         "x": [
          "Andaman & Nicobar Islands"
         ],
         "xaxis": "x",
         "y": [
          0
         ],
         "yaxis": "y"
        },
        {
         "hovertemplate": "Party=Kosal Kranti Dal<br>State=%{x}<br>Previous_Election_won=%{y}<extra></extra>",
         "legendgroup": "Kosal Kranti Dal",
         "marker": {
          "color": "#FF97FF",
          "symbol": "circle"
         },
         "mode": "markers",
         "name": "Kosal Kranti Dal",
         "orientation": "v",
         "showlegend": true,
         "type": "scatter",
         "x": [
          "Andhra Pradesh"
         ],
         "xaxis": "x",
         "y": [
          0
         ],
         "yaxis": "y"
        },
        {
         "hovertemplate": "Party=Krantikari Vikas Dal<br>State=%{x}<br>Previous_Election_won=%{y}<extra></extra>",
         "legendgroup": "Krantikari Vikas Dal",
         "marker": {
          "color": "#FECB52",
          "symbol": "circle"
         },
         "mode": "markers",
         "name": "Krantikari Vikas Dal",
         "orientation": "v",
         "showlegend": true,
         "type": "scatter",
         "x": [
          "Arunachal Pradesh"
         ],
         "xaxis": "x",
         "y": [
          0
         ],
         "yaxis": "y"
        },
        {
         "hovertemplate": "Party=Labour Party of India (V.V. Prasad)<br>State=%{x}<br>Previous_Election_won=%{y}<extra></extra>",
         "legendgroup": "Labour Party of India (V.V. Prasad)",
         "marker": {
          "color": "#636efa",
          "symbol": "circle"
         },
         "mode": "markers",
         "name": "Labour Party of India (V.V. Prasad)",
         "orientation": "v",
         "showlegend": true,
         "type": "scatter",
         "x": [
          "Assam"
         ],
         "xaxis": "x",
         "y": [
          0
         ],
         "yaxis": "y"
        },
        {
         "hovertemplate": "Party=Lok Bharati<br>State=%{x}<br>Previous_Election_won=%{y}<extra></extra>",
         "legendgroup": "Lok Bharati",
         "marker": {
          "color": "#EF553B",
          "symbol": "circle"
         },
         "mode": "markers",
         "name": "Lok Bharati",
         "orientation": "v",
         "showlegend": true,
         "type": "scatter",
         "x": [
          "Bihar"
         ],
         "xaxis": "x",
         "y": [
          0
         ],
         "yaxis": "y"
        },
        {
         "hovertemplate": "Party=Lok Dal<br>State=%{x}<br>Previous_Election_won=%{y}<extra></extra>",
         "legendgroup": "Lok Dal",
         "marker": {
          "color": "#00cc96",
          "symbol": "circle"
         },
         "mode": "markers",
         "name": "Lok Dal",
         "orientation": "v",
         "showlegend": true,
         "type": "scatter",
         "x": [
          "Chandigarh"
         ],
         "xaxis": "x",
         "y": [
          1
         ],
         "yaxis": "y"
        },
        {
         "hovertemplate": "Party=Lok Parivartan Party(DC)<br>State=%{x}<br>Previous_Election_won=%{y}<extra></extra>",
         "legendgroup": "Lok Parivartan Party(DC)",
         "marker": {
          "color": "#ab63fa",
          "symbol": "circle"
         },
         "mode": "markers",
         "name": "Lok Parivartan Party(DC)",
         "orientation": "v",
         "showlegend": true,
         "type": "scatter",
         "x": [
          "Chhattisgarh"
         ],
         "xaxis": "x",
         "y": [
          0
         ],
         "yaxis": "y"
        },
        {
         "hovertemplate": "Party=Lok Satta Party<br>State=%{x}<br>Previous_Election_won=%{y}<extra></extra>",
         "legendgroup": "Lok Satta Party",
         "marker": {
          "color": "#FFA15A",
          "symbol": "circle"
         },
         "mode": "markers",
         "name": "Lok Satta Party",
         "orientation": "v",
         "showlegend": true,
         "type": "scatter",
         "x": [
          "Dadra & Nagar Haveli"
         ],
         "xaxis": "x",
         "y": [
          3
         ],
         "yaxis": "y"
        },
        {
         "hovertemplate": "Party=Lok Shakti<br>State=%{x}<br>Previous_Election_won=%{y}<extra></extra>",
         "legendgroup": "Lok Shakti",
         "marker": {
          "color": "#19d3f3",
          "symbol": "circle"
         },
         "mode": "markers",
         "name": "Lok Shakti",
         "orientation": "v",
         "showlegend": true,
         "type": "scatter",
         "x": [
          "Daman & Diu"
         ],
         "xaxis": "x",
         "y": [
          0
         ],
         "yaxis": "y"
        },
        {
         "hovertemplate": "Party=Lokpriya Samaj Party<br>State=%{x}<br>Previous_Election_won=%{y}<extra></extra>",
         "legendgroup": "Lokpriya Samaj Party",
         "marker": {
          "color": "#FF6692",
          "symbol": "circle"
         },
         "mode": "markers",
         "name": "Lokpriya Samaj Party",
         "orientation": "v",
         "showlegend": true,
         "type": "scatter",
         "x": [
          "Goa"
         ],
         "xaxis": "x",
         "y": [
          0
         ],
         "yaxis": "y"
        },
        {
         "hovertemplate": "Party=Loktantrik Janata Party (Secular)<br>State=%{x}<br>Previous_Election_won=%{y}<extra></extra>",
         "legendgroup": "Loktantrik Janata Party (Secular)",
         "marker": {
          "color": "#B6E880",
          "symbol": "circle"
         },
         "mode": "markers",
         "name": "Loktantrik Janata Party (Secular)",
         "orientation": "v",
         "showlegend": true,
         "type": "scatter",
         "x": [
          "Gujarat"
         ],
         "xaxis": "x",
         "y": [
          0
         ],
         "yaxis": "y"
        },
        {
         "hovertemplate": "Party=Loktantrik Rashrtavadi Party<br>State=%{x}<br>Previous_Election_won=%{y}<extra></extra>",
         "legendgroup": "Loktantrik Rashrtavadi Party",
         "marker": {
          "color": "#FF97FF",
          "symbol": "circle"
         },
         "mode": "markers",
         "name": "Loktantrik Rashrtavadi Party",
         "orientation": "v",
         "showlegend": true,
         "type": "scatter",
         "x": [
          "Haryana"
         ],
         "xaxis": "x",
         "y": [
          0
         ],
         "yaxis": "y"
        },
        {
         "hovertemplate": "Party=Loktantrik Samajwadi Party<br>State=%{x}<br>Previous_Election_won=%{y}<extra></extra>",
         "legendgroup": "Loktantrik Samajwadi Party",
         "marker": {
          "color": "#FECB52",
          "symbol": "circle"
         },
         "mode": "markers",
         "name": "Loktantrik Samajwadi Party",
         "orientation": "v",
         "showlegend": true,
         "type": "scatter",
         "x": [
          "Himachal Pradesh"
         ],
         "xaxis": "x",
         "y": [
          0
         ],
         "yaxis": "y"
        },
        {
         "hovertemplate": "Party=Mahajana Socialist Party<br>State=%{x}<br>Previous_Election_won=%{y}<extra></extra>",
         "legendgroup": "Mahajana Socialist Party",
         "marker": {
          "color": "#636efa",
          "symbol": "circle"
         },
         "mode": "markers",
         "name": "Mahajana Socialist Party",
         "orientation": "v",
         "showlegend": true,
         "type": "scatter",
         "x": [
          "Jammu & Kashmir"
         ],
         "xaxis": "x",
         "y": [
          0
         ],
         "yaxis": "y"
        },
        {
         "hovertemplate": "Party=Mahamukti Dal<br>State=%{x}<br>Previous_Election_won=%{y}<extra></extra>",
         "legendgroup": "Mahamukti Dal",
         "marker": {
          "color": "#EF553B",
          "symbol": "circle"
         },
         "mode": "markers",
         "name": "Mahamukti Dal",
         "orientation": "v",
         "showlegend": true,
         "type": "scatter",
         "x": [
          "Jharkhand"
         ],
         "xaxis": "x",
         "y": [
          0
         ],
         "yaxis": "y"
        },
        {
         "hovertemplate": "Party=Mahan Dal<br>State=%{x}<br>Previous_Election_won=%{y}<extra></extra>",
         "legendgroup": "Mahan Dal",
         "marker": {
          "color": "#00cc96",
          "symbol": "circle"
         },
         "mode": "markers",
         "name": "Mahan Dal",
         "orientation": "v",
         "showlegend": true,
         "type": "scatter",
         "x": [
          "Karnataka"
         ],
         "xaxis": "x",
         "y": [
          0
         ],
         "yaxis": "y"
        },
        {
         "hovertemplate": "Party=Mahanwadi Party<br>State=%{x}<br>Previous_Election_won=%{y}<extra></extra>",
         "legendgroup": "Mahanwadi Party",
         "marker": {
          "color": "#ab63fa",
          "symbol": "circle"
         },
         "mode": "markers",
         "name": "Mahanwadi Party",
         "orientation": "v",
         "showlegend": true,
         "type": "scatter",
         "x": [
          "Kerala"
         ],
         "xaxis": "x",
         "y": [
          0
         ],
         "yaxis": "y"
        },
        {
         "hovertemplate": "Party=Maharashtra Parivartan Sena (T)<br>State=%{x}<br>Previous_Election_won=%{y}<extra></extra>",
         "legendgroup": "Maharashtra Parivartan Sena (T)",
         "marker": {
          "color": "#FFA15A",
          "symbol": "circle"
         },
         "mode": "markers",
         "name": "Maharashtra Parivartan Sena (T)",
         "orientation": "v",
         "showlegend": true,
         "type": "scatter",
         "x": [
          "Lakshadweep"
         ],
         "xaxis": "x",
         "y": [
          0
         ],
         "yaxis": "y"
        },
        {
         "hovertemplate": "Party=Maharashtra Vikas Aghadi<br>State=%{x}<br>Previous_Election_won=%{y}<extra></extra>",
         "legendgroup": "Maharashtra Vikas Aghadi",
         "marker": {
          "color": "#19d3f3",
          "symbol": "circle"
         },
         "mode": "markers",
         "name": "Maharashtra Vikas Aghadi",
         "orientation": "v",
         "showlegend": true,
         "type": "scatter",
         "x": [
          "Madhya Pradesh"
         ],
         "xaxis": "x",
         "y": [
          0
         ],
         "yaxis": "y"
        },
        {
         "hovertemplate": "Party=Mahila Swabhiman Party<br>State=%{x}<br>Previous_Election_won=%{y}<extra></extra>",
         "legendgroup": "Mahila Swabhiman Party",
         "marker": {
          "color": "#FF6692",
          "symbol": "circle"
         },
         "mode": "markers",
         "name": "Mahila Swabhiman Party",
         "orientation": "v",
         "showlegend": true,
         "type": "scatter",
         "x": [
          "Andaman & Nicobar Islands"
         ],
         "xaxis": "x",
         "y": [
          0
         ],
         "yaxis": "y"
        },
        {
         "hovertemplate": "Party=Majdoor Kisan Union Party<br>State=%{x}<br>Previous_Election_won=%{y}<extra></extra>",
         "legendgroup": "Majdoor Kisan Union Party",
         "marker": {
          "color": "#B6E880",
          "symbol": "circle"
         },
         "mode": "markers",
         "name": "Majdoor Kisan Union Party",
         "orientation": "v",
         "showlegend": true,
         "type": "scatter",
         "x": [
          "Andhra Pradesh"
         ],
         "xaxis": "x",
         "y": [
          0
         ],
         "yaxis": "y"
        },
        {
         "hovertemplate": "Party=Majlis Bachao Tahreek<br>State=%{x}<br>Previous_Election_won=%{y}<extra></extra>",
         "legendgroup": "Majlis Bachao Tahreek",
         "marker": {
          "color": "#FF97FF",
          "symbol": "circle"
         },
         "mode": "markers",
         "name": "Majlis Bachao Tahreek",
         "orientation": "v",
         "showlegend": true,
         "type": "scatter",
         "x": [
          "Arunachal Pradesh"
         ],
         "xaxis": "x",
         "y": [
          0
         ],
         "yaxis": "y"
        },
        {
         "hovertemplate": "Party=Majlis Markaz-e-Siyasee Party<br>State=%{x}<br>Previous_Election_won=%{y}<extra></extra>",
         "legendgroup": "Majlis Markaz-e-Siyasee Party",
         "marker": {
          "color": "#FECB52",
          "symbol": "circle"
         },
         "mode": "markers",
         "name": "Majlis Markaz-e-Siyasee Party",
         "orientation": "v",
         "showlegend": true,
         "type": "scatter",
         "x": [
          "Assam"
         ],
         "xaxis": "x",
         "y": [
          0
         ],
         "yaxis": "y"
        },
        {
         "hovertemplate": "Party=Makkal Manadu Katchi<br>State=%{x}<br>Previous_Election_won=%{y}<extra></extra>",
         "legendgroup": "Makkal Manadu Katchi",
         "marker": {
          "color": "#636efa",
          "symbol": "circle"
         },
         "mode": "markers",
         "name": "Makkal Manadu Katchi",
         "orientation": "v",
         "showlegend": true,
         "type": "scatter",
         "x": [
          "Bihar"
         ],
         "xaxis": "x",
         "y": [
          0
         ],
         "yaxis": "y"
        },
        {
         "hovertemplate": "Party=Manav Mukti Morcha<br>State=%{x}<br>Previous_Election_won=%{y}<extra></extra>",
         "legendgroup": "Manav Mukti Morcha",
         "marker": {
          "color": "#EF553B",
          "symbol": "circle"
         },
         "mode": "markers",
         "name": "Manav Mukti Morcha",
         "orientation": "v",
         "showlegend": true,
         "type": "scatter",
         "x": [
          "Chandigarh"
         ],
         "xaxis": "x",
         "y": [
          0
         ],
         "yaxis": "y"
        },
        {
         "hovertemplate": "Party=Manavadhikar Janshakti Party<br>State=%{x}<br>Previous_Election_won=%{y}<extra></extra>",
         "legendgroup": "Manavadhikar Janshakti Party",
         "marker": {
          "color": "#00cc96",
          "symbol": "circle"
         },
         "mode": "markers",
         "name": "Manavadhikar Janshakti Party",
         "orientation": "v",
         "showlegend": true,
         "type": "scatter",
         "x": [
          "Chhattisgarh"
         ],
         "xaxis": "x",
         "y": [
          0
         ],
         "yaxis": "y"
        },
        {
         "hovertemplate": "Party=Manavtawadi Samaj Party<br>State=%{x}<br>Previous_Election_won=%{y}<extra></extra>",
         "legendgroup": "Manavtawadi Samaj Party",
         "marker": {
          "color": "#ab63fa",
          "symbol": "circle"
         },
         "mode": "markers",
         "name": "Manavtawadi Samaj Party",
         "orientation": "v",
         "showlegend": true,
         "type": "scatter",
         "x": [
          "Dadra & Nagar Haveli"
         ],
         "xaxis": "x",
         "y": [
          0
         ],
         "yaxis": "y"
        },
        {
         "hovertemplate": "Party=Manipur Democratic Peoples's Front<br>State=%{x}<br>Previous_Election_won=%{y}<extra></extra>",
         "legendgroup": "Manipur Democratic Peoples's Front",
         "marker": {
          "color": "#FFA15A",
          "symbol": "circle"
         },
         "mode": "markers",
         "name": "Manipur Democratic Peoples's Front",
         "orientation": "v",
         "showlegend": true,
         "type": "scatter",
         "x": [
          "Daman & Diu"
         ],
         "xaxis": "x",
         "y": [
          0
         ],
         "yaxis": "y"
        },
        {
         "hovertemplate": "Party=Manithaneya Makkal Katchi<br>State=%{x}<br>Previous_Election_won=%{y}<extra></extra>",
         "legendgroup": "Manithaneya Makkal Katchi",
         "marker": {
          "color": "#19d3f3",
          "symbol": "circle"
         },
         "mode": "markers",
         "name": "Manithaneya Makkal Katchi",
         "orientation": "v",
         "showlegend": true,
         "type": "scatter",
         "x": [
          "Goa"
         ],
         "xaxis": "x",
         "y": [
          4
         ],
         "yaxis": "y"
        },
        {
         "hovertemplate": "Party=Marumalarchi Dravida Munnetra Kazhagam<br>State=%{x}<br>Previous_Election_won=%{y}<extra></extra>",
         "legendgroup": "Marumalarchi Dravida Munnetra Kazhagam",
         "marker": {
          "color": "#FF6692",
          "symbol": "circle"
         },
         "mode": "markers",
         "name": "Marumalarchi Dravida Munnetra Kazhagam",
         "orientation": "v",
         "showlegend": true,
         "type": "scatter",
         "x": [
          "Gujarat"
         ],
         "xaxis": "x",
         "y": [
          26
         ],
         "yaxis": "y"
        },
        {
         "hovertemplate": "Party=Marxist Co-Ordination<br>State=%{x}<br>Previous_Election_won=%{y}<extra></extra>",
         "legendgroup": "Marxist Co-Ordination",
         "marker": {
          "color": "#B6E880",
          "symbol": "circle"
         },
         "mode": "markers",
         "name": "Marxist Co-Ordination",
         "orientation": "v",
         "showlegend": true,
         "type": "scatter",
         "x": [
          "Haryana"
         ],
         "xaxis": "x",
         "y": [
          2
         ],
         "yaxis": "y"
        },
        {
         "hovertemplate": "Party=Marxist Communist Party of India (United)<br>State=%{x}<br>Previous_Election_won=%{y}<extra></extra>",
         "legendgroup": "Marxist Communist Party of India (United)",
         "marker": {
          "color": "#FF97FF",
          "symbol": "circle"
         },
         "mode": "markers",
         "name": "Marxist Communist Party of India (United)",
         "orientation": "v",
         "showlegend": true,
         "type": "scatter",
         "x": [
          "Himachal Pradesh"
         ],
         "xaxis": "x",
         "y": [
          0
         ],
         "yaxis": "y"
        },
        {
         "hovertemplate": "Party=Megh Desham Party<br>State=%{x}<br>Previous_Election_won=%{y}<extra></extra>",
         "legendgroup": "Megh Desham Party",
         "marker": {
          "color": "#FECB52",
          "symbol": "circle"
         },
         "mode": "markers",
         "name": "Megh Desham Party",
         "orientation": "v",
         "showlegend": true,
         "type": "scatter",
         "x": [
          "Jammu & Kashmir"
         ],
         "xaxis": "x",
         "y": [
          0
         ],
         "yaxis": "y"
        },
        {
         "hovertemplate": "Party=Minorities Democratic Party<br>State=%{x}<br>Previous_Election_won=%{y}<extra></extra>",
         "legendgroup": "Minorities Democratic Party",
         "marker": {
          "color": "#636efa",
          "symbol": "circle"
         },
         "mode": "markers",
         "name": "Minorities Democratic Party",
         "orientation": "v",
         "showlegend": true,
         "type": "scatter",
         "x": [
          "Jharkhand"
         ],
         "xaxis": "x",
         "y": [
          0
         ],
         "yaxis": "y"
        },
        {
         "hovertemplate": "Party=Moderate Party<br>State=%{x}<br>Previous_Election_won=%{y}<extra></extra>",
         "legendgroup": "Moderate Party",
         "marker": {
          "color": "#EF553B",
          "symbol": "circle"
         },
         "mode": "markers",
         "name": "Moderate Party",
         "orientation": "v",
         "showlegend": true,
         "type": "scatter",
         "x": [
          "Karnataka"
         ],
         "xaxis": "x",
         "y": [
          0
         ],
         "yaxis": "y"
        },
        {
         "hovertemplate": "Party=Moolniwasi Samaj Party<br>State=%{x}<br>Previous_Election_won=%{y}<extra></extra>",
         "legendgroup": "Moolniwasi Samaj Party",
         "marker": {
          "color": "#00cc96",
          "symbol": "circle"
         },
         "mode": "markers",
         "name": "Moolniwasi Samaj Party",
         "orientation": "v",
         "showlegend": true,
         "type": "scatter",
         "x": [
          "Kerala"
         ],
         "xaxis": "x",
         "y": [
          0
         ],
         "yaxis": "y"
        },
        {
         "hovertemplate": "Party=Most Backward Classes Of India<br>State=%{x}<br>Previous_Election_won=%{y}<extra></extra>",
         "legendgroup": "Most Backward Classes Of India",
         "marker": {
          "color": "#ab63fa",
          "symbol": "circle"
         },
         "mode": "markers",
         "name": "Most Backward Classes Of India",
         "orientation": "v",
         "showlegend": true,
         "type": "scatter",
         "x": [
          "Lakshadweep"
         ],
         "xaxis": "x",
         "y": [
          0
         ],
         "yaxis": "y"
        },
        {
         "hovertemplate": "Party=Moulik Adhikar Party<br>State=%{x}<br>Previous_Election_won=%{y}<extra></extra>",
         "legendgroup": "Moulik Adhikar Party",
         "marker": {
          "color": "#FFA15A",
          "symbol": "circle"
         },
         "mode": "markers",
         "name": "Moulik Adhikar Party",
         "orientation": "v",
         "showlegend": true,
         "type": "scatter",
         "x": [
          "Madhya Pradesh"
         ],
         "xaxis": "x",
         "y": [
          0
         ],
         "yaxis": "y"
        },
        {
         "hovertemplate": "Party=Nagrik Ekta Party<br>State=%{x}<br>Previous_Election_won=%{y}<extra></extra>",
         "legendgroup": "Nagrik Ekta Party",
         "marker": {
          "color": "#19d3f3",
          "symbol": "circle"
         },
         "mode": "markers",
         "name": "Nagrik Ekta Party",
         "orientation": "v",
         "showlegend": true,
         "type": "scatter",
         "x": [
          "Andaman & Nicobar Islands"
         ],
         "xaxis": "x",
         "y": [
          0
         ],
         "yaxis": "y"
        },
        {
         "hovertemplate": "Party=Naitik Party<br>State=%{x}<br>Previous_Election_won=%{y}<extra></extra>",
         "legendgroup": "Naitik Party",
         "marker": {
          "color": "#FF6692",
          "symbol": "circle"
         },
         "mode": "markers",
         "name": "Naitik Party",
         "orientation": "v",
         "showlegend": true,
         "type": "scatter",
         "x": [
          "Andhra Pradesh"
         ],
         "xaxis": "x",
         "y": [
          1
         ],
         "yaxis": "y"
        },
        {
         "hovertemplate": "Party=Namadhu Makkal Katchi<br>State=%{x}<br>Previous_Election_won=%{y}<extra></extra>",
         "legendgroup": "Namadhu Makkal Katchi",
         "marker": {
          "color": "#B6E880",
          "symbol": "circle"
         },
         "mode": "markers",
         "name": "Namadhu Makkal Katchi",
         "orientation": "v",
         "showlegend": true,
         "type": "scatter",
         "x": [
          "Arunachal Pradesh"
         ],
         "xaxis": "x",
         "y": [
          0
         ],
         "yaxis": "y"
        },
        {
         "hovertemplate": "Party=Narayani Sena<br>State=%{x}<br>Previous_Election_won=%{y}<extra></extra>",
         "legendgroup": "Narayani Sena",
         "marker": {
          "color": "#FF97FF",
          "symbol": "circle"
         },
         "mode": "markers",
         "name": "Narayani Sena",
         "orientation": "v",
         "showlegend": true,
         "type": "scatter",
         "x": [
          "Assam"
         ],
         "xaxis": "x",
         "y": [
          0
         ],
         "yaxis": "y"
        },
        {
         "hovertemplate": "Party=National Development Party<br>State=%{x}<br>Previous_Election_won=%{y}<extra></extra>",
         "legendgroup": "National Development Party",
         "marker": {
          "color": "#FECB52",
          "symbol": "circle"
         },
         "mode": "markers",
         "name": "National Development Party",
         "orientation": "v",
         "showlegend": true,
         "type": "scatter",
         "x": [
          "Bihar"
         ],
         "xaxis": "x",
         "y": [
          0
         ],
         "yaxis": "y"
        },
        {
         "hovertemplate": "Party=National Janhit Congress (AB)<br>State=%{x}<br>Previous_Election_won=%{y}<extra></extra>",
         "legendgroup": "National Janhit Congress (AB)",
         "marker": {
          "color": "#636efa",
          "symbol": "circle"
         },
         "mode": "markers",
         "name": "National Janhit Congress (AB)",
         "orientation": "v",
         "showlegend": true,
         "type": "scatter",
         "x": [
          "Chandigarh"
         ],
         "xaxis": "x",
         "y": [
          0
         ],
         "yaxis": "y"
        },
        {
         "hovertemplate": "Party=National Lokmat Party<br>State=%{x}<br>Previous_Election_won=%{y}<extra></extra>",
         "legendgroup": "National Lokmat Party",
         "marker": {
          "color": "#EF553B",
          "symbol": "circle"
         },
         "mode": "markers",
         "name": "National Lokmat Party",
         "orientation": "v",
         "showlegend": true,
         "type": "scatter",
         "x": [
          "Chhattisgarh"
         ],
         "xaxis": "x",
         "y": [
          0
         ],
         "yaxis": "y"
        },
        {
         "hovertemplate": "Party=National Loktantrik Party<br>State=%{x}<br>Previous_Election_won=%{y}<extra></extra>",
         "legendgroup": "National Loktantrik Party",
         "marker": {
          "color": "#00cc96",
          "symbol": "circle"
         },
         "mode": "markers",
         "name": "National Loktantrik Party",
         "orientation": "v",
         "showlegend": true,
         "type": "scatter",
         "x": [
          "Dadra & Nagar Haveli"
         ],
         "xaxis": "x",
         "y": [
          0
         ],
         "yaxis": "y"
        },
        {
         "hovertemplate": "Party=National Organisation Congress<br>State=%{x}<br>Previous_Election_won=%{y}<extra></extra>",
         "legendgroup": "National Organisation Congress",
         "marker": {
          "color": "#ab63fa",
          "symbol": "circle"
         },
         "mode": "markers",
         "name": "National Organisation Congress",
         "orientation": "v",
         "showlegend": true,
         "type": "scatter",
         "x": [
          "Daman & Diu"
         ],
         "xaxis": "x",
         "y": [
          0
         ],
         "yaxis": "y"
        },
        {
         "hovertemplate": "Party=National Party<br>State=%{x}<br>Previous_Election_won=%{y}<extra></extra>",
         "legendgroup": "National Party",
         "marker": {
          "color": "#FFA15A",
          "symbol": "circle"
         },
         "mode": "markers",
         "name": "National Party",
         "orientation": "v",
         "showlegend": true,
         "type": "scatter",
         "x": [
          "Goa"
         ],
         "xaxis": "x",
         "y": [
          0
         ],
         "yaxis": "y"
        },
        {
         "hovertemplate": "Party=National Tiger Party<br>State=%{x}<br>Previous_Election_won=%{y}<extra></extra>",
         "legendgroup": "National Tiger Party",
         "marker": {
          "color": "#19d3f3",
          "symbol": "circle"
         },
         "mode": "markers",
         "name": "National Tiger Party",
         "orientation": "v",
         "showlegend": true,
         "type": "scatter",
         "x": [
          "Gujarat"
         ],
         "xaxis": "x",
         "y": [
          0
         ],
         "yaxis": "y"
        },
        {
         "hovertemplate": "Party=National Unionist Zamindara Party<br>State=%{x}<br>Previous_Election_won=%{y}<extra></extra>",
         "legendgroup": "National Unionist Zamindara Party",
         "marker": {
          "color": "#FF6692",
          "symbol": "circle"
         },
         "mode": "markers",
         "name": "National Unionist Zamindara Party",
         "orientation": "v",
         "showlegend": true,
         "type": "scatter",
         "x": [
          "Haryana"
         ],
         "xaxis": "x",
         "y": [
          2
         ],
         "yaxis": "y"
        },
        {
         "hovertemplate": "Party=National Youth Party<br>State=%{x}<br>Previous_Election_won=%{y}<extra></extra>",
         "legendgroup": "National Youth Party",
         "marker": {
          "color": "#B6E880",
          "symbol": "circle"
         },
         "mode": "markers",
         "name": "National Youth Party",
         "orientation": "v",
         "showlegend": true,
         "type": "scatter",
         "x": [
          "Himachal Pradesh"
         ],
         "xaxis": "x",
         "y": [
          0
         ],
         "yaxis": "y"
        },
        {
         "hovertemplate": "Party=Nav Bharat Democratic Party<br>State=%{x}<br>Previous_Election_won=%{y}<extra></extra>",
         "legendgroup": "Nav Bharat Democratic Party",
         "marker": {
          "color": "#FF97FF",
          "symbol": "circle"
         },
         "mode": "markers",
         "name": "Nav Bharat Democratic Party",
         "orientation": "v",
         "showlegend": true,
         "type": "scatter",
         "x": [
          "Jammu & Kashmir"
         ],
         "xaxis": "x",
         "y": [
          0
         ],
         "yaxis": "y"
        },
        {
         "hovertemplate": "Party=Nava Bharat National Party<br>State=%{x}<br>Previous_Election_won=%{y}<extra></extra>",
         "legendgroup": "Nava Bharat National Party",
         "marker": {
          "color": "#FECB52",
          "symbol": "circle"
         },
         "mode": "markers",
         "name": "Nava Bharat National Party",
         "orientation": "v",
         "showlegend": true,
         "type": "scatter",
         "x": [
          "Jharkhand"
         ],
         "xaxis": "x",
         "y": [
          0
         ],
         "yaxis": "y"
        },
        {
         "hovertemplate": "Party=Navbharat Nirman Party<br>State=%{x}<br>Previous_Election_won=%{y}<extra></extra>",
         "legendgroup": "Navbharat Nirman Party",
         "marker": {
          "color": "#636efa",
          "symbol": "circle"
         },
         "mode": "markers",
         "name": "Navbharat Nirman Party",
         "orientation": "v",
         "showlegend": true,
         "type": "scatter",
         "x": [
          "Karnataka"
         ],
         "xaxis": "x",
         "y": [
          0
         ],
         "yaxis": "y"
        },
        {
         "hovertemplate": "Party=Navodyam Party<br>State=%{x}<br>Previous_Election_won=%{y}<extra></extra>",
         "legendgroup": "Navodyam Party",
         "marker": {
          "color": "#EF553B",
          "symbol": "circle"
         },
         "mode": "markers",
         "name": "Navodyam Party",
         "orientation": "v",
         "showlegend": true,
         "type": "scatter",
         "x": [
          "Kerala"
         ],
         "xaxis": "x",
         "y": [
          0
         ],
         "yaxis": "y"
        },
        {
         "hovertemplate": "Party=Naya Daur Party<br>State=%{x}<br>Previous_Election_won=%{y}<extra></extra>",
         "legendgroup": "Naya Daur Party",
         "marker": {
          "color": "#00cc96",
          "symbol": "circle"
         },
         "mode": "markers",
         "name": "Naya Daur Party",
         "orientation": "v",
         "showlegend": true,
         "type": "scatter",
         "x": [
          "Lakshadweep"
         ],
         "xaxis": "x",
         "y": [
          0
         ],
         "yaxis": "y"
        },
        {
         "hovertemplate": "Party=Nehru Janhit Congress<br>State=%{x}<br>Previous_Election_won=%{y}<extra></extra>",
         "legendgroup": "Nehru Janhit Congress",
         "marker": {
          "color": "#ab63fa",
          "symbol": "circle"
         },
         "mode": "markers",
         "name": "Nehru Janhit Congress",
         "orientation": "v",
         "showlegend": true,
         "type": "scatter",
         "x": [
          "Madhya Pradesh"
         ],
         "xaxis": "x",
         "y": [
          0
         ],
         "yaxis": "y"
        },
        {
         "hovertemplate": "Party=New All India Congress Party<br>State=%{x}<br>Previous_Election_won=%{y}<extra></extra>",
         "legendgroup": "New All India Congress Party",
         "marker": {
          "color": "#FFA15A",
          "symbol": "circle"
         },
         "mode": "markers",
         "name": "New All India Congress Party",
         "orientation": "v",
         "showlegend": true,
         "type": "scatter",
         "x": [
          "Andaman & Nicobar Islands"
         ],
         "xaxis": "x",
         "y": [
          0
         ],
         "yaxis": "y"
        },
        {
         "hovertemplate": "Party=New India Party<br>State=%{x}<br>Previous_Election_won=%{y}<extra></extra>",
         "legendgroup": "New India Party",
         "marker": {
          "color": "#19d3f3",
          "symbol": "circle"
         },
         "mode": "markers",
         "name": "New India Party",
         "orientation": "v",
         "showlegend": true,
         "type": "scatter",
         "x": [
          "Andhra Pradesh"
         ],
         "xaxis": "x",
         "y": [
          0
         ],
         "yaxis": "y"
        },
        {
         "hovertemplate": "Party=Nirjatita Samaj Biplabi Party<br>State=%{x}<br>Previous_Election_won=%{y}<extra></extra>",
         "legendgroup": "Nirjatita Samaj Biplabi Party",
         "marker": {
          "color": "#FF6692",
          "symbol": "circle"
         },
         "mode": "markers",
         "name": "Nirjatita Samaj Biplabi Party",
         "orientation": "v",
         "showlegend": true,
         "type": "scatter",
         "x": [
          "Arunachal Pradesh"
         ],
         "xaxis": "x",
         "y": [
          0
         ],
         "yaxis": "y"
        },
        {
         "hovertemplate": "Party=Odisha Jan Morcha<br>State=%{x}<br>Previous_Election_won=%{y}<extra></extra>",
         "legendgroup": "Odisha Jan Morcha",
         "marker": {
          "color": "#B6E880",
          "symbol": "circle"
         },
         "mode": "markers",
         "name": "Odisha Jan Morcha",
         "orientation": "v",
         "showlegend": true,
         "type": "scatter",
         "x": [
          "Assam"
         ],
         "xaxis": "x",
         "y": [
          1
         ],
         "yaxis": "y"
        },
        {
         "hovertemplate": "Party=Parcham Party of India<br>State=%{x}<br>Previous_Election_won=%{y}<extra></extra>",
         "legendgroup": "Parcham Party of India",
         "marker": {
          "color": "#FF97FF",
          "symbol": "circle"
         },
         "mode": "markers",
         "name": "Parcham Party of India",
         "orientation": "v",
         "showlegend": true,
         "type": "scatter",
         "x": [
          "Bihar"
         ],
         "xaxis": "x",
         "y": [
          0
         ],
         "yaxis": "y"
        },
        {
         "hovertemplate": "Party=Parivartan Samaj Party<br>State=%{x}<br>Previous_Election_won=%{y}<extra></extra>",
         "legendgroup": "Parivartan Samaj Party",
         "marker": {
          "color": "#FECB52",
          "symbol": "circle"
         },
         "mode": "markers",
         "name": "Parivartan Samaj Party",
         "orientation": "v",
         "showlegend": true,
         "type": "scatter",
         "x": [
          "Chandigarh"
         ],
         "xaxis": "x",
         "y": [
          0
         ],
         "yaxis": "y"
        },
        {
         "hovertemplate": "Party=Party for Democratic Socialism<br>State=%{x}<br>Previous_Election_won=%{y}<extra></extra>",
         "legendgroup": "Party for Democratic Socialism",
         "marker": {
          "color": "#636efa",
          "symbol": "circle"
         },
         "mode": "markers",
         "name": "Party for Democratic Socialism",
         "orientation": "v",
         "showlegend": true,
         "type": "scatter",
         "x": [
          "Chhattisgarh"
         ],
         "xaxis": "x",
         "y": [
          0
         ],
         "yaxis": "y"
        },
        {
         "hovertemplate": "Party=Paschimanchal Vikas Party<br>State=%{x}<br>Previous_Election_won=%{y}<extra></extra>",
         "legendgroup": "Paschimanchal Vikas Party",
         "marker": {
          "color": "#EF553B",
          "symbol": "circle"
         },
         "mode": "markers",
         "name": "Paschimanchal Vikas Party",
         "orientation": "v",
         "showlegend": true,
         "type": "scatter",
         "x": [
          "Dadra & Nagar Haveli"
         ],
         "xaxis": "x",
         "y": [
          1
         ],
         "yaxis": "y"
        },
        {
         "hovertemplate": "Party=Peace Party<br>State=%{x}<br>Previous_Election_won=%{y}<extra></extra>",
         "legendgroup": "Peace Party",
         "marker": {
          "color": "#00cc96",
          "symbol": "circle"
         },
         "mode": "markers",
         "name": "Peace Party",
         "orientation": "v",
         "showlegend": true,
         "type": "scatter",
         "x": [
          "Daman & Diu"
         ],
         "xaxis": "x",
         "y": [
          9
         ],
         "yaxis": "y"
        },
        {
         "hovertemplate": "Party=Peasants And Workers Party of India<br>State=%{x}<br>Previous_Election_won=%{y}<extra></extra>",
         "legendgroup": "Peasants And Workers Party of India",
         "marker": {
          "color": "#ab63fa",
          "symbol": "circle"
         },
         "mode": "markers",
         "name": "Peasants And Workers Party of India",
         "orientation": "v",
         "showlegend": true,
         "type": "scatter",
         "x": [
          "Goa"
         ],
         "xaxis": "x",
         "y": [
          9
         ],
         "yaxis": "y"
        },
        {
         "hovertemplate": "Party=People's Party of India(secular)<br>State=%{x}<br>Previous_Election_won=%{y}<extra></extra>",
         "legendgroup": "People's Party of India(secular)",
         "marker": {
          "color": "#FFA15A",
          "symbol": "circle"
         },
         "mode": "markers",
         "name": "People's Party of India(secular)",
         "orientation": "v",
         "showlegend": true,
         "type": "scatter",
         "x": [
          "Gujarat"
         ],
         "xaxis": "x",
         "y": [
          0
         ],
         "yaxis": "y"
        },
        {
         "hovertemplate": "Party=Peoples Guardian<br>State=%{x}<br>Previous_Election_won=%{y}<extra></extra>",
         "legendgroup": "Peoples Guardian",
         "marker": {
          "color": "#19d3f3",
          "symbol": "circle"
         },
         "mode": "markers",
         "name": "Peoples Guardian",
         "orientation": "v",
         "showlegend": true,
         "type": "scatter",
         "x": [
          "Haryana"
         ],
         "xaxis": "x",
         "y": [
          0
         ],
         "yaxis": "y"
        },
        {
         "hovertemplate": "Party=Poorvanchal Rashtriya Congress<br>State=%{x}<br>Previous_Election_won=%{y}<extra></extra>",
         "legendgroup": "Poorvanchal Rashtriya Congress",
         "marker": {
          "color": "#FF6692",
          "symbol": "circle"
         },
         "mode": "markers",
         "name": "Poorvanchal Rashtriya Congress",
         "orientation": "v",
         "showlegend": true,
         "type": "scatter",
         "x": [
          "Himachal Pradesh"
         ],
         "xaxis": "x",
         "y": [
          0
         ],
         "yaxis": "y"
        },
        {
         "hovertemplate": "Party=Prabuddha Republican Party<br>State=%{x}<br>Previous_Election_won=%{y}<extra></extra>",
         "legendgroup": "Prabuddha Republican Party",
         "marker": {
          "color": "#B6E880",
          "symbol": "circle"
         },
         "mode": "markers",
         "name": "Prabuddha Republican Party",
         "orientation": "v",
         "showlegend": true,
         "type": "scatter",
         "x": [
          "Jammu & Kashmir"
         ],
         "xaxis": "x",
         "y": [
          0
         ],
         "yaxis": "y"
        },
        {
         "hovertemplate": "Party=Pragatisheel Magahi Samaj<br>State=%{x}<br>Previous_Election_won=%{y}<extra></extra>",
         "legendgroup": "Pragatisheel Magahi Samaj",
         "marker": {
          "color": "#FF97FF",
          "symbol": "circle"
         },
         "mode": "markers",
         "name": "Pragatisheel Magahi Samaj",
         "orientation": "v",
         "showlegend": true,
         "type": "scatter",
         "x": [
          "Jharkhand"
         ],
         "xaxis": "x",
         "y": [
          0
         ],
         "yaxis": "y"
        },
        {
         "hovertemplate": "Party=Pragatisheel Manav Samaj Party<br>State=%{x}<br>Previous_Election_won=%{y}<extra></extra>",
         "legendgroup": "Pragatisheel Manav Samaj Party",
         "marker": {
          "color": "#FECB52",
          "symbol": "circle"
         },
         "mode": "markers",
         "name": "Pragatisheel Manav Samaj Party",
         "orientation": "v",
         "showlegend": true,
         "type": "scatter",
         "x": [
          "Karnataka"
         ],
         "xaxis": "x",
         "y": [
          1
         ],
         "yaxis": "y"
        },
        {
         "hovertemplate": "Party=Pragatisheel Samaj Party<br>State=%{x}<br>Previous_Election_won=%{y}<extra></extra>",
         "legendgroup": "Pragatisheel Samaj Party",
         "marker": {
          "color": "#636efa",
          "symbol": "circle"
         },
         "mode": "markers",
         "name": "Pragatisheel Samaj Party",
         "orientation": "v",
         "showlegend": true,
         "type": "scatter",
         "x": [
          "Kerala"
         ],
         "xaxis": "x",
         "y": [
          0
         ],
         "yaxis": "y"
        },
        {
         "hovertemplate": "Party=Prajatantra Aadhar Party<br>State=%{x}<br>Previous_Election_won=%{y}<extra></extra>",
         "legendgroup": "Prajatantra Aadhar Party",
         "marker": {
          "color": "#EF553B",
          "symbol": "circle"
         },
         "mode": "markers",
         "name": "Prajatantra Aadhar Party",
         "orientation": "v",
         "showlegend": true,
         "type": "scatter",
         "x": [
          "Lakshadweep"
         ],
         "xaxis": "x",
         "y": [
          0
         ],
         "yaxis": "y"
        },
        {
         "hovertemplate": "Party=Prajatantrik Samadhan Party<br>State=%{x}<br>Previous_Election_won=%{y}<extra></extra>",
         "legendgroup": "Prajatantrik Samadhan Party",
         "marker": {
          "color": "#00cc96",
          "symbol": "circle"
         },
         "mode": "markers",
         "name": "Prajatantrik Samadhan Party",
         "orientation": "v",
         "showlegend": true,
         "type": "scatter",
         "x": [
          "Madhya Pradesh"
         ],
         "xaxis": "x",
         "y": [
          0
         ],
         "yaxis": "y"
        },
        {
         "hovertemplate": "Party=Prem Janata Dal<br>State=%{x}<br>Previous_Election_won=%{y}<extra></extra>",
         "legendgroup": "Prem Janata Dal",
         "marker": {
          "color": "#ab63fa",
          "symbol": "circle"
         },
         "mode": "markers",
         "name": "Prem Janata Dal",
         "orientation": "v",
         "showlegend": true,
         "type": "scatter",
         "x": [
          "Andaman & Nicobar Islands"
         ],
         "xaxis": "x",
         "y": [
          1
         ],
         "yaxis": "y"
        },
        {
         "hovertemplate": "Party=Prism<br>State=%{x}<br>Previous_Election_won=%{y}<extra></extra>",
         "legendgroup": "Prism",
         "marker": {
          "color": "#FFA15A",
          "symbol": "circle"
         },
         "mode": "markers",
         "name": "Prism",
         "orientation": "v",
         "showlegend": true,
         "type": "scatter",
         "x": [
          "Andhra Pradesh"
         ],
         "xaxis": "x",
         "y": [
          0
         ],
         "yaxis": "y"
        },
        {
         "hovertemplate": "Party=Proutist Bloc, India<br>State=%{x}<br>Previous_Election_won=%{y}<extra></extra>",
         "legendgroup": "Proutist Bloc, India",
         "marker": {
          "color": "#19d3f3",
          "symbol": "circle"
         },
         "mode": "markers",
         "name": "Proutist Bloc, India",
         "orientation": "v",
         "showlegend": true,
         "type": "scatter",
         "x": [
          "Arunachal Pradesh"
         ],
         "xaxis": "x",
         "y": [
          0
         ],
         "yaxis": "y"
        },
        {
         "hovertemplate": "Party=Proutist Sarva Samaj<br>State=%{x}<br>Previous_Election_won=%{y}<extra></extra>",
         "legendgroup": "Proutist Sarva Samaj",
         "marker": {
          "color": "#FF6692",
          "symbol": "circle"
         },
         "mode": "markers",
         "name": "Proutist Sarva Samaj",
         "orientation": "v",
         "showlegend": true,
         "type": "scatter",
         "x": [
          "Assam"
         ],
         "xaxis": "x",
         "y": [
          0
         ],
         "yaxis": "y"
        },
        {
         "hovertemplate": "Party=Punjab Labour Party<br>State=%{x}<br>Previous_Election_won=%{y}<extra></extra>",
         "legendgroup": "Punjab Labour Party",
         "marker": {
          "color": "#B6E880",
          "symbol": "circle"
         },
         "mode": "markers",
         "name": "Punjab Labour Party",
         "orientation": "v",
         "showlegend": true,
         "type": "scatter",
         "x": [
          "Bihar"
         ],
         "xaxis": "x",
         "y": [
          0
         ],
         "yaxis": "y"
        },
        {
         "hovertemplate": "Party=Puthiya Tamilagam<br>State=%{x}<br>Previous_Election_won=%{y}<extra></extra>",
         "legendgroup": "Puthiya Tamilagam",
         "marker": {
          "color": "#FF97FF",
          "symbol": "circle"
         },
         "mode": "markers",
         "name": "Puthiya Tamilagam",
         "orientation": "v",
         "showlegend": true,
         "type": "scatter",
         "x": [
          "Chandigarh"
         ],
         "xaxis": "x",
         "y": [
          5
         ],
         "yaxis": "y"
        },
        {
         "hovertemplate": "Party=Pyramid Party of India<br>State=%{x}<br>Previous_Election_won=%{y}<extra></extra>",
         "legendgroup": "Pyramid Party of India",
         "marker": {
          "color": "#FECB52",
          "symbol": "circle"
         },
         "mode": "markers",
         "name": "Pyramid Party of India",
         "orientation": "v",
         "showlegend": true,
         "type": "scatter",
         "x": [
          "Chhattisgarh"
         ],
         "xaxis": "x",
         "y": [
          3
         ],
         "yaxis": "y"
        },
        {
         "hovertemplate": "Party=Qaumi Ekta Dal<br>State=%{x}<br>Previous_Election_won=%{y}<extra></extra>",
         "legendgroup": "Qaumi Ekta Dal",
         "marker": {
          "color": "#636efa",
          "symbol": "circle"
         },
         "mode": "markers",
         "name": "Qaumi Ekta Dal",
         "orientation": "v",
         "showlegend": true,
         "type": "scatter",
         "x": [
          "Dadra & Nagar Haveli"
         ],
         "xaxis": "x",
         "y": [
          6
         ],
         "yaxis": "y"
        },
        {
         "hovertemplate": "Party=Rajasthan Vikas Party<br>State=%{x}<br>Previous_Election_won=%{y}<extra></extra>",
         "legendgroup": "Rajasthan Vikas Party",
         "marker": {
          "color": "#EF553B",
          "symbol": "circle"
         },
         "mode": "markers",
         "name": "Rajasthan Vikas Party",
         "orientation": "v",
         "showlegend": true,
         "type": "scatter",
         "x": [
          "Daman & Diu"
         ],
         "xaxis": "x",
         "y": [
          0
         ],
         "yaxis": "y"
        },
        {
         "hovertemplate": "Party=Rajnaitik Vikalp Party<br>State=%{x}<br>Previous_Election_won=%{y}<extra></extra>",
         "legendgroup": "Rajnaitik Vikalp Party",
         "marker": {
          "color": "#00cc96",
          "symbol": "circle"
         },
         "mode": "markers",
         "name": "Rajnaitik Vikalp Party",
         "orientation": "v",
         "showlegend": true,
         "type": "scatter",
         "x": [
          "Goa"
         ],
         "xaxis": "x",
         "y": [
          1
         ],
         "yaxis": "y"
        },
        {
         "hovertemplate": "Party=Rajyadhikara Party<br>State=%{x}<br>Previous_Election_won=%{y}<extra></extra>",
         "legendgroup": "Rajyadhikara Party",
         "marker": {
          "color": "#ab63fa",
          "symbol": "circle"
         },
         "mode": "markers",
         "name": "Rajyadhikara Party",
         "orientation": "v",
         "showlegend": true,
         "type": "scatter",
         "x": [
          "Gujarat"
         ],
         "xaxis": "x",
         "y": [
          0
         ],
         "yaxis": "y"
        },
        {
         "hovertemplate": "Party=Rani Chennamma Party<br>State=%{x}<br>Previous_Election_won=%{y}<extra></extra>",
         "legendgroup": "Rani Chennamma Party",
         "marker": {
          "color": "#FFA15A",
          "symbol": "circle"
         },
         "mode": "markers",
         "name": "Rani Chennamma Party",
         "orientation": "v",
         "showlegend": true,
         "type": "scatter",
         "x": [
          "Haryana"
         ],
         "xaxis": "x",
         "y": [
          0
         ],
         "yaxis": "y"
        },
        {
         "hovertemplate": "Party=Rashtra Sewa Dal<br>State=%{x}<br>Previous_Election_won=%{y}<extra></extra>",
         "legendgroup": "Rashtra Sewa Dal",
         "marker": {
          "color": "#19d3f3",
          "symbol": "circle"
         },
         "mode": "markers",
         "name": "Rashtra Sewa Dal",
         "orientation": "v",
         "showlegend": true,
         "type": "scatter",
         "x": [
          "Himachal Pradesh"
         ],
         "xaxis": "x",
         "y": [
          0
         ],
         "yaxis": "y"
        },
        {
         "hovertemplate": "Party=Rashtravadi Janata Party<br>State=%{x}<br>Previous_Election_won=%{y}<extra></extra>",
         "legendgroup": "Rashtravadi Janata Party",
         "marker": {
          "color": "#FF6692",
          "symbol": "circle"
         },
         "mode": "markers",
         "name": "Rashtravadi Janata Party",
         "orientation": "v",
         "showlegend": true,
         "type": "scatter",
         "x": [
          "Jammu & Kashmir"
         ],
         "xaxis": "x",
         "y": [
          0
         ],
         "yaxis": "y"
        },
        {
         "hovertemplate": "Party=Rashtrawadi Parivartan Party (L.B,)<br>State=%{x}<br>Previous_Election_won=%{y}<extra></extra>",
         "legendgroup": "Rashtrawadi Parivartan Party (L.B,)",
         "marker": {
          "color": "#B6E880",
          "symbol": "circle"
         },
         "mode": "markers",
         "name": "Rashtrawadi Parivartan Party (L.B,)",
         "orientation": "v",
         "showlegend": true,
         "type": "scatter",
         "x": [
          "Jharkhand"
         ],
         "xaxis": "x",
         "y": [
          0
         ],
         "yaxis": "y"
        },
        {
         "hovertemplate": "Party=Rashtrawadi Samaj Party<br>State=%{x}<br>Previous_Election_won=%{y}<extra></extra>",
         "legendgroup": "Rashtrawadi Samaj Party",
         "marker": {
          "color": "#FF97FF",
          "symbol": "circle"
         },
         "mode": "markers",
         "name": "Rashtrawadi Samaj Party",
         "orientation": "v",
         "showlegend": true,
         "type": "scatter",
         "x": [
          "Karnataka"
         ],
         "xaxis": "x",
         "y": [
          0
         ],
         "yaxis": "y"
        },
        {
         "hovertemplate": "Party=Rashtriya Aam Party<br>State=%{x}<br>Previous_Election_won=%{y}<extra></extra>",
         "legendgroup": "Rashtriya Aam Party",
         "marker": {
          "color": "#FECB52",
          "symbol": "circle"
         },
         "mode": "markers",
         "name": "Rashtriya Aam Party",
         "orientation": "v",
         "showlegend": true,
         "type": "scatter",
         "x": [
          "Kerala"
         ],
         "xaxis": "x",
         "y": [
          0
         ],
         "yaxis": "y"
        },
        {
         "hovertemplate": "Party=Rashtriya Ahinsa Manch<br>State=%{x}<br>Previous_Election_won=%{y}<extra></extra>",
         "legendgroup": "Rashtriya Ahinsa Manch",
         "marker": {
          "color": "#636efa",
          "symbol": "circle"
         },
         "mode": "markers",
         "name": "Rashtriya Ahinsa Manch",
         "orientation": "v",
         "showlegend": true,
         "type": "scatter",
         "x": [
          "Lakshadweep"
         ],
         "xaxis": "x",
         "y": [
          0
         ],
         "yaxis": "y"
        },
        {
         "hovertemplate": "Party=Rashtriya Ambedkar Dal<br>State=%{x}<br>Previous_Election_won=%{y}<extra></extra>",
         "legendgroup": "Rashtriya Ambedkar Dal",
         "marker": {
          "color": "#EF553B",
          "symbol": "circle"
         },
         "mode": "markers",
         "name": "Rashtriya Ambedkar Dal",
         "orientation": "v",
         "showlegend": true,
         "type": "scatter",
         "x": [
          "Madhya Pradesh"
         ],
         "xaxis": "x",
         "y": [
          0
         ],
         "yaxis": "y"
        },
        {
         "hovertemplate": "Party=Rashtriya Apna Dal<br>State=%{x}<br>Previous_Election_won=%{y}<extra></extra>",
         "legendgroup": "Rashtriya Apna Dal",
         "marker": {
          "color": "#00cc96",
          "symbol": "circle"
         },
         "mode": "markers",
         "name": "Rashtriya Apna Dal",
         "orientation": "v",
         "showlegend": true,
         "type": "scatter",
         "x": [
          "Bihar"
         ],
         "xaxis": "x",
         "y": [
          0
         ],
         "yaxis": "y"
        },
        {
         "hovertemplate": "Party=Rashtriya Bahujan Congress Party<br>State=%{x}<br>Previous_Election_won=%{y}<extra></extra>",
         "legendgroup": "Rashtriya Bahujan Congress Party",
         "marker": {
          "color": "#ab63fa",
          "symbol": "circle"
         },
         "mode": "markers",
         "name": "Rashtriya Bahujan Congress Party",
         "orientation": "v",
         "showlegend": true,
         "type": "scatter",
         "x": [
          "Chandigarh"
         ],
         "xaxis": "x",
         "y": [
          0
         ],
         "yaxis": "y"
        },
        {
         "hovertemplate": "Party=Rashtriya Bahujan Hitay Party<br>State=%{x}<br>Previous_Election_won=%{y}<extra></extra>",
         "legendgroup": "Rashtriya Bahujan Hitay Party",
         "marker": {
          "color": "#FFA15A",
          "symbol": "circle"
         },
         "mode": "markers",
         "name": "Rashtriya Bahujan Hitay Party",
         "orientation": "v",
         "showlegend": true,
         "type": "scatter",
         "x": [
          "Chhattisgarh"
         ],
         "xaxis": "x",
         "y": [
          0
         ],
         "yaxis": "y"
        },
        {
         "hovertemplate": "Party=Rashtriya Bandhutwa Party<br>State=%{x}<br>Previous_Election_won=%{y}<extra></extra>",
         "legendgroup": "Rashtriya Bandhutwa Party",
         "marker": {
          "color": "#19d3f3",
          "symbol": "circle"
         },
         "mode": "markers",
         "name": "Rashtriya Bandhutwa Party",
         "orientation": "v",
         "showlegend": true,
         "type": "scatter",
         "x": [
          "Dadra & Nagar Haveli"
         ],
         "xaxis": "x",
         "y": [
          0
         ],
         "yaxis": "y"
        },
        {
         "hovertemplate": "Party=Rashtriya Congress (Babu Jagjivanram)<br>State=%{x}<br>Previous_Election_won=%{y}<extra></extra>",
         "legendgroup": "Rashtriya Congress (Babu Jagjivanram)",
         "marker": {
          "color": "#FF6692",
          "symbol": "circle"
         },
         "mode": "markers",
         "name": "Rashtriya Congress (Babu Jagjivanram)",
         "orientation": "v",
         "showlegend": true,
         "type": "scatter",
         "x": [
          "Daman & Diu"
         ],
         "xaxis": "x",
         "y": [
          0
         ],
         "yaxis": "y"
        },
        {
         "hovertemplate": "Party=Rashtriya Congress(J) Party<br>State=%{x}<br>Previous_Election_won=%{y}<extra></extra>",
         "legendgroup": "Rashtriya Congress(J) Party",
         "marker": {
          "color": "#B6E880",
          "symbol": "circle"
         },
         "mode": "markers",
         "name": "Rashtriya Congress(J) Party",
         "orientation": "v",
         "showlegend": true,
         "type": "scatter",
         "x": [
          "Goa"
         ],
         "xaxis": "x",
         "y": [
          0
         ],
         "yaxis": "y"
        },
        {
         "hovertemplate": "Party=Rashtriya Deshaj Party<br>State=%{x}<br>Previous_Election_won=%{y}<extra></extra>",
         "legendgroup": "Rashtriya Deshaj Party",
         "marker": {
          "color": "#FF97FF",
          "symbol": "circle"
         },
         "mode": "markers",
         "name": "Rashtriya Deshaj Party",
         "orientation": "v",
         "showlegend": true,
         "type": "scatter",
         "x": [
          "Gujarat"
         ],
         "xaxis": "x",
         "y": [
          1
         ],
         "yaxis": "y"
        },
        {
         "hovertemplate": "Party=Rashtriya Ekta Party<br>State=%{x}<br>Previous_Election_won=%{y}<extra></extra>",
         "legendgroup": "Rashtriya Ekta Party",
         "marker": {
          "color": "#FECB52",
          "symbol": "circle"
         },
         "mode": "markers",
         "name": "Rashtriya Ekta Party",
         "orientation": "v",
         "showlegend": true,
         "type": "scatter",
         "x": [
          "Haryana"
         ],
         "xaxis": "x",
         "y": [
          0
         ],
         "yaxis": "y"
        },
        {
         "hovertemplate": "Party=Rashtriya Garib Dal<br>State=%{x}<br>Previous_Election_won=%{y}<extra></extra>",
         "legendgroup": "Rashtriya Garib Dal",
         "marker": {
          "color": "#636efa",
          "symbol": "circle"
         },
         "mode": "markers",
         "name": "Rashtriya Garib Dal",
         "orientation": "v",
         "showlegend": true,
         "type": "scatter",
         "x": [
          "Himachal Pradesh"
         ],
         "xaxis": "x",
         "y": [
          0
         ],
         "yaxis": "y"
        },
        {
         "hovertemplate": "Party=Rashtriya Gondvana Party<br>State=%{x}<br>Previous_Election_won=%{y}<extra></extra>",
         "legendgroup": "Rashtriya Gondvana Party",
         "marker": {
          "color": "#EF553B",
          "symbol": "circle"
         },
         "mode": "markers",
         "name": "Rashtriya Gondvana Party",
         "orientation": "v",
         "showlegend": true,
         "type": "scatter",
         "x": [
          "Jammu & Kashmir"
         ],
         "xaxis": "x",
         "y": [
          0
         ],
         "yaxis": "y"
        },
        {
         "hovertemplate": "Party=Rashtriya Indepndent Morcha<br>State=%{x}<br>Previous_Election_won=%{y}<extra></extra>",
         "legendgroup": "Rashtriya Indepndent Morcha",
         "marker": {
          "color": "#00cc96",
          "symbol": "circle"
         },
         "mode": "markers",
         "name": "Rashtriya Indepndent Morcha",
         "orientation": "v",
         "showlegend": true,
         "type": "scatter",
         "x": [
          "Jharkhand"
         ],
         "xaxis": "x",
         "y": [
          0
         ],
         "yaxis": "y"
        },
        {
         "hovertemplate": "Party=Rashtriya Jan-Jagram Morcha<br>State=%{x}<br>Previous_Election_won=%{y}<extra></extra>",
         "legendgroup": "Rashtriya Jan-Jagram Morcha",
         "marker": {
          "color": "#ab63fa",
          "symbol": "circle"
         },
         "mode": "markers",
         "name": "Rashtriya Jan-Jagram Morcha",
         "orientation": "v",
         "showlegend": true,
         "type": "scatter",
         "x": [
          "Karnataka"
         ],
         "xaxis": "x",
         "y": [
          0
         ],
         "yaxis": "y"
        },
        {
         "hovertemplate": "Party=Rashtriya Janadhikar Party<br>State=%{x}<br>Previous_Election_won=%{y}<extra></extra>",
         "legendgroup": "Rashtriya Janadhikar Party",
         "marker": {
          "color": "#FFA15A",
          "symbol": "circle"
         },
         "mode": "markers",
         "name": "Rashtriya Janadhikar Party",
         "orientation": "v",
         "showlegend": true,
         "type": "scatter",
         "x": [
          "Kerala"
         ],
         "xaxis": "x",
         "y": [
          0
         ],
         "yaxis": "y"
        },
        {
         "hovertemplate": "Party=Rashtriya Janadhikar Suraksha Party<br>State=%{x}<br>Previous_Election_won=%{y}<extra></extra>",
         "legendgroup": "Rashtriya Janadhikar Suraksha Party",
         "marker": {
          "color": "#19d3f3",
          "symbol": "circle"
         },
         "mode": "markers",
         "name": "Rashtriya Janadhikar Suraksha Party",
         "orientation": "v",
         "showlegend": true,
         "type": "scatter",
         "x": [
          "Lakshadweep"
         ],
         "xaxis": "x",
         "y": [
          1
         ],
         "yaxis": "y"
        },
        {
         "hovertemplate": "Party=Rashtriya Janasachetan Party (R.J.P.)<br>State=%{x}<br>Previous_Election_won=%{y}<extra></extra>",
         "legendgroup": "Rashtriya Janasachetan Party (R.J.P.)",
         "marker": {
          "color": "#FF6692",
          "symbol": "circle"
         },
         "mode": "markers",
         "name": "Rashtriya Janasachetan Party (R.J.P.)",
         "orientation": "v",
         "showlegend": true,
         "type": "scatter",
         "x": [
          "Madhya Pradesh"
         ],
         "xaxis": "x",
         "y": [
          0
         ],
         "yaxis": "y"
        },
        {
         "hovertemplate": "Party=Rashtriya Jankranti Morcha<br>State=%{x}<br>Previous_Election_won=%{y}<extra></extra>",
         "legendgroup": "Rashtriya Jankranti Morcha",
         "marker": {
          "color": "#B6E880",
          "symbol": "circle"
         },
         "mode": "markers",
         "name": "Rashtriya Jankranti Morcha",
         "orientation": "v",
         "showlegend": true,
         "type": "scatter",
         "x": [
          "Maharashtra"
         ],
         "xaxis": "x",
         "y": [
          0
         ],
         "yaxis": "y"
        },
        {
         "hovertemplate": "Party=Rashtriya Jankranti Party<br>State=%{x}<br>Previous_Election_won=%{y}<extra></extra>",
         "legendgroup": "Rashtriya Jankranti Party",
         "marker": {
          "color": "#FF97FF",
          "symbol": "circle"
         },
         "mode": "markers",
         "name": "Rashtriya Jankranti Party",
         "orientation": "v",
         "showlegend": true,
         "type": "scatter",
         "x": [
          "Manipur"
         ],
         "xaxis": "x",
         "y": [
          0
         ],
         "yaxis": "y"
        },
        {
         "hovertemplate": "Party=Rashtriya Janmorcha<br>State=%{x}<br>Previous_Election_won=%{y}<extra></extra>",
         "legendgroup": "Rashtriya Janmorcha",
         "marker": {
          "color": "#FECB52",
          "symbol": "circle"
         },
         "mode": "markers",
         "name": "Rashtriya Janmorcha",
         "orientation": "v",
         "showlegend": true,
         "type": "scatter",
         "x": [
          "Meghalaya"
         ],
         "xaxis": "x",
         "y": [
          0
         ],
         "yaxis": "y"
        },
        {
         "hovertemplate": "Party=Rashtriya Janpriya Party<br>State=%{x}<br>Previous_Election_won=%{y}<extra></extra>",
         "legendgroup": "Rashtriya Janpriya Party",
         "marker": {
          "color": "#636efa",
          "symbol": "circle"
         },
         "mode": "markers",
         "name": "Rashtriya Janpriya Party",
         "orientation": "v",
         "showlegend": true,
         "type": "scatter",
         "x": [
          "Mizoram"
         ],
         "xaxis": "x",
         "y": [
          0
         ],
         "yaxis": "y"
        },
        {
         "hovertemplate": "Party=Rashtriya Janshakti Party(Eklavya)<br>State=%{x}<br>Previous_Election_won=%{y}<extra></extra>",
         "legendgroup": "Rashtriya Janshakti Party(Eklavya)",
         "marker": {
          "color": "#EF553B",
          "symbol": "circle"
         },
         "mode": "markers",
         "name": "Rashtriya Janshakti Party(Eklavya)",
         "orientation": "v",
         "showlegend": true,
         "type": "scatter",
         "x": [
          "Nagaland"
         ],
         "xaxis": "x",
         "y": [
          0
         ],
         "yaxis": "y"
        },
        {
         "hovertemplate": "Party=Rashtriya Janshanti Party<br>State=%{x}<br>Previous_Election_won=%{y}<extra></extra>",
         "legendgroup": "Rashtriya Janshanti Party",
         "marker": {
          "color": "#00cc96",
          "symbol": "circle"
         },
         "mode": "markers",
         "name": "Rashtriya Janshanti Party",
         "orientation": "v",
         "showlegend": true,
         "type": "scatter",
         "x": [
          "NCT OF Delhi"
         ],
         "xaxis": "x",
         "y": [
          0
         ],
         "yaxis": "y"
        },
        {
         "hovertemplate": "Party=Rashtriya Janta Party<br>State=%{x}<br>Previous_Election_won=%{y}<extra></extra>",
         "legendgroup": "Rashtriya Janta Party",
         "marker": {
          "color": "#ab63fa",
          "symbol": "circle"
         },
         "mode": "markers",
         "name": "Rashtriya Janta Party",
         "orientation": "v",
         "showlegend": true,
         "type": "scatter",
         "x": [
          "Odisha"
         ],
         "xaxis": "x",
         "y": [
          0
         ],
         "yaxis": "y"
        },
        {
         "hovertemplate": "Party=Rashtriya Janwadi Party (Krantikari)<br>State=%{x}<br>Previous_Election_won=%{y}<extra></extra>",
         "legendgroup": "Rashtriya Janwadi Party (Krantikari)",
         "marker": {
          "color": "#FFA15A",
          "symbol": "circle"
         },
         "mode": "markers",
         "name": "Rashtriya Janwadi Party (Krantikari)",
         "orientation": "v",
         "showlegend": true,
         "type": "scatter",
         "x": [
          "Puducherry"
         ],
         "xaxis": "x",
         "y": [
          0
         ],
         "yaxis": "y"
        },
        {
         "hovertemplate": "Party=Rashtriya Jatigat Aarakshan Virodhi Party<br>State=%{x}<br>Previous_Election_won=%{y}<extra></extra>",
         "legendgroup": "Rashtriya Jatigat Aarakshan Virodhi Party",
         "marker": {
          "color": "#19d3f3",
          "symbol": "circle"
         },
         "mode": "markers",
         "name": "Rashtriya Jatigat Aarakshan Virodhi Party",
         "orientation": "v",
         "showlegend": true,
         "type": "scatter",
         "x": [
          "Punjab"
         ],
         "xaxis": "x",
         "y": [
          0
         ],
         "yaxis": "y"
        },
        {
         "hovertemplate": "Party=Rashtriya Karmyog Party<br>State=%{x}<br>Previous_Election_won=%{y}<extra></extra>",
         "legendgroup": "Rashtriya Karmyog Party",
         "marker": {
          "color": "#FF6692",
          "symbol": "circle"
         },
         "mode": "markers",
         "name": "Rashtriya Karmyog Party",
         "orientation": "v",
         "showlegend": true,
         "type": "scatter",
         "x": [
          "Rajasthan"
         ],
         "xaxis": "x",
         "y": [
          0
         ],
         "yaxis": "y"
        },
        {
         "hovertemplate": "Party=Rashtriya Komi Ekta Party<br>State=%{x}<br>Previous_Election_won=%{y}<extra></extra>",
         "legendgroup": "Rashtriya Komi Ekta Party",
         "marker": {
          "color": "#B6E880",
          "symbol": "circle"
         },
         "mode": "markers",
         "name": "Rashtriya Komi Ekta Party",
         "orientation": "v",
         "showlegend": true,
         "type": "scatter",
         "x": [
          "Sikkim"
         ],
         "xaxis": "x",
         "y": [
          0
         ],
         "yaxis": "y"
        },
        {
         "hovertemplate": "Party=Rashtriya Kranti Party<br>State=%{x}<br>Previous_Election_won=%{y}<extra></extra>",
         "legendgroup": "Rashtriya Kranti Party",
         "marker": {
          "color": "#FF97FF",
          "symbol": "circle"
         },
         "mode": "markers",
         "name": "Rashtriya Kranti Party",
         "orientation": "v",
         "showlegend": true,
         "type": "scatter",
         "x": [
          "Tamil Nadu"
         ],
         "xaxis": "x",
         "y": [
          0
         ],
         "yaxis": "y"
        },
        {
         "hovertemplate": "Party=Rashtriya Krantikari Samajwadi Party<br>State=%{x}<br>Previous_Election_won=%{y}<extra></extra>",
         "legendgroup": "Rashtriya Krantikari Samajwadi Party",
         "marker": {
          "color": "#FECB52",
          "symbol": "circle"
         },
         "mode": "markers",
         "name": "Rashtriya Krantikari Samajwadi Party",
         "orientation": "v",
         "showlegend": true,
         "type": "scatter",
         "x": [
          "Tripura"
         ],
         "xaxis": "x",
         "y": [
          1
         ],
         "yaxis": "y"
        },
        {
         "hovertemplate": "Party=Rashtriya Lok Samta Party<br>State=%{x}<br>Previous_Election_won=%{y}<extra></extra>",
         "legendgroup": "Rashtriya Lok Samta Party",
         "marker": {
          "color": "#636efa",
          "symbol": "circle"
         },
         "mode": "markers",
         "name": "Rashtriya Lok Samta Party",
         "orientation": "v",
         "showlegend": true,
         "type": "scatter",
         "x": [
          "Uttar Pradesh"
         ],
         "xaxis": "x",
         "y": [
          16
         ],
         "yaxis": "y"
        },
        {
         "hovertemplate": "Party=Rashtriya mahan Gantantra Party<br>State=%{x}<br>Previous_Election_won=%{y}<extra></extra>",
         "legendgroup": "Rashtriya mahan Gantantra Party",
         "marker": {
          "color": "#EF553B",
          "symbol": "circle"
         },
         "mode": "markers",
         "name": "Rashtriya mahan Gantantra Party",
         "orientation": "v",
         "showlegend": true,
         "type": "scatter",
         "x": [
          "Uttarakhand"
         ],
         "xaxis": "x",
         "y": [
          0
         ],
         "yaxis": "y"
        },
        {
         "hovertemplate": "Party=Rashtriya Manav samman Party<br>State=%{x}<br>Previous_Election_won=%{y}<extra></extra>",
         "legendgroup": "Rashtriya Manav samman Party",
         "marker": {
          "color": "#00cc96",
          "symbol": "circle"
         },
         "mode": "markers",
         "name": "Rashtriya Manav samman Party",
         "orientation": "v",
         "showlegend": true,
         "type": "scatter",
         "x": [
          "West Bengal"
         ],
         "xaxis": "x",
         "y": [
          0
         ],
         "yaxis": "y"
        },
        {
         "hovertemplate": "Party=RASHTRIYA MORCHA PARTY<br>State=%{x}<br>Previous_Election_won=%{y}<extra></extra>",
         "legendgroup": "RASHTRIYA MORCHA PARTY",
         "marker": {
          "color": "#ab63fa",
          "symbol": "circle"
         },
         "mode": "markers",
         "name": "RASHTRIYA MORCHA PARTY",
         "orientation": "v",
         "showlegend": true,
         "type": "scatter",
         "x": [
          "Bihar"
         ],
         "xaxis": "x",
         "y": [
          0
         ],
         "yaxis": "y"
        },
        {
         "hovertemplate": "Party=Rashtriya Naujawan Dal<br>State=%{x}<br>Previous_Election_won=%{y}<extra></extra>",
         "legendgroup": "Rashtriya Naujawan Dal",
         "marker": {
          "color": "#FFA15A",
          "symbol": "circle"
         },
         "mode": "markers",
         "name": "Rashtriya Naujawan Dal",
         "orientation": "v",
         "showlegend": true,
         "type": "scatter",
         "x": [
          "Chandigarh"
         ],
         "xaxis": "x",
         "y": [
          0
         ],
         "yaxis": "y"
        },
        {
         "hovertemplate": "Party=Rashtriya Parivartan Dal<br>State=%{x}<br>Previous_Election_won=%{y}<extra></extra>",
         "legendgroup": "Rashtriya Parivartan Dal",
         "marker": {
          "color": "#19d3f3",
          "symbol": "circle"
         },
         "mode": "markers",
         "name": "Rashtriya Parivartan Dal",
         "orientation": "v",
         "showlegend": true,
         "type": "scatter",
         "x": [
          "Chhattisgarh"
         ],
         "xaxis": "x",
         "y": [
          2
         ],
         "yaxis": "y"
        },
        {
         "hovertemplate": "Party=Rashtriya Praja Congress  (Secular)<br>State=%{x}<br>Previous_Election_won=%{y}<extra></extra>",
         "legendgroup": "Rashtriya Praja Congress  (Secular)",
         "marker": {
          "color": "#FF6692",
          "symbol": "circle"
         },
         "mode": "markers",
         "name": "Rashtriya Praja Congress  (Secular)",
         "orientation": "v",
         "showlegend": true,
         "type": "scatter",
         "x": [
          "Dadra & Nagar Haveli"
         ],
         "xaxis": "x",
         "y": [
          0
         ],
         "yaxis": "y"
        },
        {
         "hovertemplate": "Party=Rashtriya Rashtrawadi Party<br>State=%{x}<br>Previous_Election_won=%{y}<extra></extra>",
         "legendgroup": "Rashtriya Rashtrawadi Party",
         "marker": {
          "color": "#B6E880",
          "symbol": "circle"
         },
         "mode": "markers",
         "name": "Rashtriya Rashtrawadi Party",
         "orientation": "v",
         "showlegend": true,
         "type": "scatter",
         "x": [
          "Daman & Diu"
         ],
         "xaxis": "x",
         "y": [
          0
         ],
         "yaxis": "y"
        },
        {
         "hovertemplate": "Party=Rashtriya Samaj Paksha<br>State=%{x}<br>Previous_Election_won=%{y}<extra></extra>",
         "legendgroup": "Rashtriya Samaj Paksha",
         "marker": {
          "color": "#FF97FF",
          "symbol": "circle"
         },
         "mode": "markers",
         "name": "Rashtriya Samaj Paksha",
         "orientation": "v",
         "showlegend": true,
         "type": "scatter",
         "x": [
          "Goa"
         ],
         "xaxis": "x",
         "y": [
          8
         ],
         "yaxis": "y"
        },
        {
         "hovertemplate": "Party=Rashtriya Samanta Dal<br>State=%{x}<br>Previous_Election_won=%{y}<extra></extra>",
         "legendgroup": "Rashtriya Samanta Dal",
         "marker": {
          "color": "#FECB52",
          "symbol": "circle"
         },
         "mode": "markers",
         "name": "Rashtriya Samanta Dal",
         "orientation": "v",
         "showlegend": true,
         "type": "scatter",
         "x": [
          "Gujarat"
         ],
         "xaxis": "x",
         "y": [
          1
         ],
         "yaxis": "y"
        },
        {
         "hovertemplate": "Party=Rashtriya Sant Sandesh Party<br>State=%{x}<br>Previous_Election_won=%{y}<extra></extra>",
         "legendgroup": "Rashtriya Sant Sandesh Party",
         "marker": {
          "color": "#636efa",
          "symbol": "circle"
         },
         "mode": "markers",
         "name": "Rashtriya Sant Sandesh Party",
         "orientation": "v",
         "showlegend": true,
         "type": "scatter",
         "x": [
          "Haryana"
         ],
         "xaxis": "x",
         "y": [
          0
         ],
         "yaxis": "y"
        },
        {
         "hovertemplate": "Party=Rashtriya Sarvajan Party<br>State=%{x}<br>Previous_Election_won=%{y}<extra></extra>",
         "legendgroup": "Rashtriya Sarvajan Party",
         "marker": {
          "color": "#EF553B",
          "symbol": "circle"
         },
         "mode": "markers",
         "name": "Rashtriya Sarvajan Party",
         "orientation": "v",
         "showlegend": true,
         "type": "scatter",
         "x": [
          "Himachal Pradesh"
         ],
         "xaxis": "x",
         "y": [
          0
         ],
         "yaxis": "y"
        },
        {
         "hovertemplate": "Party=Rashtriya Sawarn Dal<br>State=%{x}<br>Previous_Election_won=%{y}<extra></extra>",
         "legendgroup": "Rashtriya Sawarn Dal",
         "marker": {
          "color": "#00cc96",
          "symbol": "circle"
         },
         "mode": "markers",
         "name": "Rashtriya Sawarn Dal",
         "orientation": "v",
         "showlegend": true,
         "type": "scatter",
         "x": [
          "Jammu & Kashmir"
         ],
         "xaxis": "x",
         "y": [
          0
         ],
         "yaxis": "y"
        },
        {
         "hovertemplate": "Party=Rashtriya Shoshit Samaj Party<br>State=%{x}<br>Previous_Election_won=%{y}<extra></extra>",
         "legendgroup": "Rashtriya Shoshit Samaj Party",
         "marker": {
          "color": "#ab63fa",
          "symbol": "circle"
         },
         "mode": "markers",
         "name": "Rashtriya Shoshit Samaj Party",
         "orientation": "v",
         "showlegend": true,
         "type": "scatter",
         "x": [
          "Jharkhand"
         ],
         "xaxis": "x",
         "y": [
          0
         ],
         "yaxis": "y"
        },
        {
         "hovertemplate": "Party=Rashtriya Ulama Council<br>State=%{x}<br>Previous_Election_won=%{y}<extra></extra>",
         "legendgroup": "Rashtriya Ulama Council",
         "marker": {
          "color": "#FFA15A",
          "symbol": "circle"
         },
         "mode": "markers",
         "name": "Rashtriya Ulama Council",
         "orientation": "v",
         "showlegend": true,
         "type": "scatter",
         "x": [
          "Karnataka"
         ],
         "xaxis": "x",
         "y": [
          1
         ],
         "yaxis": "y"
        },
        {
         "hovertemplate": "Party=Rashtriya Uttarakhand Party<br>State=%{x}<br>Previous_Election_won=%{y}<extra></extra>",
         "legendgroup": "Rashtriya Uttarakhand Party",
         "marker": {
          "color": "#19d3f3",
          "symbol": "circle"
         },
         "mode": "markers",
         "name": "Rashtriya Uttarakhand Party",
         "orientation": "v",
         "showlegend": true,
         "type": "scatter",
         "x": [
          "Kerala"
         ],
         "xaxis": "x",
         "y": [
          0
         ],
         "yaxis": "y"
        },
        {
         "hovertemplate": "Party=Rashtriya Vikas Manch Party<br>State=%{x}<br>Previous_Election_won=%{y}<extra></extra>",
         "legendgroup": "Rashtriya Vikas Manch Party",
         "marker": {
          "color": "#FF6692",
          "symbol": "circle"
         },
         "mode": "markers",
         "name": "Rashtriya Vikas Manch Party",
         "orientation": "v",
         "showlegend": true,
         "type": "scatter",
         "x": [
          "Lakshadweep"
         ],
         "xaxis": "x",
         "y": [
          0
         ],
         "yaxis": "y"
        },
        {
         "hovertemplate": "Party=Rashtriya Vikas Party<br>State=%{x}<br>Previous_Election_won=%{y}<extra></extra>",
         "legendgroup": "Rashtriya Vikas Party",
         "marker": {
          "color": "#B6E880",
          "symbol": "circle"
         },
         "mode": "markers",
         "name": "Rashtriya Vikas Party",
         "orientation": "v",
         "showlegend": true,
         "type": "scatter",
         "x": [
          "Madhya Pradesh"
         ],
         "xaxis": "x",
         "y": [
          0
         ],
         "yaxis": "y"
        },
        {
         "hovertemplate": "Party=RASHTRIYA VIKLANG PARTY<br>State=%{x}<br>Previous_Election_won=%{y}<extra></extra>",
         "legendgroup": "RASHTRIYA VIKLANG PARTY",
         "marker": {
          "color": "#FF97FF",
          "symbol": "circle"
         },
         "mode": "markers",
         "name": "RASHTRIYA VIKLANG PARTY",
         "orientation": "v",
         "showlegend": true,
         "type": "scatter",
         "x": [
          "Maharashtra"
         ],
         "xaxis": "x",
         "y": [
          0
         ],
         "yaxis": "y"
        },
        {
         "hovertemplate": "Party=Rastriya Insaaf Party<br>State=%{x}<br>Previous_Election_won=%{y}<extra></extra>",
         "legendgroup": "Rastriya Insaaf Party",
         "marker": {
          "color": "#FECB52",
          "symbol": "circle"
         },
         "mode": "markers",
         "name": "Rastriya Insaaf Party",
         "orientation": "v",
         "showlegend": true,
         "type": "scatter",
         "x": [
          "Manipur"
         ],
         "xaxis": "x",
         "y": [
          0
         ],
         "yaxis": "y"
        },
        {
         "hovertemplate": "Party=Rayalaseema Parirakshana Samithi<br>State=%{x}<br>Previous_Election_won=%{y}<extra></extra>",
         "legendgroup": "Rayalaseema Parirakshana Samithi",
         "marker": {
          "color": "#636efa",
          "symbol": "circle"
         },
         "mode": "markers",
         "name": "Rayalaseema Parirakshana Samithi",
         "orientation": "v",
         "showlegend": true,
         "type": "scatter",
         "x": [
          "Meghalaya"
         ],
         "xaxis": "x",
         "y": [
          0
         ],
         "yaxis": "y"
        },
        {
         "hovertemplate": "Party=Regional Democratic Secular Congress<br>State=%{x}<br>Previous_Election_won=%{y}<extra></extra>",
         "legendgroup": "Regional Democratic Secular Congress",
         "marker": {
          "color": "#EF553B",
          "symbol": "circle"
         },
         "mode": "markers",
         "name": "Regional Democratic Secular Congress",
         "orientation": "v",
         "showlegend": true,
         "type": "scatter",
         "x": [
          "Mizoram"
         ],
         "xaxis": "x",
         "y": [
          0
         ],
         "yaxis": "y"
        },
        {
         "hovertemplate": "Party=Republican Backward Congress<br>State=%{x}<br>Previous_Election_won=%{y}<extra></extra>",
         "legendgroup": "Republican Backward Congress",
         "marker": {
          "color": "#00cc96",
          "symbol": "circle"
         },
         "mode": "markers",
         "name": "Republican Backward Congress",
         "orientation": "v",
         "showlegend": true,
         "type": "scatter",
         "x": [
          "Nagaland"
         ],
         "xaxis": "x",
         "y": [
          0
         ],
         "yaxis": "y"
        },
        {
         "hovertemplate": "Party=Republican Bahujan Sena<br>State=%{x}<br>Previous_Election_won=%{y}<extra></extra>",
         "legendgroup": "Republican Bahujan Sena",
         "marker": {
          "color": "#ab63fa",
          "symbol": "circle"
         },
         "mode": "markers",
         "name": "Republican Bahujan Sena",
         "orientation": "v",
         "showlegend": true,
         "type": "scatter",
         "x": [
          "NCT OF Delhi"
         ],
         "xaxis": "x",
         "y": [
          0
         ],
         "yaxis": "y"
        },
        {
         "hovertemplate": "Party=Republican Paksha (Khoripa)<br>State=%{x}<br>Previous_Election_won=%{y}<extra></extra>",
         "legendgroup": "Republican Paksha (Khoripa)",
         "marker": {
          "color": "#FFA15A",
          "symbol": "circle"
         },
         "mode": "markers",
         "name": "Republican Paksha (Khoripa)",
         "orientation": "v",
         "showlegend": true,
         "type": "scatter",
         "x": [
          "Odisha"
         ],
         "xaxis": "x",
         "y": [
          1
         ],
         "yaxis": "y"
        },
        {
         "hovertemplate": "Party=Republican Party of India<br>State=%{x}<br>Previous_Election_won=%{y}<extra></extra>",
         "legendgroup": "Republican Party of India",
         "marker": {
          "color": "#19d3f3",
          "symbol": "circle"
         },
         "mode": "markers",
         "name": "Republican Party of India",
         "orientation": "v",
         "showlegend": true,
         "type": "scatter",
         "x": [
          "Puducherry"
         ],
         "xaxis": "x",
         "y": [
          2
         ],
         "yaxis": "y"
        },
        {
         "hovertemplate": "Party=Republican Party of India (A)<br>State=%{x}<br>Previous_Election_won=%{y}<extra></extra>",
         "legendgroup": "Republican Party of India (A)",
         "marker": {
          "color": "#FF6692",
          "symbol": "circle"
         },
         "mode": "markers",
         "name": "Republican Party of India (A)",
         "orientation": "v",
         "showlegend": true,
         "type": "scatter",
         "x": [
          "Punjab"
         ],
         "xaxis": "x",
         "y": [
          4
         ],
         "yaxis": "y"
        },
        {
         "hovertemplate": "Party=Republican Party of India (Khobragade)<br>State=%{x}<br>Previous_Election_won=%{y}<extra></extra>",
         "legendgroup": "Republican Party of India (Khobragade)",
         "marker": {
          "color": "#B6E880",
          "symbol": "circle"
         },
         "mode": "markers",
         "name": "Republican Party of India (Khobragade)",
         "orientation": "v",
         "showlegend": true,
         "type": "scatter",
         "x": [
          "Rajasthan"
         ],
         "xaxis": "x",
         "y": [
          0
         ],
         "yaxis": "y"
        },
        {
         "hovertemplate": "Party=Republican Party of India Ektavadi<br>State=%{x}<br>Previous_Election_won=%{y}<extra></extra>",
         "legendgroup": "Republican Party of India Ektavadi",
         "marker": {
          "color": "#FF97FF",
          "symbol": "circle"
         },
         "mode": "markers",
         "name": "Republican Party of India Ektavadi",
         "orientation": "v",
         "showlegend": true,
         "type": "scatter",
         "x": [
          "Sikkim"
         ],
         "xaxis": "x",
         "y": [
          0
         ],
         "yaxis": "y"
        },
        {
         "hovertemplate": "Party=Revolutionary Socialist Party of Kerala  (Bolshevik) RSP.B<br>State=%{x}<br>Previous_Election_won=%{y}<extra></extra>",
         "legendgroup": "Revolutionary Socialist Party of Kerala  (Bolshevik) RSP.B",
         "marker": {
          "color": "#FECB52",
          "symbol": "circle"
         },
         "mode": "markers",
         "name": "Revolutionary Socialist Party of Kerala  (Bolshevik) RSP.B",
         "orientation": "v",
         "showlegend": true,
         "type": "scatter",
         "x": [
          "Tamil Nadu"
         ],
         "xaxis": "x",
         "y": [
          1
         ],
         "yaxis": "y"
        },
        {
         "hovertemplate": "Party=Samaikya Telugu Rajyam<br>State=%{x}<br>Previous_Election_won=%{y}<extra></extra>",
         "legendgroup": "Samaikya Telugu Rajyam",
         "marker": {
          "color": "#636efa",
          "symbol": "circle"
         },
         "mode": "markers",
         "name": "Samaikya Telugu Rajyam",
         "orientation": "v",
         "showlegend": true,
         "type": "scatter",
         "x": [
          "Tripura"
         ],
         "xaxis": "x",
         "y": [
          0
         ],
         "yaxis": "y"
        },
        {
         "hovertemplate": "Party=Samaikyandhra Parirakshana Samithi<br>State=%{x}<br>Previous_Election_won=%{y}<extra></extra>",
         "legendgroup": "Samaikyandhra Parirakshana Samithi",
         "marker": {
          "color": "#EF553B",
          "symbol": "circle"
         },
         "mode": "markers",
         "name": "Samaikyandhra Parirakshana Samithi",
         "orientation": "v",
         "showlegend": true,
         "type": "scatter",
         "x": [
          "Uttar Pradesh"
         ],
         "xaxis": "x",
         "y": [
          0
         ],
         "yaxis": "y"
        },
        {
         "hovertemplate": "Party=Samajwadi Jan Parishad<br>State=%{x}<br>Previous_Election_won=%{y}<extra></extra>",
         "legendgroup": "Samajwadi Jan Parishad",
         "marker": {
          "color": "#00cc96",
          "symbol": "circle"
         },
         "mode": "markers",
         "name": "Samajwadi Jan Parishad",
         "orientation": "v",
         "showlegend": true,
         "type": "scatter",
         "x": [
          "Uttarakhand"
         ],
         "xaxis": "x",
         "y": [
          0
         ],
         "yaxis": "y"
        },
        {
         "hovertemplate": "Party=Samajwadi Janata Party (Rashtriya)<br>State=%{x}<br>Previous_Election_won=%{y}<extra></extra>",
         "legendgroup": "Samajwadi Janata Party (Rashtriya)",
         "marker": {
          "color": "#ab63fa",
          "symbol": "circle"
         },
         "mode": "markers",
         "name": "Samajwadi Janata Party (Rashtriya)",
         "orientation": "v",
         "showlegend": true,
         "type": "scatter",
         "x": [
          "West Bengal"
         ],
         "xaxis": "x",
         "y": [
          1
         ],
         "yaxis": "y"
        },
        {
         "hovertemplate": "Party=Samajwadi Samaj Party<br>State=%{x}<br>Previous_Election_won=%{y}<extra></extra>",
         "legendgroup": "Samajwadi Samaj Party",
         "marker": {
          "color": "#FFA15A",
          "symbol": "circle"
         },
         "mode": "markers",
         "name": "Samajwadi Samaj Party",
         "orientation": "v",
         "showlegend": true,
         "type": "scatter",
         "x": [
          "Bihar"
         ],
         "xaxis": "x",
         "y": [
          0
         ],
         "yaxis": "y"
        },
        {
         "hovertemplate": "Party=Samata Kranti Dal<br>State=%{x}<br>Previous_Election_won=%{y}<extra></extra>",
         "legendgroup": "Samata Kranti Dal",
         "marker": {
          "color": "#19d3f3",
          "symbol": "circle"
         },
         "mode": "markers",
         "name": "Samata Kranti Dal",
         "orientation": "v",
         "showlegend": true,
         "type": "scatter",
         "x": [
          "Chandigarh"
         ],
         "xaxis": "x",
         "y": [
          0
         ],
         "yaxis": "y"
        },
        {
         "hovertemplate": "Party=Samata Party<br>State=%{x}<br>Previous_Election_won=%{y}<extra></extra>",
         "legendgroup": "Samata Party",
         "marker": {
          "color": "#FF6692",
          "symbol": "circle"
         },
         "mode": "markers",
         "name": "Samata Party",
         "orientation": "v",
         "showlegend": true,
         "type": "scatter",
         "x": [
          "Chhattisgarh"
         ],
         "xaxis": "x",
         "y": [
          0
         ],
         "yaxis": "y"
        },
        {
         "hovertemplate": "Party=Samata Samadhan Party<br>State=%{x}<br>Previous_Election_won=%{y}<extra></extra>",
         "legendgroup": "Samata Samadhan Party",
         "marker": {
          "color": "#B6E880",
          "symbol": "circle"
         },
         "mode": "markers",
         "name": "Samata Samadhan Party",
         "orientation": "v",
         "showlegend": true,
         "type": "scatter",
         "x": [
          "Dadra & Nagar Haveli"
         ],
         "xaxis": "x",
         "y": [
          0
         ],
         "yaxis": "y"
        },
        {
         "hovertemplate": "Party=Samruddha Odisha<br>State=%{x}<br>Previous_Election_won=%{y}<extra></extra>",
         "legendgroup": "Samruddha Odisha",
         "marker": {
          "color": "#FF97FF",
          "symbol": "circle"
         },
         "mode": "markers",
         "name": "Samruddha Odisha",
         "orientation": "v",
         "showlegend": true,
         "type": "scatter",
         "x": [
          "Daman & Diu"
         ],
         "xaxis": "x",
         "y": [
          0
         ],
         "yaxis": "y"
        },
        {
         "hovertemplate": "Party=Samta Vikas Party<br>State=%{x}<br>Previous_Election_won=%{y}<extra></extra>",
         "legendgroup": "Samta Vikas Party",
         "marker": {
          "color": "#FECB52",
          "symbol": "circle"
         },
         "mode": "markers",
         "name": "Samta Vikas Party",
         "orientation": "v",
         "showlegend": true,
         "type": "scatter",
         "x": [
          "Goa"
         ],
         "xaxis": "x",
         "y": [
          0
         ],
         "yaxis": "y"
        },
        {
         "hovertemplate": "Party=Samtawadi Republican Party<br>State=%{x}<br>Previous_Election_won=%{y}<extra></extra>",
         "legendgroup": "Samtawadi Republican Party",
         "marker": {
          "color": "#636efa",
          "symbol": "circle"
         },
         "mode": "markers",
         "name": "Samtawadi Republican Party",
         "orientation": "v",
         "showlegend": true,
         "type": "scatter",
         "x": [
          "Gujarat"
         ],
         "xaxis": "x",
         "y": [
          0
         ],
         "yaxis": "y"
        },
        {
         "hovertemplate": "Party=Samyak Parivartan Party<br>State=%{x}<br>Previous_Election_won=%{y}<extra></extra>",
         "legendgroup": "Samyak Parivartan Party",
         "marker": {
          "color": "#EF553B",
          "symbol": "circle"
         },
         "mode": "markers",
         "name": "Samyak Parivartan Party",
         "orientation": "v",
         "showlegend": true,
         "type": "scatter",
         "x": [
          "Haryana"
         ],
         "xaxis": "x",
         "y": [
          1
         ],
         "yaxis": "y"
        },
        {
         "hovertemplate": "Party=Sanatan Sanskriti Raksha Dal<br>State=%{x}<br>Previous_Election_won=%{y}<extra></extra>",
         "legendgroup": "Sanatan Sanskriti Raksha Dal",
         "marker": {
          "color": "#00cc96",
          "symbol": "circle"
         },
         "mode": "markers",
         "name": "Sanatan Sanskriti Raksha Dal",
         "orientation": "v",
         "showlegend": true,
         "type": "scatter",
         "x": [
          "Himachal Pradesh"
         ],
         "xaxis": "x",
         "y": [
          0
         ],
         "yaxis": "y"
        },
        {
         "hovertemplate": "Party=Sankhyanupati Bhagidari Party<br>State=%{x}<br>Previous_Election_won=%{y}<extra></extra>",
         "legendgroup": "Sankhyanupati Bhagidari Party",
         "marker": {
          "color": "#ab63fa",
          "symbol": "circle"
         },
         "mode": "markers",
         "name": "Sankhyanupati Bhagidari Party",
         "orientation": "v",
         "showlegend": true,
         "type": "scatter",
         "x": [
          "Jammu & Kashmir"
         ],
         "xaxis": "x",
         "y": [
          0
         ],
         "yaxis": "y"
        },
        {
         "hovertemplate": "Party=Sanyukt Samajwadi Dal<br>State=%{x}<br>Previous_Election_won=%{y}<extra></extra>",
         "legendgroup": "Sanyukt Samajwadi Dal",
         "marker": {
          "color": "#FFA15A",
          "symbol": "circle"
         },
         "mode": "markers",
         "name": "Sanyukt Samajwadi Dal",
         "orientation": "v",
         "showlegend": true,
         "type": "scatter",
         "x": [
          "Jharkhand"
         ],
         "xaxis": "x",
         "y": [
          0
         ],
         "yaxis": "y"
        },
        {
         "hovertemplate": "Party=Sardar Vallabhbhai Patel Party<br>State=%{x}<br>Previous_Election_won=%{y}<extra></extra>",
         "legendgroup": "Sardar Vallabhbhai Patel Party",
         "marker": {
          "color": "#19d3f3",
          "symbol": "circle"
         },
         "mode": "markers",
         "name": "Sardar Vallabhbhai Patel Party",
         "orientation": "v",
         "showlegend": true,
         "type": "scatter",
         "x": [
          "Karnataka"
         ],
         "xaxis": "x",
         "y": [
          0
         ],
         "yaxis": "y"
        },
        {
         "hovertemplate": "Party=Sarva Janata Party<br>State=%{x}<br>Previous_Election_won=%{y}<extra></extra>",
         "legendgroup": "Sarva Janata Party",
         "marker": {
          "color": "#FF6692",
          "symbol": "circle"
         },
         "mode": "markers",
         "name": "Sarva Janata Party",
         "orientation": "v",
         "showlegend": true,
         "type": "scatter",
         "x": [
          "Kerala"
         ],
         "xaxis": "x",
         "y": [
          0
         ],
         "yaxis": "y"
        },
        {
         "hovertemplate": "Party=Sarva Samaj Kalyan Party<br>State=%{x}<br>Previous_Election_won=%{y}<extra></extra>",
         "legendgroup": "Sarva Samaj Kalyan Party",
         "marker": {
          "color": "#B6E880",
          "symbol": "circle"
         },
         "mode": "markers",
         "name": "Sarva Samaj Kalyan Party",
         "orientation": "v",
         "showlegend": true,
         "type": "scatter",
         "x": [
          "Lakshadweep"
         ],
         "xaxis": "x",
         "y": [
          0
         ],
         "yaxis": "y"
        },
        {
         "hovertemplate": "Party=Sarvajan Kalyan Loktantrik Party<br>State=%{x}<br>Previous_Election_won=%{y}<extra></extra>",
         "legendgroup": "Sarvajan Kalyan Loktantrik Party",
         "marker": {
          "color": "#FF97FF",
          "symbol": "circle"
         },
         "mode": "markers",
         "name": "Sarvajan Kalyan Loktantrik Party",
         "orientation": "v",
         "showlegend": true,
         "type": "scatter",
         "x": [
          "Madhya Pradesh"
         ],
         "xaxis": "x",
         "y": [
          0
         ],
         "yaxis": "y"
        },
        {
         "hovertemplate": "Party=SARVAJAN SAMAJ PARTY (D)<br>State=%{x}<br>Previous_Election_won=%{y}<extra></extra>",
         "legendgroup": "SARVAJAN SAMAJ PARTY (D)",
         "marker": {
          "color": "#FECB52",
          "symbol": "circle"
         },
         "mode": "markers",
         "name": "SARVAJAN SAMAJ PARTY (D)",
         "orientation": "v",
         "showlegend": true,
         "type": "scatter",
         "x": [
          "Maharashtra"
         ],
         "xaxis": "x",
         "y": [
          0
         ],
         "yaxis": "y"
        },
        {
         "hovertemplate": "Party=Sarvshreshth Dal<br>State=%{x}<br>Previous_Election_won=%{y}<extra></extra>",
         "legendgroup": "Sarvshreshth Dal",
         "marker": {
          "color": "#636efa",
          "symbol": "circle"
         },
         "mode": "markers",
         "name": "Sarvshreshth Dal",
         "orientation": "v",
         "showlegend": true,
         "type": "scatter",
         "x": [
          "Manipur"
         ],
         "xaxis": "x",
         "y": [
          0
         ],
         "yaxis": "y"
        },
        {
         "hovertemplate": "Party=Shakti Sena (Bharat Desh)<br>State=%{x}<br>Previous_Election_won=%{y}<extra></extra>",
         "legendgroup": "Shakti Sena (Bharat Desh)",
         "marker": {
          "color": "#EF553B",
          "symbol": "circle"
         },
         "mode": "markers",
         "name": "Shakti Sena (Bharat Desh)",
         "orientation": "v",
         "showlegend": true,
         "type": "scatter",
         "x": [
          "Meghalaya"
         ],
         "xaxis": "x",
         "y": [
          0
         ],
         "yaxis": "y"
        },
        {
         "hovertemplate": "Party=Shiromani Akali Dal (Amritsar)(Simranjit Singh Mann)<br>State=%{x}<br>Previous_Election_won=%{y}<extra></extra>",
         "legendgroup": "Shiromani Akali Dal (Amritsar)(Simranjit Singh Mann)",
         "marker": {
          "color": "#00cc96",
          "symbol": "circle"
         },
         "mode": "markers",
         "name": "Shiromani Akali Dal (Amritsar)(Simranjit Singh Mann)",
         "orientation": "v",
         "showlegend": true,
         "type": "scatter",
         "x": [
          "Mizoram"
         ],
         "xaxis": "x",
         "y": [
          1
         ],
         "yaxis": "y"
        },
        {
         "hovertemplate": "Party=Shivrajya Party<br>State=%{x}<br>Previous_Election_won=%{y}<extra></extra>",
         "legendgroup": "Shivrajya Party",
         "marker": {
          "color": "#ab63fa",
          "symbol": "circle"
         },
         "mode": "markers",
         "name": "Shivrajya Party",
         "orientation": "v",
         "showlegend": true,
         "type": "scatter",
         "x": [
          "Nagaland"
         ],
         "xaxis": "x",
         "y": [
          0
         ],
         "yaxis": "y"
        },
        {
         "hovertemplate": "Party=Shoshit Samaj Dal<br>State=%{x}<br>Previous_Election_won=%{y}<extra></extra>",
         "legendgroup": "Shoshit Samaj Dal",
         "marker": {
          "color": "#FFA15A",
          "symbol": "circle"
         },
         "mode": "markers",
         "name": "Shoshit Samaj Dal",
         "orientation": "v",
         "showlegend": true,
         "type": "scatter",
         "x": [
          "NCT OF Delhi"
         ],
         "xaxis": "x",
         "y": [
          0
         ],
         "yaxis": "y"
        },
        {
         "hovertemplate": "Party=Shoshit Sandesh Party<br>State=%{x}<br>Previous_Election_won=%{y}<extra></extra>",
         "legendgroup": "Shoshit Sandesh Party",
         "marker": {
          "color": "#19d3f3",
          "symbol": "circle"
         },
         "mode": "markers",
         "name": "Shoshit Sandesh Party",
         "orientation": "v",
         "showlegend": true,
         "type": "scatter",
         "x": [
          "Odisha"
         ],
         "xaxis": "x",
         "y": [
          0
         ],
         "yaxis": "y"
        },
        {
         "hovertemplate": "Party=Shramajeevi Party<br>State=%{x}<br>Previous_Election_won=%{y}<extra></extra>",
         "legendgroup": "Shramajeevi Party",
         "marker": {
          "color": "#FF6692",
          "symbol": "circle"
         },
         "mode": "markers",
         "name": "Shramajeevi Party",
         "orientation": "v",
         "showlegend": true,
         "type": "scatter",
         "x": [
          "Puducherry"
         ],
         "xaxis": "x",
         "y": [
          0
         ],
         "yaxis": "y"
        },
        {
         "hovertemplate": "Party=Sikkim Krantikari Morcha<br>State=%{x}<br>Previous_Election_won=%{y}<extra></extra>",
         "legendgroup": "Sikkim Krantikari Morcha",
         "marker": {
          "color": "#B6E880",
          "symbol": "circle"
         },
         "mode": "markers",
         "name": "Sikkim Krantikari Morcha",
         "orientation": "v",
         "showlegend": true,
         "type": "scatter",
         "x": [
          "Punjab"
         ],
         "xaxis": "x",
         "y": [
          2
         ],
         "yaxis": "y"
        },
        {
         "hovertemplate": "Party=Social Action Party<br>State=%{x}<br>Previous_Election_won=%{y}<extra></extra>",
         "legendgroup": "Social Action Party",
         "marker": {
          "color": "#FF97FF",
          "symbol": "circle"
         },
         "mode": "markers",
         "name": "Social Action Party",
         "orientation": "v",
         "showlegend": true,
         "type": "scatter",
         "x": [
          "Rajasthan"
         ],
         "xaxis": "x",
         "y": [
          0
         ],
         "yaxis": "y"
        },
        {
         "hovertemplate": "Party=SOCIAL DEMOCRATIC PARTY OF INDIA<br>State=%{x}<br>Previous_Election_won=%{y}<extra></extra>",
         "legendgroup": "SOCIAL DEMOCRATIC PARTY OF INDIA",
         "marker": {
          "color": "#FECB52",
          "symbol": "circle"
         },
         "mode": "markers",
         "name": "SOCIAL DEMOCRATIC PARTY OF INDIA",
         "orientation": "v",
         "showlegend": true,
         "type": "scatter",
         "x": [
          "Sikkim"
         ],
         "xaxis": "x",
         "y": [
          7
         ],
         "yaxis": "y"
        },
        {
         "hovertemplate": "Party=Socialist Janata (Democratic)<br>State=%{x}<br>Previous_Election_won=%{y}<extra></extra>",
         "legendgroup": "Socialist Janata (Democratic)",
         "marker": {
          "color": "#636efa",
          "symbol": "circle"
         },
         "mode": "markers",
         "name": "Socialist Janata (Democratic)",
         "orientation": "v",
         "showlegend": true,
         "type": "scatter",
         "x": [
          "Tamil Nadu"
         ],
         "xaxis": "x",
         "y": [
          6
         ],
         "yaxis": "y"
        },
        {
         "hovertemplate": "Party=Socialist Party (India)<br>State=%{x}<br>Previous_Election_won=%{y}<extra></extra>",
         "legendgroup": "Socialist Party (India)",
         "marker": {
          "color": "#EF553B",
          "symbol": "circle"
         },
         "mode": "markers",
         "name": "Socialist Party (India)",
         "orientation": "v",
         "showlegend": true,
         "type": "scatter",
         "x": [
          "Tripura"
         ],
         "xaxis": "x",
         "y": [
          1
         ],
         "yaxis": "y"
        },
        {
         "hovertemplate": "Party=Socialist Party (Lohia)<br>State=%{x}<br>Previous_Election_won=%{y}<extra></extra>",
         "legendgroup": "Socialist Party (Lohia)",
         "marker": {
          "color": "#00cc96",
          "symbol": "circle"
         },
         "mode": "markers",
         "name": "Socialist Party (Lohia)",
         "orientation": "v",
         "showlegend": true,
         "type": "scatter",
         "x": [
          "Uttar Pradesh"
         ],
         "xaxis": "x",
         "y": [
          0
         ],
         "yaxis": "y"
        },
        {
         "hovertemplate": "Party=Socialist Republican Party<br>State=%{x}<br>Previous_Election_won=%{y}<extra></extra>",
         "legendgroup": "Socialist Republican Party",
         "marker": {
          "color": "#ab63fa",
          "symbol": "circle"
         },
         "mode": "markers",
         "name": "Socialist Republican Party",
         "orientation": "v",
         "showlegend": true,
         "type": "scatter",
         "x": [
          "Uttarakhand"
         ],
         "xaxis": "x",
         "y": [
          0
         ],
         "yaxis": "y"
        },
        {
         "hovertemplate": "Party=SOCIALIST UNITY CENTRE OF INDIA (COMMUNIST)<br>State=%{x}<br>Previous_Election_won=%{y}<extra></extra>",
         "legendgroup": "SOCIALIST UNITY CENTRE OF INDIA (COMMUNIST)",
         "marker": {
          "color": "#FFA15A",
          "symbol": "circle"
         },
         "mode": "markers",
         "name": "SOCIALIST UNITY CENTRE OF INDIA (COMMUNIST)",
         "orientation": "v",
         "showlegend": true,
         "type": "scatter",
         "x": [
          "West Bengal"
         ],
         "xaxis": "x",
         "y": [
          9
         ],
         "yaxis": "y"
        },
        {
         "hovertemplate": "Party=Socialistic Democratic Party<br>State=%{x}<br>Previous_Election_won=%{y}<extra></extra>",
         "legendgroup": "Socialistic Democratic Party",
         "marker": {
          "color": "#19d3f3",
          "symbol": "circle"
         },
         "mode": "markers",
         "name": "Socialistic Democratic Party",
         "orientation": "v",
         "showlegend": true,
         "type": "scatter",
         "x": [
          "Bihar"
         ],
         "xaxis": "x",
         "y": [
          0
         ],
         "yaxis": "y"
        },
        {
         "hovertemplate": "Party=Suheldev Bhartiya Samaj Party<br>State=%{x}<br>Previous_Election_won=%{y}<extra></extra>",
         "legendgroup": "Suheldev Bhartiya Samaj Party",
         "marker": {
          "color": "#FF6692",
          "symbol": "circle"
         },
         "mode": "markers",
         "name": "Suheldev Bhartiya Samaj Party",
         "orientation": "v",
         "showlegend": true,
         "type": "scatter",
         "x": [
          "Chandigarh"
         ],
         "xaxis": "x",
         "y": [
          2
         ],
         "yaxis": "y"
        },
        {
         "hovertemplate": "Party=Swabhimani Paksha<br>State=%{x}<br>Previous_Election_won=%{y}<extra></extra>",
         "legendgroup": "Swabhimani Paksha",
         "marker": {
          "color": "#B6E880",
          "symbol": "circle"
         },
         "mode": "markers",
         "name": "Swabhimani Paksha",
         "orientation": "v",
         "showlegend": true,
         "type": "scatter",
         "x": [
          "Chhattisgarh"
         ],
         "xaxis": "x",
         "y": [
          19
         ],
         "yaxis": "y"
        },
        {
         "hovertemplate": "Party=Swaraj (J)<br>State=%{x}<br>Previous_Election_won=%{y}<extra></extra>",
         "legendgroup": "Swaraj (J)",
         "marker": {
          "color": "#FF97FF",
          "symbol": "circle"
         },
         "mode": "markers",
         "name": "Swaraj (J)",
         "orientation": "v",
         "showlegend": true,
         "type": "scatter",
         "x": [
          "Dadra & Nagar Haveli"
         ],
         "xaxis": "x",
         "y": [
          0
         ],
         "yaxis": "y"
        },
        {
         "hovertemplate": "Party=Swarajya Party Of India<br>State=%{x}<br>Previous_Election_won=%{y}<extra></extra>",
         "legendgroup": "Swarajya Party Of India",
         "marker": {
          "color": "#FECB52",
          "symbol": "circle"
         },
         "mode": "markers",
         "name": "Swarajya Party Of India",
         "orientation": "v",
         "showlegend": true,
         "type": "scatter",
         "x": [
          "Daman & Diu"
         ],
         "xaxis": "x",
         "y": [
          0
         ],
         "yaxis": "y"
        },
        {
         "hovertemplate": "Party=Swatantra Samaj Party<br>State=%{x}<br>Previous_Election_won=%{y}<extra></extra>",
         "legendgroup": "Swatantra Samaj Party",
         "marker": {
          "color": "#636efa",
          "symbol": "circle"
         },
         "mode": "markers",
         "name": "Swatantra Samaj Party",
         "orientation": "v",
         "showlegend": true,
         "type": "scatter",
         "x": [
          "Goa"
         ],
         "xaxis": "x",
         "y": [
          0
         ],
         "yaxis": "y"
        },
        {
         "hovertemplate": "Party=Tamil Nadu Makkal Congress<br>State=%{x}<br>Previous_Election_won=%{y}<extra></extra>",
         "legendgroup": "Tamil Nadu Makkal Congress",
         "marker": {
          "color": "#EF553B",
          "symbol": "circle"
         },
         "mode": "markers",
         "name": "Tamil Nadu Makkal Congress",
         "orientation": "v",
         "showlegend": true,
         "type": "scatter",
         "x": [
          "Gujarat"
         ],
         "xaxis": "x",
         "y": [
          1
         ],
         "yaxis": "y"
        },
        {
         "hovertemplate": "Party=Telangana Communist Party of India<br>State=%{x}<br>Previous_Election_won=%{y}<extra></extra>",
         "legendgroup": "Telangana Communist Party of India",
         "marker": {
          "color": "#00cc96",
          "symbol": "circle"
         },
         "mode": "markers",
         "name": "Telangana Communist Party of India",
         "orientation": "v",
         "showlegend": true,
         "type": "scatter",
         "x": [
          "Haryana"
         ],
         "xaxis": "x",
         "y": [
          0
         ],
         "yaxis": "y"
        },
        {
         "hovertemplate": "Party=Telangana Loksatta Party<br>State=%{x}<br>Previous_Election_won=%{y}<extra></extra>",
         "legendgroup": "Telangana Loksatta Party",
         "marker": {
          "color": "#ab63fa",
          "symbol": "circle"
         },
         "mode": "markers",
         "name": "Telangana Loksatta Party",
         "orientation": "v",
         "showlegend": true,
         "type": "scatter",
         "x": [
          "Himachal Pradesh"
         ],
         "xaxis": "x",
         "y": [
          0
         ],
         "yaxis": "y"
        },
        {
         "hovertemplate": "Party=The Lok Party of India<br>State=%{x}<br>Previous_Election_won=%{y}<extra></extra>",
         "legendgroup": "The Lok Party of India",
         "marker": {
          "color": "#FFA15A",
          "symbol": "circle"
         },
         "mode": "markers",
         "name": "The Lok Party of India",
         "orientation": "v",
         "showlegend": true,
         "type": "scatter",
         "x": [
          "Jammu & Kashmir"
         ],
         "xaxis": "x",
         "y": [
          0
         ],
         "yaxis": "y"
        },
        {
         "hovertemplate": "Party=The Religion of Man Revolving Political Party of India<br>State=%{x}<br>Previous_Election_won=%{y}<extra></extra>",
         "legendgroup": "The Religion of Man Revolving Political Party of India",
         "marker": {
          "color": "#19d3f3",
          "symbol": "circle"
         },
         "mode": "markers",
         "name": "The Religion of Man Revolving Political Party of India",
         "orientation": "v",
         "showlegend": true,
         "type": "scatter",
         "x": [
          "Jharkhand"
         ],
         "xaxis": "x",
         "y": [
          0
         ],
         "yaxis": "y"
        },
        {
         "hovertemplate": "Party=Thrinamool Tamil Nadu Congress<br>State=%{x}<br>Previous_Election_won=%{y}<extra></extra>",
         "legendgroup": "Thrinamool Tamil Nadu Congress",
         "marker": {
          "color": "#FF6692",
          "symbol": "circle"
         },
         "mode": "markers",
         "name": "Thrinamool Tamil Nadu Congress",
         "orientation": "v",
         "showlegend": true,
         "type": "scatter",
         "x": [
          "Karnataka"
         ],
         "xaxis": "x",
         "y": [
          0
         ],
         "yaxis": "y"
        },
        {
         "hovertemplate": "Party=Tripura Pragatishil Gramin Congress<br>State=%{x}<br>Previous_Election_won=%{y}<extra></extra>",
         "legendgroup": "Tripura Pragatishil Gramin Congress",
         "marker": {
          "color": "#B6E880",
          "symbol": "circle"
         },
         "mode": "markers",
         "name": "Tripura Pragatishil Gramin Congress",
         "orientation": "v",
         "showlegend": true,
         "type": "scatter",
         "x": [
          "Kerala"
         ],
         "xaxis": "x",
         "y": [
          0
         ],
         "yaxis": "y"
        },
        {
         "hovertemplate": "Party=Ulzaipali Makkal Katchy<br>State=%{x}<br>Previous_Election_won=%{y}<extra></extra>",
         "legendgroup": "Ulzaipali Makkal Katchy",
         "marker": {
          "color": "#FF97FF",
          "symbol": "circle"
         },
         "mode": "markers",
         "name": "Ulzaipali Makkal Katchy",
         "orientation": "v",
         "showlegend": true,
         "type": "scatter",
         "x": [
          "Lakshadweep"
         ],
         "xaxis": "x",
         "y": [
          0
         ],
         "yaxis": "y"
        },
        {
         "hovertemplate": "Party=Union Party of India<br>State=%{x}<br>Previous_Election_won=%{y}<extra></extra>",
         "legendgroup": "Union Party of India",
         "marker": {
          "color": "#FECB52",
          "symbol": "circle"
         },
         "mode": "markers",
         "name": "Union Party of India",
         "orientation": "v",
         "showlegend": true,
         "type": "scatter",
         "x": [
          "Madhya Pradesh"
         ],
         "xaxis": "x",
         "y": [
          0
         ],
         "yaxis": "y"
        },
        {
         "hovertemplate": "Party=United Communist Party of India<br>State=%{x}<br>Previous_Election_won=%{y}<extra></extra>",
         "legendgroup": "United Communist Party of India",
         "marker": {
          "color": "#636efa",
          "symbol": "circle"
         },
         "mode": "markers",
         "name": "United Communist Party of India",
         "orientation": "v",
         "showlegend": true,
         "type": "scatter",
         "x": [
          "Maharashtra"
         ],
         "xaxis": "x",
         "y": [
          0
         ],
         "yaxis": "y"
        },
        {
         "hovertemplate": "Party=Uttar Pradesh Republican Party<br>State=%{x}<br>Previous_Election_won=%{y}<extra></extra>",
         "legendgroup": "Uttar Pradesh Republican Party",
         "marker": {
          "color": "#EF553B",
          "symbol": "circle"
         },
         "mode": "markers",
         "name": "Uttar Pradesh Republican Party",
         "orientation": "v",
         "showlegend": true,
         "type": "scatter",
         "x": [
          "Manipur"
         ],
         "xaxis": "x",
         "y": [
          0
         ],
         "yaxis": "y"
        },
        {
         "hovertemplate": "Party=UTTARAKHAND PARIVARTAN PARTY<br>State=%{x}<br>Previous_Election_won=%{y}<extra></extra>",
         "legendgroup": "UTTARAKHAND PARIVARTAN PARTY",
         "marker": {
          "color": "#00cc96",
          "symbol": "circle"
         },
         "mode": "markers",
         "name": "UTTARAKHAND PARIVARTAN PARTY",
         "orientation": "v",
         "showlegend": true,
         "type": "scatter",
         "x": [
          "Meghalaya"
         ],
         "xaxis": "x",
         "y": [
          0
         ],
         "yaxis": "y"
        },
        {
         "hovertemplate": "Party=Vanchit Jamat Party<br>State=%{x}<br>Previous_Election_won=%{y}<extra></extra>",
         "legendgroup": "Vanchit Jamat Party",
         "marker": {
          "color": "#ab63fa",
          "symbol": "circle"
         },
         "mode": "markers",
         "name": "Vanchit Jamat Party",
         "orientation": "v",
         "showlegend": true,
         "type": "scatter",
         "x": [
          "Mizoram"
         ],
         "xaxis": "x",
         "y": [
          0
         ],
         "yaxis": "y"
        },
        {
         "hovertemplate": "Party=VANCHITSAMAJ INSAAF PARTY<br>State=%{x}<br>Previous_Election_won=%{y}<extra></extra>",
         "legendgroup": "VANCHITSAMAJ INSAAF PARTY",
         "marker": {
          "color": "#FFA15A",
          "symbol": "circle"
         },
         "mode": "markers",
         "name": "VANCHITSAMAJ INSAAF PARTY",
         "orientation": "v",
         "showlegend": true,
         "type": "scatter",
         "x": [
          "Nagaland"
         ],
         "xaxis": "x",
         "y": [
          0
         ],
         "yaxis": "y"
        },
        {
         "hovertemplate": "Party=Vichara Jagruthi Congress Paksha<br>State=%{x}<br>Previous_Election_won=%{y}<extra></extra>",
         "legendgroup": "Vichara Jagruthi Congress Paksha",
         "marker": {
          "color": "#19d3f3",
          "symbol": "circle"
         },
         "mode": "markers",
         "name": "Vichara Jagruthi Congress Paksha",
         "orientation": "v",
         "showlegend": true,
         "type": "scatter",
         "x": [
          "NCT OF Delhi"
         ],
         "xaxis": "x",
         "y": [
          0
         ],
         "yaxis": "y"
        },
        {
         "hovertemplate": "Party=Viduthalai Chiruthaigal Katchi<br>State=%{x}<br>Previous_Election_won=%{y}<extra></extra>",
         "legendgroup": "Viduthalai Chiruthaigal Katchi",
         "marker": {
          "color": "#FF6692",
          "symbol": "circle"
         },
         "mode": "markers",
         "name": "Viduthalai Chiruthaigal Katchi",
         "orientation": "v",
         "showlegend": true,
         "type": "scatter",
         "x": [
          "Odisha"
         ],
         "xaxis": "x",
         "y": [
          11
         ],
         "yaxis": "y"
        },
        {
         "hovertemplate": "Party=Vishva Hindustani Sangathan<br>State=%{x}<br>Previous_Election_won=%{y}<extra></extra>",
         "legendgroup": "Vishva Hindustani Sangathan",
         "marker": {
          "color": "#B6E880",
          "symbol": "circle"
         },
         "mode": "markers",
         "name": "Vishva Hindustani Sangathan",
         "orientation": "v",
         "showlegend": true,
         "type": "scatter",
         "x": [
          "Puducherry"
         ],
         "xaxis": "x",
         "y": [
          0
         ],
         "yaxis": "y"
        },
        {
         "hovertemplate": "Party=Vishva SHakti Party<br>State=%{x}<br>Previous_Election_won=%{y}<extra></extra>",
         "legendgroup": "Vishva SHakti Party",
         "marker": {
          "color": "#FF97FF",
          "symbol": "circle"
         },
         "mode": "markers",
         "name": "Vishva SHakti Party",
         "orientation": "v",
         "showlegend": true,
         "type": "scatter",
         "x": [
          "Punjab"
         ],
         "xaxis": "x",
         "y": [
          0
         ],
         "yaxis": "y"
        },
        {
         "hovertemplate": "Party=Voters Party<br>State=%{x}<br>Previous_Election_won=%{y}<extra></extra>",
         "legendgroup": "Voters Party",
         "marker": {
          "color": "#FECB52",
          "symbol": "circle"
         },
         "mode": "markers",
         "name": "Voters Party",
         "orientation": "v",
         "showlegend": true,
         "type": "scatter",
         "x": [
          "Rajasthan"
         ],
         "xaxis": "x",
         "y": [
          0
         ],
         "yaxis": "y"
        },
        {
         "hovertemplate": "Party=Welfare Party Of India<br>State=%{x}<br>Previous_Election_won=%{y}<extra></extra>",
         "legendgroup": "Welfare Party Of India",
         "marker": {
          "color": "#636efa",
          "symbol": "circle"
         },
         "mode": "markers",
         "name": "Welfare Party Of India",
         "orientation": "v",
         "showlegend": true,
         "type": "scatter",
         "x": [
          "Sikkim"
         ],
         "xaxis": "x",
         "y": [
          4
         ],
         "yaxis": "y"
        },
        {
         "hovertemplate": "Party=Yuva Sarkar<br>State=%{x}<br>Previous_Election_won=%{y}<extra></extra>",
         "legendgroup": "Yuva Sarkar",
         "marker": {
          "color": "#EF553B",
          "symbol": "circle"
         },
         "mode": "markers",
         "name": "Yuva Sarkar",
         "orientation": "v",
         "showlegend": true,
         "type": "scatter",
         "x": [
          "Tamil Nadu"
         ],
         "xaxis": "x",
         "y": [
          0
         ],
         "yaxis": "y"
        },
        {
         "hovertemplate": "Party=Yuvajana Sramika Rythu Congress Party<br>State=%{x}<br>Previous_Election_won=%{y}<extra></extra>",
         "legendgroup": "Yuvajana Sramika Rythu Congress Party",
         "marker": {
          "color": "#00cc96",
          "symbol": "circle"
         },
         "mode": "markers",
         "name": "Yuvajana Sramika Rythu Congress Party",
         "orientation": "v",
         "showlegend": true,
         "type": "scatter",
         "x": [
          "Tripura"
         ],
         "xaxis": "x",
         "y": [
          244
         ],
         "yaxis": "y"
        },
        {
         "hovertemplate": "Party=Independent<br>State=%{x}<br>Previous_Election_won=%{y}<extra></extra>",
         "legendgroup": "Independent",
         "marker": {
          "color": "#ab63fa",
          "symbol": "circle"
         },
         "mode": "markers",
         "name": "Independent",
         "orientation": "v",
         "showlegend": true,
         "type": "scatter",
         "x": [
          "Uttar Pradesh"
         ],
         "xaxis": "x",
         "y": [
          299
         ],
         "yaxis": "y"
        }
       ],
       "layout": {
        "legend": {
         "title": {
          "text": "Party"
         },
         "tracegroupgap": 0
        },
        "margin": {
         "t": 60
        },
        "template": {
         "data": {
          "bar": [
           {
            "error_x": {
             "color": "#2a3f5f"
            },
            "error_y": {
             "color": "#2a3f5f"
            },
            "marker": {
             "line": {
              "color": "#E5ECF6",
              "width": 0.5
             },
             "pattern": {
              "fillmode": "overlay",
              "size": 10,
              "solidity": 0.2
             }
            },
            "type": "bar"
           }
          ],
          "barpolar": [
           {
            "marker": {
             "line": {
              "color": "#E5ECF6",
              "width": 0.5
             },
             "pattern": {
              "fillmode": "overlay",
              "size": 10,
              "solidity": 0.2
             }
            },
            "type": "barpolar"
           }
          ],
          "carpet": [
           {
            "aaxis": {
             "endlinecolor": "#2a3f5f",
             "gridcolor": "white",
             "linecolor": "white",
             "minorgridcolor": "white",
             "startlinecolor": "#2a3f5f"
            },
            "baxis": {
             "endlinecolor": "#2a3f5f",
             "gridcolor": "white",
             "linecolor": "white",
             "minorgridcolor": "white",
             "startlinecolor": "#2a3f5f"
            },
            "type": "carpet"
           }
          ],
          "choropleth": [
           {
            "colorbar": {
             "outlinewidth": 0,
             "ticks": ""
            },
            "type": "choropleth"
           }
          ],
          "contour": [
           {
            "colorbar": {
             "outlinewidth": 0,
             "ticks": ""
            },
            "colorscale": [
             [
              0,
              "#0d0887"
             ],
             [
              0.1111111111111111,
              "#46039f"
             ],
             [
              0.2222222222222222,
              "#7201a8"
             ],
             [
              0.3333333333333333,
              "#9c179e"
             ],
             [
              0.4444444444444444,
              "#bd3786"
             ],
             [
              0.5555555555555556,
              "#d8576b"
             ],
             [
              0.6666666666666666,
              "#ed7953"
             ],
             [
              0.7777777777777778,
              "#fb9f3a"
             ],
             [
              0.8888888888888888,
              "#fdca26"
             ],
             [
              1,
              "#f0f921"
             ]
            ],
            "type": "contour"
           }
          ],
          "contourcarpet": [
           {
            "colorbar": {
             "outlinewidth": 0,
             "ticks": ""
            },
            "type": "contourcarpet"
           }
          ],
          "heatmap": [
           {
            "colorbar": {
             "outlinewidth": 0,
             "ticks": ""
            },
            "colorscale": [
             [
              0,
              "#0d0887"
             ],
             [
              0.1111111111111111,
              "#46039f"
             ],
             [
              0.2222222222222222,
              "#7201a8"
             ],
             [
              0.3333333333333333,
              "#9c179e"
             ],
             [
              0.4444444444444444,
              "#bd3786"
             ],
             [
              0.5555555555555556,
              "#d8576b"
             ],
             [
              0.6666666666666666,
              "#ed7953"
             ],
             [
              0.7777777777777778,
              "#fb9f3a"
             ],
             [
              0.8888888888888888,
              "#fdca26"
             ],
             [
              1,
              "#f0f921"
             ]
            ],
            "type": "heatmap"
           }
          ],
          "heatmapgl": [
           {
            "colorbar": {
             "outlinewidth": 0,
             "ticks": ""
            },
            "colorscale": [
             [
              0,
              "#0d0887"
             ],
             [
              0.1111111111111111,
              "#46039f"
             ],
             [
              0.2222222222222222,
              "#7201a8"
             ],
             [
              0.3333333333333333,
              "#9c179e"
             ],
             [
              0.4444444444444444,
              "#bd3786"
             ],
             [
              0.5555555555555556,
              "#d8576b"
             ],
             [
              0.6666666666666666,
              "#ed7953"
             ],
             [
              0.7777777777777778,
              "#fb9f3a"
             ],
             [
              0.8888888888888888,
              "#fdca26"
             ],
             [
              1,
              "#f0f921"
             ]
            ],
            "type": "heatmapgl"
           }
          ],
          "histogram": [
           {
            "marker": {
             "pattern": {
              "fillmode": "overlay",
              "size": 10,
              "solidity": 0.2
             }
            },
            "type": "histogram"
           }
          ],
          "histogram2d": [
           {
            "colorbar": {
             "outlinewidth": 0,
             "ticks": ""
            },
            "colorscale": [
             [
              0,
              "#0d0887"
             ],
             [
              0.1111111111111111,
              "#46039f"
             ],
             [
              0.2222222222222222,
              "#7201a8"
             ],
             [
              0.3333333333333333,
              "#9c179e"
             ],
             [
              0.4444444444444444,
              "#bd3786"
             ],
             [
              0.5555555555555556,
              "#d8576b"
             ],
             [
              0.6666666666666666,
              "#ed7953"
             ],
             [
              0.7777777777777778,
              "#fb9f3a"
             ],
             [
              0.8888888888888888,
              "#fdca26"
             ],
             [
              1,
              "#f0f921"
             ]
            ],
            "type": "histogram2d"
           }
          ],
          "histogram2dcontour": [
           {
            "colorbar": {
             "outlinewidth": 0,
             "ticks": ""
            },
            "colorscale": [
             [
              0,
              "#0d0887"
             ],
             [
              0.1111111111111111,
              "#46039f"
             ],
             [
              0.2222222222222222,
              "#7201a8"
             ],
             [
              0.3333333333333333,
              "#9c179e"
             ],
             [
              0.4444444444444444,
              "#bd3786"
             ],
             [
              0.5555555555555556,
              "#d8576b"
             ],
             [
              0.6666666666666666,
              "#ed7953"
             ],
             [
              0.7777777777777778,
              "#fb9f3a"
             ],
             [
              0.8888888888888888,
              "#fdca26"
             ],
             [
              1,
              "#f0f921"
             ]
            ],
            "type": "histogram2dcontour"
           }
          ],
          "mesh3d": [
           {
            "colorbar": {
             "outlinewidth": 0,
             "ticks": ""
            },
            "type": "mesh3d"
           }
          ],
          "parcoords": [
           {
            "line": {
             "colorbar": {
              "outlinewidth": 0,
              "ticks": ""
             }
            },
            "type": "parcoords"
           }
          ],
          "pie": [
           {
            "automargin": true,
            "type": "pie"
           }
          ],
          "scatter": [
           {
            "fillpattern": {
             "fillmode": "overlay",
             "size": 10,
             "solidity": 0.2
            },
            "type": "scatter"
           }
          ],
          "scatter3d": [
           {
            "line": {
             "colorbar": {
              "outlinewidth": 0,
              "ticks": ""
             }
            },
            "marker": {
             "colorbar": {
              "outlinewidth": 0,
              "ticks": ""
             }
            },
            "type": "scatter3d"
           }
          ],
          "scattercarpet": [
           {
            "marker": {
             "colorbar": {
              "outlinewidth": 0,
              "ticks": ""
             }
            },
            "type": "scattercarpet"
           }
          ],
          "scattergeo": [
           {
            "marker": {
             "colorbar": {
              "outlinewidth": 0,
              "ticks": ""
             }
            },
            "type": "scattergeo"
           }
          ],
          "scattergl": [
           {
            "marker": {
             "colorbar": {
              "outlinewidth": 0,
              "ticks": ""
             }
            },
            "type": "scattergl"
           }
          ],
          "scattermapbox": [
           {
            "marker": {
             "colorbar": {
              "outlinewidth": 0,
              "ticks": ""
             }
            },
            "type": "scattermapbox"
           }
          ],
          "scatterpolar": [
           {
            "marker": {
             "colorbar": {
              "outlinewidth": 0,
              "ticks": ""
             }
            },
            "type": "scatterpolar"
           }
          ],
          "scatterpolargl": [
           {
            "marker": {
             "colorbar": {
              "outlinewidth": 0,
              "ticks": ""
             }
            },
            "type": "scatterpolargl"
           }
          ],
          "scatterternary": [
           {
            "marker": {
             "colorbar": {
              "outlinewidth": 0,
              "ticks": ""
             }
            },
            "type": "scatterternary"
           }
          ],
          "surface": [
           {
            "colorbar": {
             "outlinewidth": 0,
             "ticks": ""
            },
            "colorscale": [
             [
              0,
              "#0d0887"
             ],
             [
              0.1111111111111111,
              "#46039f"
             ],
             [
              0.2222222222222222,
              "#7201a8"
             ],
             [
              0.3333333333333333,
              "#9c179e"
             ],
             [
              0.4444444444444444,
              "#bd3786"
             ],
             [
              0.5555555555555556,
              "#d8576b"
             ],
             [
              0.6666666666666666,
              "#ed7953"
             ],
             [
              0.7777777777777778,
              "#fb9f3a"
             ],
             [
              0.8888888888888888,
              "#fdca26"
             ],
             [
              1,
              "#f0f921"
             ]
            ],
            "type": "surface"
           }
          ],
          "table": [
           {
            "cells": {
             "fill": {
              "color": "#EBF0F8"
             },
             "line": {
              "color": "white"
             }
            },
            "header": {
             "fill": {
              "color": "#C8D4E3"
             },
             "line": {
              "color": "white"
             }
            },
            "type": "table"
           }
          ]
         },
         "layout": {
          "annotationdefaults": {
           "arrowcolor": "#2a3f5f",
           "arrowhead": 0,
           "arrowwidth": 1
          },
          "autotypenumbers": "strict",
          "coloraxis": {
           "colorbar": {
            "outlinewidth": 0,
            "ticks": ""
           }
          },
          "colorscale": {
           "diverging": [
            [
             0,
             "#8e0152"
            ],
            [
             0.1,
             "#c51b7d"
            ],
            [
             0.2,
             "#de77ae"
            ],
            [
             0.3,
             "#f1b6da"
            ],
            [
             0.4,
             "#fde0ef"
            ],
            [
             0.5,
             "#f7f7f7"
            ],
            [
             0.6,
             "#e6f5d0"
            ],
            [
             0.7,
             "#b8e186"
            ],
            [
             0.8,
             "#7fbc41"
            ],
            [
             0.9,
             "#4d9221"
            ],
            [
             1,
             "#276419"
            ]
           ],
           "sequential": [
            [
             0,
             "#0d0887"
            ],
            [
             0.1111111111111111,
             "#46039f"
            ],
            [
             0.2222222222222222,
             "#7201a8"
            ],
            [
             0.3333333333333333,
             "#9c179e"
            ],
            [
             0.4444444444444444,
             "#bd3786"
            ],
            [
             0.5555555555555556,
             "#d8576b"
            ],
            [
             0.6666666666666666,
             "#ed7953"
            ],
            [
             0.7777777777777778,
             "#fb9f3a"
            ],
            [
             0.8888888888888888,
             "#fdca26"
            ],
            [
             1,
             "#f0f921"
            ]
           ],
           "sequentialminus": [
            [
             0,
             "#0d0887"
            ],
            [
             0.1111111111111111,
             "#46039f"
            ],
            [
             0.2222222222222222,
             "#7201a8"
            ],
            [
             0.3333333333333333,
             "#9c179e"
            ],
            [
             0.4444444444444444,
             "#bd3786"
            ],
            [
             0.5555555555555556,
             "#d8576b"
            ],
            [
             0.6666666666666666,
             "#ed7953"
            ],
            [
             0.7777777777777778,
             "#fb9f3a"
            ],
            [
             0.8888888888888888,
             "#fdca26"
            ],
            [
             1,
             "#f0f921"
            ]
           ]
          },
          "colorway": [
           "#636efa",
           "#EF553B",
           "#00cc96",
           "#ab63fa",
           "#FFA15A",
           "#19d3f3",
           "#FF6692",
           "#B6E880",
           "#FF97FF",
           "#FECB52"
          ],
          "font": {
           "color": "#2a3f5f"
          },
          "geo": {
           "bgcolor": "white",
           "lakecolor": "white",
           "landcolor": "#E5ECF6",
           "showlakes": true,
           "showland": true,
           "subunitcolor": "white"
          },
          "hoverlabel": {
           "align": "left"
          },
          "hovermode": "closest",
          "mapbox": {
           "style": "light"
          },
          "paper_bgcolor": "white",
          "plot_bgcolor": "#E5ECF6",
          "polar": {
           "angularaxis": {
            "gridcolor": "white",
            "linecolor": "white",
            "ticks": ""
           },
           "bgcolor": "#E5ECF6",
           "radialaxis": {
            "gridcolor": "white",
            "linecolor": "white",
            "ticks": ""
           }
          },
          "scene": {
           "xaxis": {
            "backgroundcolor": "#E5ECF6",
            "gridcolor": "white",
            "gridwidth": 2,
            "linecolor": "white",
            "showbackground": true,
            "ticks": "",
            "zerolinecolor": "white"
           },
           "yaxis": {
            "backgroundcolor": "#E5ECF6",
            "gridcolor": "white",
            "gridwidth": 2,
            "linecolor": "white",
            "showbackground": true,
            "ticks": "",
            "zerolinecolor": "white"
           },
           "zaxis": {
            "backgroundcolor": "#E5ECF6",
            "gridcolor": "white",
            "gridwidth": 2,
            "linecolor": "white",
            "showbackground": true,
            "ticks": "",
            "zerolinecolor": "white"
           }
          },
          "shapedefaults": {
           "line": {
            "color": "#2a3f5f"
           }
          },
          "ternary": {
           "aaxis": {
            "gridcolor": "white",
            "linecolor": "white",
            "ticks": ""
           },
           "baxis": {
            "gridcolor": "white",
            "linecolor": "white",
            "ticks": ""
           },
           "bgcolor": "#E5ECF6",
           "caxis": {
            "gridcolor": "white",
            "linecolor": "white",
            "ticks": ""
           }
          },
          "title": {
           "x": 0.05
          },
          "xaxis": {
           "automargin": true,
           "gridcolor": "white",
           "linecolor": "white",
           "ticks": "",
           "title": {
            "standoff": 15
           },
           "zerolinecolor": "white",
           "zerolinewidth": 2
          },
          "yaxis": {
           "automargin": true,
           "gridcolor": "white",
           "linecolor": "white",
           "ticks": "",
           "title": {
            "standoff": 15
           },
           "zerolinecolor": "white",
           "zerolinewidth": 2
          }
         }
        },
        "xaxis": {
         "anchor": "y",
         "domain": [
          0,
          1
         ],
         "title": {
          "text": "State"
         }
        },
        "yaxis": {
         "anchor": "x",
         "domain": [
          0,
          1
         ],
         "title": {
          "text": "Previous_Election_won"
         }
        }
       }
      },
      "text/html": [
       "<div>                            <div id=\"212a385f-13a0-4637-bea3-50d9f5493aaf\" class=\"plotly-graph-div\" style=\"height:525px; width:100%;\"></div>            <script type=\"text/javascript\">                require([\"plotly\"], function(Plotly) {                    window.PLOTLYENV=window.PLOTLYENV || {};                                    if (document.getElementById(\"212a385f-13a0-4637-bea3-50d9f5493aaf\")) {                    Plotly.newPlot(                        \"212a385f-13a0-4637-bea3-50d9f5493aaf\",                        [{\"hovertemplate\":\"Party=Bahujan Samaj Party<br>State=%{x}<br>Previous_Election_won=%{y}<extra></extra>\",\"legendgroup\":\"Bahujan Samaj Party\",\"marker\":{\"color\":\"#636efa\",\"symbol\":\"circle\"},\"mode\":\"markers\",\"name\":\"Bahujan Samaj Party\",\"orientation\":\"v\",\"showlegend\":true,\"x\":[\"Andaman & Nicobar Islands\"],\"xaxis\":\"x\",\"y\":[414],\"yaxis\":\"y\",\"type\":\"scatter\"},{\"hovertemplate\":\"Party=Bharatiya Janata Party<br>State=%{x}<br>Previous_Election_won=%{y}<extra></extra>\",\"legendgroup\":\"Bharatiya Janata Party\",\"marker\":{\"color\":\"#EF553B\",\"symbol\":\"circle\"},\"mode\":\"markers\",\"name\":\"Bharatiya Janata Party\",\"orientation\":\"v\",\"showlegend\":true,\"x\":[\"Andhra Pradesh\"],\"xaxis\":\"x\",\"y\":[2818],\"yaxis\":\"y\",\"type\":\"scatter\"},{\"hovertemplate\":\"Party=Communist Party of India<br>State=%{x}<br>Previous_Election_won=%{y}<extra></extra>\",\"legendgroup\":\"Communist Party of India\",\"marker\":{\"color\":\"#00cc96\",\"symbol\":\"circle\"},\"mode\":\"markers\",\"name\":\"Communist Party of India\",\"orientation\":\"v\",\"showlegend\":true,\"x\":[\"Arunachal Pradesh\"],\"xaxis\":\"x\",\"y\":[77],\"yaxis\":\"y\",\"type\":\"scatter\"},{\"hovertemplate\":\"Party=Communist Party of India  (Marxist)<br>State=%{x}<br>Previous_Election_won=%{y}<extra></extra>\",\"legendgroup\":\"Communist Party of India  (Marxist)\",\"marker\":{\"color\":\"#ab63fa\",\"symbol\":\"circle\"},\"mode\":\"markers\",\"name\":\"Communist Party of India  (Marxist)\",\"orientation\":\"v\",\"showlegend\":true,\"x\":[\"Assam\"],\"xaxis\":\"x\",\"y\":[316],\"yaxis\":\"y\",\"type\":\"scatter\"},{\"hovertemplate\":\"Party=Indian National Congress<br>State=%{x}<br>Previous_Election_won=%{y}<extra></extra>\",\"legendgroup\":\"Indian National Congress\",\"marker\":{\"color\":\"#FFA15A\",\"symbol\":\"circle\"},\"mode\":\"markers\",\"name\":\"Indian National Congress\",\"orientation\":\"v\",\"showlegend\":true,\"x\":[\"Bihar\"],\"xaxis\":\"x\",\"y\":[1887],\"yaxis\":\"y\",\"type\":\"scatter\"},{\"hovertemplate\":\"Party=Nationalist Congress Party<br>State=%{x}<br>Previous_Election_won=%{y}<extra></extra>\",\"legendgroup\":\"Nationalist Congress Party\",\"marker\":{\"color\":\"#19d3f3\",\"symbol\":\"circle\"},\"mode\":\"markers\",\"name\":\"Nationalist Congress Party\",\"orientation\":\"v\",\"showlegend\":true,\"x\":[\"Chandigarh\"],\"xaxis\":\"x\",\"y\":[150],\"yaxis\":\"y\",\"type\":\"scatter\"},{\"hovertemplate\":\"Party=Aam Aadmi Party<br>State=%{x}<br>Previous_Election_won=%{y}<extra></extra>\",\"legendgroup\":\"Aam Aadmi Party\",\"marker\":{\"color\":\"#FF6692\",\"symbol\":\"circle\"},\"mode\":\"markers\",\"name\":\"Aam Aadmi Party\",\"orientation\":\"v\",\"showlegend\":true,\"x\":[\"Chhattisgarh\"],\"xaxis\":\"x\",\"y\":[201],\"yaxis\":\"y\",\"type\":\"scatter\"},{\"hovertemplate\":\"Party=AJSU Party<br>State=%{x}<br>Previous_Election_won=%{y}<extra></extra>\",\"legendgroup\":\"AJSU Party\",\"marker\":{\"color\":\"#B6E880\",\"symbol\":\"circle\"},\"mode\":\"markers\",\"name\":\"AJSU Party\",\"orientation\":\"v\",\"showlegend\":true,\"x\":[\"Dadra & Nagar Haveli\"],\"xaxis\":\"x\",\"y\":[9],\"yaxis\":\"y\",\"type\":\"scatter\"},{\"hovertemplate\":\"Party=All India Anna Dravida Munnetra Kazhagam<br>State=%{x}<br>Previous_Election_won=%{y}<extra></extra>\",\"legendgroup\":\"All India Anna Dravida Munnetra Kazhagam\",\"marker\":{\"color\":\"#FF97FF\",\"symbol\":\"circle\"},\"mode\":\"markers\",\"name\":\"All India Anna Dravida Munnetra Kazhagam\",\"orientation\":\"v\",\"showlegend\":true,\"x\":[\"Daman & Diu\"],\"xaxis\":\"x\",\"y\":[290],\"yaxis\":\"y\",\"type\":\"scatter\"},{\"hovertemplate\":\"Party=All India Forward Bloc<br>State=%{x}<br>Previous_Election_won=%{y}<extra></extra>\",\"legendgroup\":\"All India Forward Bloc\",\"marker\":{\"color\":\"#FECB52\",\"symbol\":\"circle\"},\"mode\":\"markers\",\"name\":\"All India Forward Bloc\",\"orientation\":\"v\",\"showlegend\":true,\"x\":[\"Goa\"],\"xaxis\":\"x\",\"y\":[22],\"yaxis\":\"y\",\"type\":\"scatter\"},{\"hovertemplate\":\"Party=All India N.R. Congress<br>State=%{x}<br>Previous_Election_won=%{y}<extra></extra>\",\"legendgroup\":\"All India N.R. Congress\",\"marker\":{\"color\":\"#636efa\",\"symbol\":\"circle\"},\"mode\":\"markers\",\"name\":\"All India N.R. Congress\",\"orientation\":\"v\",\"showlegend\":true,\"x\":[\"Gujarat\"],\"xaxis\":\"x\",\"y\":[4],\"yaxis\":\"y\",\"type\":\"scatter\"},{\"hovertemplate\":\"Party=All India Trinamool Congress<br>State=%{x}<br>Previous_Election_won=%{y}<extra></extra>\",\"legendgroup\":\"All India Trinamool Congress\",\"marker\":{\"color\":\"#EF553B\",\"symbol\":\"circle\"},\"mode\":\"markers\",\"name\":\"All India Trinamool Congress\",\"orientation\":\"v\",\"showlegend\":true,\"x\":[\"Haryana\"],\"xaxis\":\"x\",\"y\":[350],\"yaxis\":\"y\",\"type\":\"scatter\"},{\"hovertemplate\":\"Party=All India United Democratic Front<br>State=%{x}<br>Previous_Election_won=%{y}<extra></extra>\",\"legendgroup\":\"All India United Democratic Front\",\"marker\":{\"color\":\"#00cc96\",\"symbol\":\"circle\"},\"mode\":\"markers\",\"name\":\"All India United Democratic Front\",\"orientation\":\"v\",\"showlegend\":true,\"x\":[\"Himachal Pradesh\"],\"xaxis\":\"x\",\"y\":[39],\"yaxis\":\"y\",\"type\":\"scatter\"},{\"hovertemplate\":\"Party=Asom Gana Parishad<br>State=%{x}<br>Previous_Election_won=%{y}<extra></extra>\",\"legendgroup\":\"Asom Gana Parishad\",\"marker\":{\"color\":\"#ab63fa\",\"symbol\":\"circle\"},\"mode\":\"markers\",\"name\":\"Asom Gana Parishad\",\"orientation\":\"v\",\"showlegend\":true,\"x\":[\"Jammu & Kashmir\"],\"xaxis\":\"x\",\"y\":[10],\"yaxis\":\"y\",\"type\":\"scatter\"},{\"hovertemplate\":\"Party=Biju Janata Dal<br>State=%{x}<br>Previous_Election_won=%{y}<extra></extra>\",\"legendgroup\":\"Biju Janata Dal\",\"marker\":{\"color\":\"#FFA15A\",\"symbol\":\"circle\"},\"mode\":\"markers\",\"name\":\"Biju Janata Dal\",\"orientation\":\"v\",\"showlegend\":true,\"x\":[\"Jharkhand\"],\"xaxis\":\"x\",\"y\":[151],\"yaxis\":\"y\",\"type\":\"scatter\"},{\"hovertemplate\":\"Party=Bodoland Peoples Front<br>State=%{x}<br>Previous_Election_won=%{y}<extra></extra>\",\"legendgroup\":\"Bodoland Peoples Front\",\"marker\":{\"color\":\"#19d3f3\",\"symbol\":\"circle\"},\"mode\":\"markers\",\"name\":\"Bodoland Peoples Front\",\"orientation\":\"v\",\"showlegend\":true,\"x\":[\"Karnataka\"],\"xaxis\":\"x\",\"y\":[6],\"yaxis\":\"y\",\"type\":\"scatter\"},{\"hovertemplate\":\"Party=Desiya Murpokku Dravida Kazhagam<br>State=%{x}<br>Previous_Election_won=%{y}<extra></extra>\",\"legendgroup\":\"Desiya Murpokku Dravida Kazhagam\",\"marker\":{\"color\":\"#FF6692\",\"symbol\":\"circle\"},\"mode\":\"markers\",\"name\":\"Desiya Murpokku Dravida Kazhagam\",\"orientation\":\"v\",\"showlegend\":true,\"x\":[\"Kerala\"],\"xaxis\":\"x\",\"y\":[38],\"yaxis\":\"y\",\"type\":\"scatter\"},{\"hovertemplate\":\"Party=Dravida Munnetra Kazhagam<br>State=%{x}<br>Previous_Election_won=%{y}<extra></extra>\",\"legendgroup\":\"Dravida Munnetra Kazhagam\",\"marker\":{\"color\":\"#B6E880\",\"symbol\":\"circle\"},\"mode\":\"markers\",\"name\":\"Dravida Munnetra Kazhagam\",\"orientation\":\"v\",\"showlegend\":true,\"x\":[\"Lakshadweep\"],\"xaxis\":\"x\",\"y\":[174],\"yaxis\":\"y\",\"type\":\"scatter\"},{\"hovertemplate\":\"Party=Haryana Janhit Congress (BL)<br>State=%{x}<br>Previous_Election_won=%{y}<extra></extra>\",\"legendgroup\":\"Haryana Janhit Congress (BL)\",\"marker\":{\"color\":\"#FF97FF\",\"symbol\":\"circle\"},\"mode\":\"markers\",\"name\":\"Haryana Janhit Congress (BL)\",\"orientation\":\"v\",\"showlegend\":true,\"x\":[\"Madhya Pradesh\"],\"xaxis\":\"x\",\"y\":[13],\"yaxis\":\"y\",\"type\":\"scatter\"},{\"hovertemplate\":\"Party=Indian National Lok Dal<br>State=%{x}<br>Previous_Election_won=%{y}<extra></extra>\",\"legendgroup\":\"Indian National Lok Dal\",\"marker\":{\"color\":\"#FECB52\",\"symbol\":\"circle\"},\"mode\":\"markers\",\"name\":\"Indian National Lok Dal\",\"orientation\":\"v\",\"showlegend\":true,\"x\":[\"Maharashtra\"],\"xaxis\":\"x\",\"y\":[49],\"yaxis\":\"y\",\"type\":\"scatter\"},{\"hovertemplate\":\"Party=Indian Union Muslim League<br>State=%{x}<br>Previous_Election_won=%{y}<extra></extra>\",\"legendgroup\":\"Indian Union Muslim League\",\"marker\":{\"color\":\"#636efa\",\"symbol\":\"circle\"},\"mode\":\"markers\",\"name\":\"Indian Union Muslim League\",\"orientation\":\"v\",\"showlegend\":true,\"x\":[\"Manipur\"],\"xaxis\":\"x\",\"y\":[18],\"yaxis\":\"y\",\"type\":\"scatter\"},{\"hovertemplate\":\"Party=Jammu & Kashmir National Conference<br>State=%{x}<br>Previous_Election_won=%{y}<extra></extra>\",\"legendgroup\":\"Jammu & Kashmir National Conference\",\"marker\":{\"color\":\"#EF553B\",\"symbol\":\"circle\"},\"mode\":\"markers\",\"name\":\"Jammu & Kashmir National Conference\",\"orientation\":\"v\",\"showlegend\":true,\"x\":[\"Meghalaya\"],\"xaxis\":\"x\",\"y\":[7],\"yaxis\":\"y\",\"type\":\"scatter\"},{\"hovertemplate\":\"Party=Jammu & Kashmir National Panthers Party<br>State=%{x}<br>Previous_Election_won=%{y}<extra></extra>\",\"legendgroup\":\"Jammu & Kashmir National Panthers Party\",\"marker\":{\"color\":\"#00cc96\",\"symbol\":\"circle\"},\"mode\":\"markers\",\"name\":\"Jammu & Kashmir National Panthers Party\",\"orientation\":\"v\",\"showlegend\":true,\"x\":[\"Mizoram\"],\"xaxis\":\"x\",\"y\":[1],\"yaxis\":\"y\",\"type\":\"scatter\"},{\"hovertemplate\":\"Party=Jammu & Kashmir Peoples Democratic Party<br>State=%{x}<br>Previous_Election_won=%{y}<extra></extra>\",\"legendgroup\":\"Jammu & Kashmir Peoples Democratic Party\",\"marker\":{\"color\":\"#ab63fa\",\"symbol\":\"circle\"},\"mode\":\"markers\",\"name\":\"Jammu & Kashmir Peoples Democratic Party\",\"orientation\":\"v\",\"showlegend\":true,\"x\":[\"Nagaland\"],\"xaxis\":\"x\",\"y\":[10],\"yaxis\":\"y\",\"type\":\"scatter\"},{\"hovertemplate\":\"Party=Janata Dal  (Secular)<br>State=%{x}<br>Previous_Election_won=%{y}<extra></extra>\",\"legendgroup\":\"Janata Dal  (Secular)\",\"marker\":{\"color\":\"#FFA15A\",\"symbol\":\"circle\"},\"mode\":\"markers\",\"name\":\"Janata Dal  (Secular)\",\"orientation\":\"v\",\"showlegend\":true,\"x\":[\"NCT OF Delhi\"],\"xaxis\":\"x\",\"y\":[65],\"yaxis\":\"y\",\"type\":\"scatter\"},{\"hovertemplate\":\"Party=Janata Dal  (United)<br>State=%{x}<br>Previous_Election_won=%{y}<extra></extra>\",\"legendgroup\":\"Janata Dal  (United)\",\"marker\":{\"color\":\"#19d3f3\",\"symbol\":\"circle\"},\"mode\":\"markers\",\"name\":\"Janata Dal  (United)\",\"orientation\":\"v\",\"showlegend\":true,\"x\":[\"Odisha\"],\"xaxis\":\"x\",\"y\":[106],\"yaxis\":\"y\",\"type\":\"scatter\"},{\"hovertemplate\":\"Party=Jharkhand Mukti Morcha<br>State=%{x}<br>Previous_Election_won=%{y}<extra></extra>\",\"legendgroup\":\"Jharkhand Mukti Morcha\",\"marker\":{\"color\":\"#FF6692\",\"symbol\":\"circle\"},\"mode\":\"markers\",\"name\":\"Jharkhand Mukti Morcha\",\"orientation\":\"v\",\"showlegend\":true,\"x\":[\"Puducherry\"],\"xaxis\":\"x\",\"y\":[28],\"yaxis\":\"y\",\"type\":\"scatter\"},{\"hovertemplate\":\"Party=Jharkhand Vikas Morcha (Prajatantrik)<br>State=%{x}<br>Previous_Election_won=%{y}<extra></extra>\",\"legendgroup\":\"Jharkhand Vikas Morcha (Prajatantrik)\",\"marker\":{\"color\":\"#B6E880\",\"symbol\":\"circle\"},\"mode\":\"markers\",\"name\":\"Jharkhand Vikas Morcha (Prajatantrik)\",\"orientation\":\"v\",\"showlegend\":true,\"x\":[\"Punjab\"],\"xaxis\":\"x\",\"y\":[29],\"yaxis\":\"y\",\"type\":\"scatter\"},{\"hovertemplate\":\"Party=Kerala Congress  (M)<br>State=%{x}<br>Previous_Election_won=%{y}<extra></extra>\",\"legendgroup\":\"Kerala Congress  (M)\",\"marker\":{\"color\":\"#FF97FF\",\"symbol\":\"circle\"},\"mode\":\"markers\",\"name\":\"Kerala Congress  (M)\",\"orientation\":\"v\",\"showlegend\":true,\"x\":[\"Rajasthan\"],\"xaxis\":\"x\",\"y\":[7],\"yaxis\":\"y\",\"type\":\"scatter\"},{\"hovertemplate\":\"Party=Lok Jan Shakti Party<br>State=%{x}<br>Previous_Election_won=%{y}<extra></extra>\",\"legendgroup\":\"Lok Jan Shakti Party\",\"marker\":{\"color\":\"#FECB52\",\"symbol\":\"circle\"},\"mode\":\"markers\",\"name\":\"Lok Jan Shakti Party\",\"orientation\":\"v\",\"showlegend\":true,\"x\":[\"Sikkim\"],\"xaxis\":\"x\",\"y\":[35],\"yaxis\":\"y\",\"type\":\"scatter\"},{\"hovertemplate\":\"Party=Maharashtra Navnirman sena<br>State=%{x}<br>Previous_Election_won=%{y}<extra></extra>\",\"legendgroup\":\"Maharashtra Navnirman sena\",\"marker\":{\"color\":\"#636efa\",\"symbol\":\"circle\"},\"mode\":\"markers\",\"name\":\"Maharashtra Navnirman sena\",\"orientation\":\"v\",\"showlegend\":true,\"x\":[\"Tamil Nadu\"],\"xaxis\":\"x\",\"y\":[13],\"yaxis\":\"y\",\"type\":\"scatter\"},{\"hovertemplate\":\"Party=Naga Peoples Front<br>State=%{x}<br>Previous_Election_won=%{y}<extra></extra>\",\"legendgroup\":\"Naga Peoples Front\",\"marker\":{\"color\":\"#EF553B\",\"symbol\":\"circle\"},\"mode\":\"markers\",\"name\":\"Naga Peoples Front\",\"orientation\":\"v\",\"showlegend\":true,\"x\":[\"Tripura\"],\"xaxis\":\"x\",\"y\":[17],\"yaxis\":\"y\",\"type\":\"scatter\"},{\"hovertemplate\":\"Party=National Peoples Party<br>State=%{x}<br>Previous_Election_won=%{y}<extra></extra>\",\"legendgroup\":\"National Peoples Party\",\"marker\":{\"color\":\"#00cc96\",\"symbol\":\"circle\"},\"mode\":\"markers\",\"name\":\"National Peoples Party\",\"orientation\":\"v\",\"showlegend\":true,\"x\":[\"Uttar Pradesh\"],\"xaxis\":\"x\",\"y\":[9],\"yaxis\":\"y\",\"type\":\"scatter\"},{\"hovertemplate\":\"Party=Pattali Makkal Katchi<br>State=%{x}<br>Previous_Election_won=%{y}<extra></extra>\",\"legendgroup\":\"Pattali Makkal Katchi\",\"marker\":{\"color\":\"#ab63fa\",\"symbol\":\"circle\"},\"mode\":\"markers\",\"name\":\"Pattali Makkal Katchi\",\"orientation\":\"v\",\"showlegend\":true,\"x\":[\"Uttarakhand\"],\"xaxis\":\"x\",\"y\":[32],\"yaxis\":\"y\",\"type\":\"scatter\"},{\"hovertemplate\":\"Party=People's Party of Arunachal<br>State=%{x}<br>Previous_Election_won=%{y}<extra></extra>\",\"legendgroup\":\"People's Party of Arunachal\",\"marker\":{\"color\":\"#FFA15A\",\"symbol\":\"circle\"},\"mode\":\"markers\",\"name\":\"People's Party of Arunachal\",\"orientation\":\"v\",\"showlegend\":true,\"x\":[\"West Bengal\"],\"xaxis\":\"x\",\"y\":[1],\"yaxis\":\"y\",\"type\":\"scatter\"},{\"hovertemplate\":\"Party=Rashtriya Janata Dal<br>State=%{x}<br>Previous_Election_won=%{y}<extra></extra>\",\"legendgroup\":\"Rashtriya Janata Dal\",\"marker\":{\"color\":\"#19d3f3\",\"symbol\":\"circle\"},\"mode\":\"markers\",\"name\":\"Rashtriya Janata Dal\",\"orientation\":\"v\",\"showlegend\":true,\"x\":[\"West Bengal\"],\"xaxis\":\"x\",\"y\":[130],\"yaxis\":\"y\",\"type\":\"scatter\"},{\"hovertemplate\":\"Party=Rashtriya Lok Dal<br>State=%{x}<br>Previous_Election_won=%{y}<extra></extra>\",\"legendgroup\":\"Rashtriya Lok Dal\",\"marker\":{\"color\":\"#FF6692\",\"symbol\":\"circle\"},\"mode\":\"markers\",\"name\":\"Rashtriya Lok Dal\",\"orientation\":\"v\",\"showlegend\":true,\"x\":[\"West Bengal\"],\"xaxis\":\"x\",\"y\":[13],\"yaxis\":\"y\",\"type\":\"scatter\"},{\"hovertemplate\":\"Party=Revolutionary Socialist Party<br>State=%{x}<br>Previous_Election_won=%{y}<extra></extra>\",\"legendgroup\":\"Revolutionary Socialist Party\",\"marker\":{\"color\":\"#B6E880\",\"symbol\":\"circle\"},\"mode\":\"markers\",\"name\":\"Revolutionary Socialist Party\",\"orientation\":\"v\",\"showlegend\":true,\"x\":[\"Tamil Nadu\"],\"xaxis\":\"x\",\"y\":[29],\"yaxis\":\"y\",\"type\":\"scatter\"},{\"hovertemplate\":\"Party=Samajwadi Party<br>State=%{x}<br>Previous_Election_won=%{y}<extra></extra>\",\"legendgroup\":\"Samajwadi Party\",\"marker\":{\"color\":\"#FF97FF\",\"symbol\":\"circle\"},\"mode\":\"markers\",\"name\":\"Samajwadi Party\",\"orientation\":\"v\",\"showlegend\":true,\"x\":[\"Uttar Pradesh\"],\"xaxis\":\"x\",\"y\":[332],\"yaxis\":\"y\",\"type\":\"scatter\"},{\"hovertemplate\":\"Party=Shiromani Akali Dal<br>State=%{x}<br>Previous_Election_won=%{y}<extra></extra>\",\"legendgroup\":\"Shiromani Akali Dal\",\"marker\":{\"color\":\"#FECB52\",\"symbol\":\"circle\"},\"mode\":\"markers\",\"name\":\"Shiromani Akali Dal\",\"orientation\":\"v\",\"showlegend\":true,\"x\":[\"Gujarat\"],\"xaxis\":\"x\",\"y\":[62],\"yaxis\":\"y\",\"type\":\"scatter\"},{\"hovertemplate\":\"Party=Shivsena<br>State=%{x}<br>Previous_Election_won=%{y}<extra></extra>\",\"legendgroup\":\"Shivsena\",\"marker\":{\"color\":\"#636efa\",\"symbol\":\"circle\"},\"mode\":\"markers\",\"name\":\"Shivsena\",\"orientation\":\"v\",\"showlegend\":true,\"x\":[\"Himachal Pradesh\"],\"xaxis\":\"x\",\"y\":[167],\"yaxis\":\"y\",\"type\":\"scatter\"},{\"hovertemplate\":\"Party=Sikkim Democratic Front<br>State=%{x}<br>Previous_Election_won=%{y}<extra></extra>\",\"legendgroup\":\"Sikkim Democratic Front\",\"marker\":{\"color\":\"#EF553B\",\"symbol\":\"circle\"},\"mode\":\"markers\",\"name\":\"Sikkim Democratic Front\",\"orientation\":\"v\",\"showlegend\":true,\"x\":[\"Jammu & Kashmir\"],\"xaxis\":\"x\",\"y\":[2],\"yaxis\":\"y\",\"type\":\"scatter\"},{\"hovertemplate\":\"Party=Telangana Rashtra Samithi<br>State=%{x}<br>Previous_Election_won=%{y}<extra></extra>\",\"legendgroup\":\"Telangana Rashtra Samithi\",\"marker\":{\"color\":\"#00cc96\",\"symbol\":\"circle\"},\"mode\":\"markers\",\"name\":\"Telangana Rashtra Samithi\",\"orientation\":\"v\",\"showlegend\":true,\"x\":[\"Jharkhand\"],\"xaxis\":\"x\",\"y\":[111],\"yaxis\":\"y\",\"type\":\"scatter\"},{\"hovertemplate\":\"Party=Telugu Desam<br>State=%{x}<br>Previous_Election_won=%{y}<extra></extra>\",\"legendgroup\":\"Telugu Desam\",\"marker\":{\"color\":\"#ab63fa\",\"symbol\":\"circle\"},\"mode\":\"markers\",\"name\":\"Telugu Desam\",\"orientation\":\"v\",\"showlegend\":true,\"x\":[\"Karnataka\"],\"xaxis\":\"x\",\"y\":[239],\"yaxis\":\"y\",\"type\":\"scatter\"},{\"hovertemplate\":\"Party=United Democratic Party<br>State=%{x}<br>Previous_Election_won=%{y}<extra></extra>\",\"legendgroup\":\"United Democratic Party\",\"marker\":{\"color\":\"#FFA15A\",\"symbol\":\"circle\"},\"mode\":\"markers\",\"name\":\"United Democratic Party\",\"orientation\":\"v\",\"showlegend\":true,\"x\":[\"Kerala\"],\"xaxis\":\"x\",\"y\":[2],\"yaxis\":\"y\",\"type\":\"scatter\"},{\"hovertemplate\":\"Party=Aadijan Mukti Sena<br>State=%{x}<br>Previous_Election_won=%{y}<extra></extra>\",\"legendgroup\":\"Aadijan Mukti Sena\",\"marker\":{\"color\":\"#19d3f3\",\"symbol\":\"circle\"},\"mode\":\"markers\",\"name\":\"Aadijan Mukti Sena\",\"orientation\":\"v\",\"showlegend\":true,\"x\":[\"Lakshadweep\"],\"xaxis\":\"x\",\"y\":[0],\"yaxis\":\"y\",\"type\":\"scatter\"},{\"hovertemplate\":\"Party=Aadivasi Sena Party<br>State=%{x}<br>Previous_Election_won=%{y}<extra></extra>\",\"legendgroup\":\"Aadivasi Sena Party\",\"marker\":{\"color\":\"#FF6692\",\"symbol\":\"circle\"},\"mode\":\"markers\",\"name\":\"Aadivasi Sena Party\",\"orientation\":\"v\",\"showlegend\":true,\"x\":[\"Madhya Pradesh\"],\"xaxis\":\"x\",\"y\":[0],\"yaxis\":\"y\",\"type\":\"scatter\"},{\"hovertemplate\":\"Party=Aam Janata Party<br>State=%{x}<br>Previous_Election_won=%{y}<extra></extra>\",\"legendgroup\":\"Aam Janata Party\",\"marker\":{\"color\":\"#B6E880\",\"symbol\":\"circle\"},\"mode\":\"markers\",\"name\":\"Aam Janata Party\",\"orientation\":\"v\",\"showlegend\":true,\"x\":[\"Maharashtra\"],\"xaxis\":\"x\",\"y\":[0],\"yaxis\":\"y\",\"type\":\"scatter\"},{\"hovertemplate\":\"Party=Aama Odisha Party<br>State=%{x}<br>Previous_Election_won=%{y}<extra></extra>\",\"legendgroup\":\"Aama Odisha Party\",\"marker\":{\"color\":\"#FF97FF\",\"symbol\":\"circle\"},\"mode\":\"markers\",\"name\":\"Aama Odisha Party\",\"orientation\":\"v\",\"showlegend\":true,\"x\":[\"Manipur\"],\"xaxis\":\"x\",\"y\":[3],\"yaxis\":\"y\",\"type\":\"scatter\"},{\"hovertemplate\":\"Party=AARAKSHAN VIRODHI PARTY<br>State=%{x}<br>Previous_Election_won=%{y}<extra></extra>\",\"legendgroup\":\"AARAKSHAN VIRODHI PARTY\",\"marker\":{\"color\":\"#FECB52\",\"symbol\":\"circle\"},\"mode\":\"markers\",\"name\":\"AARAKSHAN VIRODHI PARTY\",\"orientation\":\"v\",\"showlegend\":true,\"x\":[\"Meghalaya\"],\"xaxis\":\"x\",\"y\":[0],\"yaxis\":\"y\",\"type\":\"scatter\"},{\"hovertemplate\":\"Party=Aazadi Ka Antim Aandolan Dal<br>State=%{x}<br>Previous_Election_won=%{y}<extra></extra>\",\"legendgroup\":\"Aazadi Ka Antim Aandolan Dal\",\"marker\":{\"color\":\"#636efa\",\"symbol\":\"circle\"},\"mode\":\"markers\",\"name\":\"Aazadi Ka Antim Aandolan Dal\",\"orientation\":\"v\",\"showlegend\":true,\"x\":[\"Mizoram\"],\"xaxis\":\"x\",\"y\":[0],\"yaxis\":\"y\",\"type\":\"scatter\"},{\"hovertemplate\":\"Party=Adarsh Manavtawadi Party<br>State=%{x}<br>Previous_Election_won=%{y}<extra></extra>\",\"legendgroup\":\"Adarsh Manavtawadi Party\",\"marker\":{\"color\":\"#EF553B\",\"symbol\":\"circle\"},\"mode\":\"markers\",\"name\":\"Adarsh Manavtawadi Party\",\"orientation\":\"v\",\"showlegend\":true,\"x\":[\"Nagaland\"],\"xaxis\":\"x\",\"y\":[0],\"yaxis\":\"y\",\"type\":\"scatter\"},{\"hovertemplate\":\"Party=Adarsh Rashtriya Vikas Party<br>State=%{x}<br>Previous_Election_won=%{y}<extra></extra>\",\"legendgroup\":\"Adarsh Rashtriya Vikas Party\",\"marker\":{\"color\":\"#00cc96\",\"symbol\":\"circle\"},\"mode\":\"markers\",\"name\":\"Adarsh Rashtriya Vikas Party\",\"orientation\":\"v\",\"showlegend\":true,\"x\":[\"NCT OF Delhi\"],\"xaxis\":\"x\",\"y\":[0],\"yaxis\":\"y\",\"type\":\"scatter\"},{\"hovertemplate\":\"Party=Adarsh Samaj Party<br>State=%{x}<br>Previous_Election_won=%{y}<extra></extra>\",\"legendgroup\":\"Adarsh Samaj Party\",\"marker\":{\"color\":\"#ab63fa\",\"symbol\":\"circle\"},\"mode\":\"markers\",\"name\":\"Adarsh Samaj Party\",\"orientation\":\"v\",\"showlegend\":true,\"x\":[\"Odisha\"],\"xaxis\":\"x\",\"y\":[0],\"yaxis\":\"y\",\"type\":\"scatter\"},{\"hovertemplate\":\"Party=Agar Jan Party<br>State=%{x}<br>Previous_Election_won=%{y}<extra></extra>\",\"legendgroup\":\"Agar Jan Party\",\"marker\":{\"color\":\"#FFA15A\",\"symbol\":\"circle\"},\"mode\":\"markers\",\"name\":\"Agar Jan Party\",\"orientation\":\"v\",\"showlegend\":true,\"x\":[\"Puducherry\"],\"xaxis\":\"x\",\"y\":[0],\"yaxis\":\"y\",\"type\":\"scatter\"},{\"hovertemplate\":\"Party=Akhand Bharat Samaj Party<br>State=%{x}<br>Previous_Election_won=%{y}<extra></extra>\",\"legendgroup\":\"Akhand Bharat Samaj Party\",\"marker\":{\"color\":\"#19d3f3\",\"symbol\":\"circle\"},\"mode\":\"markers\",\"name\":\"Akhand Bharat Samaj Party\",\"orientation\":\"v\",\"showlegend\":true,\"x\":[\"Punjab\"],\"xaxis\":\"x\",\"y\":[0],\"yaxis\":\"y\",\"type\":\"scatter\"},{\"hovertemplate\":\"Party=Akhil Bharat Hindu Mahasabha<br>State=%{x}<br>Previous_Election_won=%{y}<extra></extra>\",\"legendgroup\":\"Akhil Bharat Hindu Mahasabha\",\"marker\":{\"color\":\"#FF6692\",\"symbol\":\"circle\"},\"mode\":\"markers\",\"name\":\"Akhil Bharat Hindu Mahasabha\",\"orientation\":\"v\",\"showlegend\":true,\"x\":[\"Rajasthan\"],\"xaxis\":\"x\",\"y\":[1],\"yaxis\":\"y\",\"type\":\"scatter\"},{\"hovertemplate\":\"Party=Akhil Bharatiya Ashok Sena<br>State=%{x}<br>Previous_Election_won=%{y}<extra></extra>\",\"legendgroup\":\"Akhil Bharatiya Ashok Sena\",\"marker\":{\"color\":\"#B6E880\",\"symbol\":\"circle\"},\"mode\":\"markers\",\"name\":\"Akhil Bharatiya Ashok Sena\",\"orientation\":\"v\",\"showlegend\":true,\"x\":[\"Sikkim\"],\"xaxis\":\"x\",\"y\":[0],\"yaxis\":\"y\",\"type\":\"scatter\"},{\"hovertemplate\":\"Party=Akhil Bharatiya Congress Dal (Ambedkar)<br>State=%{x}<br>Previous_Election_won=%{y}<extra></extra>\",\"legendgroup\":\"Akhil Bharatiya Congress Dal (Ambedkar)\",\"marker\":{\"color\":\"#FF97FF\",\"symbol\":\"circle\"},\"mode\":\"markers\",\"name\":\"Akhil Bharatiya Congress Dal (Ambedkar)\",\"orientation\":\"v\",\"showlegend\":true,\"x\":[\"Tamil Nadu\"],\"xaxis\":\"x\",\"y\":[0],\"yaxis\":\"y\",\"type\":\"scatter\"},{\"hovertemplate\":\"Party=Akhil Bharatiya Hind Kranti Party<br>State=%{x}<br>Previous_Election_won=%{y}<extra></extra>\",\"legendgroup\":\"Akhil Bharatiya Hind Kranti Party\",\"marker\":{\"color\":\"#FECB52\",\"symbol\":\"circle\"},\"mode\":\"markers\",\"name\":\"Akhil Bharatiya Hind Kranti Party\",\"orientation\":\"v\",\"showlegend\":true,\"x\":[\"Tripura\"],\"xaxis\":\"x\",\"y\":[0],\"yaxis\":\"y\",\"type\":\"scatter\"},{\"hovertemplate\":\"Party=Akhil Bharatiya Jan Sangh<br>State=%{x}<br>Previous_Election_won=%{y}<extra></extra>\",\"legendgroup\":\"Akhil Bharatiya Jan Sangh\",\"marker\":{\"color\":\"#636efa\",\"symbol\":\"circle\"},\"mode\":\"markers\",\"name\":\"Akhil Bharatiya Jan Sangh\",\"orientation\":\"v\",\"showlegend\":true,\"x\":[\"Uttar Pradesh\"],\"xaxis\":\"x\",\"y\":[0],\"yaxis\":\"y\",\"type\":\"scatter\"},{\"hovertemplate\":\"Party=Akhil Bharatiya Manavata Paksha<br>State=%{x}<br>Previous_Election_won=%{y}<extra></extra>\",\"legendgroup\":\"Akhil Bharatiya Manavata Paksha\",\"marker\":{\"color\":\"#EF553B\",\"symbol\":\"circle\"},\"mode\":\"markers\",\"name\":\"Akhil Bharatiya Manavata Paksha\",\"orientation\":\"v\",\"showlegend\":true,\"x\":[\"Uttarakhand\"],\"xaxis\":\"x\",\"y\":[0],\"yaxis\":\"y\",\"type\":\"scatter\"},{\"hovertemplate\":\"Party=Akhil Bharatiya Muslim League (Secular)<br>State=%{x}<br>Previous_Election_won=%{y}<extra></extra>\",\"legendgroup\":\"Akhil Bharatiya Muslim League (Secular)\",\"marker\":{\"color\":\"#00cc96\",\"symbol\":\"circle\"},\"mode\":\"markers\",\"name\":\"Akhil Bharatiya Muslim League (Secular)\",\"orientation\":\"v\",\"showlegend\":true,\"x\":[\"West Bengal\"],\"xaxis\":\"x\",\"y\":[1],\"yaxis\":\"y\",\"type\":\"scatter\"},{\"hovertemplate\":\"Party=Akhil Bharatiya Rajarya Sabha<br>State=%{x}<br>Previous_Election_won=%{y}<extra></extra>\",\"legendgroup\":\"Akhil Bharatiya Rajarya Sabha\",\"marker\":{\"color\":\"#ab63fa\",\"symbol\":\"circle\"},\"mode\":\"markers\",\"name\":\"Akhil Bharatiya Rajarya Sabha\",\"orientation\":\"v\",\"showlegend\":true,\"x\":[\"Himachal Pradesh\"],\"xaxis\":\"x\",\"y\":[0],\"yaxis\":\"y\",\"type\":\"scatter\"},{\"hovertemplate\":\"Party=Akhil Bharatiya Samajwadi Congress<br>State=%{x}<br>Previous_Election_won=%{y}<extra></extra>\",\"legendgroup\":\"Akhil Bharatiya Samajwadi Congress\",\"marker\":{\"color\":\"#FFA15A\",\"symbol\":\"circle\"},\"mode\":\"markers\",\"name\":\"Akhil Bharatiya Samajwadi Congress\",\"orientation\":\"v\",\"showlegend\":true,\"x\":[\"Jammu & Kashmir\"],\"xaxis\":\"x\",\"y\":[0],\"yaxis\":\"y\",\"type\":\"scatter\"},{\"hovertemplate\":\"Party=Akhil Bharatiya Shivsena Rashtrawadi<br>State=%{x}<br>Previous_Election_won=%{y}<extra></extra>\",\"legendgroup\":\"Akhil Bharatiya Shivsena Rashtrawadi\",\"marker\":{\"color\":\"#19d3f3\",\"symbol\":\"circle\"},\"mode\":\"markers\",\"name\":\"Akhil Bharatiya Shivsena Rashtrawadi\",\"orientation\":\"v\",\"showlegend\":true,\"x\":[\"Jharkhand\"],\"xaxis\":\"x\",\"y\":[0],\"yaxis\":\"y\",\"type\":\"scatter\"},{\"hovertemplate\":\"Party=Akhil Bhartiya Aamjan Party<br>State=%{x}<br>Previous_Election_won=%{y}<extra></extra>\",\"legendgroup\":\"Akhil Bhartiya Aamjan Party\",\"marker\":{\"color\":\"#FF6692\",\"symbol\":\"circle\"},\"mode\":\"markers\",\"name\":\"Akhil Bhartiya Aamjan Party\",\"orientation\":\"v\",\"showlegend\":true,\"x\":[\"Karnataka\"],\"xaxis\":\"x\",\"y\":[0],\"yaxis\":\"y\",\"type\":\"scatter\"},{\"hovertemplate\":\"Party=Akhil Bhartiya Jharkhand Party<br>State=%{x}<br>Previous_Election_won=%{y}<extra></extra>\",\"legendgroup\":\"Akhil Bhartiya Jharkhand Party\",\"marker\":{\"color\":\"#B6E880\",\"symbol\":\"circle\"},\"mode\":\"markers\",\"name\":\"Akhil Bhartiya Jharkhand Party\",\"orientation\":\"v\",\"showlegend\":true,\"x\":[\"Kerala\"],\"xaxis\":\"x\",\"y\":[0],\"yaxis\":\"y\",\"type\":\"scatter\"},{\"hovertemplate\":\"Party=Akhil Bhartiya Mithila Party<br>State=%{x}<br>Previous_Election_won=%{y}<extra></extra>\",\"legendgroup\":\"Akhil Bhartiya Mithila Party\",\"marker\":{\"color\":\"#FF97FF\",\"symbol\":\"circle\"},\"mode\":\"markers\",\"name\":\"Akhil Bhartiya Mithila Party\",\"orientation\":\"v\",\"showlegend\":true,\"x\":[\"Lakshadweep\"],\"xaxis\":\"x\",\"y\":[0],\"yaxis\":\"y\",\"type\":\"scatter\"},{\"hovertemplate\":\"Party=Akhil Bhartiya Vikas Congress Party<br>State=%{x}<br>Previous_Election_won=%{y}<extra></extra>\",\"legendgroup\":\"Akhil Bhartiya Vikas Congress Party\",\"marker\":{\"color\":\"#FECB52\",\"symbol\":\"circle\"},\"mode\":\"markers\",\"name\":\"Akhil Bhartiya Vikas Congress Party\",\"orientation\":\"v\",\"showlegend\":true,\"x\":[\"Madhya Pradesh\"],\"xaxis\":\"x\",\"y\":[0],\"yaxis\":\"y\",\"type\":\"scatter\"},{\"hovertemplate\":\"Party=Akhil Rashtrawadi Party<br>State=%{x}<br>Previous_Election_won=%{y}<extra></extra>\",\"legendgroup\":\"Akhil Rashtrawadi Party\",\"marker\":{\"color\":\"#636efa\",\"symbol\":\"circle\"},\"mode\":\"markers\",\"name\":\"Akhil Rashtrawadi Party\",\"orientation\":\"v\",\"showlegend\":true,\"x\":[\"Maharashtra\"],\"xaxis\":\"x\",\"y\":[0],\"yaxis\":\"y\",\"type\":\"scatter\"},{\"hovertemplate\":\"Party=Al-Hind Party<br>State=%{x}<br>Previous_Election_won=%{y}<extra></extra>\",\"legendgroup\":\"Al-Hind Party\",\"marker\":{\"color\":\"#EF553B\",\"symbol\":\"circle\"},\"mode\":\"markers\",\"name\":\"Al-Hind Party\",\"orientation\":\"v\",\"showlegend\":true,\"x\":[\"Manipur\"],\"xaxis\":\"x\",\"y\":[0],\"yaxis\":\"y\",\"type\":\"scatter\"},{\"hovertemplate\":\"Party=All India Azaad Congress Party<br>State=%{x}<br>Previous_Election_won=%{y}<extra></extra>\",\"legendgroup\":\"All India Azaad Congress Party\",\"marker\":{\"color\":\"#00cc96\",\"symbol\":\"circle\"},\"mode\":\"markers\",\"name\":\"All India Azaad Congress Party\",\"orientation\":\"v\",\"showlegend\":true,\"x\":[\"Meghalaya\"],\"xaxis\":\"x\",\"y\":[0],\"yaxis\":\"y\",\"type\":\"scatter\"},{\"hovertemplate\":\"Party=All India Majlis-E-Ittehadul Muslimeen<br>State=%{x}<br>Previous_Election_won=%{y}<extra></extra>\",\"legendgroup\":\"All India Majlis-E-Ittehadul Muslimeen\",\"marker\":{\"color\":\"#ab63fa\",\"symbol\":\"circle\"},\"mode\":\"markers\",\"name\":\"All India Majlis-E-Ittehadul Muslimeen\",\"orientation\":\"v\",\"showlegend\":true,\"x\":[\"Mizoram\"],\"xaxis\":\"x\",\"y\":[11],\"yaxis\":\"y\",\"type\":\"scatter\"},{\"hovertemplate\":\"Party=All India Mazdoor Party (Rangreta)<br>State=%{x}<br>Previous_Election_won=%{y}<extra></extra>\",\"legendgroup\":\"All India Mazdoor Party (Rangreta)\",\"marker\":{\"color\":\"#FFA15A\",\"symbol\":\"circle\"},\"mode\":\"markers\",\"name\":\"All India Mazdoor Party (Rangreta)\",\"orientation\":\"v\",\"showlegend\":true,\"x\":[\"Nagaland\"],\"xaxis\":\"x\",\"y\":[0],\"yaxis\":\"y\",\"type\":\"scatter\"},{\"hovertemplate\":\"Party=All India Minorities Front<br>State=%{x}<br>Previous_Election_won=%{y}<extra></extra>\",\"legendgroup\":\"All India Minorities Front\",\"marker\":{\"color\":\"#19d3f3\",\"symbol\":\"circle\"},\"mode\":\"markers\",\"name\":\"All India Minorities Front\",\"orientation\":\"v\",\"showlegend\":true,\"x\":[\"NCT OF Delhi\"],\"xaxis\":\"x\",\"y\":[0],\"yaxis\":\"y\",\"type\":\"scatter\"},{\"hovertemplate\":\"Party=All India Peoples' Front (Radical)<br>State=%{x}<br>Previous_Election_won=%{y}<extra></extra>\",\"legendgroup\":\"All India Peoples' Front (Radical)\",\"marker\":{\"color\":\"#FF6692\",\"symbol\":\"circle\"},\"mode\":\"markers\",\"name\":\"All India Peoples' Front (Radical)\",\"orientation\":\"v\",\"showlegend\":true,\"x\":[\"Odisha\"],\"xaxis\":\"x\",\"y\":[0],\"yaxis\":\"y\",\"type\":\"scatter\"},{\"hovertemplate\":\"Party=All India Ravidas Samata Party<br>State=%{x}<br>Previous_Election_won=%{y}<extra></extra>\",\"legendgroup\":\"All India Ravidas Samata Party\",\"marker\":{\"color\":\"#B6E880\",\"symbol\":\"circle\"},\"mode\":\"markers\",\"name\":\"All India Ravidas Samata Party\",\"orientation\":\"v\",\"showlegend\":true,\"x\":[\"Puducherry\"],\"xaxis\":\"x\",\"y\":[0],\"yaxis\":\"y\",\"type\":\"scatter\"},{\"hovertemplate\":\"Party=All J & K Kisan Majdoor Party<br>State=%{x}<br>Previous_Election_won=%{y}<extra></extra>\",\"legendgroup\":\"All J & K Kisan Majdoor Party\",\"marker\":{\"color\":\"#FF97FF\",\"symbol\":\"circle\"},\"mode\":\"markers\",\"name\":\"All J & K Kisan Majdoor Party\",\"orientation\":\"v\",\"showlegend\":true,\"x\":[\"Punjab\"],\"xaxis\":\"x\",\"y\":[0],\"yaxis\":\"y\",\"type\":\"scatter\"},{\"hovertemplate\":\"Party=All Jammu and Kashmir Republican Party<br>State=%{x}<br>Previous_Election_won=%{y}<extra></extra>\",\"legendgroup\":\"All Jammu and Kashmir Republican Party\",\"marker\":{\"color\":\"#FECB52\",\"symbol\":\"circle\"},\"mode\":\"markers\",\"name\":\"All Jammu and Kashmir Republican Party\",\"orientation\":\"v\",\"showlegend\":true,\"x\":[\"Rajasthan\"],\"xaxis\":\"x\",\"y\":[0],\"yaxis\":\"y\",\"type\":\"scatter\"},{\"hovertemplate\":\"Party=Ambedkar National Congress<br>State=%{x}<br>Previous_Election_won=%{y}<extra></extra>\",\"legendgroup\":\"Ambedkar National Congress\",\"marker\":{\"color\":\"#636efa\",\"symbol\":\"circle\"},\"mode\":\"markers\",\"name\":\"Ambedkar National Congress\",\"orientation\":\"v\",\"showlegend\":true,\"x\":[\"Sikkim\"],\"xaxis\":\"x\",\"y\":[0],\"yaxis\":\"y\",\"type\":\"scatter\"},{\"hovertemplate\":\"Party=Ambedkar People's Movement<br>State=%{x}<br>Previous_Election_won=%{y}<extra></extra>\",\"legendgroup\":\"Ambedkar People's Movement\",\"marker\":{\"color\":\"#EF553B\",\"symbol\":\"circle\"},\"mode\":\"markers\",\"name\":\"Ambedkar People's Movement\",\"orientation\":\"v\",\"showlegend\":true,\"x\":[\"Tamil Nadu\"],\"xaxis\":\"x\",\"y\":[0],\"yaxis\":\"y\",\"type\":\"scatter\"},{\"hovertemplate\":\"Party=Ambedkar Samaj Party<br>State=%{x}<br>Previous_Election_won=%{y}<extra></extra>\",\"legendgroup\":\"Ambedkar Samaj Party\",\"marker\":{\"color\":\"#00cc96\",\"symbol\":\"circle\"},\"mode\":\"markers\",\"name\":\"Ambedkar Samaj Party\",\"orientation\":\"v\",\"showlegend\":true,\"x\":[\"Tripura\"],\"xaxis\":\"x\",\"y\":[0],\"yaxis\":\"y\",\"type\":\"scatter\"},{\"hovertemplate\":\"Party=Ambedkarist Republican Party<br>State=%{x}<br>Previous_Election_won=%{y}<extra></extra>\",\"legendgroup\":\"Ambedkarist Republican Party\",\"marker\":{\"color\":\"#ab63fa\",\"symbol\":\"circle\"},\"mode\":\"markers\",\"name\":\"Ambedkarist Republican Party\",\"orientation\":\"v\",\"showlegend\":true,\"x\":[\"Uttar Pradesh\"],\"xaxis\":\"x\",\"y\":[0],\"yaxis\":\"y\",\"type\":\"scatter\"},{\"hovertemplate\":\"Party=Ambedkarite Party of India<br>State=%{x}<br>Previous_Election_won=%{y}<extra></extra>\",\"legendgroup\":\"Ambedkarite Party of India\",\"marker\":{\"color\":\"#FFA15A\",\"symbol\":\"circle\"},\"mode\":\"markers\",\"name\":\"Ambedkarite Party of India\",\"orientation\":\"v\",\"showlegend\":true,\"x\":[\"Uttarakhand\"],\"xaxis\":\"x\",\"y\":[3],\"yaxis\":\"y\",\"type\":\"scatter\"},{\"hovertemplate\":\"Party=Amra Bangalee<br>State=%{x}<br>Previous_Election_won=%{y}<extra></extra>\",\"legendgroup\":\"Amra Bangalee\",\"marker\":{\"color\":\"#19d3f3\",\"symbol\":\"circle\"},\"mode\":\"markers\",\"name\":\"Amra Bangalee\",\"orientation\":\"v\",\"showlegend\":true,\"x\":[\"West Bengal\"],\"xaxis\":\"x\",\"y\":[1],\"yaxis\":\"y\",\"type\":\"scatter\"},{\"hovertemplate\":\"Party=Anaithindia Dravidar Samudaya Munnetra Kazhagam<br>State=%{x}<br>Previous_Election_won=%{y}<extra></extra>\",\"legendgroup\":\"Anaithindia Dravidar Samudaya Munnetra Kazhagam\",\"marker\":{\"color\":\"#FF6692\",\"symbol\":\"circle\"},\"mode\":\"markers\",\"name\":\"Anaithindia Dravidar Samudaya Munnetra Kazhagam\",\"orientation\":\"v\",\"showlegend\":true,\"x\":[\"Himachal Pradesh\"],\"xaxis\":\"x\",\"y\":[0],\"yaxis\":\"y\",\"type\":\"scatter\"},{\"hovertemplate\":\"Party=Andhra Pradesh Rashtra Samaikya Samithi Party<br>State=%{x}<br>Previous_Election_won=%{y}<extra></extra>\",\"legendgroup\":\"Andhra Pradesh Rashtra Samaikya Samithi Party\",\"marker\":{\"color\":\"#B6E880\",\"symbol\":\"circle\"},\"mode\":\"markers\",\"name\":\"Andhra Pradesh Rashtra Samaikya Samithi Party\",\"orientation\":\"v\",\"showlegend\":true,\"x\":[\"Jammu & Kashmir\"],\"xaxis\":\"x\",\"y\":[0],\"yaxis\":\"y\",\"type\":\"scatter\"},{\"hovertemplate\":\"Party=Andhra Rastra Praja Samithi<br>State=%{x}<br>Previous_Election_won=%{y}<extra></extra>\",\"legendgroup\":\"Andhra Rastra Praja Samithi\",\"marker\":{\"color\":\"#FF97FF\",\"symbol\":\"circle\"},\"mode\":\"markers\",\"name\":\"Andhra Rastra Praja Samithi\",\"orientation\":\"v\",\"showlegend\":true,\"x\":[\"Jharkhand\"],\"xaxis\":\"x\",\"y\":[0],\"yaxis\":\"y\",\"type\":\"scatter\"},{\"hovertemplate\":\"Party=Apna Dal<br>State=%{x}<br>Previous_Election_won=%{y}<extra></extra>\",\"legendgroup\":\"Apna Dal\",\"marker\":{\"color\":\"#FECB52\",\"symbol\":\"circle\"},\"mode\":\"markers\",\"name\":\"Apna Dal\",\"orientation\":\"v\",\"showlegend\":true,\"x\":[\"Karnataka\"],\"xaxis\":\"x\",\"y\":[13],\"yaxis\":\"y\",\"type\":\"scatter\"},{\"hovertemplate\":\"Party=Apna Dal United Party<br>State=%{x}<br>Previous_Election_won=%{y}<extra></extra>\",\"legendgroup\":\"Apna Dal United Party\",\"marker\":{\"color\":\"#636efa\",\"symbol\":\"circle\"},\"mode\":\"markers\",\"name\":\"Apna Dal United Party\",\"orientation\":\"v\",\"showlegend\":true,\"x\":[\"Kerala\"],\"xaxis\":\"x\",\"y\":[0],\"yaxis\":\"y\",\"type\":\"scatter\"},{\"hovertemplate\":\"Party=Apna Desh Party<br>State=%{x}<br>Previous_Election_won=%{y}<extra></extra>\",\"legendgroup\":\"Apna Desh Party\",\"marker\":{\"color\":\"#EF553B\",\"symbol\":\"circle\"},\"mode\":\"markers\",\"name\":\"Apna Desh Party\",\"orientation\":\"v\",\"showlegend\":true,\"x\":[\"Lakshadweep\"],\"xaxis\":\"x\",\"y\":[0],\"yaxis\":\"y\",\"type\":\"scatter\"},{\"hovertemplate\":\"Party=Asankhya Samaj Party<br>State=%{x}<br>Previous_Election_won=%{y}<extra></extra>\",\"legendgroup\":\"Asankhya Samaj Party\",\"marker\":{\"color\":\"#00cc96\",\"symbol\":\"circle\"},\"mode\":\"markers\",\"name\":\"Asankhya Samaj Party\",\"orientation\":\"v\",\"showlegend\":true,\"x\":[\"Madhya Pradesh\"],\"xaxis\":\"x\",\"y\":[0],\"yaxis\":\"y\",\"type\":\"scatter\"},{\"hovertemplate\":\"Party=Ati Picchara party<br>State=%{x}<br>Previous_Election_won=%{y}<extra></extra>\",\"legendgroup\":\"Ati Picchara party\",\"marker\":{\"color\":\"#ab63fa\",\"symbol\":\"circle\"},\"mode\":\"markers\",\"name\":\"Ati Picchara party\",\"orientation\":\"v\",\"showlegend\":true,\"x\":[\"Maharashtra\"],\"xaxis\":\"x\",\"y\":[0],\"yaxis\":\"y\",\"type\":\"scatter\"},{\"hovertemplate\":\"Party=Atulya Bharat Party<br>State=%{x}<br>Previous_Election_won=%{y}<extra></extra>\",\"legendgroup\":\"Atulya Bharat Party\",\"marker\":{\"color\":\"#FFA15A\",\"symbol\":\"circle\"},\"mode\":\"markers\",\"name\":\"Atulya Bharat Party\",\"orientation\":\"v\",\"showlegend\":true,\"x\":[\"Manipur\"],\"xaxis\":\"x\",\"y\":[0],\"yaxis\":\"y\",\"type\":\"scatter\"},{\"hovertemplate\":\"Party=awami aamjan party<br>State=%{x}<br>Previous_Election_won=%{y}<extra></extra>\",\"legendgroup\":\"awami aamjan party\",\"marker\":{\"color\":\"#19d3f3\",\"symbol\":\"circle\"},\"mode\":\"markers\",\"name\":\"awami aamjan party\",\"orientation\":\"v\",\"showlegend\":true,\"x\":[\"Meghalaya\"],\"xaxis\":\"x\",\"y\":[0],\"yaxis\":\"y\",\"type\":\"scatter\"},{\"hovertemplate\":\"Party=Awami Samta Party<br>State=%{x}<br>Previous_Election_won=%{y}<extra></extra>\",\"legendgroup\":\"Awami Samta Party\",\"marker\":{\"color\":\"#FF6692\",\"symbol\":\"circle\"},\"mode\":\"markers\",\"name\":\"Awami Samta Party\",\"orientation\":\"v\",\"showlegend\":true,\"x\":[\"Mizoram\"],\"xaxis\":\"x\",\"y\":[0],\"yaxis\":\"y\",\"type\":\"scatter\"},{\"hovertemplate\":\"Party=Awami Vikas Party<br>State=%{x}<br>Previous_Election_won=%{y}<extra></extra>\",\"legendgroup\":\"Awami Vikas Party\",\"marker\":{\"color\":\"#B6E880\",\"symbol\":\"circle\"},\"mode\":\"markers\",\"name\":\"Awami Vikas Party\",\"orientation\":\"v\",\"showlegend\":true,\"x\":[\"Nagaland\"],\"xaxis\":\"x\",\"y\":[0],\"yaxis\":\"y\",\"type\":\"scatter\"},{\"hovertemplate\":\"Party=B. C. United Front<br>State=%{x}<br>Previous_Election_won=%{y}<extra></extra>\",\"legendgroup\":\"B. C. United Front\",\"marker\":{\"color\":\"#FF97FF\",\"symbol\":\"circle\"},\"mode\":\"markers\",\"name\":\"B. C. United Front\",\"orientation\":\"v\",\"showlegend\":true,\"x\":[\"NCT OF Delhi\"],\"xaxis\":\"x\",\"y\":[0],\"yaxis\":\"y\",\"type\":\"scatter\"},{\"hovertemplate\":\"Party=B.C.Bharata Desam Party<br>State=%{x}<br>Previous_Election_won=%{y}<extra></extra>\",\"legendgroup\":\"B.C.Bharata Desam Party\",\"marker\":{\"color\":\"#FECB52\",\"symbol\":\"circle\"},\"mode\":\"markers\",\"name\":\"B.C.Bharata Desam Party\",\"orientation\":\"v\",\"showlegend\":true,\"x\":[\"Odisha\"],\"xaxis\":\"x\",\"y\":[0],\"yaxis\":\"y\",\"type\":\"scatter\"},{\"hovertemplate\":\"Party=Bahujan Kranti Party (Marxwad-Ambedkarwad)<br>State=%{x}<br>Previous_Election_won=%{y}<extra></extra>\",\"legendgroup\":\"Bahujan Kranti Party (Marxwad-Ambedkarwad)\",\"marker\":{\"color\":\"#636efa\",\"symbol\":\"circle\"},\"mode\":\"markers\",\"name\":\"Bahujan Kranti Party (Marxwad-Ambedkarwad)\",\"orientation\":\"v\",\"showlegend\":true,\"x\":[\"Puducherry\"],\"xaxis\":\"x\",\"y\":[0],\"yaxis\":\"y\",\"type\":\"scatter\"},{\"hovertemplate\":\"Party=Bahujan Mukti Party<br>State=%{x}<br>Previous_Election_won=%{y}<extra></extra>\",\"legendgroup\":\"Bahujan Mukti Party\",\"marker\":{\"color\":\"#EF553B\",\"symbol\":\"circle\"},\"mode\":\"markers\",\"name\":\"Bahujan Mukti Party\",\"orientation\":\"v\",\"showlegend\":true,\"x\":[\"Punjab\"],\"xaxis\":\"x\",\"y\":[14],\"yaxis\":\"y\",\"type\":\"scatter\"},{\"hovertemplate\":\"Party=Bahujan Samaj Party  (Ambedkar)<br>State=%{x}<br>Previous_Election_won=%{y}<extra></extra>\",\"legendgroup\":\"Bahujan Samaj Party  (Ambedkar)\",\"marker\":{\"color\":\"#00cc96\",\"symbol\":\"circle\"},\"mode\":\"markers\",\"name\":\"Bahujan Samaj Party  (Ambedkar)\",\"orientation\":\"v\",\"showlegend\":true,\"x\":[\"Rajasthan\"],\"xaxis\":\"x\",\"y\":[0],\"yaxis\":\"y\",\"type\":\"scatter\"},{\"hovertemplate\":\"Party=Bahujan Sangharsh Party (Kanshiram)<br>State=%{x}<br>Previous_Election_won=%{y}<extra></extra>\",\"legendgroup\":\"Bahujan Sangharsh Party (Kanshiram)\",\"marker\":{\"color\":\"#ab63fa\",\"symbol\":\"circle\"},\"mode\":\"markers\",\"name\":\"Bahujan Sangharsh Party (Kanshiram)\",\"orientation\":\"v\",\"showlegend\":true,\"x\":[\"Sikkim\"],\"xaxis\":\"x\",\"y\":[0],\"yaxis\":\"y\",\"type\":\"scatter\"},{\"hovertemplate\":\"Party=Bahujan Sangharshh Dal<br>State=%{x}<br>Previous_Election_won=%{y}<extra></extra>\",\"legendgroup\":\"Bahujan Sangharshh Dal\",\"marker\":{\"color\":\"#FFA15A\",\"symbol\":\"circle\"},\"mode\":\"markers\",\"name\":\"Bahujan Sangharshh Dal\",\"orientation\":\"v\",\"showlegend\":true,\"x\":[\"Tamil Nadu\"],\"xaxis\":\"x\",\"y\":[1],\"yaxis\":\"y\",\"type\":\"scatter\"},{\"hovertemplate\":\"Party=Bahujan Suraksha Dal<br>State=%{x}<br>Previous_Election_won=%{y}<extra></extra>\",\"legendgroup\":\"Bahujan Suraksha Dal\",\"marker\":{\"color\":\"#19d3f3\",\"symbol\":\"circle\"},\"mode\":\"markers\",\"name\":\"Bahujan Suraksha Dal\",\"orientation\":\"v\",\"showlegend\":true,\"x\":[\"Tripura\"],\"xaxis\":\"x\",\"y\":[0],\"yaxis\":\"y\",\"type\":\"scatter\"},{\"hovertemplate\":\"Party=Bahujan Vikas Aaghadi<br>State=%{x}<br>Previous_Election_won=%{y}<extra></extra>\",\"legendgroup\":\"Bahujan Vikas Aaghadi\",\"marker\":{\"color\":\"#FF6692\",\"symbol\":\"circle\"},\"mode\":\"markers\",\"name\":\"Bahujan Vikas Aaghadi\",\"orientation\":\"v\",\"showlegend\":true,\"x\":[\"Uttar Pradesh\"],\"xaxis\":\"x\",\"y\":[5],\"yaxis\":\"y\",\"type\":\"scatter\"},{\"hovertemplate\":\"Party=Bajjikanchal Vikas Party<br>State=%{x}<br>Previous_Election_won=%{y}<extra></extra>\",\"legendgroup\":\"Bajjikanchal Vikas Party\",\"marker\":{\"color\":\"#B6E880\",\"symbol\":\"circle\"},\"mode\":\"markers\",\"name\":\"Bajjikanchal Vikas Party\",\"orientation\":\"v\",\"showlegend\":true,\"x\":[\"Uttarakhand\"],\"xaxis\":\"x\",\"y\":[0],\"yaxis\":\"y\",\"type\":\"scatter\"},{\"hovertemplate\":\"Party=Bharat Bhrashtachar Mitao Party<br>State=%{x}<br>Previous_Election_won=%{y}<extra></extra>\",\"legendgroup\":\"Bharat Bhrashtachar Mitao Party\",\"marker\":{\"color\":\"#FF97FF\",\"symbol\":\"circle\"},\"mode\":\"markers\",\"name\":\"Bharat Bhrashtachar Mitao Party\",\"orientation\":\"v\",\"showlegend\":true,\"x\":[\"West Bengal\"],\"xaxis\":\"x\",\"y\":[0],\"yaxis\":\"y\",\"type\":\"scatter\"},{\"hovertemplate\":\"Party=Bharat Ki Lok Jimmedar Party<br>State=%{x}<br>Previous_Election_won=%{y}<extra></extra>\",\"legendgroup\":\"Bharat Ki Lok Jimmedar Party\",\"marker\":{\"color\":\"#FECB52\",\"symbol\":\"circle\"},\"mode\":\"markers\",\"name\":\"Bharat Ki Lok Jimmedar Party\",\"orientation\":\"v\",\"showlegend\":true,\"x\":[\"Himachal Pradesh\"],\"xaxis\":\"x\",\"y\":[0],\"yaxis\":\"y\",\"type\":\"scatter\"},{\"hovertemplate\":\"Party=Bharat Nav Nirman Party<br>State=%{x}<br>Previous_Election_won=%{y}<extra></extra>\",\"legendgroup\":\"Bharat Nav Nirman Party\",\"marker\":{\"color\":\"#636efa\",\"symbol\":\"circle\"},\"mode\":\"markers\",\"name\":\"Bharat Nav Nirman Party\",\"orientation\":\"v\",\"showlegend\":true,\"x\":[\"Jammu & Kashmir\"],\"xaxis\":\"x\",\"y\":[0],\"yaxis\":\"y\",\"type\":\"scatter\"},{\"hovertemplate\":\"Party=Bharat Nirman Party<br>State=%{x}<br>Previous_Election_won=%{y}<extra></extra>\",\"legendgroup\":\"Bharat Nirman Party\",\"marker\":{\"color\":\"#EF553B\",\"symbol\":\"circle\"},\"mode\":\"markers\",\"name\":\"Bharat Nirman Party\",\"orientation\":\"v\",\"showlegend\":true,\"x\":[\"Jharkhand\"],\"xaxis\":\"x\",\"y\":[0],\"yaxis\":\"y\",\"type\":\"scatter\"},{\"hovertemplate\":\"Party=Bharat Vikas Morcha<br>State=%{x}<br>Previous_Election_won=%{y}<extra></extra>\",\"legendgroup\":\"Bharat Vikas Morcha\",\"marker\":{\"color\":\"#00cc96\",\"symbol\":\"circle\"},\"mode\":\"markers\",\"name\":\"Bharat Vikas Morcha\",\"orientation\":\"v\",\"showlegend\":true,\"x\":[\"Karnataka\"],\"xaxis\":\"x\",\"y\":[1],\"yaxis\":\"y\",\"type\":\"scatter\"},{\"hovertemplate\":\"Party=Bharat Vishal Party<br>State=%{x}<br>Previous_Election_won=%{y}<extra></extra>\",\"legendgroup\":\"Bharat Vishal Party\",\"marker\":{\"color\":\"#ab63fa\",\"symbol\":\"circle\"},\"mode\":\"markers\",\"name\":\"Bharat Vishal Party\",\"orientation\":\"v\",\"showlegend\":true,\"x\":[\"Kerala\"],\"xaxis\":\"x\",\"y\":[0],\"yaxis\":\"y\",\"type\":\"scatter\"},{\"hovertemplate\":\"Party=Bharatiya Bahujan Congress<br>State=%{x}<br>Previous_Election_won=%{y}<extra></extra>\",\"legendgroup\":\"Bharatiya Bahujan Congress\",\"marker\":{\"color\":\"#FFA15A\",\"symbol\":\"circle\"},\"mode\":\"markers\",\"name\":\"Bharatiya Bahujan Congress\",\"orientation\":\"v\",\"showlegend\":true,\"x\":[\"Lakshadweep\"],\"xaxis\":\"x\",\"y\":[0],\"yaxis\":\"y\",\"type\":\"scatter\"},{\"hovertemplate\":\"Party=Bharatiya Bahujan Party<br>State=%{x}<br>Previous_Election_won=%{y}<extra></extra>\",\"legendgroup\":\"Bharatiya Bahujan Party\",\"marker\":{\"color\":\"#19d3f3\",\"symbol\":\"circle\"},\"mode\":\"markers\",\"name\":\"Bharatiya Bahujan Party\",\"orientation\":\"v\",\"showlegend\":true,\"x\":[\"Madhya Pradesh\"],\"xaxis\":\"x\",\"y\":[0],\"yaxis\":\"y\",\"type\":\"scatter\"},{\"hovertemplate\":\"Party=Bharatiya Dr. B.R.Ambedkar Janta Party<br>State=%{x}<br>Previous_Election_won=%{y}<extra></extra>\",\"legendgroup\":\"Bharatiya Dr. B.R.Ambedkar Janta Party\",\"marker\":{\"color\":\"#FF6692\",\"symbol\":\"circle\"},\"mode\":\"markers\",\"name\":\"Bharatiya Dr. B.R.Ambedkar Janta Party\",\"orientation\":\"v\",\"showlegend\":true,\"x\":[\"Maharashtra\"],\"xaxis\":\"x\",\"y\":[0],\"yaxis\":\"y\",\"type\":\"scatter\"},{\"hovertemplate\":\"Party=Bharatiya Ekta Dal<br>State=%{x}<br>Previous_Election_won=%{y}<extra></extra>\",\"legendgroup\":\"Bharatiya Ekta Dal\",\"marker\":{\"color\":\"#B6E880\",\"symbol\":\"circle\"},\"mode\":\"markers\",\"name\":\"Bharatiya Ekta Dal\",\"orientation\":\"v\",\"showlegend\":true,\"x\":[\"Manipur\"],\"xaxis\":\"x\",\"y\":[2],\"yaxis\":\"y\",\"type\":\"scatter\"},{\"hovertemplate\":\"Party=Bharatiya Gaon Taj Dal<br>State=%{x}<br>Previous_Election_won=%{y}<extra></extra>\",\"legendgroup\":\"Bharatiya Gaon Taj Dal\",\"marker\":{\"color\":\"#FF97FF\",\"symbol\":\"circle\"},\"mode\":\"markers\",\"name\":\"Bharatiya Gaon Taj Dal\",\"orientation\":\"v\",\"showlegend\":true,\"x\":[\"Meghalaya\"],\"xaxis\":\"x\",\"y\":[0],\"yaxis\":\"y\",\"type\":\"scatter\"},{\"hovertemplate\":\"Party=Bharatiya Inqalab Party<br>State=%{x}<br>Previous_Election_won=%{y}<extra></extra>\",\"legendgroup\":\"Bharatiya Inqalab Party\",\"marker\":{\"color\":\"#FECB52\",\"symbol\":\"circle\"},\"mode\":\"markers\",\"name\":\"Bharatiya Inqalab Party\",\"orientation\":\"v\",\"showlegend\":true,\"x\":[\"Mizoram\"],\"xaxis\":\"x\",\"y\":[0],\"yaxis\":\"y\",\"type\":\"scatter\"},{\"hovertemplate\":\"Party=Bharatiya Jan Kranti Dal (Democratic)<br>State=%{x}<br>Previous_Election_won=%{y}<extra></extra>\",\"legendgroup\":\"Bharatiya Jan Kranti Dal (Democratic)\",\"marker\":{\"color\":\"#636efa\",\"symbol\":\"circle\"},\"mode\":\"markers\",\"name\":\"Bharatiya Jan Kranti Dal (Democratic)\",\"orientation\":\"v\",\"showlegend\":true,\"x\":[\"Nagaland\"],\"xaxis\":\"x\",\"y\":[0],\"yaxis\":\"y\",\"type\":\"scatter\"},{\"hovertemplate\":\"Party=Bharatiya Jawala Shakti Paksha <br>State=%{x}<br>Previous_Election_won=%{y}<extra></extra>\",\"legendgroup\":\"Bharatiya Jawala Shakti Paksha \",\"marker\":{\"color\":\"#EF553B\",\"symbol\":\"circle\"},\"mode\":\"markers\",\"name\":\"Bharatiya Jawala Shakti Paksha \",\"orientation\":\"v\",\"showlegend\":true,\"x\":[\"NCT OF Delhi\"],\"xaxis\":\"x\",\"y\":[0],\"yaxis\":\"y\",\"type\":\"scatter\"},{\"hovertemplate\":\"Party=Bharatiya Kisan Parivartan Party<br>State=%{x}<br>Previous_Election_won=%{y}<extra></extra>\",\"legendgroup\":\"Bharatiya Kisan Parivartan Party\",\"marker\":{\"color\":\"#00cc96\",\"symbol\":\"circle\"},\"mode\":\"markers\",\"name\":\"Bharatiya Kisan Parivartan Party\",\"orientation\":\"v\",\"showlegend\":true,\"x\":[\"Odisha\"],\"xaxis\":\"x\",\"y\":[0],\"yaxis\":\"y\",\"type\":\"scatter\"},{\"hovertemplate\":\"Party=Bharatiya Kisan Sena Loktantrik<br>State=%{x}<br>Previous_Election_won=%{y}<extra></extra>\",\"legendgroup\":\"Bharatiya Kisan Sena Loktantrik\",\"marker\":{\"color\":\"#ab63fa\",\"symbol\":\"circle\"},\"mode\":\"markers\",\"name\":\"Bharatiya Kisan Sena Loktantrik\",\"orientation\":\"v\",\"showlegend\":true,\"x\":[\"Puducherry\"],\"xaxis\":\"x\",\"y\":[0],\"yaxis\":\"y\",\"type\":\"scatter\"},{\"hovertemplate\":\"Party=Bharatiya Minorities Suraksha Mahasangh<br>State=%{x}<br>Previous_Election_won=%{y}<extra></extra>\",\"legendgroup\":\"Bharatiya Minorities Suraksha Mahasangh\",\"marker\":{\"color\":\"#FFA15A\",\"symbol\":\"circle\"},\"mode\":\"markers\",\"name\":\"Bharatiya Minorities Suraksha Mahasangh\",\"orientation\":\"v\",\"showlegend\":true,\"x\":[\"Punjab\"],\"xaxis\":\"x\",\"y\":[0],\"yaxis\":\"y\",\"type\":\"scatter\"},{\"hovertemplate\":\"Party=Bharatiya Momin Front<br>State=%{x}<br>Previous_Election_won=%{y}<extra></extra>\",\"legendgroup\":\"Bharatiya Momin Front\",\"marker\":{\"color\":\"#19d3f3\",\"symbol\":\"circle\"},\"mode\":\"markers\",\"name\":\"Bharatiya Momin Front\",\"orientation\":\"v\",\"showlegend\":true,\"x\":[\"Rajasthan\"],\"xaxis\":\"x\",\"y\":[0],\"yaxis\":\"y\",\"type\":\"scatter\"},{\"hovertemplate\":\"Party=Bharatiya Mool Niwasi Samaj Party<br>State=%{x}<br>Previous_Election_won=%{y}<extra></extra>\",\"legendgroup\":\"Bharatiya Mool Niwasi Samaj Party\",\"marker\":{\"color\":\"#FF6692\",\"symbol\":\"circle\"},\"mode\":\"markers\",\"name\":\"Bharatiya Mool Niwasi Samaj Party\",\"orientation\":\"v\",\"showlegend\":true,\"x\":[\"Sikkim\"],\"xaxis\":\"x\",\"y\":[0],\"yaxis\":\"y\",\"type\":\"scatter\"},{\"hovertemplate\":\"Party=Bharatiya National Janta Dal<br>State=%{x}<br>Previous_Election_won=%{y}<extra></extra>\",\"legendgroup\":\"Bharatiya National Janta Dal\",\"marker\":{\"color\":\"#B6E880\",\"symbol\":\"circle\"},\"mode\":\"markers\",\"name\":\"Bharatiya National Janta Dal\",\"orientation\":\"v\",\"showlegend\":true,\"x\":[\"Tamil Nadu\"],\"xaxis\":\"x\",\"y\":[0],\"yaxis\":\"y\",\"type\":\"scatter\"},{\"hovertemplate\":\"Party=Bharatiya Nav Kranti Party<br>State=%{x}<br>Previous_Election_won=%{y}<extra></extra>\",\"legendgroup\":\"Bharatiya Nav Kranti Party\",\"marker\":{\"color\":\"#FF97FF\",\"symbol\":\"circle\"},\"mode\":\"markers\",\"name\":\"Bharatiya Nav Kranti Party\",\"orientation\":\"v\",\"showlegend\":true,\"x\":[\"Tripura\"],\"xaxis\":\"x\",\"y\":[0],\"yaxis\":\"y\",\"type\":\"scatter\"},{\"hovertemplate\":\"Party=Bharatiya Navyuvak Party<br>State=%{x}<br>Previous_Election_won=%{y}<extra></extra>\",\"legendgroup\":\"Bharatiya Navyuvak Party\",\"marker\":{\"color\":\"#FECB52\",\"symbol\":\"circle\"},\"mode\":\"markers\",\"name\":\"Bharatiya Navyuvak Party\",\"orientation\":\"v\",\"showlegend\":true,\"x\":[\"Uttar Pradesh\"],\"xaxis\":\"x\",\"y\":[0],\"yaxis\":\"y\",\"type\":\"scatter\"},{\"hovertemplate\":\"Party=Bharatiya Peoples Party<br>State=%{x}<br>Previous_Election_won=%{y}<extra></extra>\",\"legendgroup\":\"Bharatiya Peoples Party\",\"marker\":{\"color\":\"#636efa\",\"symbol\":\"circle\"},\"mode\":\"markers\",\"name\":\"Bharatiya Peoples Party\",\"orientation\":\"v\",\"showlegend\":true,\"x\":[\"Uttarakhand\"],\"xaxis\":\"x\",\"y\":[0],\"yaxis\":\"y\",\"type\":\"scatter\"},{\"hovertemplate\":\"Party=Bharatiya Rashtriya Bahujan Samaj Vikas Party<br>State=%{x}<br>Previous_Election_won=%{y}<extra></extra>\",\"legendgroup\":\"Bharatiya Rashtriya Bahujan Samaj Vikas Party\",\"marker\":{\"color\":\"#EF553B\",\"symbol\":\"circle\"},\"mode\":\"markers\",\"name\":\"Bharatiya Rashtriya Bahujan Samaj Vikas Party\",\"orientation\":\"v\",\"showlegend\":true,\"x\":[\"West Bengal\"],\"xaxis\":\"x\",\"y\":[0],\"yaxis\":\"y\",\"type\":\"scatter\"},{\"hovertemplate\":\"Party=Bharatiya Rashtriya Mazdoor Dal<br>State=%{x}<br>Previous_Election_won=%{y}<extra></extra>\",\"legendgroup\":\"Bharatiya Rashtriya Mazdoor Dal\",\"marker\":{\"color\":\"#00cc96\",\"symbol\":\"circle\"},\"mode\":\"markers\",\"name\":\"Bharatiya Rashtriya Mazdoor Dal\",\"orientation\":\"v\",\"showlegend\":true,\"x\":[\"Himachal Pradesh\"],\"xaxis\":\"x\",\"y\":[0],\"yaxis\":\"y\",\"type\":\"scatter\"},{\"hovertemplate\":\"Party=Bharatiya Republican Paksha<br>State=%{x}<br>Previous_Election_won=%{y}<extra></extra>\",\"legendgroup\":\"Bharatiya Republican Paksha\",\"marker\":{\"color\":\"#ab63fa\",\"symbol\":\"circle\"},\"mode\":\"markers\",\"name\":\"Bharatiya Republican Paksha\",\"orientation\":\"v\",\"showlegend\":true,\"x\":[\"Jammu & Kashmir\"],\"xaxis\":\"x\",\"y\":[0],\"yaxis\":\"y\",\"type\":\"scatter\"},{\"hovertemplate\":\"Party=Bharatiya Samaj Dal<br>State=%{x}<br>Previous_Election_won=%{y}<extra></extra>\",\"legendgroup\":\"Bharatiya Samaj Dal\",\"marker\":{\"color\":\"#FFA15A\",\"symbol\":\"circle\"},\"mode\":\"markers\",\"name\":\"Bharatiya Samaj Dal\",\"orientation\":\"v\",\"showlegend\":true,\"x\":[\"Jharkhand\"],\"xaxis\":\"x\",\"y\":[0],\"yaxis\":\"y\",\"type\":\"scatter\"},{\"hovertemplate\":\"Party=Bharatiya Sant Mat Party<br>State=%{x}<br>Previous_Election_won=%{y}<extra></extra>\",\"legendgroup\":\"Bharatiya Sant Mat Party\",\"marker\":{\"color\":\"#19d3f3\",\"symbol\":\"circle\"},\"mode\":\"markers\",\"name\":\"Bharatiya Sant Mat Party\",\"orientation\":\"v\",\"showlegend\":true,\"x\":[\"Karnataka\"],\"xaxis\":\"x\",\"y\":[0],\"yaxis\":\"y\",\"type\":\"scatter\"},{\"hovertemplate\":\"Party=Bharatiya Sarvodaya Kranti Party<br>State=%{x}<br>Previous_Election_won=%{y}<extra></extra>\",\"legendgroup\":\"Bharatiya Sarvodaya Kranti Party\",\"marker\":{\"color\":\"#FF6692\",\"symbol\":\"circle\"},\"mode\":\"markers\",\"name\":\"Bharatiya Sarvodaya Kranti Party\",\"orientation\":\"v\",\"showlegend\":true,\"x\":[\"Kerala\"],\"xaxis\":\"x\",\"y\":[0],\"yaxis\":\"y\",\"type\":\"scatter\"},{\"hovertemplate\":\"Party=Bharatiya Yuva Shakti<br>State=%{x}<br>Previous_Election_won=%{y}<extra></extra>\",\"legendgroup\":\"Bharatiya Yuva Shakti\",\"marker\":{\"color\":\"#B6E880\",\"symbol\":\"circle\"},\"mode\":\"markers\",\"name\":\"Bharatiya Yuva Shakti\",\"orientation\":\"v\",\"showlegend\":true,\"x\":[\"Lakshadweep\"],\"xaxis\":\"x\",\"y\":[1],\"yaxis\":\"y\",\"type\":\"scatter\"},{\"hovertemplate\":\"Party=Bharipa Bahujan Mahasangh<br>State=%{x}<br>Previous_Election_won=%{y}<extra></extra>\",\"legendgroup\":\"Bharipa Bahujan Mahasangh\",\"marker\":{\"color\":\"#FF97FF\",\"symbol\":\"circle\"},\"mode\":\"markers\",\"name\":\"Bharipa Bahujan Mahasangh\",\"orientation\":\"v\",\"showlegend\":true,\"x\":[\"Madhya Pradesh\"],\"xaxis\":\"x\",\"y\":[7],\"yaxis\":\"y\",\"type\":\"scatter\"},{\"hovertemplate\":\"Party=Bharti Jan Suraksha Party<br>State=%{x}<br>Previous_Election_won=%{y}<extra></extra>\",\"legendgroup\":\"Bharti Jan Suraksha Party\",\"marker\":{\"color\":\"#FECB52\",\"symbol\":\"circle\"},\"mode\":\"markers\",\"name\":\"Bharti Jan Suraksha Party\",\"orientation\":\"v\",\"showlegend\":true,\"x\":[\"Maharashtra\"],\"xaxis\":\"x\",\"y\":[0],\"yaxis\":\"y\",\"type\":\"scatter\"},{\"hovertemplate\":\"Party=Bhartiya  Sarvjan Party<br>State=%{x}<br>Previous_Election_won=%{y}<extra></extra>\",\"legendgroup\":\"Bhartiya  Sarvjan Party\",\"marker\":{\"color\":\"#636efa\",\"symbol\":\"circle\"},\"mode\":\"markers\",\"name\":\"Bhartiya  Sarvjan Party\",\"orientation\":\"v\",\"showlegend\":true,\"x\":[\"Manipur\"],\"xaxis\":\"x\",\"y\":[0],\"yaxis\":\"y\",\"type\":\"scatter\"},{\"hovertemplate\":\"Party=Bhartiya Chaitanya Party<br>State=%{x}<br>Previous_Election_won=%{y}<extra></extra>\",\"legendgroup\":\"Bhartiya Chaitanya Party\",\"marker\":{\"color\":\"#EF553B\",\"symbol\":\"circle\"},\"mode\":\"markers\",\"name\":\"Bhartiya Chaitanya Party\",\"orientation\":\"v\",\"showlegend\":true,\"x\":[\"Meghalaya\"],\"xaxis\":\"x\",\"y\":[0],\"yaxis\":\"y\",\"type\":\"scatter\"},{\"hovertemplate\":\"Party=Bhartiya Ekta Manch Party<br>State=%{x}<br>Previous_Election_won=%{y}<extra></extra>\",\"legendgroup\":\"Bhartiya Ekta Manch Party\",\"marker\":{\"color\":\"#00cc96\",\"symbol\":\"circle\"},\"mode\":\"markers\",\"name\":\"Bhartiya Ekta Manch Party\",\"orientation\":\"v\",\"showlegend\":true,\"x\":[\"Mizoram\"],\"xaxis\":\"x\",\"y\":[0],\"yaxis\":\"y\",\"type\":\"scatter\"},{\"hovertemplate\":\"Party=Bhartiya Jan Manch<br>State=%{x}<br>Previous_Election_won=%{y}<extra></extra>\",\"legendgroup\":\"Bhartiya Jan Manch\",\"marker\":{\"color\":\"#ab63fa\",\"symbol\":\"circle\"},\"mode\":\"markers\",\"name\":\"Bhartiya Jan Manch\",\"orientation\":\"v\",\"showlegend\":true,\"x\":[\"Nagaland\"],\"xaxis\":\"x\",\"y\":[0],\"yaxis\":\"y\",\"type\":\"scatter\"},{\"hovertemplate\":\"Party=Bhartiya Jan Yug Party<br>State=%{x}<br>Previous_Election_won=%{y}<extra></extra>\",\"legendgroup\":\"Bhartiya Jan Yug Party\",\"marker\":{\"color\":\"#FFA15A\",\"symbol\":\"circle\"},\"mode\":\"markers\",\"name\":\"Bhartiya Jan Yug Party\",\"orientation\":\"v\",\"showlegend\":true,\"x\":[\"NCT OF Delhi\"],\"xaxis\":\"x\",\"y\":[0],\"yaxis\":\"y\",\"type\":\"scatter\"},{\"hovertemplate\":\"Party=Bhartiya Janta Dal (Integrated)<br>State=%{x}<br>Previous_Election_won=%{y}<extra></extra>\",\"legendgroup\":\"Bhartiya Janta Dal (Integrated)\",\"marker\":{\"color\":\"#19d3f3\",\"symbol\":\"circle\"},\"mode\":\"markers\",\"name\":\"Bhartiya Janta Dal (Integrated)\",\"orientation\":\"v\",\"showlegend\":true,\"x\":[\"Odisha\"],\"xaxis\":\"x\",\"y\":[0],\"yaxis\":\"y\",\"type\":\"scatter\"},{\"hovertemplate\":\"Party=Bhartiya Jantantrik Janata Dal<br>State=%{x}<br>Previous_Election_won=%{y}<extra></extra>\",\"legendgroup\":\"Bhartiya Jantantrik Janata Dal\",\"marker\":{\"color\":\"#FF6692\",\"symbol\":\"circle\"},\"mode\":\"markers\",\"name\":\"Bhartiya Jantantrik Janata Dal\",\"orientation\":\"v\",\"showlegend\":true,\"x\":[\"Puducherry\"],\"xaxis\":\"x\",\"y\":[0],\"yaxis\":\"y\",\"type\":\"scatter\"},{\"hovertemplate\":\"Party=Bhartiya Krishak Dal<br>State=%{x}<br>Previous_Election_won=%{y}<extra></extra>\",\"legendgroup\":\"Bhartiya Krishak Dal\",\"marker\":{\"color\":\"#B6E880\",\"symbol\":\"circle\"},\"mode\":\"markers\",\"name\":\"Bhartiya Krishak Dal\",\"orientation\":\"v\",\"showlegend\":true,\"x\":[\"Punjab\"],\"xaxis\":\"x\",\"y\":[0],\"yaxis\":\"y\",\"type\":\"scatter\"},{\"hovertemplate\":\"Party=Bhartiya Naujawan Inklav Party<br>State=%{x}<br>Previous_Election_won=%{y}<extra></extra>\",\"legendgroup\":\"Bhartiya Naujawan Inklav Party\",\"marker\":{\"color\":\"#FF97FF\",\"symbol\":\"circle\"},\"mode\":\"markers\",\"name\":\"Bhartiya Naujawan Inklav Party\",\"orientation\":\"v\",\"showlegend\":true,\"x\":[\"Rajasthan\"],\"xaxis\":\"x\",\"y\":[0],\"yaxis\":\"y\",\"type\":\"scatter\"},{\"hovertemplate\":\"Party=Bhartiya Navjawan Sena (Paksha)<br>State=%{x}<br>Previous_Election_won=%{y}<extra></extra>\",\"legendgroup\":\"Bhartiya Navjawan Sena (Paksha)\",\"marker\":{\"color\":\"#FECB52\",\"symbol\":\"circle\"},\"mode\":\"markers\",\"name\":\"Bhartiya Navjawan Sena (Paksha)\",\"orientation\":\"v\",\"showlegend\":true,\"x\":[\"Sikkim\"],\"xaxis\":\"x\",\"y\":[0],\"yaxis\":\"y\",\"type\":\"scatter\"},{\"hovertemplate\":\"Party=Bhartiya Party<br>State=%{x}<br>Previous_Election_won=%{y}<extra></extra>\",\"legendgroup\":\"Bhartiya Party\",\"marker\":{\"color\":\"#636efa\",\"symbol\":\"circle\"},\"mode\":\"markers\",\"name\":\"Bhartiya Party\",\"orientation\":\"v\",\"showlegend\":true,\"x\":[\"Tamil Nadu\"],\"xaxis\":\"x\",\"y\":[0],\"yaxis\":\"y\",\"type\":\"scatter\"},{\"hovertemplate\":\"Party=Bhartiya Pragatisheel Congress<br>State=%{x}<br>Previous_Election_won=%{y}<extra></extra>\",\"legendgroup\":\"Bhartiya Pragatisheel Congress\",\"marker\":{\"color\":\"#EF553B\",\"symbol\":\"circle\"},\"mode\":\"markers\",\"name\":\"Bhartiya Pragatisheel Congress\",\"orientation\":\"v\",\"showlegend\":true,\"x\":[\"Tripura\"],\"xaxis\":\"x\",\"y\":[0],\"yaxis\":\"y\",\"type\":\"scatter\"},{\"hovertemplate\":\"Party=Bhartiya Republican Party (Insan)<br>State=%{x}<br>Previous_Election_won=%{y}<extra></extra>\",\"legendgroup\":\"Bhartiya Republican Party (Insan)\",\"marker\":{\"color\":\"#00cc96\",\"symbol\":\"circle\"},\"mode\":\"markers\",\"name\":\"Bhartiya Republican Party (Insan)\",\"orientation\":\"v\",\"showlegend\":true,\"x\":[\"Uttar Pradesh\"],\"xaxis\":\"x\",\"y\":[0],\"yaxis\":\"y\",\"type\":\"scatter\"},{\"hovertemplate\":\"Party=Bhartiya Samajik Kranti Dal<br>State=%{x}<br>Previous_Election_won=%{y}<extra></extra>\",\"legendgroup\":\"Bhartiya Samajik Kranti Dal\",\"marker\":{\"color\":\"#ab63fa\",\"symbol\":\"circle\"},\"mode\":\"markers\",\"name\":\"Bhartiya Samajik Kranti Dal\",\"orientation\":\"v\",\"showlegend\":true,\"x\":[\"Uttarakhand\"],\"xaxis\":\"x\",\"y\":[0],\"yaxis\":\"y\",\"type\":\"scatter\"},{\"hovertemplate\":\"Party=Bhartiya Satya Sangharsh Party<br>State=%{x}<br>Previous_Election_won=%{y}<extra></extra>\",\"legendgroup\":\"Bhartiya Satya Sangharsh Party\",\"marker\":{\"color\":\"#FFA15A\",\"symbol\":\"circle\"},\"mode\":\"markers\",\"name\":\"Bhartiya Satya Sangharsh Party\",\"orientation\":\"v\",\"showlegend\":true,\"x\":[\"West Bengal\"],\"xaxis\":\"x\",\"y\":[0],\"yaxis\":\"y\",\"type\":\"scatter\"},{\"hovertemplate\":\"Party=Bhartiya Shakti Chetna Party<br>State=%{x}<br>Previous_Election_won=%{y}<extra></extra>\",\"legendgroup\":\"Bhartiya Shakti Chetna Party\",\"marker\":{\"color\":\"#19d3f3\",\"symbol\":\"circle\"},\"mode\":\"markers\",\"name\":\"Bhartiya Shakti Chetna Party\",\"orientation\":\"v\",\"showlegend\":true,\"x\":[\"Himachal Pradesh\"],\"xaxis\":\"x\",\"y\":[1],\"yaxis\":\"y\",\"type\":\"scatter\"},{\"hovertemplate\":\"Party=Bhartiya Shramik Dal Socialist<br>State=%{x}<br>Previous_Election_won=%{y}<extra></extra>\",\"legendgroup\":\"Bhartiya Shramik Dal Socialist\",\"marker\":{\"color\":\"#FF6692\",\"symbol\":\"circle\"},\"mode\":\"markers\",\"name\":\"Bhartiya Shramik Dal Socialist\",\"orientation\":\"v\",\"showlegend\":true,\"x\":[\"Jammu & Kashmir\"],\"xaxis\":\"x\",\"y\":[0],\"yaxis\":\"y\",\"type\":\"scatter\"},{\"hovertemplate\":\"Party=Bhartiya Vanchitsamaj Party<br>State=%{x}<br>Previous_Election_won=%{y}<extra></extra>\",\"legendgroup\":\"Bhartiya Vanchitsamaj Party\",\"marker\":{\"color\":\"#B6E880\",\"symbol\":\"circle\"},\"mode\":\"markers\",\"name\":\"Bhartiya Vanchitsamaj Party\",\"orientation\":\"v\",\"showlegend\":true,\"x\":[\"Jharkhand\"],\"xaxis\":\"x\",\"y\":[0],\"yaxis\":\"y\",\"type\":\"scatter\"},{\"hovertemplate\":\"Party=Bhartiya Vikas Party<br>State=%{x}<br>Previous_Election_won=%{y}<extra></extra>\",\"legendgroup\":\"Bhartiya Vikas Party\",\"marker\":{\"color\":\"#FF97FF\",\"symbol\":\"circle\"},\"mode\":\"markers\",\"name\":\"Bhartiya Vikas Party\",\"orientation\":\"v\",\"showlegend\":true,\"x\":[\"Karnataka\"],\"xaxis\":\"x\",\"y\":[0],\"yaxis\":\"y\",\"type\":\"scatter\"},{\"hovertemplate\":\"Party=Bhrashtachar Mukti Morcha<br>State=%{x}<br>Previous_Election_won=%{y}<extra></extra>\",\"legendgroup\":\"Bhrashtachar Mukti Morcha\",\"marker\":{\"color\":\"#FECB52\",\"symbol\":\"circle\"},\"mode\":\"markers\",\"name\":\"Bhrashtachar Mukti Morcha\",\"orientation\":\"v\",\"showlegend\":true,\"x\":[\"Kerala\"],\"xaxis\":\"x\",\"y\":[0],\"yaxis\":\"y\",\"type\":\"scatter\"},{\"hovertemplate\":\"Party=Bihar Janta Party<br>State=%{x}<br>Previous_Election_won=%{y}<extra></extra>\",\"legendgroup\":\"Bihar Janta Party\",\"marker\":{\"color\":\"#636efa\",\"symbol\":\"circle\"},\"mode\":\"markers\",\"name\":\"Bihar Janta Party\",\"orientation\":\"v\",\"showlegend\":true,\"x\":[\"Lakshadweep\"],\"xaxis\":\"x\",\"y\":[0],\"yaxis\":\"y\",\"type\":\"scatter\"},{\"hovertemplate\":\"Party=Braj Vikas Party<br>State=%{x}<br>Previous_Election_won=%{y}<extra></extra>\",\"legendgroup\":\"Braj Vikas Party\",\"marker\":{\"color\":\"#EF553B\",\"symbol\":\"circle\"},\"mode\":\"markers\",\"name\":\"Braj Vikas Party\",\"orientation\":\"v\",\"showlegend\":true,\"x\":[\"Madhya Pradesh\"],\"xaxis\":\"x\",\"y\":[0],\"yaxis\":\"y\",\"type\":\"scatter\"},{\"hovertemplate\":\"Party=Brihattar Bharat Prajatantra Sewa Party<br>State=%{x}<br>Previous_Election_won=%{y}<extra></extra>\",\"legendgroup\":\"Brihattar Bharat Prajatantra Sewa Party\",\"marker\":{\"color\":\"#00cc96\",\"symbol\":\"circle\"},\"mode\":\"markers\",\"name\":\"Brihattar Bharat Prajatantra Sewa Party\",\"orientation\":\"v\",\"showlegend\":true,\"x\":[\"Maharashtra\"],\"xaxis\":\"x\",\"y\":[0],\"yaxis\":\"y\",\"type\":\"scatter\"},{\"hovertemplate\":\"Party=Bundelkhand Congress<br>State=%{x}<br>Previous_Election_won=%{y}<extra></extra>\",\"legendgroup\":\"Bundelkhand Congress\",\"marker\":{\"color\":\"#ab63fa\",\"symbol\":\"circle\"},\"mode\":\"markers\",\"name\":\"Bundelkhand Congress\",\"orientation\":\"v\",\"showlegend\":true,\"x\":[\"Manipur\"],\"xaxis\":\"x\",\"y\":[0],\"yaxis\":\"y\",\"type\":\"scatter\"},{\"hovertemplate\":\"Party=Chhattisgarh Swabhiman Manch<br>State=%{x}<br>Previous_Election_won=%{y}<extra></extra>\",\"legendgroup\":\"Chhattisgarh Swabhiman Manch\",\"marker\":{\"color\":\"#FFA15A\",\"symbol\":\"circle\"},\"mode\":\"markers\",\"name\":\"Chhattisgarh Swabhiman Manch\",\"orientation\":\"v\",\"showlegend\":true,\"x\":[\"Meghalaya\"],\"xaxis\":\"x\",\"y\":[1],\"yaxis\":\"y\",\"type\":\"scatter\"},{\"hovertemplate\":\"Party=Chhattisgarhiya Party<br>State=%{x}<br>Previous_Election_won=%{y}<extra></extra>\",\"legendgroup\":\"Chhattisgarhiya Party\",\"marker\":{\"color\":\"#19d3f3\",\"symbol\":\"circle\"},\"mode\":\"markers\",\"name\":\"Chhattisgarhiya Party\",\"orientation\":\"v\",\"showlegend\":true,\"x\":[\"Mizoram\"],\"xaxis\":\"x\",\"y\":[0],\"yaxis\":\"y\",\"type\":\"scatter\"},{\"hovertemplate\":\"Party=Communist Party of India  (Marxist-Leninist)  (Liberation)<br>State=%{x}<br>Previous_Election_won=%{y}<extra></extra>\",\"legendgroup\":\"Communist Party of India  (Marxist-Leninist)  (Liberation)\",\"marker\":{\"color\":\"#FF6692\",\"symbol\":\"circle\"},\"mode\":\"markers\",\"name\":\"Communist Party of India  (Marxist-Leninist)  (Liberation)\",\"orientation\":\"v\",\"showlegend\":true,\"x\":[\"Nagaland\"],\"xaxis\":\"x\",\"y\":[18],\"yaxis\":\"y\",\"type\":\"scatter\"},{\"hovertemplate\":\"Party=Communist Party of India (Marxist-Leninist) Red Star<br>State=%{x}<br>Previous_Election_won=%{y}<extra></extra>\",\"legendgroup\":\"Communist Party of India (Marxist-Leninist) Red Star\",\"marker\":{\"color\":\"#B6E880\",\"symbol\":\"circle\"},\"mode\":\"markers\",\"name\":\"Communist Party of India (Marxist-Leninist) Red Star\",\"orientation\":\"v\",\"showlegend\":true,\"x\":[\"NCT OF Delhi\"],\"xaxis\":\"x\",\"y\":[2],\"yaxis\":\"y\",\"type\":\"scatter\"},{\"hovertemplate\":\"Party=Dalit Vikas Party(Bharat)<br>State=%{x}<br>Previous_Election_won=%{y}<extra></extra>\",\"legendgroup\":\"Dalit Vikas Party(Bharat)\",\"marker\":{\"color\":\"#FF97FF\",\"symbol\":\"circle\"},\"mode\":\"markers\",\"name\":\"Dalit Vikas Party(Bharat)\",\"orientation\":\"v\",\"showlegend\":true,\"x\":[\"Odisha\"],\"xaxis\":\"x\",\"y\":[0],\"yaxis\":\"y\",\"type\":\"scatter\"},{\"hovertemplate\":\"Party=Dalita Bahujana Party<br>State=%{x}<br>Previous_Election_won=%{y}<extra></extra>\",\"legendgroup\":\"Dalita Bahujana Party\",\"marker\":{\"color\":\"#FECB52\",\"symbol\":\"circle\"},\"mode\":\"markers\",\"name\":\"Dalita Bahujana Party\",\"orientation\":\"v\",\"showlegend\":true,\"x\":[\"Puducherry\"],\"xaxis\":\"x\",\"y\":[0],\"yaxis\":\"y\",\"type\":\"scatter\"},{\"hovertemplate\":\"Party=Democratic Bharatiya Samaj Party<br>State=%{x}<br>Previous_Election_won=%{y}<extra></extra>\",\"legendgroup\":\"Democratic Bharatiya Samaj Party\",\"marker\":{\"color\":\"#636efa\",\"symbol\":\"circle\"},\"mode\":\"markers\",\"name\":\"Democratic Bharatiya Samaj Party\",\"orientation\":\"v\",\"showlegend\":true,\"x\":[\"Punjab\"],\"xaxis\":\"x\",\"y\":[0],\"yaxis\":\"y\",\"type\":\"scatter\"},{\"hovertemplate\":\"Party=Democratic Congress Party<br>State=%{x}<br>Previous_Election_won=%{y}<extra></extra>\",\"legendgroup\":\"Democratic Congress Party\",\"marker\":{\"color\":\"#EF553B\",\"symbol\":\"circle\"},\"mode\":\"markers\",\"name\":\"Democratic Congress Party\",\"orientation\":\"v\",\"showlegend\":true,\"x\":[\"Rajasthan\"],\"xaxis\":\"x\",\"y\":[0],\"yaxis\":\"y\",\"type\":\"scatter\"},{\"hovertemplate\":\"Party=Democratic Prajakranthi Party Secularist<br>State=%{x}<br>Previous_Election_won=%{y}<extra></extra>\",\"legendgroup\":\"Democratic Prajakranthi Party Secularist\",\"marker\":{\"color\":\"#00cc96\",\"symbol\":\"circle\"},\"mode\":\"markers\",\"name\":\"Democratic Prajakranthi Party Secularist\",\"orientation\":\"v\",\"showlegend\":true,\"x\":[\"Sikkim\"],\"xaxis\":\"x\",\"y\":[0],\"yaxis\":\"y\",\"type\":\"scatter\"},{\"hovertemplate\":\"Party=Democratic Secular Party<br>State=%{x}<br>Previous_Election_won=%{y}<extra></extra>\",\"legendgroup\":\"Democratic Secular Party\",\"marker\":{\"color\":\"#ab63fa\",\"symbol\":\"circle\"},\"mode\":\"markers\",\"name\":\"Democratic Secular Party\",\"orientation\":\"v\",\"showlegend\":true,\"x\":[\"Tamil Nadu\"],\"xaxis\":\"x\",\"y\":[0],\"yaxis\":\"y\",\"type\":\"scatter\"},{\"hovertemplate\":\"Party=Deshbhakt Nirman Party<br>State=%{x}<br>Previous_Election_won=%{y}<extra></extra>\",\"legendgroup\":\"Deshbhakt Nirman Party\",\"marker\":{\"color\":\"#FFA15A\",\"symbol\":\"circle\"},\"mode\":\"markers\",\"name\":\"Deshbhakt Nirman Party\",\"orientation\":\"v\",\"showlegend\":true,\"x\":[\"Tripura\"],\"xaxis\":\"x\",\"y\":[0],\"yaxis\":\"y\",\"type\":\"scatter\"},{\"hovertemplate\":\"Party=Desiya Forward Bloc<br>State=%{x}<br>Previous_Election_won=%{y}<extra></extra>\",\"legendgroup\":\"Desiya Forward Bloc\",\"marker\":{\"color\":\"#19d3f3\",\"symbol\":\"circle\"},\"mode\":\"markers\",\"name\":\"Desiya Forward Bloc\",\"orientation\":\"v\",\"showlegend\":true,\"x\":[\"Uttar Pradesh\"],\"xaxis\":\"x\",\"y\":[0],\"yaxis\":\"y\",\"type\":\"scatter\"},{\"hovertemplate\":\"Party=Dharam Nirpeksh Dal<br>State=%{x}<br>Previous_Election_won=%{y}<extra></extra>\",\"legendgroup\":\"Dharam Nirpeksh Dal\",\"marker\":{\"color\":\"#FF6692\",\"symbol\":\"circle\"},\"mode\":\"markers\",\"name\":\"Dharam Nirpeksh Dal\",\"orientation\":\"v\",\"showlegend\":true,\"x\":[\"Uttarakhand\"],\"xaxis\":\"x\",\"y\":[0],\"yaxis\":\"y\",\"type\":\"scatter\"},{\"hovertemplate\":\"Party=Dharmarajya Paksha<br>State=%{x}<br>Previous_Election_won=%{y}<extra></extra>\",\"legendgroup\":\"Dharmarajya Paksha\",\"marker\":{\"color\":\"#B6E880\",\"symbol\":\"circle\"},\"mode\":\"markers\",\"name\":\"Dharmarajya Paksha\",\"orientation\":\"v\",\"showlegend\":true,\"x\":[\"West Bengal\"],\"xaxis\":\"x\",\"y\":[0],\"yaxis\":\"y\",\"type\":\"scatter\"},{\"hovertemplate\":\"Party=Dr. Ambedkar Samajvadi Democratic Party<br>State=%{x}<br>Previous_Election_won=%{y}<extra></extra>\",\"legendgroup\":\"Dr. Ambedkar Samajvadi Democratic Party\",\"marker\":{\"color\":\"#FF97FF\",\"symbol\":\"circle\"},\"mode\":\"markers\",\"name\":\"Dr. Ambedkar Samajvadi Democratic Party\",\"orientation\":\"v\",\"showlegend\":true,\"x\":[\"Himachal Pradesh\"],\"xaxis\":\"x\",\"y\":[0],\"yaxis\":\"y\",\"type\":\"scatter\"},{\"hovertemplate\":\"Party=Eklavya Samaj Party<br>State=%{x}<br>Previous_Election_won=%{y}<extra></extra>\",\"legendgroup\":\"Eklavya Samaj Party\",\"marker\":{\"color\":\"#FECB52\",\"symbol\":\"circle\"},\"mode\":\"markers\",\"name\":\"Eklavya Samaj Party\",\"orientation\":\"v\",\"showlegend\":true,\"x\":[\"Jammu & Kashmir\"],\"xaxis\":\"x\",\"y\":[0],\"yaxis\":\"y\",\"type\":\"scatter\"},{\"hovertemplate\":\"Party=Ex-Sainik Kissan Party<br>State=%{x}<br>Previous_Election_won=%{y}<extra></extra>\",\"legendgroup\":\"Ex-Sainik Kissan Party\",\"marker\":{\"color\":\"#636efa\",\"symbol\":\"circle\"},\"mode\":\"markers\",\"name\":\"Ex-Sainik Kissan Party\",\"orientation\":\"v\",\"showlegend\":true,\"x\":[\"Jharkhand\"],\"xaxis\":\"x\",\"y\":[0],\"yaxis\":\"y\",\"type\":\"scatter\"},{\"hovertemplate\":\"Party=Ezhuchi Tamilargal Munnetra Kazhagam<br>State=%{x}<br>Previous_Election_won=%{y}<extra></extra>\",\"legendgroup\":\"Ezhuchi Tamilargal Munnetra Kazhagam\",\"marker\":{\"color\":\"#EF553B\",\"symbol\":\"circle\"},\"mode\":\"markers\",\"name\":\"Ezhuchi Tamilargal Munnetra Kazhagam\",\"orientation\":\"v\",\"showlegend\":true,\"x\":[\"Karnataka\"],\"xaxis\":\"x\",\"y\":[0],\"yaxis\":\"y\",\"type\":\"scatter\"},{\"hovertemplate\":\"Party=Gareeb Aadmi Party<br>State=%{x}<br>Previous_Election_won=%{y}<extra></extra>\",\"legendgroup\":\"Gareeb Aadmi Party\",\"marker\":{\"color\":\"#00cc96\",\"symbol\":\"circle\"},\"mode\":\"markers\",\"name\":\"Gareeb Aadmi Party\",\"orientation\":\"v\",\"showlegend\":true,\"x\":[\"Kerala\"],\"xaxis\":\"x\",\"y\":[0],\"yaxis\":\"y\",\"type\":\"scatter\"},{\"hovertemplate\":\"Party=Goa Su-Raj Party<br>State=%{x}<br>Previous_Election_won=%{y}<extra></extra>\",\"legendgroup\":\"Goa Su-Raj Party\",\"marker\":{\"color\":\"#ab63fa\",\"symbol\":\"circle\"},\"mode\":\"markers\",\"name\":\"Goa Su-Raj Party\",\"orientation\":\"v\",\"showlegend\":true,\"x\":[\"Lakshadweep\"],\"xaxis\":\"x\",\"y\":[0],\"yaxis\":\"y\",\"type\":\"scatter\"},{\"hovertemplate\":\"Party=Goemcarancho Otrec Astro<br>State=%{x}<br>Previous_Election_won=%{y}<extra></extra>\",\"legendgroup\":\"Goemcarancho Otrec Astro\",\"marker\":{\"color\":\"#FFA15A\",\"symbol\":\"circle\"},\"mode\":\"markers\",\"name\":\"Goemcarancho Otrec Astro\",\"orientation\":\"v\",\"showlegend\":true,\"x\":[\"Madhya Pradesh\"],\"xaxis\":\"x\",\"y\":[0],\"yaxis\":\"y\",\"type\":\"scatter\"},{\"hovertemplate\":\"Party=Gondvana Gantantra Party<br>State=%{x}<br>Previous_Election_won=%{y}<extra></extra>\",\"legendgroup\":\"Gondvana Gantantra Party\",\"marker\":{\"color\":\"#19d3f3\",\"symbol\":\"circle\"},\"mode\":\"markers\",\"name\":\"Gondvana Gantantra Party\",\"orientation\":\"v\",\"showlegend\":true,\"x\":[\"Maharashtra\"],\"xaxis\":\"x\",\"y\":[5],\"yaxis\":\"y\",\"type\":\"scatter\"},{\"hovertemplate\":\"Party=Gorkha Rashtriya Congress<br>State=%{x}<br>Previous_Election_won=%{y}<extra></extra>\",\"legendgroup\":\"Gorkha Rashtriya Congress\",\"marker\":{\"color\":\"#FF6692\",\"symbol\":\"circle\"},\"mode\":\"markers\",\"name\":\"Gorkha Rashtriya Congress\",\"orientation\":\"v\",\"showlegend\":true,\"x\":[\"Manipur\"],\"xaxis\":\"x\",\"y\":[0],\"yaxis\":\"y\",\"type\":\"scatter\"},{\"hovertemplate\":\"Party=Great India Party<br>State=%{x}<br>Previous_Election_won=%{y}<extra></extra>\",\"legendgroup\":\"Great India Party\",\"marker\":{\"color\":\"#B6E880\",\"symbol\":\"circle\"},\"mode\":\"markers\",\"name\":\"Great India Party\",\"orientation\":\"v\",\"showlegend\":true,\"x\":[\"Meghalaya\"],\"xaxis\":\"x\",\"y\":[0],\"yaxis\":\"y\",\"type\":\"scatter\"},{\"hovertemplate\":\"Party=Himachal Swabhiman Party<br>State=%{x}<br>Previous_Election_won=%{y}<extra></extra>\",\"legendgroup\":\"Himachal Swabhiman Party\",\"marker\":{\"color\":\"#FF97FF\",\"symbol\":\"circle\"},\"mode\":\"markers\",\"name\":\"Himachal Swabhiman Party\",\"orientation\":\"v\",\"showlegend\":true,\"x\":[\"Mizoram\"],\"xaxis\":\"x\",\"y\":[0],\"yaxis\":\"y\",\"type\":\"scatter\"},{\"hovertemplate\":\"Party=Hindustan Ekta Party<br>State=%{x}<br>Previous_Election_won=%{y}<extra></extra>\",\"legendgroup\":\"Hindustan Ekta Party\",\"marker\":{\"color\":\"#FECB52\",\"symbol\":\"circle\"},\"mode\":\"markers\",\"name\":\"Hindustan Ekta Party\",\"orientation\":\"v\",\"showlegend\":true,\"x\":[\"Nagaland\"],\"xaxis\":\"x\",\"y\":[0],\"yaxis\":\"y\",\"type\":\"scatter\"},{\"hovertemplate\":\"Party=Hindustan Janta Party<br>State=%{x}<br>Previous_Election_won=%{y}<extra></extra>\",\"legendgroup\":\"Hindustan Janta Party\",\"marker\":{\"color\":\"#636efa\",\"symbol\":\"circle\"},\"mode\":\"markers\",\"name\":\"Hindustan Janta Party\",\"orientation\":\"v\",\"showlegend\":true,\"x\":[\"NCT OF Delhi\"],\"xaxis\":\"x\",\"y\":[1],\"yaxis\":\"y\",\"type\":\"scatter\"},{\"hovertemplate\":\"Party=Hindustan Kranti Dal<br>State=%{x}<br>Previous_Election_won=%{y}<extra></extra>\",\"legendgroup\":\"Hindustan Kranti Dal\",\"marker\":{\"color\":\"#EF553B\",\"symbol\":\"circle\"},\"mode\":\"markers\",\"name\":\"Hindustan Kranti Dal\",\"orientation\":\"v\",\"showlegend\":true,\"x\":[\"Odisha\"],\"xaxis\":\"x\",\"y\":[0],\"yaxis\":\"y\",\"type\":\"scatter\"},{\"hovertemplate\":\"Party=Hindustan Krantikari Dal<br>State=%{x}<br>Previous_Election_won=%{y}<extra></extra>\",\"legendgroup\":\"Hindustan Krantikari Dal\",\"marker\":{\"color\":\"#00cc96\",\"symbol\":\"circle\"},\"mode\":\"markers\",\"name\":\"Hindustan Krantikari Dal\",\"orientation\":\"v\",\"showlegend\":true,\"x\":[\"Puducherry\"],\"xaxis\":\"x\",\"y\":[0],\"yaxis\":\"y\",\"type\":\"scatter\"},{\"hovertemplate\":\"Party=Hindustan Swaraj Congress Party<br>State=%{x}<br>Previous_Election_won=%{y}<extra></extra>\",\"legendgroup\":\"Hindustan Swaraj Congress Party\",\"marker\":{\"color\":\"#ab63fa\",\"symbol\":\"circle\"},\"mode\":\"markers\",\"name\":\"Hindustan Swaraj Congress Party\",\"orientation\":\"v\",\"showlegend\":true,\"x\":[\"Punjab\"],\"xaxis\":\"x\",\"y\":[0],\"yaxis\":\"y\",\"type\":\"scatter\"},{\"hovertemplate\":\"Party=Hindustan Vikas Dal<br>State=%{x}<br>Previous_Election_won=%{y}<extra></extra>\",\"legendgroup\":\"Hindustan Vikas Dal\",\"marker\":{\"color\":\"#FFA15A\",\"symbol\":\"circle\"},\"mode\":\"markers\",\"name\":\"Hindustan Vikas Dal\",\"orientation\":\"v\",\"showlegend\":true,\"x\":[\"Rajasthan\"],\"xaxis\":\"x\",\"y\":[0],\"yaxis\":\"y\",\"type\":\"scatter\"},{\"hovertemplate\":\"Party=Hindusthan Nirman Dal<br>State=%{x}<br>Previous_Election_won=%{y}<extra></extra>\",\"legendgroup\":\"Hindusthan Nirman Dal\",\"marker\":{\"color\":\"#19d3f3\",\"symbol\":\"circle\"},\"mode\":\"markers\",\"name\":\"Hindusthan Nirman Dal\",\"orientation\":\"v\",\"showlegend\":true,\"x\":[\"Sikkim\"],\"xaxis\":\"x\",\"y\":[0],\"yaxis\":\"y\",\"type\":\"scatter\"},{\"hovertemplate\":\"Party=Hindusthan Praja Paksha<br>State=%{x}<br>Previous_Election_won=%{y}<extra></extra>\",\"legendgroup\":\"Hindusthan Praja Paksha\",\"marker\":{\"color\":\"#FF6692\",\"symbol\":\"circle\"},\"mode\":\"markers\",\"name\":\"Hindusthan Praja Paksha\",\"orientation\":\"v\",\"showlegend\":true,\"x\":[\"Tamil Nadu\"],\"xaxis\":\"x\",\"y\":[0],\"yaxis\":\"y\",\"type\":\"scatter\"},{\"hovertemplate\":\"Party=Indian Bahujan Samajwadi Party<br>State=%{x}<br>Previous_Election_won=%{y}<extra></extra>\",\"legendgroup\":\"Indian Bahujan Samajwadi Party\",\"marker\":{\"color\":\"#B6E880\",\"symbol\":\"circle\"},\"mode\":\"markers\",\"name\":\"Indian Bahujan Samajwadi Party\",\"orientation\":\"v\",\"showlegend\":true,\"x\":[\"Tripura\"],\"xaxis\":\"x\",\"y\":[0],\"yaxis\":\"y\",\"type\":\"scatter\"},{\"hovertemplate\":\"Party=Indian Bahujan Sandesh Party (Kanshiram)<br>State=%{x}<br>Previous_Election_won=%{y}<extra></extra>\",\"legendgroup\":\"Indian Bahujan Sandesh Party (Kanshiram)\",\"marker\":{\"color\":\"#FF97FF\",\"symbol\":\"circle\"},\"mode\":\"markers\",\"name\":\"Indian Bahujan Sandesh Party (Kanshiram)\",\"orientation\":\"v\",\"showlegend\":true,\"x\":[\"Uttar Pradesh\"],\"xaxis\":\"x\",\"y\":[0],\"yaxis\":\"y\",\"type\":\"scatter\"},{\"hovertemplate\":\"Party=Indian Christian Secular Party<br>State=%{x}<br>Previous_Election_won=%{y}<extra></extra>\",\"legendgroup\":\"Indian Christian Secular Party\",\"marker\":{\"color\":\"#FECB52\",\"symbol\":\"circle\"},\"mode\":\"markers\",\"name\":\"Indian Christian Secular Party\",\"orientation\":\"v\",\"showlegend\":true,\"x\":[\"Uttarakhand\"],\"xaxis\":\"x\",\"y\":[0],\"yaxis\":\"y\",\"type\":\"scatter\"},{\"hovertemplate\":\"Party=Indian Gandhiyan Party<br>State=%{x}<br>Previous_Election_won=%{y}<extra></extra>\",\"legendgroup\":\"Indian Gandhiyan Party\",\"marker\":{\"color\":\"#636efa\",\"symbol\":\"circle\"},\"mode\":\"markers\",\"name\":\"Indian Gandhiyan Party\",\"orientation\":\"v\",\"showlegend\":true,\"x\":[\"West Bengal\"],\"xaxis\":\"x\",\"y\":[0],\"yaxis\":\"y\",\"type\":\"scatter\"},{\"hovertemplate\":\"Party=Indian Krantikari Lehar<br>State=%{x}<br>Previous_Election_won=%{y}<extra></extra>\",\"legendgroup\":\"Indian Krantikari Lehar\",\"marker\":{\"color\":\"#EF553B\",\"symbol\":\"circle\"},\"mode\":\"markers\",\"name\":\"Indian Krantikari Lehar\",\"orientation\":\"v\",\"showlegend\":true,\"x\":[\"Himachal Pradesh\"],\"xaxis\":\"x\",\"y\":[0],\"yaxis\":\"y\",\"type\":\"scatter\"},{\"hovertemplate\":\"Party=Indian Labour Party (Ambedkar Phule)<br>State=%{x}<br>Previous_Election_won=%{y}<extra></extra>\",\"legendgroup\":\"Indian Labour Party (Ambedkar Phule)\",\"marker\":{\"color\":\"#00cc96\",\"symbol\":\"circle\"},\"mode\":\"markers\",\"name\":\"Indian Labour Party (Ambedkar Phule)\",\"orientation\":\"v\",\"showlegend\":true,\"x\":[\"Jammu & Kashmir\"],\"xaxis\":\"x\",\"y\":[0],\"yaxis\":\"y\",\"type\":\"scatter\"},{\"hovertemplate\":\"Party=Indian National League<br>State=%{x}<br>Previous_Election_won=%{y}<extra></extra>\",\"legendgroup\":\"Indian National League\",\"marker\":{\"color\":\"#ab63fa\",\"symbol\":\"circle\"},\"mode\":\"markers\",\"name\":\"Indian National League\",\"orientation\":\"v\",\"showlegend\":true,\"x\":[\"Jharkhand\"],\"xaxis\":\"x\",\"y\":[0],\"yaxis\":\"y\",\"type\":\"scatter\"},{\"hovertemplate\":\"Party=Indian Oceanic Party<br>State=%{x}<br>Previous_Election_won=%{y}<extra></extra>\",\"legendgroup\":\"Indian Oceanic Party\",\"marker\":{\"color\":\"#FFA15A\",\"symbol\":\"circle\"},\"mode\":\"markers\",\"name\":\"Indian Oceanic Party\",\"orientation\":\"v\",\"showlegend\":true,\"x\":[\"Karnataka\"],\"xaxis\":\"x\",\"y\":[0],\"yaxis\":\"y\",\"type\":\"scatter\"},{\"hovertemplate\":\"Party=Indian Peace Party<br>State=%{x}<br>Previous_Election_won=%{y}<extra></extra>\",\"legendgroup\":\"Indian Peace Party\",\"marker\":{\"color\":\"#19d3f3\",\"symbol\":\"circle\"},\"mode\":\"markers\",\"name\":\"Indian Peace Party\",\"orientation\":\"v\",\"showlegend\":true,\"x\":[\"Kerala\"],\"xaxis\":\"x\",\"y\":[0],\"yaxis\":\"y\",\"type\":\"scatter\"},{\"hovertemplate\":\"Party=Indian Peoples Green Party<br>State=%{x}<br>Previous_Election_won=%{y}<extra></extra>\",\"legendgroup\":\"Indian Peoples Green Party\",\"marker\":{\"color\":\"#FF6692\",\"symbol\":\"circle\"},\"mode\":\"markers\",\"name\":\"Indian Peoples Green Party\",\"orientation\":\"v\",\"showlegend\":true,\"x\":[\"Lakshadweep\"],\"xaxis\":\"x\",\"y\":[0],\"yaxis\":\"y\",\"type\":\"scatter\"},{\"hovertemplate\":\"Party=Indian Savarn Samaj Party<br>State=%{x}<br>Previous_Election_won=%{y}<extra></extra>\",\"legendgroup\":\"Indian Savarn Samaj Party\",\"marker\":{\"color\":\"#B6E880\",\"symbol\":\"circle\"},\"mode\":\"markers\",\"name\":\"Indian Savarn Samaj Party\",\"orientation\":\"v\",\"showlegend\":true,\"x\":[\"Madhya Pradesh\"],\"xaxis\":\"x\",\"y\":[0],\"yaxis\":\"y\",\"type\":\"scatter\"},{\"hovertemplate\":\"Party=Indian Unity Centre<br>State=%{x}<br>Previous_Election_won=%{y}<extra></extra>\",\"legendgroup\":\"Indian Unity Centre\",\"marker\":{\"color\":\"#FF97FF\",\"symbol\":\"circle\"},\"mode\":\"markers\",\"name\":\"Indian Unity Centre\",\"orientation\":\"v\",\"showlegend\":true,\"x\":[\"Maharashtra\"],\"xaxis\":\"x\",\"y\":[0],\"yaxis\":\"y\",\"type\":\"scatter\"},{\"hovertemplate\":\"Party=Indians Victory Party<br>State=%{x}<br>Previous_Election_won=%{y}<extra></extra>\",\"legendgroup\":\"Indians Victory Party\",\"marker\":{\"color\":\"#FECB52\",\"symbol\":\"circle\"},\"mode\":\"markers\",\"name\":\"Indians Victory Party\",\"orientation\":\"v\",\"showlegend\":true,\"x\":[\"Manipur\"],\"xaxis\":\"x\",\"y\":[0],\"yaxis\":\"y\",\"type\":\"scatter\"},{\"hovertemplate\":\"Party=Indigenousn People's Front Of Tripura<br>State=%{x}<br>Previous_Election_won=%{y}<extra></extra>\",\"legendgroup\":\"Indigenousn People's Front Of Tripura\",\"marker\":{\"color\":\"#636efa\",\"symbol\":\"circle\"},\"mode\":\"markers\",\"name\":\"Indigenousn People's Front Of Tripura\",\"orientation\":\"v\",\"showlegend\":true,\"x\":[\"Meghalaya\"],\"xaxis\":\"x\",\"y\":[0],\"yaxis\":\"y\",\"type\":\"scatter\"},{\"hovertemplate\":\"Party=Inqalab Vikas Dal<br>State=%{x}<br>Previous_Election_won=%{y}<extra></extra>\",\"legendgroup\":\"Inqalab Vikas Dal\",\"marker\":{\"color\":\"#EF553B\",\"symbol\":\"circle\"},\"mode\":\"markers\",\"name\":\"Inqalab Vikas Dal\",\"orientation\":\"v\",\"showlegend\":true,\"x\":[\"Mizoram\"],\"xaxis\":\"x\",\"y\":[0],\"yaxis\":\"y\",\"type\":\"scatter\"},{\"hovertemplate\":\"Party=Jago Party<br>State=%{x}<br>Previous_Election_won=%{y}<extra></extra>\",\"legendgroup\":\"Jago Party\",\"marker\":{\"color\":\"#00cc96\",\"symbol\":\"circle\"},\"mode\":\"markers\",\"name\":\"Jago Party\",\"orientation\":\"v\",\"showlegend\":true,\"x\":[\"Nagaland\"],\"xaxis\":\"x\",\"y\":[0],\"yaxis\":\"y\",\"type\":\"scatter\"},{\"hovertemplate\":\"Party=Jai Bharat Samanta Party<br>State=%{x}<br>Previous_Election_won=%{y}<extra></extra>\",\"legendgroup\":\"Jai Bharat Samanta Party\",\"marker\":{\"color\":\"#ab63fa\",\"symbol\":\"circle\"},\"mode\":\"markers\",\"name\":\"Jai Bharat Samanta Party\",\"orientation\":\"v\",\"showlegend\":true,\"x\":[\"NCT OF Delhi\"],\"xaxis\":\"x\",\"y\":[4],\"yaxis\":\"y\",\"type\":\"scatter\"},{\"hovertemplate\":\"Party=Jai Hind Party<br>State=%{x}<br>Previous_Election_won=%{y}<extra></extra>\",\"legendgroup\":\"Jai Hind Party\",\"marker\":{\"color\":\"#FFA15A\",\"symbol\":\"circle\"},\"mode\":\"markers\",\"name\":\"Jai Hind Party\",\"orientation\":\"v\",\"showlegend\":true,\"x\":[\"Odisha\"],\"xaxis\":\"x\",\"y\":[0],\"yaxis\":\"y\",\"type\":\"scatter\"},{\"hovertemplate\":\"Party=Jai Hind Samaj Party<br>State=%{x}<br>Previous_Election_won=%{y}<extra></extra>\",\"legendgroup\":\"Jai Hind Samaj Party\",\"marker\":{\"color\":\"#19d3f3\",\"symbol\":\"circle\"},\"mode\":\"markers\",\"name\":\"Jai Hind Samaj Party\",\"orientation\":\"v\",\"showlegend\":true,\"x\":[\"Puducherry\"],\"xaxis\":\"x\",\"y\":[0],\"yaxis\":\"y\",\"type\":\"scatter\"},{\"hovertemplate\":\"Party=Jai Maha Bharath Party<br>State=%{x}<br>Previous_Election_won=%{y}<extra></extra>\",\"legendgroup\":\"Jai Maha Bharath Party\",\"marker\":{\"color\":\"#FF6692\",\"symbol\":\"circle\"},\"mode\":\"markers\",\"name\":\"Jai Maha Bharath Party\",\"orientation\":\"v\",\"showlegend\":true,\"x\":[\"Punjab\"],\"xaxis\":\"x\",\"y\":[1],\"yaxis\":\"y\",\"type\":\"scatter\"},{\"hovertemplate\":\"Party=Jai Prakash Janata Dal<br>State=%{x}<br>Previous_Election_won=%{y}<extra></extra>\",\"legendgroup\":\"Jai Prakash Janata Dal\",\"marker\":{\"color\":\"#B6E880\",\"symbol\":\"circle\"},\"mode\":\"markers\",\"name\":\"Jai Prakash Janata Dal\",\"orientation\":\"v\",\"showlegend\":true,\"x\":[\"Rajasthan\"],\"xaxis\":\"x\",\"y\":[0],\"yaxis\":\"y\",\"type\":\"scatter\"},{\"hovertemplate\":\"Party=Jai Samaikyandhra Party<br>State=%{x}<br>Previous_Election_won=%{y}<extra></extra>\",\"legendgroup\":\"Jai Samaikyandhra Party\",\"marker\":{\"color\":\"#FF97FF\",\"symbol\":\"circle\"},\"mode\":\"markers\",\"name\":\"Jai Samaikyandhra Party\",\"orientation\":\"v\",\"showlegend\":true,\"x\":[\"Sikkim\"],\"xaxis\":\"x\",\"y\":[4],\"yaxis\":\"y\",\"type\":\"scatter\"},{\"hovertemplate\":\"Party=Jai Vijaya Bharathi Party<br>State=%{x}<br>Previous_Election_won=%{y}<extra></extra>\",\"legendgroup\":\"Jai Vijaya Bharathi Party\",\"marker\":{\"color\":\"#FECB52\",\"symbol\":\"circle\"},\"mode\":\"markers\",\"name\":\"Jai Vijaya Bharathi Party\",\"orientation\":\"v\",\"showlegend\":true,\"x\":[\"Tamil Nadu\"],\"xaxis\":\"x\",\"y\":[0],\"yaxis\":\"y\",\"type\":\"scatter\"},{\"hovertemplate\":\"Party=Jamat-E-Seratul Mustakim<br>State=%{x}<br>Previous_Election_won=%{y}<extra></extra>\",\"legendgroup\":\"Jamat-E-Seratul Mustakim\",\"marker\":{\"color\":\"#636efa\",\"symbol\":\"circle\"},\"mode\":\"markers\",\"name\":\"Jamat-E-Seratul Mustakim\",\"orientation\":\"v\",\"showlegend\":true,\"x\":[\"Tripura\"],\"xaxis\":\"x\",\"y\":[0],\"yaxis\":\"y\",\"type\":\"scatter\"},{\"hovertemplate\":\"Party=Jammu & Kashmir People Conference<br>State=%{x}<br>Previous_Election_won=%{y}<extra></extra>\",\"legendgroup\":\"Jammu & Kashmir People Conference\",\"marker\":{\"color\":\"#EF553B\",\"symbol\":\"circle\"},\"mode\":\"markers\",\"name\":\"Jammu & Kashmir People Conference\",\"orientation\":\"v\",\"showlegend\":true,\"x\":[\"Uttar Pradesh\"],\"xaxis\":\"x\",\"y\":[1],\"yaxis\":\"y\",\"type\":\"scatter\"},{\"hovertemplate\":\"Party=Jan Morcha<br>State=%{x}<br>Previous_Election_won=%{y}<extra></extra>\",\"legendgroup\":\"Jan Morcha\",\"marker\":{\"color\":\"#00cc96\",\"symbol\":\"circle\"},\"mode\":\"markers\",\"name\":\"Jan Morcha\",\"orientation\":\"v\",\"showlegend\":true,\"x\":[\"Uttarakhand\"],\"xaxis\":\"x\",\"y\":[0],\"yaxis\":\"y\",\"type\":\"scatter\"},{\"hovertemplate\":\"Party=Jan Raajya Party<br>State=%{x}<br>Previous_Election_won=%{y}<extra></extra>\",\"legendgroup\":\"Jan Raajya Party\",\"marker\":{\"color\":\"#ab63fa\",\"symbol\":\"circle\"},\"mode\":\"markers\",\"name\":\"Jan Raajya Party\",\"orientation\":\"v\",\"showlegend\":true,\"x\":[\"West Bengal\"],\"xaxis\":\"x\",\"y\":[0],\"yaxis\":\"y\",\"type\":\"scatter\"},{\"hovertemplate\":\"Party=Jan Raksha Party<br>State=%{x}<br>Previous_Election_won=%{y}<extra></extra>\",\"legendgroup\":\"Jan Raksha Party\",\"marker\":{\"color\":\"#FFA15A\",\"symbol\":\"circle\"},\"mode\":\"markers\",\"name\":\"Jan Raksha Party\",\"orientation\":\"v\",\"showlegend\":true,\"x\":[\"Himachal Pradesh\"],\"xaxis\":\"x\",\"y\":[0],\"yaxis\":\"y\",\"type\":\"scatter\"},{\"hovertemplate\":\"Party=Jan Samanta Party<br>State=%{x}<br>Previous_Election_won=%{y}<extra></extra>\",\"legendgroup\":\"Jan Samanta Party\",\"marker\":{\"color\":\"#19d3f3\",\"symbol\":\"circle\"},\"mode\":\"markers\",\"name\":\"Jan Samanta Party\",\"orientation\":\"v\",\"showlegend\":true,\"x\":[\"Jammu & Kashmir\"],\"xaxis\":\"x\",\"y\":[0],\"yaxis\":\"y\",\"type\":\"scatter\"},{\"hovertemplate\":\"Party=Jan Sevak Party<br>State=%{x}<br>Previous_Election_won=%{y}<extra></extra>\",\"legendgroup\":\"Jan Sevak Party\",\"marker\":{\"color\":\"#FF6692\",\"symbol\":\"circle\"},\"mode\":\"markers\",\"name\":\"Jan Sevak Party\",\"orientation\":\"v\",\"showlegend\":true,\"x\":[\"Jharkhand\"],\"xaxis\":\"x\",\"y\":[0],\"yaxis\":\"y\",\"type\":\"scatter\"},{\"hovertemplate\":\"Party=Jan Shakti Ekta Party<br>State=%{x}<br>Previous_Election_won=%{y}<extra></extra>\",\"legendgroup\":\"Jan Shakti Ekta Party\",\"marker\":{\"color\":\"#B6E880\",\"symbol\":\"circle\"},\"mode\":\"markers\",\"name\":\"Jan Shakti Ekta Party\",\"orientation\":\"v\",\"showlegend\":true,\"x\":[\"Karnataka\"],\"xaxis\":\"x\",\"y\":[0],\"yaxis\":\"y\",\"type\":\"scatter\"},{\"hovertemplate\":\"Party=Jan-Nyay Dal<br>State=%{x}<br>Previous_Election_won=%{y}<extra></extra>\",\"legendgroup\":\"Jan-Nyay Dal\",\"marker\":{\"color\":\"#FF97FF\",\"symbol\":\"circle\"},\"mode\":\"markers\",\"name\":\"Jan-Nyay Dal\",\"orientation\":\"v\",\"showlegend\":true,\"x\":[\"Kerala\"],\"xaxis\":\"x\",\"y\":[0],\"yaxis\":\"y\",\"type\":\"scatter\"},{\"hovertemplate\":\"Party=Janral Samaj Party<br>State=%{x}<br>Previous_Election_won=%{y}<extra></extra>\",\"legendgroup\":\"Janral Samaj Party\",\"marker\":{\"color\":\"#FECB52\",\"symbol\":\"circle\"},\"mode\":\"markers\",\"name\":\"Janral Samaj Party\",\"orientation\":\"v\",\"showlegend\":true,\"x\":[\"Lakshadweep\"],\"xaxis\":\"x\",\"y\":[0],\"yaxis\":\"y\",\"type\":\"scatter\"},{\"hovertemplate\":\"Party=Janta Dal Rashtravadi<br>State=%{x}<br>Previous_Election_won=%{y}<extra></extra>\",\"legendgroup\":\"Janta Dal Rashtravadi\",\"marker\":{\"color\":\"#636efa\",\"symbol\":\"circle\"},\"mode\":\"markers\",\"name\":\"Janta Dal Rashtravadi\",\"orientation\":\"v\",\"showlegend\":true,\"x\":[\"Madhya Pradesh\"],\"xaxis\":\"x\",\"y\":[1],\"yaxis\":\"y\",\"type\":\"scatter\"},{\"hovertemplate\":\"Party=Janta Raj Party<br>State=%{x}<br>Previous_Election_won=%{y}<extra></extra>\",\"legendgroup\":\"Janta Raj Party\",\"marker\":{\"color\":\"#EF553B\",\"symbol\":\"circle\"},\"mode\":\"markers\",\"name\":\"Janta Raj Party\",\"orientation\":\"v\",\"showlegend\":true,\"x\":[\"Maharashtra\"],\"xaxis\":\"x\",\"y\":[0],\"yaxis\":\"y\",\"type\":\"scatter\"},{\"hovertemplate\":\"Party=Jantantra Party<br>State=%{x}<br>Previous_Election_won=%{y}<extra></extra>\",\"legendgroup\":\"Jantantra Party\",\"marker\":{\"color\":\"#00cc96\",\"symbol\":\"circle\"},\"mode\":\"markers\",\"name\":\"Jantantra Party\",\"orientation\":\"v\",\"showlegend\":true,\"x\":[\"Manipur\"],\"xaxis\":\"x\",\"y\":[0],\"yaxis\":\"y\",\"type\":\"scatter\"},{\"hovertemplate\":\"Party=Janvadi Party(Socialist)<br>State=%{x}<br>Previous_Election_won=%{y}<extra></extra>\",\"legendgroup\":\"Janvadi Party(Socialist)\",\"marker\":{\"color\":\"#ab63fa\",\"symbol\":\"circle\"},\"mode\":\"markers\",\"name\":\"Janvadi Party(Socialist)\",\"orientation\":\"v\",\"showlegend\":true,\"x\":[\"Meghalaya\"],\"xaxis\":\"x\",\"y\":[1],\"yaxis\":\"y\",\"type\":\"scatter\"},{\"hovertemplate\":\"Party=Jawan Kisan Morcha<br>State=%{x}<br>Previous_Election_won=%{y}<extra></extra>\",\"legendgroup\":\"Jawan Kisan Morcha\",\"marker\":{\"color\":\"#FFA15A\",\"symbol\":\"circle\"},\"mode\":\"markers\",\"name\":\"Jawan Kisan Morcha\",\"orientation\":\"v\",\"showlegend\":true,\"x\":[\"Mizoram\"],\"xaxis\":\"x\",\"y\":[0],\"yaxis\":\"y\",\"type\":\"scatter\"},{\"hovertemplate\":\"Party=Jebamani Janata<br>State=%{x}<br>Previous_Election_won=%{y}<extra></extra>\",\"legendgroup\":\"Jebamani Janata\",\"marker\":{\"color\":\"#19d3f3\",\"symbol\":\"circle\"},\"mode\":\"markers\",\"name\":\"Jebamani Janata\",\"orientation\":\"v\",\"showlegend\":true,\"x\":[\"Nagaland\"],\"xaxis\":\"x\",\"y\":[0],\"yaxis\":\"y\",\"type\":\"scatter\"},{\"hovertemplate\":\"Party=Jharkhand Anushilan Party<br>State=%{x}<br>Previous_Election_won=%{y}<extra></extra>\",\"legendgroup\":\"Jharkhand Anushilan Party\",\"marker\":{\"color\":\"#FF6692\",\"symbol\":\"circle\"},\"mode\":\"markers\",\"name\":\"Jharkhand Anushilan Party\",\"orientation\":\"v\",\"showlegend\":true,\"x\":[\"NCT OF Delhi\"],\"xaxis\":\"x\",\"y\":[0],\"yaxis\":\"y\",\"type\":\"scatter\"},{\"hovertemplate\":\"Party=Jharkhand Disom Party<br>State=%{x}<br>Previous_Election_won=%{y}<extra></extra>\",\"legendgroup\":\"Jharkhand Disom Party\",\"marker\":{\"color\":\"#B6E880\",\"symbol\":\"circle\"},\"mode\":\"markers\",\"name\":\"Jharkhand Disom Party\",\"orientation\":\"v\",\"showlegend\":true,\"x\":[\"Odisha\"],\"xaxis\":\"x\",\"y\":[2],\"yaxis\":\"y\",\"type\":\"scatter\"},{\"hovertemplate\":\"Party=Jharkhand Mukti Morcha  (Ulgulan)<br>State=%{x}<br>Previous_Election_won=%{y}<extra></extra>\",\"legendgroup\":\"Jharkhand Mukti Morcha  (Ulgulan)\",\"marker\":{\"color\":\"#FF97FF\",\"symbol\":\"circle\"},\"mode\":\"markers\",\"name\":\"Jharkhand Mukti Morcha  (Ulgulan)\",\"orientation\":\"v\",\"showlegend\":true,\"x\":[\"Puducherry\"],\"xaxis\":\"x\",\"y\":[0],\"yaxis\":\"y\",\"type\":\"scatter\"},{\"hovertemplate\":\"Party=Jharkhand Party<br>State=%{x}<br>Previous_Election_won=%{y}<extra></extra>\",\"legendgroup\":\"Jharkhand Party\",\"marker\":{\"color\":\"#FECB52\",\"symbol\":\"circle\"},\"mode\":\"markers\",\"name\":\"Jharkhand Party\",\"orientation\":\"v\",\"showlegend\":true,\"x\":[\"Punjab\"],\"xaxis\":\"x\",\"y\":[4],\"yaxis\":\"y\",\"type\":\"scatter\"},{\"hovertemplate\":\"Party=Jharkhand Party  (Naren)<br>State=%{x}<br>Previous_Election_won=%{y}<extra></extra>\",\"legendgroup\":\"Jharkhand Party  (Naren)\",\"marker\":{\"color\":\"#636efa\",\"symbol\":\"circle\"},\"mode\":\"markers\",\"name\":\"Jharkhand Party  (Naren)\",\"orientation\":\"v\",\"showlegend\":true,\"x\":[\"Rajasthan\"],\"xaxis\":\"x\",\"y\":[0],\"yaxis\":\"y\",\"type\":\"scatter\"},{\"hovertemplate\":\"Party=Jharkhand Vikas Dal<br>State=%{x}<br>Previous_Election_won=%{y}<extra></extra>\",\"legendgroup\":\"Jharkhand Vikas Dal\",\"marker\":{\"color\":\"#EF553B\",\"symbol\":\"circle\"},\"mode\":\"markers\",\"name\":\"Jharkhand Vikas Dal\",\"orientation\":\"v\",\"showlegend\":true,\"x\":[\"Sikkim\"],\"xaxis\":\"x\",\"y\":[0],\"yaxis\":\"y\",\"type\":\"scatter\"},{\"hovertemplate\":\"Party=Kalinga Sena<br>State=%{x}<br>Previous_Election_won=%{y}<extra></extra>\",\"legendgroup\":\"Kalinga Sena\",\"marker\":{\"color\":\"#00cc96\",\"symbol\":\"circle\"},\"mode\":\"markers\",\"name\":\"Kalinga Sena\",\"orientation\":\"v\",\"showlegend\":true,\"x\":[\"Tamil Nadu\"],\"xaxis\":\"x\",\"y\":[0],\"yaxis\":\"y\",\"type\":\"scatter\"},{\"hovertemplate\":\"Party=Kalyankari Jantantrik Party<br>State=%{x}<br>Previous_Election_won=%{y}<extra></extra>\",\"legendgroup\":\"Kalyankari Jantantrik Party\",\"marker\":{\"color\":\"#ab63fa\",\"symbol\":\"circle\"},\"mode\":\"markers\",\"name\":\"Kalyankari Jantantrik Party\",\"orientation\":\"v\",\"showlegend\":true,\"x\":[\"Tripura\"],\"xaxis\":\"x\",\"y\":[0],\"yaxis\":\"y\",\"type\":\"scatter\"},{\"hovertemplate\":\"Party=Kamarajar Deseeya Congress<br>State=%{x}<br>Previous_Election_won=%{y}<extra></extra>\",\"legendgroup\":\"Kamarajar Deseeya Congress\",\"marker\":{\"color\":\"#FFA15A\",\"symbol\":\"circle\"},\"mode\":\"markers\",\"name\":\"Kamarajar Deseeya Congress\",\"orientation\":\"v\",\"showlegend\":true,\"x\":[\"Uttar Pradesh\"],\"xaxis\":\"x\",\"y\":[0],\"yaxis\":\"y\",\"type\":\"scatter\"},{\"hovertemplate\":\"Party=Kannada Chalavali Vatal Paksha<br>State=%{x}<br>Previous_Election_won=%{y}<extra></extra>\",\"legendgroup\":\"Kannada Chalavali Vatal Paksha\",\"marker\":{\"color\":\"#19d3f3\",\"symbol\":\"circle\"},\"mode\":\"markers\",\"name\":\"Kannada Chalavali Vatal Paksha\",\"orientation\":\"v\",\"showlegend\":true,\"x\":[\"Uttarakhand\"],\"xaxis\":\"x\",\"y\":[0],\"yaxis\":\"y\",\"type\":\"scatter\"},{\"hovertemplate\":\"Party=Karunaadu Party<br>State=%{x}<br>Previous_Election_won=%{y}<extra></extra>\",\"legendgroup\":\"Karunaadu Party\",\"marker\":{\"color\":\"#FF6692\",\"symbol\":\"circle\"},\"mode\":\"markers\",\"name\":\"Karunaadu Party\",\"orientation\":\"v\",\"showlegend\":true,\"x\":[\"West Bengal\"],\"xaxis\":\"x\",\"y\":[1],\"yaxis\":\"y\",\"type\":\"scatter\"},{\"hovertemplate\":\"Party=Kisan Majdoor Berojgar Sangh<br>State=%{x}<br>Previous_Election_won=%{y}<extra></extra>\",\"legendgroup\":\"Kisan Majdoor Berojgar Sangh\",\"marker\":{\"color\":\"#B6E880\",\"symbol\":\"circle\"},\"mode\":\"markers\",\"name\":\"Kisan Majdoor Berojgar Sangh\",\"orientation\":\"v\",\"showlegend\":true,\"x\":[\"Andaman & Nicobar Islands\"],\"xaxis\":\"x\",\"y\":[0],\"yaxis\":\"y\",\"type\":\"scatter\"},{\"hovertemplate\":\"Party=Kosal Kranti Dal<br>State=%{x}<br>Previous_Election_won=%{y}<extra></extra>\",\"legendgroup\":\"Kosal Kranti Dal\",\"marker\":{\"color\":\"#FF97FF\",\"symbol\":\"circle\"},\"mode\":\"markers\",\"name\":\"Kosal Kranti Dal\",\"orientation\":\"v\",\"showlegend\":true,\"x\":[\"Andhra Pradesh\"],\"xaxis\":\"x\",\"y\":[0],\"yaxis\":\"y\",\"type\":\"scatter\"},{\"hovertemplate\":\"Party=Krantikari Vikas Dal<br>State=%{x}<br>Previous_Election_won=%{y}<extra></extra>\",\"legendgroup\":\"Krantikari Vikas Dal\",\"marker\":{\"color\":\"#FECB52\",\"symbol\":\"circle\"},\"mode\":\"markers\",\"name\":\"Krantikari Vikas Dal\",\"orientation\":\"v\",\"showlegend\":true,\"x\":[\"Arunachal Pradesh\"],\"xaxis\":\"x\",\"y\":[0],\"yaxis\":\"y\",\"type\":\"scatter\"},{\"hovertemplate\":\"Party=Labour Party of India (V.V. Prasad)<br>State=%{x}<br>Previous_Election_won=%{y}<extra></extra>\",\"legendgroup\":\"Labour Party of India (V.V. Prasad)\",\"marker\":{\"color\":\"#636efa\",\"symbol\":\"circle\"},\"mode\":\"markers\",\"name\":\"Labour Party of India (V.V. Prasad)\",\"orientation\":\"v\",\"showlegend\":true,\"x\":[\"Assam\"],\"xaxis\":\"x\",\"y\":[0],\"yaxis\":\"y\",\"type\":\"scatter\"},{\"hovertemplate\":\"Party=Lok Bharati<br>State=%{x}<br>Previous_Election_won=%{y}<extra></extra>\",\"legendgroup\":\"Lok Bharati\",\"marker\":{\"color\":\"#EF553B\",\"symbol\":\"circle\"},\"mode\":\"markers\",\"name\":\"Lok Bharati\",\"orientation\":\"v\",\"showlegend\":true,\"x\":[\"Bihar\"],\"xaxis\":\"x\",\"y\":[0],\"yaxis\":\"y\",\"type\":\"scatter\"},{\"hovertemplate\":\"Party=Lok Dal<br>State=%{x}<br>Previous_Election_won=%{y}<extra></extra>\",\"legendgroup\":\"Lok Dal\",\"marker\":{\"color\":\"#00cc96\",\"symbol\":\"circle\"},\"mode\":\"markers\",\"name\":\"Lok Dal\",\"orientation\":\"v\",\"showlegend\":true,\"x\":[\"Chandigarh\"],\"xaxis\":\"x\",\"y\":[1],\"yaxis\":\"y\",\"type\":\"scatter\"},{\"hovertemplate\":\"Party=Lok Parivartan Party(DC)<br>State=%{x}<br>Previous_Election_won=%{y}<extra></extra>\",\"legendgroup\":\"Lok Parivartan Party(DC)\",\"marker\":{\"color\":\"#ab63fa\",\"symbol\":\"circle\"},\"mode\":\"markers\",\"name\":\"Lok Parivartan Party(DC)\",\"orientation\":\"v\",\"showlegend\":true,\"x\":[\"Chhattisgarh\"],\"xaxis\":\"x\",\"y\":[0],\"yaxis\":\"y\",\"type\":\"scatter\"},{\"hovertemplate\":\"Party=Lok Satta Party<br>State=%{x}<br>Previous_Election_won=%{y}<extra></extra>\",\"legendgroup\":\"Lok Satta Party\",\"marker\":{\"color\":\"#FFA15A\",\"symbol\":\"circle\"},\"mode\":\"markers\",\"name\":\"Lok Satta Party\",\"orientation\":\"v\",\"showlegend\":true,\"x\":[\"Dadra & Nagar Haveli\"],\"xaxis\":\"x\",\"y\":[3],\"yaxis\":\"y\",\"type\":\"scatter\"},{\"hovertemplate\":\"Party=Lok Shakti<br>State=%{x}<br>Previous_Election_won=%{y}<extra></extra>\",\"legendgroup\":\"Lok Shakti\",\"marker\":{\"color\":\"#19d3f3\",\"symbol\":\"circle\"},\"mode\":\"markers\",\"name\":\"Lok Shakti\",\"orientation\":\"v\",\"showlegend\":true,\"x\":[\"Daman & Diu\"],\"xaxis\":\"x\",\"y\":[0],\"yaxis\":\"y\",\"type\":\"scatter\"},{\"hovertemplate\":\"Party=Lokpriya Samaj Party<br>State=%{x}<br>Previous_Election_won=%{y}<extra></extra>\",\"legendgroup\":\"Lokpriya Samaj Party\",\"marker\":{\"color\":\"#FF6692\",\"symbol\":\"circle\"},\"mode\":\"markers\",\"name\":\"Lokpriya Samaj Party\",\"orientation\":\"v\",\"showlegend\":true,\"x\":[\"Goa\"],\"xaxis\":\"x\",\"y\":[0],\"yaxis\":\"y\",\"type\":\"scatter\"},{\"hovertemplate\":\"Party=Loktantrik Janata Party (Secular)<br>State=%{x}<br>Previous_Election_won=%{y}<extra></extra>\",\"legendgroup\":\"Loktantrik Janata Party (Secular)\",\"marker\":{\"color\":\"#B6E880\",\"symbol\":\"circle\"},\"mode\":\"markers\",\"name\":\"Loktantrik Janata Party (Secular)\",\"orientation\":\"v\",\"showlegend\":true,\"x\":[\"Gujarat\"],\"xaxis\":\"x\",\"y\":[0],\"yaxis\":\"y\",\"type\":\"scatter\"},{\"hovertemplate\":\"Party=Loktantrik Rashrtavadi Party<br>State=%{x}<br>Previous_Election_won=%{y}<extra></extra>\",\"legendgroup\":\"Loktantrik Rashrtavadi Party\",\"marker\":{\"color\":\"#FF97FF\",\"symbol\":\"circle\"},\"mode\":\"markers\",\"name\":\"Loktantrik Rashrtavadi Party\",\"orientation\":\"v\",\"showlegend\":true,\"x\":[\"Haryana\"],\"xaxis\":\"x\",\"y\":[0],\"yaxis\":\"y\",\"type\":\"scatter\"},{\"hovertemplate\":\"Party=Loktantrik Samajwadi Party<br>State=%{x}<br>Previous_Election_won=%{y}<extra></extra>\",\"legendgroup\":\"Loktantrik Samajwadi Party\",\"marker\":{\"color\":\"#FECB52\",\"symbol\":\"circle\"},\"mode\":\"markers\",\"name\":\"Loktantrik Samajwadi Party\",\"orientation\":\"v\",\"showlegend\":true,\"x\":[\"Himachal Pradesh\"],\"xaxis\":\"x\",\"y\":[0],\"yaxis\":\"y\",\"type\":\"scatter\"},{\"hovertemplate\":\"Party=Mahajana Socialist Party<br>State=%{x}<br>Previous_Election_won=%{y}<extra></extra>\",\"legendgroup\":\"Mahajana Socialist Party\",\"marker\":{\"color\":\"#636efa\",\"symbol\":\"circle\"},\"mode\":\"markers\",\"name\":\"Mahajana Socialist Party\",\"orientation\":\"v\",\"showlegend\":true,\"x\":[\"Jammu & Kashmir\"],\"xaxis\":\"x\",\"y\":[0],\"yaxis\":\"y\",\"type\":\"scatter\"},{\"hovertemplate\":\"Party=Mahamukti Dal<br>State=%{x}<br>Previous_Election_won=%{y}<extra></extra>\",\"legendgroup\":\"Mahamukti Dal\",\"marker\":{\"color\":\"#EF553B\",\"symbol\":\"circle\"},\"mode\":\"markers\",\"name\":\"Mahamukti Dal\",\"orientation\":\"v\",\"showlegend\":true,\"x\":[\"Jharkhand\"],\"xaxis\":\"x\",\"y\":[0],\"yaxis\":\"y\",\"type\":\"scatter\"},{\"hovertemplate\":\"Party=Mahan Dal<br>State=%{x}<br>Previous_Election_won=%{y}<extra></extra>\",\"legendgroup\":\"Mahan Dal\",\"marker\":{\"color\":\"#00cc96\",\"symbol\":\"circle\"},\"mode\":\"markers\",\"name\":\"Mahan Dal\",\"orientation\":\"v\",\"showlegend\":true,\"x\":[\"Karnataka\"],\"xaxis\":\"x\",\"y\":[0],\"yaxis\":\"y\",\"type\":\"scatter\"},{\"hovertemplate\":\"Party=Mahanwadi Party<br>State=%{x}<br>Previous_Election_won=%{y}<extra></extra>\",\"legendgroup\":\"Mahanwadi Party\",\"marker\":{\"color\":\"#ab63fa\",\"symbol\":\"circle\"},\"mode\":\"markers\",\"name\":\"Mahanwadi Party\",\"orientation\":\"v\",\"showlegend\":true,\"x\":[\"Kerala\"],\"xaxis\":\"x\",\"y\":[0],\"yaxis\":\"y\",\"type\":\"scatter\"},{\"hovertemplate\":\"Party=Maharashtra Parivartan Sena (T)<br>State=%{x}<br>Previous_Election_won=%{y}<extra></extra>\",\"legendgroup\":\"Maharashtra Parivartan Sena (T)\",\"marker\":{\"color\":\"#FFA15A\",\"symbol\":\"circle\"},\"mode\":\"markers\",\"name\":\"Maharashtra Parivartan Sena (T)\",\"orientation\":\"v\",\"showlegend\":true,\"x\":[\"Lakshadweep\"],\"xaxis\":\"x\",\"y\":[0],\"yaxis\":\"y\",\"type\":\"scatter\"},{\"hovertemplate\":\"Party=Maharashtra Vikas Aghadi<br>State=%{x}<br>Previous_Election_won=%{y}<extra></extra>\",\"legendgroup\":\"Maharashtra Vikas Aghadi\",\"marker\":{\"color\":\"#19d3f3\",\"symbol\":\"circle\"},\"mode\":\"markers\",\"name\":\"Maharashtra Vikas Aghadi\",\"orientation\":\"v\",\"showlegend\":true,\"x\":[\"Madhya Pradesh\"],\"xaxis\":\"x\",\"y\":[0],\"yaxis\":\"y\",\"type\":\"scatter\"},{\"hovertemplate\":\"Party=Mahila Swabhiman Party<br>State=%{x}<br>Previous_Election_won=%{y}<extra></extra>\",\"legendgroup\":\"Mahila Swabhiman Party\",\"marker\":{\"color\":\"#FF6692\",\"symbol\":\"circle\"},\"mode\":\"markers\",\"name\":\"Mahila Swabhiman Party\",\"orientation\":\"v\",\"showlegend\":true,\"x\":[\"Andaman & Nicobar Islands\"],\"xaxis\":\"x\",\"y\":[0],\"yaxis\":\"y\",\"type\":\"scatter\"},{\"hovertemplate\":\"Party=Majdoor Kisan Union Party<br>State=%{x}<br>Previous_Election_won=%{y}<extra></extra>\",\"legendgroup\":\"Majdoor Kisan Union Party\",\"marker\":{\"color\":\"#B6E880\",\"symbol\":\"circle\"},\"mode\":\"markers\",\"name\":\"Majdoor Kisan Union Party\",\"orientation\":\"v\",\"showlegend\":true,\"x\":[\"Andhra Pradesh\"],\"xaxis\":\"x\",\"y\":[0],\"yaxis\":\"y\",\"type\":\"scatter\"},{\"hovertemplate\":\"Party=Majlis Bachao Tahreek<br>State=%{x}<br>Previous_Election_won=%{y}<extra></extra>\",\"legendgroup\":\"Majlis Bachao Tahreek\",\"marker\":{\"color\":\"#FF97FF\",\"symbol\":\"circle\"},\"mode\":\"markers\",\"name\":\"Majlis Bachao Tahreek\",\"orientation\":\"v\",\"showlegend\":true,\"x\":[\"Arunachal Pradesh\"],\"xaxis\":\"x\",\"y\":[0],\"yaxis\":\"y\",\"type\":\"scatter\"},{\"hovertemplate\":\"Party=Majlis Markaz-e-Siyasee Party<br>State=%{x}<br>Previous_Election_won=%{y}<extra></extra>\",\"legendgroup\":\"Majlis Markaz-e-Siyasee Party\",\"marker\":{\"color\":\"#FECB52\",\"symbol\":\"circle\"},\"mode\":\"markers\",\"name\":\"Majlis Markaz-e-Siyasee Party\",\"orientation\":\"v\",\"showlegend\":true,\"x\":[\"Assam\"],\"xaxis\":\"x\",\"y\":[0],\"yaxis\":\"y\",\"type\":\"scatter\"},{\"hovertemplate\":\"Party=Makkal Manadu Katchi<br>State=%{x}<br>Previous_Election_won=%{y}<extra></extra>\",\"legendgroup\":\"Makkal Manadu Katchi\",\"marker\":{\"color\":\"#636efa\",\"symbol\":\"circle\"},\"mode\":\"markers\",\"name\":\"Makkal Manadu Katchi\",\"orientation\":\"v\",\"showlegend\":true,\"x\":[\"Bihar\"],\"xaxis\":\"x\",\"y\":[0],\"yaxis\":\"y\",\"type\":\"scatter\"},{\"hovertemplate\":\"Party=Manav Mukti Morcha<br>State=%{x}<br>Previous_Election_won=%{y}<extra></extra>\",\"legendgroup\":\"Manav Mukti Morcha\",\"marker\":{\"color\":\"#EF553B\",\"symbol\":\"circle\"},\"mode\":\"markers\",\"name\":\"Manav Mukti Morcha\",\"orientation\":\"v\",\"showlegend\":true,\"x\":[\"Chandigarh\"],\"xaxis\":\"x\",\"y\":[0],\"yaxis\":\"y\",\"type\":\"scatter\"},{\"hovertemplate\":\"Party=Manavadhikar Janshakti Party<br>State=%{x}<br>Previous_Election_won=%{y}<extra></extra>\",\"legendgroup\":\"Manavadhikar Janshakti Party\",\"marker\":{\"color\":\"#00cc96\",\"symbol\":\"circle\"},\"mode\":\"markers\",\"name\":\"Manavadhikar Janshakti Party\",\"orientation\":\"v\",\"showlegend\":true,\"x\":[\"Chhattisgarh\"],\"xaxis\":\"x\",\"y\":[0],\"yaxis\":\"y\",\"type\":\"scatter\"},{\"hovertemplate\":\"Party=Manavtawadi Samaj Party<br>State=%{x}<br>Previous_Election_won=%{y}<extra></extra>\",\"legendgroup\":\"Manavtawadi Samaj Party\",\"marker\":{\"color\":\"#ab63fa\",\"symbol\":\"circle\"},\"mode\":\"markers\",\"name\":\"Manavtawadi Samaj Party\",\"orientation\":\"v\",\"showlegend\":true,\"x\":[\"Dadra & Nagar Haveli\"],\"xaxis\":\"x\",\"y\":[0],\"yaxis\":\"y\",\"type\":\"scatter\"},{\"hovertemplate\":\"Party=Manipur Democratic Peoples's Front<br>State=%{x}<br>Previous_Election_won=%{y}<extra></extra>\",\"legendgroup\":\"Manipur Democratic Peoples's Front\",\"marker\":{\"color\":\"#FFA15A\",\"symbol\":\"circle\"},\"mode\":\"markers\",\"name\":\"Manipur Democratic Peoples's Front\",\"orientation\":\"v\",\"showlegend\":true,\"x\":[\"Daman & Diu\"],\"xaxis\":\"x\",\"y\":[0],\"yaxis\":\"y\",\"type\":\"scatter\"},{\"hovertemplate\":\"Party=Manithaneya Makkal Katchi<br>State=%{x}<br>Previous_Election_won=%{y}<extra></extra>\",\"legendgroup\":\"Manithaneya Makkal Katchi\",\"marker\":{\"color\":\"#19d3f3\",\"symbol\":\"circle\"},\"mode\":\"markers\",\"name\":\"Manithaneya Makkal Katchi\",\"orientation\":\"v\",\"showlegend\":true,\"x\":[\"Goa\"],\"xaxis\":\"x\",\"y\":[4],\"yaxis\":\"y\",\"type\":\"scatter\"},{\"hovertemplate\":\"Party=Marumalarchi Dravida Munnetra Kazhagam<br>State=%{x}<br>Previous_Election_won=%{y}<extra></extra>\",\"legendgroup\":\"Marumalarchi Dravida Munnetra Kazhagam\",\"marker\":{\"color\":\"#FF6692\",\"symbol\":\"circle\"},\"mode\":\"markers\",\"name\":\"Marumalarchi Dravida Munnetra Kazhagam\",\"orientation\":\"v\",\"showlegend\":true,\"x\":[\"Gujarat\"],\"xaxis\":\"x\",\"y\":[26],\"yaxis\":\"y\",\"type\":\"scatter\"},{\"hovertemplate\":\"Party=Marxist Co-Ordination<br>State=%{x}<br>Previous_Election_won=%{y}<extra></extra>\",\"legendgroup\":\"Marxist Co-Ordination\",\"marker\":{\"color\":\"#B6E880\",\"symbol\":\"circle\"},\"mode\":\"markers\",\"name\":\"Marxist Co-Ordination\",\"orientation\":\"v\",\"showlegend\":true,\"x\":[\"Haryana\"],\"xaxis\":\"x\",\"y\":[2],\"yaxis\":\"y\",\"type\":\"scatter\"},{\"hovertemplate\":\"Party=Marxist Communist Party of India (United)<br>State=%{x}<br>Previous_Election_won=%{y}<extra></extra>\",\"legendgroup\":\"Marxist Communist Party of India (United)\",\"marker\":{\"color\":\"#FF97FF\",\"symbol\":\"circle\"},\"mode\":\"markers\",\"name\":\"Marxist Communist Party of India (United)\",\"orientation\":\"v\",\"showlegend\":true,\"x\":[\"Himachal Pradesh\"],\"xaxis\":\"x\",\"y\":[0],\"yaxis\":\"y\",\"type\":\"scatter\"},{\"hovertemplate\":\"Party=Megh Desham Party<br>State=%{x}<br>Previous_Election_won=%{y}<extra></extra>\",\"legendgroup\":\"Megh Desham Party\",\"marker\":{\"color\":\"#FECB52\",\"symbol\":\"circle\"},\"mode\":\"markers\",\"name\":\"Megh Desham Party\",\"orientation\":\"v\",\"showlegend\":true,\"x\":[\"Jammu & Kashmir\"],\"xaxis\":\"x\",\"y\":[0],\"yaxis\":\"y\",\"type\":\"scatter\"},{\"hovertemplate\":\"Party=Minorities Democratic Party<br>State=%{x}<br>Previous_Election_won=%{y}<extra></extra>\",\"legendgroup\":\"Minorities Democratic Party\",\"marker\":{\"color\":\"#636efa\",\"symbol\":\"circle\"},\"mode\":\"markers\",\"name\":\"Minorities Democratic Party\",\"orientation\":\"v\",\"showlegend\":true,\"x\":[\"Jharkhand\"],\"xaxis\":\"x\",\"y\":[0],\"yaxis\":\"y\",\"type\":\"scatter\"},{\"hovertemplate\":\"Party=Moderate Party<br>State=%{x}<br>Previous_Election_won=%{y}<extra></extra>\",\"legendgroup\":\"Moderate Party\",\"marker\":{\"color\":\"#EF553B\",\"symbol\":\"circle\"},\"mode\":\"markers\",\"name\":\"Moderate Party\",\"orientation\":\"v\",\"showlegend\":true,\"x\":[\"Karnataka\"],\"xaxis\":\"x\",\"y\":[0],\"yaxis\":\"y\",\"type\":\"scatter\"},{\"hovertemplate\":\"Party=Moolniwasi Samaj Party<br>State=%{x}<br>Previous_Election_won=%{y}<extra></extra>\",\"legendgroup\":\"Moolniwasi Samaj Party\",\"marker\":{\"color\":\"#00cc96\",\"symbol\":\"circle\"},\"mode\":\"markers\",\"name\":\"Moolniwasi Samaj Party\",\"orientation\":\"v\",\"showlegend\":true,\"x\":[\"Kerala\"],\"xaxis\":\"x\",\"y\":[0],\"yaxis\":\"y\",\"type\":\"scatter\"},{\"hovertemplate\":\"Party=Most Backward Classes Of India<br>State=%{x}<br>Previous_Election_won=%{y}<extra></extra>\",\"legendgroup\":\"Most Backward Classes Of India\",\"marker\":{\"color\":\"#ab63fa\",\"symbol\":\"circle\"},\"mode\":\"markers\",\"name\":\"Most Backward Classes Of India\",\"orientation\":\"v\",\"showlegend\":true,\"x\":[\"Lakshadweep\"],\"xaxis\":\"x\",\"y\":[0],\"yaxis\":\"y\",\"type\":\"scatter\"},{\"hovertemplate\":\"Party=Moulik Adhikar Party<br>State=%{x}<br>Previous_Election_won=%{y}<extra></extra>\",\"legendgroup\":\"Moulik Adhikar Party\",\"marker\":{\"color\":\"#FFA15A\",\"symbol\":\"circle\"},\"mode\":\"markers\",\"name\":\"Moulik Adhikar Party\",\"orientation\":\"v\",\"showlegend\":true,\"x\":[\"Madhya Pradesh\"],\"xaxis\":\"x\",\"y\":[0],\"yaxis\":\"y\",\"type\":\"scatter\"},{\"hovertemplate\":\"Party=Nagrik Ekta Party<br>State=%{x}<br>Previous_Election_won=%{y}<extra></extra>\",\"legendgroup\":\"Nagrik Ekta Party\",\"marker\":{\"color\":\"#19d3f3\",\"symbol\":\"circle\"},\"mode\":\"markers\",\"name\":\"Nagrik Ekta Party\",\"orientation\":\"v\",\"showlegend\":true,\"x\":[\"Andaman & Nicobar Islands\"],\"xaxis\":\"x\",\"y\":[0],\"yaxis\":\"y\",\"type\":\"scatter\"},{\"hovertemplate\":\"Party=Naitik Party<br>State=%{x}<br>Previous_Election_won=%{y}<extra></extra>\",\"legendgroup\":\"Naitik Party\",\"marker\":{\"color\":\"#FF6692\",\"symbol\":\"circle\"},\"mode\":\"markers\",\"name\":\"Naitik Party\",\"orientation\":\"v\",\"showlegend\":true,\"x\":[\"Andhra Pradesh\"],\"xaxis\":\"x\",\"y\":[1],\"yaxis\":\"y\",\"type\":\"scatter\"},{\"hovertemplate\":\"Party=Namadhu Makkal Katchi<br>State=%{x}<br>Previous_Election_won=%{y}<extra></extra>\",\"legendgroup\":\"Namadhu Makkal Katchi\",\"marker\":{\"color\":\"#B6E880\",\"symbol\":\"circle\"},\"mode\":\"markers\",\"name\":\"Namadhu Makkal Katchi\",\"orientation\":\"v\",\"showlegend\":true,\"x\":[\"Arunachal Pradesh\"],\"xaxis\":\"x\",\"y\":[0],\"yaxis\":\"y\",\"type\":\"scatter\"},{\"hovertemplate\":\"Party=Narayani Sena<br>State=%{x}<br>Previous_Election_won=%{y}<extra></extra>\",\"legendgroup\":\"Narayani Sena\",\"marker\":{\"color\":\"#FF97FF\",\"symbol\":\"circle\"},\"mode\":\"markers\",\"name\":\"Narayani Sena\",\"orientation\":\"v\",\"showlegend\":true,\"x\":[\"Assam\"],\"xaxis\":\"x\",\"y\":[0],\"yaxis\":\"y\",\"type\":\"scatter\"},{\"hovertemplate\":\"Party=National Development Party<br>State=%{x}<br>Previous_Election_won=%{y}<extra></extra>\",\"legendgroup\":\"National Development Party\",\"marker\":{\"color\":\"#FECB52\",\"symbol\":\"circle\"},\"mode\":\"markers\",\"name\":\"National Development Party\",\"orientation\":\"v\",\"showlegend\":true,\"x\":[\"Bihar\"],\"xaxis\":\"x\",\"y\":[0],\"yaxis\":\"y\",\"type\":\"scatter\"},{\"hovertemplate\":\"Party=National Janhit Congress (AB)<br>State=%{x}<br>Previous_Election_won=%{y}<extra></extra>\",\"legendgroup\":\"National Janhit Congress (AB)\",\"marker\":{\"color\":\"#636efa\",\"symbol\":\"circle\"},\"mode\":\"markers\",\"name\":\"National Janhit Congress (AB)\",\"orientation\":\"v\",\"showlegend\":true,\"x\":[\"Chandigarh\"],\"xaxis\":\"x\",\"y\":[0],\"yaxis\":\"y\",\"type\":\"scatter\"},{\"hovertemplate\":\"Party=National Lokmat Party<br>State=%{x}<br>Previous_Election_won=%{y}<extra></extra>\",\"legendgroup\":\"National Lokmat Party\",\"marker\":{\"color\":\"#EF553B\",\"symbol\":\"circle\"},\"mode\":\"markers\",\"name\":\"National Lokmat Party\",\"orientation\":\"v\",\"showlegend\":true,\"x\":[\"Chhattisgarh\"],\"xaxis\":\"x\",\"y\":[0],\"yaxis\":\"y\",\"type\":\"scatter\"},{\"hovertemplate\":\"Party=National Loktantrik Party<br>State=%{x}<br>Previous_Election_won=%{y}<extra></extra>\",\"legendgroup\":\"National Loktantrik Party\",\"marker\":{\"color\":\"#00cc96\",\"symbol\":\"circle\"},\"mode\":\"markers\",\"name\":\"National Loktantrik Party\",\"orientation\":\"v\",\"showlegend\":true,\"x\":[\"Dadra & Nagar Haveli\"],\"xaxis\":\"x\",\"y\":[0],\"yaxis\":\"y\",\"type\":\"scatter\"},{\"hovertemplate\":\"Party=National Organisation Congress<br>State=%{x}<br>Previous_Election_won=%{y}<extra></extra>\",\"legendgroup\":\"National Organisation Congress\",\"marker\":{\"color\":\"#ab63fa\",\"symbol\":\"circle\"},\"mode\":\"markers\",\"name\":\"National Organisation Congress\",\"orientation\":\"v\",\"showlegend\":true,\"x\":[\"Daman & Diu\"],\"xaxis\":\"x\",\"y\":[0],\"yaxis\":\"y\",\"type\":\"scatter\"},{\"hovertemplate\":\"Party=National Party<br>State=%{x}<br>Previous_Election_won=%{y}<extra></extra>\",\"legendgroup\":\"National Party\",\"marker\":{\"color\":\"#FFA15A\",\"symbol\":\"circle\"},\"mode\":\"markers\",\"name\":\"National Party\",\"orientation\":\"v\",\"showlegend\":true,\"x\":[\"Goa\"],\"xaxis\":\"x\",\"y\":[0],\"yaxis\":\"y\",\"type\":\"scatter\"},{\"hovertemplate\":\"Party=National Tiger Party<br>State=%{x}<br>Previous_Election_won=%{y}<extra></extra>\",\"legendgroup\":\"National Tiger Party\",\"marker\":{\"color\":\"#19d3f3\",\"symbol\":\"circle\"},\"mode\":\"markers\",\"name\":\"National Tiger Party\",\"orientation\":\"v\",\"showlegend\":true,\"x\":[\"Gujarat\"],\"xaxis\":\"x\",\"y\":[0],\"yaxis\":\"y\",\"type\":\"scatter\"},{\"hovertemplate\":\"Party=National Unionist Zamindara Party<br>State=%{x}<br>Previous_Election_won=%{y}<extra></extra>\",\"legendgroup\":\"National Unionist Zamindara Party\",\"marker\":{\"color\":\"#FF6692\",\"symbol\":\"circle\"},\"mode\":\"markers\",\"name\":\"National Unionist Zamindara Party\",\"orientation\":\"v\",\"showlegend\":true,\"x\":[\"Haryana\"],\"xaxis\":\"x\",\"y\":[2],\"yaxis\":\"y\",\"type\":\"scatter\"},{\"hovertemplate\":\"Party=National Youth Party<br>State=%{x}<br>Previous_Election_won=%{y}<extra></extra>\",\"legendgroup\":\"National Youth Party\",\"marker\":{\"color\":\"#B6E880\",\"symbol\":\"circle\"},\"mode\":\"markers\",\"name\":\"National Youth Party\",\"orientation\":\"v\",\"showlegend\":true,\"x\":[\"Himachal Pradesh\"],\"xaxis\":\"x\",\"y\":[0],\"yaxis\":\"y\",\"type\":\"scatter\"},{\"hovertemplate\":\"Party=Nav Bharat Democratic Party<br>State=%{x}<br>Previous_Election_won=%{y}<extra></extra>\",\"legendgroup\":\"Nav Bharat Democratic Party\",\"marker\":{\"color\":\"#FF97FF\",\"symbol\":\"circle\"},\"mode\":\"markers\",\"name\":\"Nav Bharat Democratic Party\",\"orientation\":\"v\",\"showlegend\":true,\"x\":[\"Jammu & Kashmir\"],\"xaxis\":\"x\",\"y\":[0],\"yaxis\":\"y\",\"type\":\"scatter\"},{\"hovertemplate\":\"Party=Nava Bharat National Party<br>State=%{x}<br>Previous_Election_won=%{y}<extra></extra>\",\"legendgroup\":\"Nava Bharat National Party\",\"marker\":{\"color\":\"#FECB52\",\"symbol\":\"circle\"},\"mode\":\"markers\",\"name\":\"Nava Bharat National Party\",\"orientation\":\"v\",\"showlegend\":true,\"x\":[\"Jharkhand\"],\"xaxis\":\"x\",\"y\":[0],\"yaxis\":\"y\",\"type\":\"scatter\"},{\"hovertemplate\":\"Party=Navbharat Nirman Party<br>State=%{x}<br>Previous_Election_won=%{y}<extra></extra>\",\"legendgroup\":\"Navbharat Nirman Party\",\"marker\":{\"color\":\"#636efa\",\"symbol\":\"circle\"},\"mode\":\"markers\",\"name\":\"Navbharat Nirman Party\",\"orientation\":\"v\",\"showlegend\":true,\"x\":[\"Karnataka\"],\"xaxis\":\"x\",\"y\":[0],\"yaxis\":\"y\",\"type\":\"scatter\"},{\"hovertemplate\":\"Party=Navodyam Party<br>State=%{x}<br>Previous_Election_won=%{y}<extra></extra>\",\"legendgroup\":\"Navodyam Party\",\"marker\":{\"color\":\"#EF553B\",\"symbol\":\"circle\"},\"mode\":\"markers\",\"name\":\"Navodyam Party\",\"orientation\":\"v\",\"showlegend\":true,\"x\":[\"Kerala\"],\"xaxis\":\"x\",\"y\":[0],\"yaxis\":\"y\",\"type\":\"scatter\"},{\"hovertemplate\":\"Party=Naya Daur Party<br>State=%{x}<br>Previous_Election_won=%{y}<extra></extra>\",\"legendgroup\":\"Naya Daur Party\",\"marker\":{\"color\":\"#00cc96\",\"symbol\":\"circle\"},\"mode\":\"markers\",\"name\":\"Naya Daur Party\",\"orientation\":\"v\",\"showlegend\":true,\"x\":[\"Lakshadweep\"],\"xaxis\":\"x\",\"y\":[0],\"yaxis\":\"y\",\"type\":\"scatter\"},{\"hovertemplate\":\"Party=Nehru Janhit Congress<br>State=%{x}<br>Previous_Election_won=%{y}<extra></extra>\",\"legendgroup\":\"Nehru Janhit Congress\",\"marker\":{\"color\":\"#ab63fa\",\"symbol\":\"circle\"},\"mode\":\"markers\",\"name\":\"Nehru Janhit Congress\",\"orientation\":\"v\",\"showlegend\":true,\"x\":[\"Madhya Pradesh\"],\"xaxis\":\"x\",\"y\":[0],\"yaxis\":\"y\",\"type\":\"scatter\"},{\"hovertemplate\":\"Party=New All India Congress Party<br>State=%{x}<br>Previous_Election_won=%{y}<extra></extra>\",\"legendgroup\":\"New All India Congress Party\",\"marker\":{\"color\":\"#FFA15A\",\"symbol\":\"circle\"},\"mode\":\"markers\",\"name\":\"New All India Congress Party\",\"orientation\":\"v\",\"showlegend\":true,\"x\":[\"Andaman & Nicobar Islands\"],\"xaxis\":\"x\",\"y\":[0],\"yaxis\":\"y\",\"type\":\"scatter\"},{\"hovertemplate\":\"Party=New India Party<br>State=%{x}<br>Previous_Election_won=%{y}<extra></extra>\",\"legendgroup\":\"New India Party\",\"marker\":{\"color\":\"#19d3f3\",\"symbol\":\"circle\"},\"mode\":\"markers\",\"name\":\"New India Party\",\"orientation\":\"v\",\"showlegend\":true,\"x\":[\"Andhra Pradesh\"],\"xaxis\":\"x\",\"y\":[0],\"yaxis\":\"y\",\"type\":\"scatter\"},{\"hovertemplate\":\"Party=Nirjatita Samaj Biplabi Party<br>State=%{x}<br>Previous_Election_won=%{y}<extra></extra>\",\"legendgroup\":\"Nirjatita Samaj Biplabi Party\",\"marker\":{\"color\":\"#FF6692\",\"symbol\":\"circle\"},\"mode\":\"markers\",\"name\":\"Nirjatita Samaj Biplabi Party\",\"orientation\":\"v\",\"showlegend\":true,\"x\":[\"Arunachal Pradesh\"],\"xaxis\":\"x\",\"y\":[0],\"yaxis\":\"y\",\"type\":\"scatter\"},{\"hovertemplate\":\"Party=Odisha Jan Morcha<br>State=%{x}<br>Previous_Election_won=%{y}<extra></extra>\",\"legendgroup\":\"Odisha Jan Morcha\",\"marker\":{\"color\":\"#B6E880\",\"symbol\":\"circle\"},\"mode\":\"markers\",\"name\":\"Odisha Jan Morcha\",\"orientation\":\"v\",\"showlegend\":true,\"x\":[\"Assam\"],\"xaxis\":\"x\",\"y\":[1],\"yaxis\":\"y\",\"type\":\"scatter\"},{\"hovertemplate\":\"Party=Parcham Party of India<br>State=%{x}<br>Previous_Election_won=%{y}<extra></extra>\",\"legendgroup\":\"Parcham Party of India\",\"marker\":{\"color\":\"#FF97FF\",\"symbol\":\"circle\"},\"mode\":\"markers\",\"name\":\"Parcham Party of India\",\"orientation\":\"v\",\"showlegend\":true,\"x\":[\"Bihar\"],\"xaxis\":\"x\",\"y\":[0],\"yaxis\":\"y\",\"type\":\"scatter\"},{\"hovertemplate\":\"Party=Parivartan Samaj Party<br>State=%{x}<br>Previous_Election_won=%{y}<extra></extra>\",\"legendgroup\":\"Parivartan Samaj Party\",\"marker\":{\"color\":\"#FECB52\",\"symbol\":\"circle\"},\"mode\":\"markers\",\"name\":\"Parivartan Samaj Party\",\"orientation\":\"v\",\"showlegend\":true,\"x\":[\"Chandigarh\"],\"xaxis\":\"x\",\"y\":[0],\"yaxis\":\"y\",\"type\":\"scatter\"},{\"hovertemplate\":\"Party=Party for Democratic Socialism<br>State=%{x}<br>Previous_Election_won=%{y}<extra></extra>\",\"legendgroup\":\"Party for Democratic Socialism\",\"marker\":{\"color\":\"#636efa\",\"symbol\":\"circle\"},\"mode\":\"markers\",\"name\":\"Party for Democratic Socialism\",\"orientation\":\"v\",\"showlegend\":true,\"x\":[\"Chhattisgarh\"],\"xaxis\":\"x\",\"y\":[0],\"yaxis\":\"y\",\"type\":\"scatter\"},{\"hovertemplate\":\"Party=Paschimanchal Vikas Party<br>State=%{x}<br>Previous_Election_won=%{y}<extra></extra>\",\"legendgroup\":\"Paschimanchal Vikas Party\",\"marker\":{\"color\":\"#EF553B\",\"symbol\":\"circle\"},\"mode\":\"markers\",\"name\":\"Paschimanchal Vikas Party\",\"orientation\":\"v\",\"showlegend\":true,\"x\":[\"Dadra & Nagar Haveli\"],\"xaxis\":\"x\",\"y\":[1],\"yaxis\":\"y\",\"type\":\"scatter\"},{\"hovertemplate\":\"Party=Peace Party<br>State=%{x}<br>Previous_Election_won=%{y}<extra></extra>\",\"legendgroup\":\"Peace Party\",\"marker\":{\"color\":\"#00cc96\",\"symbol\":\"circle\"},\"mode\":\"markers\",\"name\":\"Peace Party\",\"orientation\":\"v\",\"showlegend\":true,\"x\":[\"Daman & Diu\"],\"xaxis\":\"x\",\"y\":[9],\"yaxis\":\"y\",\"type\":\"scatter\"},{\"hovertemplate\":\"Party=Peasants And Workers Party of India<br>State=%{x}<br>Previous_Election_won=%{y}<extra></extra>\",\"legendgroup\":\"Peasants And Workers Party of India\",\"marker\":{\"color\":\"#ab63fa\",\"symbol\":\"circle\"},\"mode\":\"markers\",\"name\":\"Peasants And Workers Party of India\",\"orientation\":\"v\",\"showlegend\":true,\"x\":[\"Goa\"],\"xaxis\":\"x\",\"y\":[9],\"yaxis\":\"y\",\"type\":\"scatter\"},{\"hovertemplate\":\"Party=People's Party of India(secular)<br>State=%{x}<br>Previous_Election_won=%{y}<extra></extra>\",\"legendgroup\":\"People's Party of India(secular)\",\"marker\":{\"color\":\"#FFA15A\",\"symbol\":\"circle\"},\"mode\":\"markers\",\"name\":\"People's Party of India(secular)\",\"orientation\":\"v\",\"showlegend\":true,\"x\":[\"Gujarat\"],\"xaxis\":\"x\",\"y\":[0],\"yaxis\":\"y\",\"type\":\"scatter\"},{\"hovertemplate\":\"Party=Peoples Guardian<br>State=%{x}<br>Previous_Election_won=%{y}<extra></extra>\",\"legendgroup\":\"Peoples Guardian\",\"marker\":{\"color\":\"#19d3f3\",\"symbol\":\"circle\"},\"mode\":\"markers\",\"name\":\"Peoples Guardian\",\"orientation\":\"v\",\"showlegend\":true,\"x\":[\"Haryana\"],\"xaxis\":\"x\",\"y\":[0],\"yaxis\":\"y\",\"type\":\"scatter\"},{\"hovertemplate\":\"Party=Poorvanchal Rashtriya Congress<br>State=%{x}<br>Previous_Election_won=%{y}<extra></extra>\",\"legendgroup\":\"Poorvanchal Rashtriya Congress\",\"marker\":{\"color\":\"#FF6692\",\"symbol\":\"circle\"},\"mode\":\"markers\",\"name\":\"Poorvanchal Rashtriya Congress\",\"orientation\":\"v\",\"showlegend\":true,\"x\":[\"Himachal Pradesh\"],\"xaxis\":\"x\",\"y\":[0],\"yaxis\":\"y\",\"type\":\"scatter\"},{\"hovertemplate\":\"Party=Prabuddha Republican Party<br>State=%{x}<br>Previous_Election_won=%{y}<extra></extra>\",\"legendgroup\":\"Prabuddha Republican Party\",\"marker\":{\"color\":\"#B6E880\",\"symbol\":\"circle\"},\"mode\":\"markers\",\"name\":\"Prabuddha Republican Party\",\"orientation\":\"v\",\"showlegend\":true,\"x\":[\"Jammu & Kashmir\"],\"xaxis\":\"x\",\"y\":[0],\"yaxis\":\"y\",\"type\":\"scatter\"},{\"hovertemplate\":\"Party=Pragatisheel Magahi Samaj<br>State=%{x}<br>Previous_Election_won=%{y}<extra></extra>\",\"legendgroup\":\"Pragatisheel Magahi Samaj\",\"marker\":{\"color\":\"#FF97FF\",\"symbol\":\"circle\"},\"mode\":\"markers\",\"name\":\"Pragatisheel Magahi Samaj\",\"orientation\":\"v\",\"showlegend\":true,\"x\":[\"Jharkhand\"],\"xaxis\":\"x\",\"y\":[0],\"yaxis\":\"y\",\"type\":\"scatter\"},{\"hovertemplate\":\"Party=Pragatisheel Manav Samaj Party<br>State=%{x}<br>Previous_Election_won=%{y}<extra></extra>\",\"legendgroup\":\"Pragatisheel Manav Samaj Party\",\"marker\":{\"color\":\"#FECB52\",\"symbol\":\"circle\"},\"mode\":\"markers\",\"name\":\"Pragatisheel Manav Samaj Party\",\"orientation\":\"v\",\"showlegend\":true,\"x\":[\"Karnataka\"],\"xaxis\":\"x\",\"y\":[1],\"yaxis\":\"y\",\"type\":\"scatter\"},{\"hovertemplate\":\"Party=Pragatisheel Samaj Party<br>State=%{x}<br>Previous_Election_won=%{y}<extra></extra>\",\"legendgroup\":\"Pragatisheel Samaj Party\",\"marker\":{\"color\":\"#636efa\",\"symbol\":\"circle\"},\"mode\":\"markers\",\"name\":\"Pragatisheel Samaj Party\",\"orientation\":\"v\",\"showlegend\":true,\"x\":[\"Kerala\"],\"xaxis\":\"x\",\"y\":[0],\"yaxis\":\"y\",\"type\":\"scatter\"},{\"hovertemplate\":\"Party=Prajatantra Aadhar Party<br>State=%{x}<br>Previous_Election_won=%{y}<extra></extra>\",\"legendgroup\":\"Prajatantra Aadhar Party\",\"marker\":{\"color\":\"#EF553B\",\"symbol\":\"circle\"},\"mode\":\"markers\",\"name\":\"Prajatantra Aadhar Party\",\"orientation\":\"v\",\"showlegend\":true,\"x\":[\"Lakshadweep\"],\"xaxis\":\"x\",\"y\":[0],\"yaxis\":\"y\",\"type\":\"scatter\"},{\"hovertemplate\":\"Party=Prajatantrik Samadhan Party<br>State=%{x}<br>Previous_Election_won=%{y}<extra></extra>\",\"legendgroup\":\"Prajatantrik Samadhan Party\",\"marker\":{\"color\":\"#00cc96\",\"symbol\":\"circle\"},\"mode\":\"markers\",\"name\":\"Prajatantrik Samadhan Party\",\"orientation\":\"v\",\"showlegend\":true,\"x\":[\"Madhya Pradesh\"],\"xaxis\":\"x\",\"y\":[0],\"yaxis\":\"y\",\"type\":\"scatter\"},{\"hovertemplate\":\"Party=Prem Janata Dal<br>State=%{x}<br>Previous_Election_won=%{y}<extra></extra>\",\"legendgroup\":\"Prem Janata Dal\",\"marker\":{\"color\":\"#ab63fa\",\"symbol\":\"circle\"},\"mode\":\"markers\",\"name\":\"Prem Janata Dal\",\"orientation\":\"v\",\"showlegend\":true,\"x\":[\"Andaman & Nicobar Islands\"],\"xaxis\":\"x\",\"y\":[1],\"yaxis\":\"y\",\"type\":\"scatter\"},{\"hovertemplate\":\"Party=Prism<br>State=%{x}<br>Previous_Election_won=%{y}<extra></extra>\",\"legendgroup\":\"Prism\",\"marker\":{\"color\":\"#FFA15A\",\"symbol\":\"circle\"},\"mode\":\"markers\",\"name\":\"Prism\",\"orientation\":\"v\",\"showlegend\":true,\"x\":[\"Andhra Pradesh\"],\"xaxis\":\"x\",\"y\":[0],\"yaxis\":\"y\",\"type\":\"scatter\"},{\"hovertemplate\":\"Party=Proutist Bloc, India<br>State=%{x}<br>Previous_Election_won=%{y}<extra></extra>\",\"legendgroup\":\"Proutist Bloc, India\",\"marker\":{\"color\":\"#19d3f3\",\"symbol\":\"circle\"},\"mode\":\"markers\",\"name\":\"Proutist Bloc, India\",\"orientation\":\"v\",\"showlegend\":true,\"x\":[\"Arunachal Pradesh\"],\"xaxis\":\"x\",\"y\":[0],\"yaxis\":\"y\",\"type\":\"scatter\"},{\"hovertemplate\":\"Party=Proutist Sarva Samaj<br>State=%{x}<br>Previous_Election_won=%{y}<extra></extra>\",\"legendgroup\":\"Proutist Sarva Samaj\",\"marker\":{\"color\":\"#FF6692\",\"symbol\":\"circle\"},\"mode\":\"markers\",\"name\":\"Proutist Sarva Samaj\",\"orientation\":\"v\",\"showlegend\":true,\"x\":[\"Assam\"],\"xaxis\":\"x\",\"y\":[0],\"yaxis\":\"y\",\"type\":\"scatter\"},{\"hovertemplate\":\"Party=Punjab Labour Party<br>State=%{x}<br>Previous_Election_won=%{y}<extra></extra>\",\"legendgroup\":\"Punjab Labour Party\",\"marker\":{\"color\":\"#B6E880\",\"symbol\":\"circle\"},\"mode\":\"markers\",\"name\":\"Punjab Labour Party\",\"orientation\":\"v\",\"showlegend\":true,\"x\":[\"Bihar\"],\"xaxis\":\"x\",\"y\":[0],\"yaxis\":\"y\",\"type\":\"scatter\"},{\"hovertemplate\":\"Party=Puthiya Tamilagam<br>State=%{x}<br>Previous_Election_won=%{y}<extra></extra>\",\"legendgroup\":\"Puthiya Tamilagam\",\"marker\":{\"color\":\"#FF97FF\",\"symbol\":\"circle\"},\"mode\":\"markers\",\"name\":\"Puthiya Tamilagam\",\"orientation\":\"v\",\"showlegend\":true,\"x\":[\"Chandigarh\"],\"xaxis\":\"x\",\"y\":[5],\"yaxis\":\"y\",\"type\":\"scatter\"},{\"hovertemplate\":\"Party=Pyramid Party of India<br>State=%{x}<br>Previous_Election_won=%{y}<extra></extra>\",\"legendgroup\":\"Pyramid Party of India\",\"marker\":{\"color\":\"#FECB52\",\"symbol\":\"circle\"},\"mode\":\"markers\",\"name\":\"Pyramid Party of India\",\"orientation\":\"v\",\"showlegend\":true,\"x\":[\"Chhattisgarh\"],\"xaxis\":\"x\",\"y\":[3],\"yaxis\":\"y\",\"type\":\"scatter\"},{\"hovertemplate\":\"Party=Qaumi Ekta Dal<br>State=%{x}<br>Previous_Election_won=%{y}<extra></extra>\",\"legendgroup\":\"Qaumi Ekta Dal\",\"marker\":{\"color\":\"#636efa\",\"symbol\":\"circle\"},\"mode\":\"markers\",\"name\":\"Qaumi Ekta Dal\",\"orientation\":\"v\",\"showlegend\":true,\"x\":[\"Dadra & Nagar Haveli\"],\"xaxis\":\"x\",\"y\":[6],\"yaxis\":\"y\",\"type\":\"scatter\"},{\"hovertemplate\":\"Party=Rajasthan Vikas Party<br>State=%{x}<br>Previous_Election_won=%{y}<extra></extra>\",\"legendgroup\":\"Rajasthan Vikas Party\",\"marker\":{\"color\":\"#EF553B\",\"symbol\":\"circle\"},\"mode\":\"markers\",\"name\":\"Rajasthan Vikas Party\",\"orientation\":\"v\",\"showlegend\":true,\"x\":[\"Daman & Diu\"],\"xaxis\":\"x\",\"y\":[0],\"yaxis\":\"y\",\"type\":\"scatter\"},{\"hovertemplate\":\"Party=Rajnaitik Vikalp Party<br>State=%{x}<br>Previous_Election_won=%{y}<extra></extra>\",\"legendgroup\":\"Rajnaitik Vikalp Party\",\"marker\":{\"color\":\"#00cc96\",\"symbol\":\"circle\"},\"mode\":\"markers\",\"name\":\"Rajnaitik Vikalp Party\",\"orientation\":\"v\",\"showlegend\":true,\"x\":[\"Goa\"],\"xaxis\":\"x\",\"y\":[1],\"yaxis\":\"y\",\"type\":\"scatter\"},{\"hovertemplate\":\"Party=Rajyadhikara Party<br>State=%{x}<br>Previous_Election_won=%{y}<extra></extra>\",\"legendgroup\":\"Rajyadhikara Party\",\"marker\":{\"color\":\"#ab63fa\",\"symbol\":\"circle\"},\"mode\":\"markers\",\"name\":\"Rajyadhikara Party\",\"orientation\":\"v\",\"showlegend\":true,\"x\":[\"Gujarat\"],\"xaxis\":\"x\",\"y\":[0],\"yaxis\":\"y\",\"type\":\"scatter\"},{\"hovertemplate\":\"Party=Rani Chennamma Party<br>State=%{x}<br>Previous_Election_won=%{y}<extra></extra>\",\"legendgroup\":\"Rani Chennamma Party\",\"marker\":{\"color\":\"#FFA15A\",\"symbol\":\"circle\"},\"mode\":\"markers\",\"name\":\"Rani Chennamma Party\",\"orientation\":\"v\",\"showlegend\":true,\"x\":[\"Haryana\"],\"xaxis\":\"x\",\"y\":[0],\"yaxis\":\"y\",\"type\":\"scatter\"},{\"hovertemplate\":\"Party=Rashtra Sewa Dal<br>State=%{x}<br>Previous_Election_won=%{y}<extra></extra>\",\"legendgroup\":\"Rashtra Sewa Dal\",\"marker\":{\"color\":\"#19d3f3\",\"symbol\":\"circle\"},\"mode\":\"markers\",\"name\":\"Rashtra Sewa Dal\",\"orientation\":\"v\",\"showlegend\":true,\"x\":[\"Himachal Pradesh\"],\"xaxis\":\"x\",\"y\":[0],\"yaxis\":\"y\",\"type\":\"scatter\"},{\"hovertemplate\":\"Party=Rashtravadi Janata Party<br>State=%{x}<br>Previous_Election_won=%{y}<extra></extra>\",\"legendgroup\":\"Rashtravadi Janata Party\",\"marker\":{\"color\":\"#FF6692\",\"symbol\":\"circle\"},\"mode\":\"markers\",\"name\":\"Rashtravadi Janata Party\",\"orientation\":\"v\",\"showlegend\":true,\"x\":[\"Jammu & Kashmir\"],\"xaxis\":\"x\",\"y\":[0],\"yaxis\":\"y\",\"type\":\"scatter\"},{\"hovertemplate\":\"Party=Rashtrawadi Parivartan Party (L.B,)<br>State=%{x}<br>Previous_Election_won=%{y}<extra></extra>\",\"legendgroup\":\"Rashtrawadi Parivartan Party (L.B,)\",\"marker\":{\"color\":\"#B6E880\",\"symbol\":\"circle\"},\"mode\":\"markers\",\"name\":\"Rashtrawadi Parivartan Party (L.B,)\",\"orientation\":\"v\",\"showlegend\":true,\"x\":[\"Jharkhand\"],\"xaxis\":\"x\",\"y\":[0],\"yaxis\":\"y\",\"type\":\"scatter\"},{\"hovertemplate\":\"Party=Rashtrawadi Samaj Party<br>State=%{x}<br>Previous_Election_won=%{y}<extra></extra>\",\"legendgroup\":\"Rashtrawadi Samaj Party\",\"marker\":{\"color\":\"#FF97FF\",\"symbol\":\"circle\"},\"mode\":\"markers\",\"name\":\"Rashtrawadi Samaj Party\",\"orientation\":\"v\",\"showlegend\":true,\"x\":[\"Karnataka\"],\"xaxis\":\"x\",\"y\":[0],\"yaxis\":\"y\",\"type\":\"scatter\"},{\"hovertemplate\":\"Party=Rashtriya Aam Party<br>State=%{x}<br>Previous_Election_won=%{y}<extra></extra>\",\"legendgroup\":\"Rashtriya Aam Party\",\"marker\":{\"color\":\"#FECB52\",\"symbol\":\"circle\"},\"mode\":\"markers\",\"name\":\"Rashtriya Aam Party\",\"orientation\":\"v\",\"showlegend\":true,\"x\":[\"Kerala\"],\"xaxis\":\"x\",\"y\":[0],\"yaxis\":\"y\",\"type\":\"scatter\"},{\"hovertemplate\":\"Party=Rashtriya Ahinsa Manch<br>State=%{x}<br>Previous_Election_won=%{y}<extra></extra>\",\"legendgroup\":\"Rashtriya Ahinsa Manch\",\"marker\":{\"color\":\"#636efa\",\"symbol\":\"circle\"},\"mode\":\"markers\",\"name\":\"Rashtriya Ahinsa Manch\",\"orientation\":\"v\",\"showlegend\":true,\"x\":[\"Lakshadweep\"],\"xaxis\":\"x\",\"y\":[0],\"yaxis\":\"y\",\"type\":\"scatter\"},{\"hovertemplate\":\"Party=Rashtriya Ambedkar Dal<br>State=%{x}<br>Previous_Election_won=%{y}<extra></extra>\",\"legendgroup\":\"Rashtriya Ambedkar Dal\",\"marker\":{\"color\":\"#EF553B\",\"symbol\":\"circle\"},\"mode\":\"markers\",\"name\":\"Rashtriya Ambedkar Dal\",\"orientation\":\"v\",\"showlegend\":true,\"x\":[\"Madhya Pradesh\"],\"xaxis\":\"x\",\"y\":[0],\"yaxis\":\"y\",\"type\":\"scatter\"},{\"hovertemplate\":\"Party=Rashtriya Apna Dal<br>State=%{x}<br>Previous_Election_won=%{y}<extra></extra>\",\"legendgroup\":\"Rashtriya Apna Dal\",\"marker\":{\"color\":\"#00cc96\",\"symbol\":\"circle\"},\"mode\":\"markers\",\"name\":\"Rashtriya Apna Dal\",\"orientation\":\"v\",\"showlegend\":true,\"x\":[\"Bihar\"],\"xaxis\":\"x\",\"y\":[0],\"yaxis\":\"y\",\"type\":\"scatter\"},{\"hovertemplate\":\"Party=Rashtriya Bahujan Congress Party<br>State=%{x}<br>Previous_Election_won=%{y}<extra></extra>\",\"legendgroup\":\"Rashtriya Bahujan Congress Party\",\"marker\":{\"color\":\"#ab63fa\",\"symbol\":\"circle\"},\"mode\":\"markers\",\"name\":\"Rashtriya Bahujan Congress Party\",\"orientation\":\"v\",\"showlegend\":true,\"x\":[\"Chandigarh\"],\"xaxis\":\"x\",\"y\":[0],\"yaxis\":\"y\",\"type\":\"scatter\"},{\"hovertemplate\":\"Party=Rashtriya Bahujan Hitay Party<br>State=%{x}<br>Previous_Election_won=%{y}<extra></extra>\",\"legendgroup\":\"Rashtriya Bahujan Hitay Party\",\"marker\":{\"color\":\"#FFA15A\",\"symbol\":\"circle\"},\"mode\":\"markers\",\"name\":\"Rashtriya Bahujan Hitay Party\",\"orientation\":\"v\",\"showlegend\":true,\"x\":[\"Chhattisgarh\"],\"xaxis\":\"x\",\"y\":[0],\"yaxis\":\"y\",\"type\":\"scatter\"},{\"hovertemplate\":\"Party=Rashtriya Bandhutwa Party<br>State=%{x}<br>Previous_Election_won=%{y}<extra></extra>\",\"legendgroup\":\"Rashtriya Bandhutwa Party\",\"marker\":{\"color\":\"#19d3f3\",\"symbol\":\"circle\"},\"mode\":\"markers\",\"name\":\"Rashtriya Bandhutwa Party\",\"orientation\":\"v\",\"showlegend\":true,\"x\":[\"Dadra & Nagar Haveli\"],\"xaxis\":\"x\",\"y\":[0],\"yaxis\":\"y\",\"type\":\"scatter\"},{\"hovertemplate\":\"Party=Rashtriya Congress (Babu Jagjivanram)<br>State=%{x}<br>Previous_Election_won=%{y}<extra></extra>\",\"legendgroup\":\"Rashtriya Congress (Babu Jagjivanram)\",\"marker\":{\"color\":\"#FF6692\",\"symbol\":\"circle\"},\"mode\":\"markers\",\"name\":\"Rashtriya Congress (Babu Jagjivanram)\",\"orientation\":\"v\",\"showlegend\":true,\"x\":[\"Daman & Diu\"],\"xaxis\":\"x\",\"y\":[0],\"yaxis\":\"y\",\"type\":\"scatter\"},{\"hovertemplate\":\"Party=Rashtriya Congress(J) Party<br>State=%{x}<br>Previous_Election_won=%{y}<extra></extra>\",\"legendgroup\":\"Rashtriya Congress(J) Party\",\"marker\":{\"color\":\"#B6E880\",\"symbol\":\"circle\"},\"mode\":\"markers\",\"name\":\"Rashtriya Congress(J) Party\",\"orientation\":\"v\",\"showlegend\":true,\"x\":[\"Goa\"],\"xaxis\":\"x\",\"y\":[0],\"yaxis\":\"y\",\"type\":\"scatter\"},{\"hovertemplate\":\"Party=Rashtriya Deshaj Party<br>State=%{x}<br>Previous_Election_won=%{y}<extra></extra>\",\"legendgroup\":\"Rashtriya Deshaj Party\",\"marker\":{\"color\":\"#FF97FF\",\"symbol\":\"circle\"},\"mode\":\"markers\",\"name\":\"Rashtriya Deshaj Party\",\"orientation\":\"v\",\"showlegend\":true,\"x\":[\"Gujarat\"],\"xaxis\":\"x\",\"y\":[1],\"yaxis\":\"y\",\"type\":\"scatter\"},{\"hovertemplate\":\"Party=Rashtriya Ekta Party<br>State=%{x}<br>Previous_Election_won=%{y}<extra></extra>\",\"legendgroup\":\"Rashtriya Ekta Party\",\"marker\":{\"color\":\"#FECB52\",\"symbol\":\"circle\"},\"mode\":\"markers\",\"name\":\"Rashtriya Ekta Party\",\"orientation\":\"v\",\"showlegend\":true,\"x\":[\"Haryana\"],\"xaxis\":\"x\",\"y\":[0],\"yaxis\":\"y\",\"type\":\"scatter\"},{\"hovertemplate\":\"Party=Rashtriya Garib Dal<br>State=%{x}<br>Previous_Election_won=%{y}<extra></extra>\",\"legendgroup\":\"Rashtriya Garib Dal\",\"marker\":{\"color\":\"#636efa\",\"symbol\":\"circle\"},\"mode\":\"markers\",\"name\":\"Rashtriya Garib Dal\",\"orientation\":\"v\",\"showlegend\":true,\"x\":[\"Himachal Pradesh\"],\"xaxis\":\"x\",\"y\":[0],\"yaxis\":\"y\",\"type\":\"scatter\"},{\"hovertemplate\":\"Party=Rashtriya Gondvana Party<br>State=%{x}<br>Previous_Election_won=%{y}<extra></extra>\",\"legendgroup\":\"Rashtriya Gondvana Party\",\"marker\":{\"color\":\"#EF553B\",\"symbol\":\"circle\"},\"mode\":\"markers\",\"name\":\"Rashtriya Gondvana Party\",\"orientation\":\"v\",\"showlegend\":true,\"x\":[\"Jammu & Kashmir\"],\"xaxis\":\"x\",\"y\":[0],\"yaxis\":\"y\",\"type\":\"scatter\"},{\"hovertemplate\":\"Party=Rashtriya Indepndent Morcha<br>State=%{x}<br>Previous_Election_won=%{y}<extra></extra>\",\"legendgroup\":\"Rashtriya Indepndent Morcha\",\"marker\":{\"color\":\"#00cc96\",\"symbol\":\"circle\"},\"mode\":\"markers\",\"name\":\"Rashtriya Indepndent Morcha\",\"orientation\":\"v\",\"showlegend\":true,\"x\":[\"Jharkhand\"],\"xaxis\":\"x\",\"y\":[0],\"yaxis\":\"y\",\"type\":\"scatter\"},{\"hovertemplate\":\"Party=Rashtriya Jan-Jagram Morcha<br>State=%{x}<br>Previous_Election_won=%{y}<extra></extra>\",\"legendgroup\":\"Rashtriya Jan-Jagram Morcha\",\"marker\":{\"color\":\"#ab63fa\",\"symbol\":\"circle\"},\"mode\":\"markers\",\"name\":\"Rashtriya Jan-Jagram Morcha\",\"orientation\":\"v\",\"showlegend\":true,\"x\":[\"Karnataka\"],\"xaxis\":\"x\",\"y\":[0],\"yaxis\":\"y\",\"type\":\"scatter\"},{\"hovertemplate\":\"Party=Rashtriya Janadhikar Party<br>State=%{x}<br>Previous_Election_won=%{y}<extra></extra>\",\"legendgroup\":\"Rashtriya Janadhikar Party\",\"marker\":{\"color\":\"#FFA15A\",\"symbol\":\"circle\"},\"mode\":\"markers\",\"name\":\"Rashtriya Janadhikar Party\",\"orientation\":\"v\",\"showlegend\":true,\"x\":[\"Kerala\"],\"xaxis\":\"x\",\"y\":[0],\"yaxis\":\"y\",\"type\":\"scatter\"},{\"hovertemplate\":\"Party=Rashtriya Janadhikar Suraksha Party<br>State=%{x}<br>Previous_Election_won=%{y}<extra></extra>\",\"legendgroup\":\"Rashtriya Janadhikar Suraksha Party\",\"marker\":{\"color\":\"#19d3f3\",\"symbol\":\"circle\"},\"mode\":\"markers\",\"name\":\"Rashtriya Janadhikar Suraksha Party\",\"orientation\":\"v\",\"showlegend\":true,\"x\":[\"Lakshadweep\"],\"xaxis\":\"x\",\"y\":[1],\"yaxis\":\"y\",\"type\":\"scatter\"},{\"hovertemplate\":\"Party=Rashtriya Janasachetan Party (R.J.P.)<br>State=%{x}<br>Previous_Election_won=%{y}<extra></extra>\",\"legendgroup\":\"Rashtriya Janasachetan Party (R.J.P.)\",\"marker\":{\"color\":\"#FF6692\",\"symbol\":\"circle\"},\"mode\":\"markers\",\"name\":\"Rashtriya Janasachetan Party (R.J.P.)\",\"orientation\":\"v\",\"showlegend\":true,\"x\":[\"Madhya Pradesh\"],\"xaxis\":\"x\",\"y\":[0],\"yaxis\":\"y\",\"type\":\"scatter\"},{\"hovertemplate\":\"Party=Rashtriya Jankranti Morcha<br>State=%{x}<br>Previous_Election_won=%{y}<extra></extra>\",\"legendgroup\":\"Rashtriya Jankranti Morcha\",\"marker\":{\"color\":\"#B6E880\",\"symbol\":\"circle\"},\"mode\":\"markers\",\"name\":\"Rashtriya Jankranti Morcha\",\"orientation\":\"v\",\"showlegend\":true,\"x\":[\"Maharashtra\"],\"xaxis\":\"x\",\"y\":[0],\"yaxis\":\"y\",\"type\":\"scatter\"},{\"hovertemplate\":\"Party=Rashtriya Jankranti Party<br>State=%{x}<br>Previous_Election_won=%{y}<extra></extra>\",\"legendgroup\":\"Rashtriya Jankranti Party\",\"marker\":{\"color\":\"#FF97FF\",\"symbol\":\"circle\"},\"mode\":\"markers\",\"name\":\"Rashtriya Jankranti Party\",\"orientation\":\"v\",\"showlegend\":true,\"x\":[\"Manipur\"],\"xaxis\":\"x\",\"y\":[0],\"yaxis\":\"y\",\"type\":\"scatter\"},{\"hovertemplate\":\"Party=Rashtriya Janmorcha<br>State=%{x}<br>Previous_Election_won=%{y}<extra></extra>\",\"legendgroup\":\"Rashtriya Janmorcha\",\"marker\":{\"color\":\"#FECB52\",\"symbol\":\"circle\"},\"mode\":\"markers\",\"name\":\"Rashtriya Janmorcha\",\"orientation\":\"v\",\"showlegend\":true,\"x\":[\"Meghalaya\"],\"xaxis\":\"x\",\"y\":[0],\"yaxis\":\"y\",\"type\":\"scatter\"},{\"hovertemplate\":\"Party=Rashtriya Janpriya Party<br>State=%{x}<br>Previous_Election_won=%{y}<extra></extra>\",\"legendgroup\":\"Rashtriya Janpriya Party\",\"marker\":{\"color\":\"#636efa\",\"symbol\":\"circle\"},\"mode\":\"markers\",\"name\":\"Rashtriya Janpriya Party\",\"orientation\":\"v\",\"showlegend\":true,\"x\":[\"Mizoram\"],\"xaxis\":\"x\",\"y\":[0],\"yaxis\":\"y\",\"type\":\"scatter\"},{\"hovertemplate\":\"Party=Rashtriya Janshakti Party(Eklavya)<br>State=%{x}<br>Previous_Election_won=%{y}<extra></extra>\",\"legendgroup\":\"Rashtriya Janshakti Party(Eklavya)\",\"marker\":{\"color\":\"#EF553B\",\"symbol\":\"circle\"},\"mode\":\"markers\",\"name\":\"Rashtriya Janshakti Party(Eklavya)\",\"orientation\":\"v\",\"showlegend\":true,\"x\":[\"Nagaland\"],\"xaxis\":\"x\",\"y\":[0],\"yaxis\":\"y\",\"type\":\"scatter\"},{\"hovertemplate\":\"Party=Rashtriya Janshanti Party<br>State=%{x}<br>Previous_Election_won=%{y}<extra></extra>\",\"legendgroup\":\"Rashtriya Janshanti Party\",\"marker\":{\"color\":\"#00cc96\",\"symbol\":\"circle\"},\"mode\":\"markers\",\"name\":\"Rashtriya Janshanti Party\",\"orientation\":\"v\",\"showlegend\":true,\"x\":[\"NCT OF Delhi\"],\"xaxis\":\"x\",\"y\":[0],\"yaxis\":\"y\",\"type\":\"scatter\"},{\"hovertemplate\":\"Party=Rashtriya Janta Party<br>State=%{x}<br>Previous_Election_won=%{y}<extra></extra>\",\"legendgroup\":\"Rashtriya Janta Party\",\"marker\":{\"color\":\"#ab63fa\",\"symbol\":\"circle\"},\"mode\":\"markers\",\"name\":\"Rashtriya Janta Party\",\"orientation\":\"v\",\"showlegend\":true,\"x\":[\"Odisha\"],\"xaxis\":\"x\",\"y\":[0],\"yaxis\":\"y\",\"type\":\"scatter\"},{\"hovertemplate\":\"Party=Rashtriya Janwadi Party (Krantikari)<br>State=%{x}<br>Previous_Election_won=%{y}<extra></extra>\",\"legendgroup\":\"Rashtriya Janwadi Party (Krantikari)\",\"marker\":{\"color\":\"#FFA15A\",\"symbol\":\"circle\"},\"mode\":\"markers\",\"name\":\"Rashtriya Janwadi Party (Krantikari)\",\"orientation\":\"v\",\"showlegend\":true,\"x\":[\"Puducherry\"],\"xaxis\":\"x\",\"y\":[0],\"yaxis\":\"y\",\"type\":\"scatter\"},{\"hovertemplate\":\"Party=Rashtriya Jatigat Aarakshan Virodhi Party<br>State=%{x}<br>Previous_Election_won=%{y}<extra></extra>\",\"legendgroup\":\"Rashtriya Jatigat Aarakshan Virodhi Party\",\"marker\":{\"color\":\"#19d3f3\",\"symbol\":\"circle\"},\"mode\":\"markers\",\"name\":\"Rashtriya Jatigat Aarakshan Virodhi Party\",\"orientation\":\"v\",\"showlegend\":true,\"x\":[\"Punjab\"],\"xaxis\":\"x\",\"y\":[0],\"yaxis\":\"y\",\"type\":\"scatter\"},{\"hovertemplate\":\"Party=Rashtriya Karmyog Party<br>State=%{x}<br>Previous_Election_won=%{y}<extra></extra>\",\"legendgroup\":\"Rashtriya Karmyog Party\",\"marker\":{\"color\":\"#FF6692\",\"symbol\":\"circle\"},\"mode\":\"markers\",\"name\":\"Rashtriya Karmyog Party\",\"orientation\":\"v\",\"showlegend\":true,\"x\":[\"Rajasthan\"],\"xaxis\":\"x\",\"y\":[0],\"yaxis\":\"y\",\"type\":\"scatter\"},{\"hovertemplate\":\"Party=Rashtriya Komi Ekta Party<br>State=%{x}<br>Previous_Election_won=%{y}<extra></extra>\",\"legendgroup\":\"Rashtriya Komi Ekta Party\",\"marker\":{\"color\":\"#B6E880\",\"symbol\":\"circle\"},\"mode\":\"markers\",\"name\":\"Rashtriya Komi Ekta Party\",\"orientation\":\"v\",\"showlegend\":true,\"x\":[\"Sikkim\"],\"xaxis\":\"x\",\"y\":[0],\"yaxis\":\"y\",\"type\":\"scatter\"},{\"hovertemplate\":\"Party=Rashtriya Kranti Party<br>State=%{x}<br>Previous_Election_won=%{y}<extra></extra>\",\"legendgroup\":\"Rashtriya Kranti Party\",\"marker\":{\"color\":\"#FF97FF\",\"symbol\":\"circle\"},\"mode\":\"markers\",\"name\":\"Rashtriya Kranti Party\",\"orientation\":\"v\",\"showlegend\":true,\"x\":[\"Tamil Nadu\"],\"xaxis\":\"x\",\"y\":[0],\"yaxis\":\"y\",\"type\":\"scatter\"},{\"hovertemplate\":\"Party=Rashtriya Krantikari Samajwadi Party<br>State=%{x}<br>Previous_Election_won=%{y}<extra></extra>\",\"legendgroup\":\"Rashtriya Krantikari Samajwadi Party\",\"marker\":{\"color\":\"#FECB52\",\"symbol\":\"circle\"},\"mode\":\"markers\",\"name\":\"Rashtriya Krantikari Samajwadi Party\",\"orientation\":\"v\",\"showlegend\":true,\"x\":[\"Tripura\"],\"xaxis\":\"x\",\"y\":[1],\"yaxis\":\"y\",\"type\":\"scatter\"},{\"hovertemplate\":\"Party=Rashtriya Lok Samta Party<br>State=%{x}<br>Previous_Election_won=%{y}<extra></extra>\",\"legendgroup\":\"Rashtriya Lok Samta Party\",\"marker\":{\"color\":\"#636efa\",\"symbol\":\"circle\"},\"mode\":\"markers\",\"name\":\"Rashtriya Lok Samta Party\",\"orientation\":\"v\",\"showlegend\":true,\"x\":[\"Uttar Pradesh\"],\"xaxis\":\"x\",\"y\":[16],\"yaxis\":\"y\",\"type\":\"scatter\"},{\"hovertemplate\":\"Party=Rashtriya mahan Gantantra Party<br>State=%{x}<br>Previous_Election_won=%{y}<extra></extra>\",\"legendgroup\":\"Rashtriya mahan Gantantra Party\",\"marker\":{\"color\":\"#EF553B\",\"symbol\":\"circle\"},\"mode\":\"markers\",\"name\":\"Rashtriya mahan Gantantra Party\",\"orientation\":\"v\",\"showlegend\":true,\"x\":[\"Uttarakhand\"],\"xaxis\":\"x\",\"y\":[0],\"yaxis\":\"y\",\"type\":\"scatter\"},{\"hovertemplate\":\"Party=Rashtriya Manav samman Party<br>State=%{x}<br>Previous_Election_won=%{y}<extra></extra>\",\"legendgroup\":\"Rashtriya Manav samman Party\",\"marker\":{\"color\":\"#00cc96\",\"symbol\":\"circle\"},\"mode\":\"markers\",\"name\":\"Rashtriya Manav samman Party\",\"orientation\":\"v\",\"showlegend\":true,\"x\":[\"West Bengal\"],\"xaxis\":\"x\",\"y\":[0],\"yaxis\":\"y\",\"type\":\"scatter\"},{\"hovertemplate\":\"Party=RASHTRIYA MORCHA PARTY<br>State=%{x}<br>Previous_Election_won=%{y}<extra></extra>\",\"legendgroup\":\"RASHTRIYA MORCHA PARTY\",\"marker\":{\"color\":\"#ab63fa\",\"symbol\":\"circle\"},\"mode\":\"markers\",\"name\":\"RASHTRIYA MORCHA PARTY\",\"orientation\":\"v\",\"showlegend\":true,\"x\":[\"Bihar\"],\"xaxis\":\"x\",\"y\":[0],\"yaxis\":\"y\",\"type\":\"scatter\"},{\"hovertemplate\":\"Party=Rashtriya Naujawan Dal<br>State=%{x}<br>Previous_Election_won=%{y}<extra></extra>\",\"legendgroup\":\"Rashtriya Naujawan Dal\",\"marker\":{\"color\":\"#FFA15A\",\"symbol\":\"circle\"},\"mode\":\"markers\",\"name\":\"Rashtriya Naujawan Dal\",\"orientation\":\"v\",\"showlegend\":true,\"x\":[\"Chandigarh\"],\"xaxis\":\"x\",\"y\":[0],\"yaxis\":\"y\",\"type\":\"scatter\"},{\"hovertemplate\":\"Party=Rashtriya Parivartan Dal<br>State=%{x}<br>Previous_Election_won=%{y}<extra></extra>\",\"legendgroup\":\"Rashtriya Parivartan Dal\",\"marker\":{\"color\":\"#19d3f3\",\"symbol\":\"circle\"},\"mode\":\"markers\",\"name\":\"Rashtriya Parivartan Dal\",\"orientation\":\"v\",\"showlegend\":true,\"x\":[\"Chhattisgarh\"],\"xaxis\":\"x\",\"y\":[2],\"yaxis\":\"y\",\"type\":\"scatter\"},{\"hovertemplate\":\"Party=Rashtriya Praja Congress  (Secular)<br>State=%{x}<br>Previous_Election_won=%{y}<extra></extra>\",\"legendgroup\":\"Rashtriya Praja Congress  (Secular)\",\"marker\":{\"color\":\"#FF6692\",\"symbol\":\"circle\"},\"mode\":\"markers\",\"name\":\"Rashtriya Praja Congress  (Secular)\",\"orientation\":\"v\",\"showlegend\":true,\"x\":[\"Dadra & Nagar Haveli\"],\"xaxis\":\"x\",\"y\":[0],\"yaxis\":\"y\",\"type\":\"scatter\"},{\"hovertemplate\":\"Party=Rashtriya Rashtrawadi Party<br>State=%{x}<br>Previous_Election_won=%{y}<extra></extra>\",\"legendgroup\":\"Rashtriya Rashtrawadi Party\",\"marker\":{\"color\":\"#B6E880\",\"symbol\":\"circle\"},\"mode\":\"markers\",\"name\":\"Rashtriya Rashtrawadi Party\",\"orientation\":\"v\",\"showlegend\":true,\"x\":[\"Daman & Diu\"],\"xaxis\":\"x\",\"y\":[0],\"yaxis\":\"y\",\"type\":\"scatter\"},{\"hovertemplate\":\"Party=Rashtriya Samaj Paksha<br>State=%{x}<br>Previous_Election_won=%{y}<extra></extra>\",\"legendgroup\":\"Rashtriya Samaj Paksha\",\"marker\":{\"color\":\"#FF97FF\",\"symbol\":\"circle\"},\"mode\":\"markers\",\"name\":\"Rashtriya Samaj Paksha\",\"orientation\":\"v\",\"showlegend\":true,\"x\":[\"Goa\"],\"xaxis\":\"x\",\"y\":[8],\"yaxis\":\"y\",\"type\":\"scatter\"},{\"hovertemplate\":\"Party=Rashtriya Samanta Dal<br>State=%{x}<br>Previous_Election_won=%{y}<extra></extra>\",\"legendgroup\":\"Rashtriya Samanta Dal\",\"marker\":{\"color\":\"#FECB52\",\"symbol\":\"circle\"},\"mode\":\"markers\",\"name\":\"Rashtriya Samanta Dal\",\"orientation\":\"v\",\"showlegend\":true,\"x\":[\"Gujarat\"],\"xaxis\":\"x\",\"y\":[1],\"yaxis\":\"y\",\"type\":\"scatter\"},{\"hovertemplate\":\"Party=Rashtriya Sant Sandesh Party<br>State=%{x}<br>Previous_Election_won=%{y}<extra></extra>\",\"legendgroup\":\"Rashtriya Sant Sandesh Party\",\"marker\":{\"color\":\"#636efa\",\"symbol\":\"circle\"},\"mode\":\"markers\",\"name\":\"Rashtriya Sant Sandesh Party\",\"orientation\":\"v\",\"showlegend\":true,\"x\":[\"Haryana\"],\"xaxis\":\"x\",\"y\":[0],\"yaxis\":\"y\",\"type\":\"scatter\"},{\"hovertemplate\":\"Party=Rashtriya Sarvajan Party<br>State=%{x}<br>Previous_Election_won=%{y}<extra></extra>\",\"legendgroup\":\"Rashtriya Sarvajan Party\",\"marker\":{\"color\":\"#EF553B\",\"symbol\":\"circle\"},\"mode\":\"markers\",\"name\":\"Rashtriya Sarvajan Party\",\"orientation\":\"v\",\"showlegend\":true,\"x\":[\"Himachal Pradesh\"],\"xaxis\":\"x\",\"y\":[0],\"yaxis\":\"y\",\"type\":\"scatter\"},{\"hovertemplate\":\"Party=Rashtriya Sawarn Dal<br>State=%{x}<br>Previous_Election_won=%{y}<extra></extra>\",\"legendgroup\":\"Rashtriya Sawarn Dal\",\"marker\":{\"color\":\"#00cc96\",\"symbol\":\"circle\"},\"mode\":\"markers\",\"name\":\"Rashtriya Sawarn Dal\",\"orientation\":\"v\",\"showlegend\":true,\"x\":[\"Jammu & Kashmir\"],\"xaxis\":\"x\",\"y\":[0],\"yaxis\":\"y\",\"type\":\"scatter\"},{\"hovertemplate\":\"Party=Rashtriya Shoshit Samaj Party<br>State=%{x}<br>Previous_Election_won=%{y}<extra></extra>\",\"legendgroup\":\"Rashtriya Shoshit Samaj Party\",\"marker\":{\"color\":\"#ab63fa\",\"symbol\":\"circle\"},\"mode\":\"markers\",\"name\":\"Rashtriya Shoshit Samaj Party\",\"orientation\":\"v\",\"showlegend\":true,\"x\":[\"Jharkhand\"],\"xaxis\":\"x\",\"y\":[0],\"yaxis\":\"y\",\"type\":\"scatter\"},{\"hovertemplate\":\"Party=Rashtriya Ulama Council<br>State=%{x}<br>Previous_Election_won=%{y}<extra></extra>\",\"legendgroup\":\"Rashtriya Ulama Council\",\"marker\":{\"color\":\"#FFA15A\",\"symbol\":\"circle\"},\"mode\":\"markers\",\"name\":\"Rashtriya Ulama Council\",\"orientation\":\"v\",\"showlegend\":true,\"x\":[\"Karnataka\"],\"xaxis\":\"x\",\"y\":[1],\"yaxis\":\"y\",\"type\":\"scatter\"},{\"hovertemplate\":\"Party=Rashtriya Uttarakhand Party<br>State=%{x}<br>Previous_Election_won=%{y}<extra></extra>\",\"legendgroup\":\"Rashtriya Uttarakhand Party\",\"marker\":{\"color\":\"#19d3f3\",\"symbol\":\"circle\"},\"mode\":\"markers\",\"name\":\"Rashtriya Uttarakhand Party\",\"orientation\":\"v\",\"showlegend\":true,\"x\":[\"Kerala\"],\"xaxis\":\"x\",\"y\":[0],\"yaxis\":\"y\",\"type\":\"scatter\"},{\"hovertemplate\":\"Party=Rashtriya Vikas Manch Party<br>State=%{x}<br>Previous_Election_won=%{y}<extra></extra>\",\"legendgroup\":\"Rashtriya Vikas Manch Party\",\"marker\":{\"color\":\"#FF6692\",\"symbol\":\"circle\"},\"mode\":\"markers\",\"name\":\"Rashtriya Vikas Manch Party\",\"orientation\":\"v\",\"showlegend\":true,\"x\":[\"Lakshadweep\"],\"xaxis\":\"x\",\"y\":[0],\"yaxis\":\"y\",\"type\":\"scatter\"},{\"hovertemplate\":\"Party=Rashtriya Vikas Party<br>State=%{x}<br>Previous_Election_won=%{y}<extra></extra>\",\"legendgroup\":\"Rashtriya Vikas Party\",\"marker\":{\"color\":\"#B6E880\",\"symbol\":\"circle\"},\"mode\":\"markers\",\"name\":\"Rashtriya Vikas Party\",\"orientation\":\"v\",\"showlegend\":true,\"x\":[\"Madhya Pradesh\"],\"xaxis\":\"x\",\"y\":[0],\"yaxis\":\"y\",\"type\":\"scatter\"},{\"hovertemplate\":\"Party=RASHTRIYA VIKLANG PARTY<br>State=%{x}<br>Previous_Election_won=%{y}<extra></extra>\",\"legendgroup\":\"RASHTRIYA VIKLANG PARTY\",\"marker\":{\"color\":\"#FF97FF\",\"symbol\":\"circle\"},\"mode\":\"markers\",\"name\":\"RASHTRIYA VIKLANG PARTY\",\"orientation\":\"v\",\"showlegend\":true,\"x\":[\"Maharashtra\"],\"xaxis\":\"x\",\"y\":[0],\"yaxis\":\"y\",\"type\":\"scatter\"},{\"hovertemplate\":\"Party=Rastriya Insaaf Party<br>State=%{x}<br>Previous_Election_won=%{y}<extra></extra>\",\"legendgroup\":\"Rastriya Insaaf Party\",\"marker\":{\"color\":\"#FECB52\",\"symbol\":\"circle\"},\"mode\":\"markers\",\"name\":\"Rastriya Insaaf Party\",\"orientation\":\"v\",\"showlegend\":true,\"x\":[\"Manipur\"],\"xaxis\":\"x\",\"y\":[0],\"yaxis\":\"y\",\"type\":\"scatter\"},{\"hovertemplate\":\"Party=Rayalaseema Parirakshana Samithi<br>State=%{x}<br>Previous_Election_won=%{y}<extra></extra>\",\"legendgroup\":\"Rayalaseema Parirakshana Samithi\",\"marker\":{\"color\":\"#636efa\",\"symbol\":\"circle\"},\"mode\":\"markers\",\"name\":\"Rayalaseema Parirakshana Samithi\",\"orientation\":\"v\",\"showlegend\":true,\"x\":[\"Meghalaya\"],\"xaxis\":\"x\",\"y\":[0],\"yaxis\":\"y\",\"type\":\"scatter\"},{\"hovertemplate\":\"Party=Regional Democratic Secular Congress<br>State=%{x}<br>Previous_Election_won=%{y}<extra></extra>\",\"legendgroup\":\"Regional Democratic Secular Congress\",\"marker\":{\"color\":\"#EF553B\",\"symbol\":\"circle\"},\"mode\":\"markers\",\"name\":\"Regional Democratic Secular Congress\",\"orientation\":\"v\",\"showlegend\":true,\"x\":[\"Mizoram\"],\"xaxis\":\"x\",\"y\":[0],\"yaxis\":\"y\",\"type\":\"scatter\"},{\"hovertemplate\":\"Party=Republican Backward Congress<br>State=%{x}<br>Previous_Election_won=%{y}<extra></extra>\",\"legendgroup\":\"Republican Backward Congress\",\"marker\":{\"color\":\"#00cc96\",\"symbol\":\"circle\"},\"mode\":\"markers\",\"name\":\"Republican Backward Congress\",\"orientation\":\"v\",\"showlegend\":true,\"x\":[\"Nagaland\"],\"xaxis\":\"x\",\"y\":[0],\"yaxis\":\"y\",\"type\":\"scatter\"},{\"hovertemplate\":\"Party=Republican Bahujan Sena<br>State=%{x}<br>Previous_Election_won=%{y}<extra></extra>\",\"legendgroup\":\"Republican Bahujan Sena\",\"marker\":{\"color\":\"#ab63fa\",\"symbol\":\"circle\"},\"mode\":\"markers\",\"name\":\"Republican Bahujan Sena\",\"orientation\":\"v\",\"showlegend\":true,\"x\":[\"NCT OF Delhi\"],\"xaxis\":\"x\",\"y\":[0],\"yaxis\":\"y\",\"type\":\"scatter\"},{\"hovertemplate\":\"Party=Republican Paksha (Khoripa)<br>State=%{x}<br>Previous_Election_won=%{y}<extra></extra>\",\"legendgroup\":\"Republican Paksha (Khoripa)\",\"marker\":{\"color\":\"#FFA15A\",\"symbol\":\"circle\"},\"mode\":\"markers\",\"name\":\"Republican Paksha (Khoripa)\",\"orientation\":\"v\",\"showlegend\":true,\"x\":[\"Odisha\"],\"xaxis\":\"x\",\"y\":[1],\"yaxis\":\"y\",\"type\":\"scatter\"},{\"hovertemplate\":\"Party=Republican Party of India<br>State=%{x}<br>Previous_Election_won=%{y}<extra></extra>\",\"legendgroup\":\"Republican Party of India\",\"marker\":{\"color\":\"#19d3f3\",\"symbol\":\"circle\"},\"mode\":\"markers\",\"name\":\"Republican Party of India\",\"orientation\":\"v\",\"showlegend\":true,\"x\":[\"Puducherry\"],\"xaxis\":\"x\",\"y\":[2],\"yaxis\":\"y\",\"type\":\"scatter\"},{\"hovertemplate\":\"Party=Republican Party of India (A)<br>State=%{x}<br>Previous_Election_won=%{y}<extra></extra>\",\"legendgroup\":\"Republican Party of India (A)\",\"marker\":{\"color\":\"#FF6692\",\"symbol\":\"circle\"},\"mode\":\"markers\",\"name\":\"Republican Party of India (A)\",\"orientation\":\"v\",\"showlegend\":true,\"x\":[\"Punjab\"],\"xaxis\":\"x\",\"y\":[4],\"yaxis\":\"y\",\"type\":\"scatter\"},{\"hovertemplate\":\"Party=Republican Party of India (Khobragade)<br>State=%{x}<br>Previous_Election_won=%{y}<extra></extra>\",\"legendgroup\":\"Republican Party of India (Khobragade)\",\"marker\":{\"color\":\"#B6E880\",\"symbol\":\"circle\"},\"mode\":\"markers\",\"name\":\"Republican Party of India (Khobragade)\",\"orientation\":\"v\",\"showlegend\":true,\"x\":[\"Rajasthan\"],\"xaxis\":\"x\",\"y\":[0],\"yaxis\":\"y\",\"type\":\"scatter\"},{\"hovertemplate\":\"Party=Republican Party of India Ektavadi<br>State=%{x}<br>Previous_Election_won=%{y}<extra></extra>\",\"legendgroup\":\"Republican Party of India Ektavadi\",\"marker\":{\"color\":\"#FF97FF\",\"symbol\":\"circle\"},\"mode\":\"markers\",\"name\":\"Republican Party of India Ektavadi\",\"orientation\":\"v\",\"showlegend\":true,\"x\":[\"Sikkim\"],\"xaxis\":\"x\",\"y\":[0],\"yaxis\":\"y\",\"type\":\"scatter\"},{\"hovertemplate\":\"Party=Revolutionary Socialist Party of Kerala  (Bolshevik) RSP.B<br>State=%{x}<br>Previous_Election_won=%{y}<extra></extra>\",\"legendgroup\":\"Revolutionary Socialist Party of Kerala  (Bolshevik) RSP.B\",\"marker\":{\"color\":\"#FECB52\",\"symbol\":\"circle\"},\"mode\":\"markers\",\"name\":\"Revolutionary Socialist Party of Kerala  (Bolshevik) RSP.B\",\"orientation\":\"v\",\"showlegend\":true,\"x\":[\"Tamil Nadu\"],\"xaxis\":\"x\",\"y\":[1],\"yaxis\":\"y\",\"type\":\"scatter\"},{\"hovertemplate\":\"Party=Samaikya Telugu Rajyam<br>State=%{x}<br>Previous_Election_won=%{y}<extra></extra>\",\"legendgroup\":\"Samaikya Telugu Rajyam\",\"marker\":{\"color\":\"#636efa\",\"symbol\":\"circle\"},\"mode\":\"markers\",\"name\":\"Samaikya Telugu Rajyam\",\"orientation\":\"v\",\"showlegend\":true,\"x\":[\"Tripura\"],\"xaxis\":\"x\",\"y\":[0],\"yaxis\":\"y\",\"type\":\"scatter\"},{\"hovertemplate\":\"Party=Samaikyandhra Parirakshana Samithi<br>State=%{x}<br>Previous_Election_won=%{y}<extra></extra>\",\"legendgroup\":\"Samaikyandhra Parirakshana Samithi\",\"marker\":{\"color\":\"#EF553B\",\"symbol\":\"circle\"},\"mode\":\"markers\",\"name\":\"Samaikyandhra Parirakshana Samithi\",\"orientation\":\"v\",\"showlegend\":true,\"x\":[\"Uttar Pradesh\"],\"xaxis\":\"x\",\"y\":[0],\"yaxis\":\"y\",\"type\":\"scatter\"},{\"hovertemplate\":\"Party=Samajwadi Jan Parishad<br>State=%{x}<br>Previous_Election_won=%{y}<extra></extra>\",\"legendgroup\":\"Samajwadi Jan Parishad\",\"marker\":{\"color\":\"#00cc96\",\"symbol\":\"circle\"},\"mode\":\"markers\",\"name\":\"Samajwadi Jan Parishad\",\"orientation\":\"v\",\"showlegend\":true,\"x\":[\"Uttarakhand\"],\"xaxis\":\"x\",\"y\":[0],\"yaxis\":\"y\",\"type\":\"scatter\"},{\"hovertemplate\":\"Party=Samajwadi Janata Party (Rashtriya)<br>State=%{x}<br>Previous_Election_won=%{y}<extra></extra>\",\"legendgroup\":\"Samajwadi Janata Party (Rashtriya)\",\"marker\":{\"color\":\"#ab63fa\",\"symbol\":\"circle\"},\"mode\":\"markers\",\"name\":\"Samajwadi Janata Party (Rashtriya)\",\"orientation\":\"v\",\"showlegend\":true,\"x\":[\"West Bengal\"],\"xaxis\":\"x\",\"y\":[1],\"yaxis\":\"y\",\"type\":\"scatter\"},{\"hovertemplate\":\"Party=Samajwadi Samaj Party<br>State=%{x}<br>Previous_Election_won=%{y}<extra></extra>\",\"legendgroup\":\"Samajwadi Samaj Party\",\"marker\":{\"color\":\"#FFA15A\",\"symbol\":\"circle\"},\"mode\":\"markers\",\"name\":\"Samajwadi Samaj Party\",\"orientation\":\"v\",\"showlegend\":true,\"x\":[\"Bihar\"],\"xaxis\":\"x\",\"y\":[0],\"yaxis\":\"y\",\"type\":\"scatter\"},{\"hovertemplate\":\"Party=Samata Kranti Dal<br>State=%{x}<br>Previous_Election_won=%{y}<extra></extra>\",\"legendgroup\":\"Samata Kranti Dal\",\"marker\":{\"color\":\"#19d3f3\",\"symbol\":\"circle\"},\"mode\":\"markers\",\"name\":\"Samata Kranti Dal\",\"orientation\":\"v\",\"showlegend\":true,\"x\":[\"Chandigarh\"],\"xaxis\":\"x\",\"y\":[0],\"yaxis\":\"y\",\"type\":\"scatter\"},{\"hovertemplate\":\"Party=Samata Party<br>State=%{x}<br>Previous_Election_won=%{y}<extra></extra>\",\"legendgroup\":\"Samata Party\",\"marker\":{\"color\":\"#FF6692\",\"symbol\":\"circle\"},\"mode\":\"markers\",\"name\":\"Samata Party\",\"orientation\":\"v\",\"showlegend\":true,\"x\":[\"Chhattisgarh\"],\"xaxis\":\"x\",\"y\":[0],\"yaxis\":\"y\",\"type\":\"scatter\"},{\"hovertemplate\":\"Party=Samata Samadhan Party<br>State=%{x}<br>Previous_Election_won=%{y}<extra></extra>\",\"legendgroup\":\"Samata Samadhan Party\",\"marker\":{\"color\":\"#B6E880\",\"symbol\":\"circle\"},\"mode\":\"markers\",\"name\":\"Samata Samadhan Party\",\"orientation\":\"v\",\"showlegend\":true,\"x\":[\"Dadra & Nagar Haveli\"],\"xaxis\":\"x\",\"y\":[0],\"yaxis\":\"y\",\"type\":\"scatter\"},{\"hovertemplate\":\"Party=Samruddha Odisha<br>State=%{x}<br>Previous_Election_won=%{y}<extra></extra>\",\"legendgroup\":\"Samruddha Odisha\",\"marker\":{\"color\":\"#FF97FF\",\"symbol\":\"circle\"},\"mode\":\"markers\",\"name\":\"Samruddha Odisha\",\"orientation\":\"v\",\"showlegend\":true,\"x\":[\"Daman & Diu\"],\"xaxis\":\"x\",\"y\":[0],\"yaxis\":\"y\",\"type\":\"scatter\"},{\"hovertemplate\":\"Party=Samta Vikas Party<br>State=%{x}<br>Previous_Election_won=%{y}<extra></extra>\",\"legendgroup\":\"Samta Vikas Party\",\"marker\":{\"color\":\"#FECB52\",\"symbol\":\"circle\"},\"mode\":\"markers\",\"name\":\"Samta Vikas Party\",\"orientation\":\"v\",\"showlegend\":true,\"x\":[\"Goa\"],\"xaxis\":\"x\",\"y\":[0],\"yaxis\":\"y\",\"type\":\"scatter\"},{\"hovertemplate\":\"Party=Samtawadi Republican Party<br>State=%{x}<br>Previous_Election_won=%{y}<extra></extra>\",\"legendgroup\":\"Samtawadi Republican Party\",\"marker\":{\"color\":\"#636efa\",\"symbol\":\"circle\"},\"mode\":\"markers\",\"name\":\"Samtawadi Republican Party\",\"orientation\":\"v\",\"showlegend\":true,\"x\":[\"Gujarat\"],\"xaxis\":\"x\",\"y\":[0],\"yaxis\":\"y\",\"type\":\"scatter\"},{\"hovertemplate\":\"Party=Samyak Parivartan Party<br>State=%{x}<br>Previous_Election_won=%{y}<extra></extra>\",\"legendgroup\":\"Samyak Parivartan Party\",\"marker\":{\"color\":\"#EF553B\",\"symbol\":\"circle\"},\"mode\":\"markers\",\"name\":\"Samyak Parivartan Party\",\"orientation\":\"v\",\"showlegend\":true,\"x\":[\"Haryana\"],\"xaxis\":\"x\",\"y\":[1],\"yaxis\":\"y\",\"type\":\"scatter\"},{\"hovertemplate\":\"Party=Sanatan Sanskriti Raksha Dal<br>State=%{x}<br>Previous_Election_won=%{y}<extra></extra>\",\"legendgroup\":\"Sanatan Sanskriti Raksha Dal\",\"marker\":{\"color\":\"#00cc96\",\"symbol\":\"circle\"},\"mode\":\"markers\",\"name\":\"Sanatan Sanskriti Raksha Dal\",\"orientation\":\"v\",\"showlegend\":true,\"x\":[\"Himachal Pradesh\"],\"xaxis\":\"x\",\"y\":[0],\"yaxis\":\"y\",\"type\":\"scatter\"},{\"hovertemplate\":\"Party=Sankhyanupati Bhagidari Party<br>State=%{x}<br>Previous_Election_won=%{y}<extra></extra>\",\"legendgroup\":\"Sankhyanupati Bhagidari Party\",\"marker\":{\"color\":\"#ab63fa\",\"symbol\":\"circle\"},\"mode\":\"markers\",\"name\":\"Sankhyanupati Bhagidari Party\",\"orientation\":\"v\",\"showlegend\":true,\"x\":[\"Jammu & Kashmir\"],\"xaxis\":\"x\",\"y\":[0],\"yaxis\":\"y\",\"type\":\"scatter\"},{\"hovertemplate\":\"Party=Sanyukt Samajwadi Dal<br>State=%{x}<br>Previous_Election_won=%{y}<extra></extra>\",\"legendgroup\":\"Sanyukt Samajwadi Dal\",\"marker\":{\"color\":\"#FFA15A\",\"symbol\":\"circle\"},\"mode\":\"markers\",\"name\":\"Sanyukt Samajwadi Dal\",\"orientation\":\"v\",\"showlegend\":true,\"x\":[\"Jharkhand\"],\"xaxis\":\"x\",\"y\":[0],\"yaxis\":\"y\",\"type\":\"scatter\"},{\"hovertemplate\":\"Party=Sardar Vallabhbhai Patel Party<br>State=%{x}<br>Previous_Election_won=%{y}<extra></extra>\",\"legendgroup\":\"Sardar Vallabhbhai Patel Party\",\"marker\":{\"color\":\"#19d3f3\",\"symbol\":\"circle\"},\"mode\":\"markers\",\"name\":\"Sardar Vallabhbhai Patel Party\",\"orientation\":\"v\",\"showlegend\":true,\"x\":[\"Karnataka\"],\"xaxis\":\"x\",\"y\":[0],\"yaxis\":\"y\",\"type\":\"scatter\"},{\"hovertemplate\":\"Party=Sarva Janata Party<br>State=%{x}<br>Previous_Election_won=%{y}<extra></extra>\",\"legendgroup\":\"Sarva Janata Party\",\"marker\":{\"color\":\"#FF6692\",\"symbol\":\"circle\"},\"mode\":\"markers\",\"name\":\"Sarva Janata Party\",\"orientation\":\"v\",\"showlegend\":true,\"x\":[\"Kerala\"],\"xaxis\":\"x\",\"y\":[0],\"yaxis\":\"y\",\"type\":\"scatter\"},{\"hovertemplate\":\"Party=Sarva Samaj Kalyan Party<br>State=%{x}<br>Previous_Election_won=%{y}<extra></extra>\",\"legendgroup\":\"Sarva Samaj Kalyan Party\",\"marker\":{\"color\":\"#B6E880\",\"symbol\":\"circle\"},\"mode\":\"markers\",\"name\":\"Sarva Samaj Kalyan Party\",\"orientation\":\"v\",\"showlegend\":true,\"x\":[\"Lakshadweep\"],\"xaxis\":\"x\",\"y\":[0],\"yaxis\":\"y\",\"type\":\"scatter\"},{\"hovertemplate\":\"Party=Sarvajan Kalyan Loktantrik Party<br>State=%{x}<br>Previous_Election_won=%{y}<extra></extra>\",\"legendgroup\":\"Sarvajan Kalyan Loktantrik Party\",\"marker\":{\"color\":\"#FF97FF\",\"symbol\":\"circle\"},\"mode\":\"markers\",\"name\":\"Sarvajan Kalyan Loktantrik Party\",\"orientation\":\"v\",\"showlegend\":true,\"x\":[\"Madhya Pradesh\"],\"xaxis\":\"x\",\"y\":[0],\"yaxis\":\"y\",\"type\":\"scatter\"},{\"hovertemplate\":\"Party=SARVAJAN SAMAJ PARTY (D)<br>State=%{x}<br>Previous_Election_won=%{y}<extra></extra>\",\"legendgroup\":\"SARVAJAN SAMAJ PARTY (D)\",\"marker\":{\"color\":\"#FECB52\",\"symbol\":\"circle\"},\"mode\":\"markers\",\"name\":\"SARVAJAN SAMAJ PARTY (D)\",\"orientation\":\"v\",\"showlegend\":true,\"x\":[\"Maharashtra\"],\"xaxis\":\"x\",\"y\":[0],\"yaxis\":\"y\",\"type\":\"scatter\"},{\"hovertemplate\":\"Party=Sarvshreshth Dal<br>State=%{x}<br>Previous_Election_won=%{y}<extra></extra>\",\"legendgroup\":\"Sarvshreshth Dal\",\"marker\":{\"color\":\"#636efa\",\"symbol\":\"circle\"},\"mode\":\"markers\",\"name\":\"Sarvshreshth Dal\",\"orientation\":\"v\",\"showlegend\":true,\"x\":[\"Manipur\"],\"xaxis\":\"x\",\"y\":[0],\"yaxis\":\"y\",\"type\":\"scatter\"},{\"hovertemplate\":\"Party=Shakti Sena (Bharat Desh)<br>State=%{x}<br>Previous_Election_won=%{y}<extra></extra>\",\"legendgroup\":\"Shakti Sena (Bharat Desh)\",\"marker\":{\"color\":\"#EF553B\",\"symbol\":\"circle\"},\"mode\":\"markers\",\"name\":\"Shakti Sena (Bharat Desh)\",\"orientation\":\"v\",\"showlegend\":true,\"x\":[\"Meghalaya\"],\"xaxis\":\"x\",\"y\":[0],\"yaxis\":\"y\",\"type\":\"scatter\"},{\"hovertemplate\":\"Party=Shiromani Akali Dal (Amritsar)(Simranjit Singh Mann)<br>State=%{x}<br>Previous_Election_won=%{y}<extra></extra>\",\"legendgroup\":\"Shiromani Akali Dal (Amritsar)(Simranjit Singh Mann)\",\"marker\":{\"color\":\"#00cc96\",\"symbol\":\"circle\"},\"mode\":\"markers\",\"name\":\"Shiromani Akali Dal (Amritsar)(Simranjit Singh Mann)\",\"orientation\":\"v\",\"showlegend\":true,\"x\":[\"Mizoram\"],\"xaxis\":\"x\",\"y\":[1],\"yaxis\":\"y\",\"type\":\"scatter\"},{\"hovertemplate\":\"Party=Shivrajya Party<br>State=%{x}<br>Previous_Election_won=%{y}<extra></extra>\",\"legendgroup\":\"Shivrajya Party\",\"marker\":{\"color\":\"#ab63fa\",\"symbol\":\"circle\"},\"mode\":\"markers\",\"name\":\"Shivrajya Party\",\"orientation\":\"v\",\"showlegend\":true,\"x\":[\"Nagaland\"],\"xaxis\":\"x\",\"y\":[0],\"yaxis\":\"y\",\"type\":\"scatter\"},{\"hovertemplate\":\"Party=Shoshit Samaj Dal<br>State=%{x}<br>Previous_Election_won=%{y}<extra></extra>\",\"legendgroup\":\"Shoshit Samaj Dal\",\"marker\":{\"color\":\"#FFA15A\",\"symbol\":\"circle\"},\"mode\":\"markers\",\"name\":\"Shoshit Samaj Dal\",\"orientation\":\"v\",\"showlegend\":true,\"x\":[\"NCT OF Delhi\"],\"xaxis\":\"x\",\"y\":[0],\"yaxis\":\"y\",\"type\":\"scatter\"},{\"hovertemplate\":\"Party=Shoshit Sandesh Party<br>State=%{x}<br>Previous_Election_won=%{y}<extra></extra>\",\"legendgroup\":\"Shoshit Sandesh Party\",\"marker\":{\"color\":\"#19d3f3\",\"symbol\":\"circle\"},\"mode\":\"markers\",\"name\":\"Shoshit Sandesh Party\",\"orientation\":\"v\",\"showlegend\":true,\"x\":[\"Odisha\"],\"xaxis\":\"x\",\"y\":[0],\"yaxis\":\"y\",\"type\":\"scatter\"},{\"hovertemplate\":\"Party=Shramajeevi Party<br>State=%{x}<br>Previous_Election_won=%{y}<extra></extra>\",\"legendgroup\":\"Shramajeevi Party\",\"marker\":{\"color\":\"#FF6692\",\"symbol\":\"circle\"},\"mode\":\"markers\",\"name\":\"Shramajeevi Party\",\"orientation\":\"v\",\"showlegend\":true,\"x\":[\"Puducherry\"],\"xaxis\":\"x\",\"y\":[0],\"yaxis\":\"y\",\"type\":\"scatter\"},{\"hovertemplate\":\"Party=Sikkim Krantikari Morcha<br>State=%{x}<br>Previous_Election_won=%{y}<extra></extra>\",\"legendgroup\":\"Sikkim Krantikari Morcha\",\"marker\":{\"color\":\"#B6E880\",\"symbol\":\"circle\"},\"mode\":\"markers\",\"name\":\"Sikkim Krantikari Morcha\",\"orientation\":\"v\",\"showlegend\":true,\"x\":[\"Punjab\"],\"xaxis\":\"x\",\"y\":[2],\"yaxis\":\"y\",\"type\":\"scatter\"},{\"hovertemplate\":\"Party=Social Action Party<br>State=%{x}<br>Previous_Election_won=%{y}<extra></extra>\",\"legendgroup\":\"Social Action Party\",\"marker\":{\"color\":\"#FF97FF\",\"symbol\":\"circle\"},\"mode\":\"markers\",\"name\":\"Social Action Party\",\"orientation\":\"v\",\"showlegend\":true,\"x\":[\"Rajasthan\"],\"xaxis\":\"x\",\"y\":[0],\"yaxis\":\"y\",\"type\":\"scatter\"},{\"hovertemplate\":\"Party=SOCIAL DEMOCRATIC PARTY OF INDIA<br>State=%{x}<br>Previous_Election_won=%{y}<extra></extra>\",\"legendgroup\":\"SOCIAL DEMOCRATIC PARTY OF INDIA\",\"marker\":{\"color\":\"#FECB52\",\"symbol\":\"circle\"},\"mode\":\"markers\",\"name\":\"SOCIAL DEMOCRATIC PARTY OF INDIA\",\"orientation\":\"v\",\"showlegend\":true,\"x\":[\"Sikkim\"],\"xaxis\":\"x\",\"y\":[7],\"yaxis\":\"y\",\"type\":\"scatter\"},{\"hovertemplate\":\"Party=Socialist Janata (Democratic)<br>State=%{x}<br>Previous_Election_won=%{y}<extra></extra>\",\"legendgroup\":\"Socialist Janata (Democratic)\",\"marker\":{\"color\":\"#636efa\",\"symbol\":\"circle\"},\"mode\":\"markers\",\"name\":\"Socialist Janata (Democratic)\",\"orientation\":\"v\",\"showlegend\":true,\"x\":[\"Tamil Nadu\"],\"xaxis\":\"x\",\"y\":[6],\"yaxis\":\"y\",\"type\":\"scatter\"},{\"hovertemplate\":\"Party=Socialist Party (India)<br>State=%{x}<br>Previous_Election_won=%{y}<extra></extra>\",\"legendgroup\":\"Socialist Party (India)\",\"marker\":{\"color\":\"#EF553B\",\"symbol\":\"circle\"},\"mode\":\"markers\",\"name\":\"Socialist Party (India)\",\"orientation\":\"v\",\"showlegend\":true,\"x\":[\"Tripura\"],\"xaxis\":\"x\",\"y\":[1],\"yaxis\":\"y\",\"type\":\"scatter\"},{\"hovertemplate\":\"Party=Socialist Party (Lohia)<br>State=%{x}<br>Previous_Election_won=%{y}<extra></extra>\",\"legendgroup\":\"Socialist Party (Lohia)\",\"marker\":{\"color\":\"#00cc96\",\"symbol\":\"circle\"},\"mode\":\"markers\",\"name\":\"Socialist Party (Lohia)\",\"orientation\":\"v\",\"showlegend\":true,\"x\":[\"Uttar Pradesh\"],\"xaxis\":\"x\",\"y\":[0],\"yaxis\":\"y\",\"type\":\"scatter\"},{\"hovertemplate\":\"Party=Socialist Republican Party<br>State=%{x}<br>Previous_Election_won=%{y}<extra></extra>\",\"legendgroup\":\"Socialist Republican Party\",\"marker\":{\"color\":\"#ab63fa\",\"symbol\":\"circle\"},\"mode\":\"markers\",\"name\":\"Socialist Republican Party\",\"orientation\":\"v\",\"showlegend\":true,\"x\":[\"Uttarakhand\"],\"xaxis\":\"x\",\"y\":[0],\"yaxis\":\"y\",\"type\":\"scatter\"},{\"hovertemplate\":\"Party=SOCIALIST UNITY CENTRE OF INDIA (COMMUNIST)<br>State=%{x}<br>Previous_Election_won=%{y}<extra></extra>\",\"legendgroup\":\"SOCIALIST UNITY CENTRE OF INDIA (COMMUNIST)\",\"marker\":{\"color\":\"#FFA15A\",\"symbol\":\"circle\"},\"mode\":\"markers\",\"name\":\"SOCIALIST UNITY CENTRE OF INDIA (COMMUNIST)\",\"orientation\":\"v\",\"showlegend\":true,\"x\":[\"West Bengal\"],\"xaxis\":\"x\",\"y\":[9],\"yaxis\":\"y\",\"type\":\"scatter\"},{\"hovertemplate\":\"Party=Socialistic Democratic Party<br>State=%{x}<br>Previous_Election_won=%{y}<extra></extra>\",\"legendgroup\":\"Socialistic Democratic Party\",\"marker\":{\"color\":\"#19d3f3\",\"symbol\":\"circle\"},\"mode\":\"markers\",\"name\":\"Socialistic Democratic Party\",\"orientation\":\"v\",\"showlegend\":true,\"x\":[\"Bihar\"],\"xaxis\":\"x\",\"y\":[0],\"yaxis\":\"y\",\"type\":\"scatter\"},{\"hovertemplate\":\"Party=Suheldev Bhartiya Samaj Party<br>State=%{x}<br>Previous_Election_won=%{y}<extra></extra>\",\"legendgroup\":\"Suheldev Bhartiya Samaj Party\",\"marker\":{\"color\":\"#FF6692\",\"symbol\":\"circle\"},\"mode\":\"markers\",\"name\":\"Suheldev Bhartiya Samaj Party\",\"orientation\":\"v\",\"showlegend\":true,\"x\":[\"Chandigarh\"],\"xaxis\":\"x\",\"y\":[2],\"yaxis\":\"y\",\"type\":\"scatter\"},{\"hovertemplate\":\"Party=Swabhimani Paksha<br>State=%{x}<br>Previous_Election_won=%{y}<extra></extra>\",\"legendgroup\":\"Swabhimani Paksha\",\"marker\":{\"color\":\"#B6E880\",\"symbol\":\"circle\"},\"mode\":\"markers\",\"name\":\"Swabhimani Paksha\",\"orientation\":\"v\",\"showlegend\":true,\"x\":[\"Chhattisgarh\"],\"xaxis\":\"x\",\"y\":[19],\"yaxis\":\"y\",\"type\":\"scatter\"},{\"hovertemplate\":\"Party=Swaraj (J)<br>State=%{x}<br>Previous_Election_won=%{y}<extra></extra>\",\"legendgroup\":\"Swaraj (J)\",\"marker\":{\"color\":\"#FF97FF\",\"symbol\":\"circle\"},\"mode\":\"markers\",\"name\":\"Swaraj (J)\",\"orientation\":\"v\",\"showlegend\":true,\"x\":[\"Dadra & Nagar Haveli\"],\"xaxis\":\"x\",\"y\":[0],\"yaxis\":\"y\",\"type\":\"scatter\"},{\"hovertemplate\":\"Party=Swarajya Party Of India<br>State=%{x}<br>Previous_Election_won=%{y}<extra></extra>\",\"legendgroup\":\"Swarajya Party Of India\",\"marker\":{\"color\":\"#FECB52\",\"symbol\":\"circle\"},\"mode\":\"markers\",\"name\":\"Swarajya Party Of India\",\"orientation\":\"v\",\"showlegend\":true,\"x\":[\"Daman & Diu\"],\"xaxis\":\"x\",\"y\":[0],\"yaxis\":\"y\",\"type\":\"scatter\"},{\"hovertemplate\":\"Party=Swatantra Samaj Party<br>State=%{x}<br>Previous_Election_won=%{y}<extra></extra>\",\"legendgroup\":\"Swatantra Samaj Party\",\"marker\":{\"color\":\"#636efa\",\"symbol\":\"circle\"},\"mode\":\"markers\",\"name\":\"Swatantra Samaj Party\",\"orientation\":\"v\",\"showlegend\":true,\"x\":[\"Goa\"],\"xaxis\":\"x\",\"y\":[0],\"yaxis\":\"y\",\"type\":\"scatter\"},{\"hovertemplate\":\"Party=Tamil Nadu Makkal Congress<br>State=%{x}<br>Previous_Election_won=%{y}<extra></extra>\",\"legendgroup\":\"Tamil Nadu Makkal Congress\",\"marker\":{\"color\":\"#EF553B\",\"symbol\":\"circle\"},\"mode\":\"markers\",\"name\":\"Tamil Nadu Makkal Congress\",\"orientation\":\"v\",\"showlegend\":true,\"x\":[\"Gujarat\"],\"xaxis\":\"x\",\"y\":[1],\"yaxis\":\"y\",\"type\":\"scatter\"},{\"hovertemplate\":\"Party=Telangana Communist Party of India<br>State=%{x}<br>Previous_Election_won=%{y}<extra></extra>\",\"legendgroup\":\"Telangana Communist Party of India\",\"marker\":{\"color\":\"#00cc96\",\"symbol\":\"circle\"},\"mode\":\"markers\",\"name\":\"Telangana Communist Party of India\",\"orientation\":\"v\",\"showlegend\":true,\"x\":[\"Haryana\"],\"xaxis\":\"x\",\"y\":[0],\"yaxis\":\"y\",\"type\":\"scatter\"},{\"hovertemplate\":\"Party=Telangana Loksatta Party<br>State=%{x}<br>Previous_Election_won=%{y}<extra></extra>\",\"legendgroup\":\"Telangana Loksatta Party\",\"marker\":{\"color\":\"#ab63fa\",\"symbol\":\"circle\"},\"mode\":\"markers\",\"name\":\"Telangana Loksatta Party\",\"orientation\":\"v\",\"showlegend\":true,\"x\":[\"Himachal Pradesh\"],\"xaxis\":\"x\",\"y\":[0],\"yaxis\":\"y\",\"type\":\"scatter\"},{\"hovertemplate\":\"Party=The Lok Party of India<br>State=%{x}<br>Previous_Election_won=%{y}<extra></extra>\",\"legendgroup\":\"The Lok Party of India\",\"marker\":{\"color\":\"#FFA15A\",\"symbol\":\"circle\"},\"mode\":\"markers\",\"name\":\"The Lok Party of India\",\"orientation\":\"v\",\"showlegend\":true,\"x\":[\"Jammu & Kashmir\"],\"xaxis\":\"x\",\"y\":[0],\"yaxis\":\"y\",\"type\":\"scatter\"},{\"hovertemplate\":\"Party=The Religion of Man Revolving Political Party of India<br>State=%{x}<br>Previous_Election_won=%{y}<extra></extra>\",\"legendgroup\":\"The Religion of Man Revolving Political Party of India\",\"marker\":{\"color\":\"#19d3f3\",\"symbol\":\"circle\"},\"mode\":\"markers\",\"name\":\"The Religion of Man Revolving Political Party of India\",\"orientation\":\"v\",\"showlegend\":true,\"x\":[\"Jharkhand\"],\"xaxis\":\"x\",\"y\":[0],\"yaxis\":\"y\",\"type\":\"scatter\"},{\"hovertemplate\":\"Party=Thrinamool Tamil Nadu Congress<br>State=%{x}<br>Previous_Election_won=%{y}<extra></extra>\",\"legendgroup\":\"Thrinamool Tamil Nadu Congress\",\"marker\":{\"color\":\"#FF6692\",\"symbol\":\"circle\"},\"mode\":\"markers\",\"name\":\"Thrinamool Tamil Nadu Congress\",\"orientation\":\"v\",\"showlegend\":true,\"x\":[\"Karnataka\"],\"xaxis\":\"x\",\"y\":[0],\"yaxis\":\"y\",\"type\":\"scatter\"},{\"hovertemplate\":\"Party=Tripura Pragatishil Gramin Congress<br>State=%{x}<br>Previous_Election_won=%{y}<extra></extra>\",\"legendgroup\":\"Tripura Pragatishil Gramin Congress\",\"marker\":{\"color\":\"#B6E880\",\"symbol\":\"circle\"},\"mode\":\"markers\",\"name\":\"Tripura Pragatishil Gramin Congress\",\"orientation\":\"v\",\"showlegend\":true,\"x\":[\"Kerala\"],\"xaxis\":\"x\",\"y\":[0],\"yaxis\":\"y\",\"type\":\"scatter\"},{\"hovertemplate\":\"Party=Ulzaipali Makkal Katchy<br>State=%{x}<br>Previous_Election_won=%{y}<extra></extra>\",\"legendgroup\":\"Ulzaipali Makkal Katchy\",\"marker\":{\"color\":\"#FF97FF\",\"symbol\":\"circle\"},\"mode\":\"markers\",\"name\":\"Ulzaipali Makkal Katchy\",\"orientation\":\"v\",\"showlegend\":true,\"x\":[\"Lakshadweep\"],\"xaxis\":\"x\",\"y\":[0],\"yaxis\":\"y\",\"type\":\"scatter\"},{\"hovertemplate\":\"Party=Union Party of India<br>State=%{x}<br>Previous_Election_won=%{y}<extra></extra>\",\"legendgroup\":\"Union Party of India\",\"marker\":{\"color\":\"#FECB52\",\"symbol\":\"circle\"},\"mode\":\"markers\",\"name\":\"Union Party of India\",\"orientation\":\"v\",\"showlegend\":true,\"x\":[\"Madhya Pradesh\"],\"xaxis\":\"x\",\"y\":[0],\"yaxis\":\"y\",\"type\":\"scatter\"},{\"hovertemplate\":\"Party=United Communist Party of India<br>State=%{x}<br>Previous_Election_won=%{y}<extra></extra>\",\"legendgroup\":\"United Communist Party of India\",\"marker\":{\"color\":\"#636efa\",\"symbol\":\"circle\"},\"mode\":\"markers\",\"name\":\"United Communist Party of India\",\"orientation\":\"v\",\"showlegend\":true,\"x\":[\"Maharashtra\"],\"xaxis\":\"x\",\"y\":[0],\"yaxis\":\"y\",\"type\":\"scatter\"},{\"hovertemplate\":\"Party=Uttar Pradesh Republican Party<br>State=%{x}<br>Previous_Election_won=%{y}<extra></extra>\",\"legendgroup\":\"Uttar Pradesh Republican Party\",\"marker\":{\"color\":\"#EF553B\",\"symbol\":\"circle\"},\"mode\":\"markers\",\"name\":\"Uttar Pradesh Republican Party\",\"orientation\":\"v\",\"showlegend\":true,\"x\":[\"Manipur\"],\"xaxis\":\"x\",\"y\":[0],\"yaxis\":\"y\",\"type\":\"scatter\"},{\"hovertemplate\":\"Party=UTTARAKHAND PARIVARTAN PARTY<br>State=%{x}<br>Previous_Election_won=%{y}<extra></extra>\",\"legendgroup\":\"UTTARAKHAND PARIVARTAN PARTY\",\"marker\":{\"color\":\"#00cc96\",\"symbol\":\"circle\"},\"mode\":\"markers\",\"name\":\"UTTARAKHAND PARIVARTAN PARTY\",\"orientation\":\"v\",\"showlegend\":true,\"x\":[\"Meghalaya\"],\"xaxis\":\"x\",\"y\":[0],\"yaxis\":\"y\",\"type\":\"scatter\"},{\"hovertemplate\":\"Party=Vanchit Jamat Party<br>State=%{x}<br>Previous_Election_won=%{y}<extra></extra>\",\"legendgroup\":\"Vanchit Jamat Party\",\"marker\":{\"color\":\"#ab63fa\",\"symbol\":\"circle\"},\"mode\":\"markers\",\"name\":\"Vanchit Jamat Party\",\"orientation\":\"v\",\"showlegend\":true,\"x\":[\"Mizoram\"],\"xaxis\":\"x\",\"y\":[0],\"yaxis\":\"y\",\"type\":\"scatter\"},{\"hovertemplate\":\"Party=VANCHITSAMAJ INSAAF PARTY<br>State=%{x}<br>Previous_Election_won=%{y}<extra></extra>\",\"legendgroup\":\"VANCHITSAMAJ INSAAF PARTY\",\"marker\":{\"color\":\"#FFA15A\",\"symbol\":\"circle\"},\"mode\":\"markers\",\"name\":\"VANCHITSAMAJ INSAAF PARTY\",\"orientation\":\"v\",\"showlegend\":true,\"x\":[\"Nagaland\"],\"xaxis\":\"x\",\"y\":[0],\"yaxis\":\"y\",\"type\":\"scatter\"},{\"hovertemplate\":\"Party=Vichara Jagruthi Congress Paksha<br>State=%{x}<br>Previous_Election_won=%{y}<extra></extra>\",\"legendgroup\":\"Vichara Jagruthi Congress Paksha\",\"marker\":{\"color\":\"#19d3f3\",\"symbol\":\"circle\"},\"mode\":\"markers\",\"name\":\"Vichara Jagruthi Congress Paksha\",\"orientation\":\"v\",\"showlegend\":true,\"x\":[\"NCT OF Delhi\"],\"xaxis\":\"x\",\"y\":[0],\"yaxis\":\"y\",\"type\":\"scatter\"},{\"hovertemplate\":\"Party=Viduthalai Chiruthaigal Katchi<br>State=%{x}<br>Previous_Election_won=%{y}<extra></extra>\",\"legendgroup\":\"Viduthalai Chiruthaigal Katchi\",\"marker\":{\"color\":\"#FF6692\",\"symbol\":\"circle\"},\"mode\":\"markers\",\"name\":\"Viduthalai Chiruthaigal Katchi\",\"orientation\":\"v\",\"showlegend\":true,\"x\":[\"Odisha\"],\"xaxis\":\"x\",\"y\":[11],\"yaxis\":\"y\",\"type\":\"scatter\"},{\"hovertemplate\":\"Party=Vishva Hindustani Sangathan<br>State=%{x}<br>Previous_Election_won=%{y}<extra></extra>\",\"legendgroup\":\"Vishva Hindustani Sangathan\",\"marker\":{\"color\":\"#B6E880\",\"symbol\":\"circle\"},\"mode\":\"markers\",\"name\":\"Vishva Hindustani Sangathan\",\"orientation\":\"v\",\"showlegend\":true,\"x\":[\"Puducherry\"],\"xaxis\":\"x\",\"y\":[0],\"yaxis\":\"y\",\"type\":\"scatter\"},{\"hovertemplate\":\"Party=Vishva SHakti Party<br>State=%{x}<br>Previous_Election_won=%{y}<extra></extra>\",\"legendgroup\":\"Vishva SHakti Party\",\"marker\":{\"color\":\"#FF97FF\",\"symbol\":\"circle\"},\"mode\":\"markers\",\"name\":\"Vishva SHakti Party\",\"orientation\":\"v\",\"showlegend\":true,\"x\":[\"Punjab\"],\"xaxis\":\"x\",\"y\":[0],\"yaxis\":\"y\",\"type\":\"scatter\"},{\"hovertemplate\":\"Party=Voters Party<br>State=%{x}<br>Previous_Election_won=%{y}<extra></extra>\",\"legendgroup\":\"Voters Party\",\"marker\":{\"color\":\"#FECB52\",\"symbol\":\"circle\"},\"mode\":\"markers\",\"name\":\"Voters Party\",\"orientation\":\"v\",\"showlegend\":true,\"x\":[\"Rajasthan\"],\"xaxis\":\"x\",\"y\":[0],\"yaxis\":\"y\",\"type\":\"scatter\"},{\"hovertemplate\":\"Party=Welfare Party Of India<br>State=%{x}<br>Previous_Election_won=%{y}<extra></extra>\",\"legendgroup\":\"Welfare Party Of India\",\"marker\":{\"color\":\"#636efa\",\"symbol\":\"circle\"},\"mode\":\"markers\",\"name\":\"Welfare Party Of India\",\"orientation\":\"v\",\"showlegend\":true,\"x\":[\"Sikkim\"],\"xaxis\":\"x\",\"y\":[4],\"yaxis\":\"y\",\"type\":\"scatter\"},{\"hovertemplate\":\"Party=Yuva Sarkar<br>State=%{x}<br>Previous_Election_won=%{y}<extra></extra>\",\"legendgroup\":\"Yuva Sarkar\",\"marker\":{\"color\":\"#EF553B\",\"symbol\":\"circle\"},\"mode\":\"markers\",\"name\":\"Yuva Sarkar\",\"orientation\":\"v\",\"showlegend\":true,\"x\":[\"Tamil Nadu\"],\"xaxis\":\"x\",\"y\":[0],\"yaxis\":\"y\",\"type\":\"scatter\"},{\"hovertemplate\":\"Party=Yuvajana Sramika Rythu Congress Party<br>State=%{x}<br>Previous_Election_won=%{y}<extra></extra>\",\"legendgroup\":\"Yuvajana Sramika Rythu Congress Party\",\"marker\":{\"color\":\"#00cc96\",\"symbol\":\"circle\"},\"mode\":\"markers\",\"name\":\"Yuvajana Sramika Rythu Congress Party\",\"orientation\":\"v\",\"showlegend\":true,\"x\":[\"Tripura\"],\"xaxis\":\"x\",\"y\":[244],\"yaxis\":\"y\",\"type\":\"scatter\"},{\"hovertemplate\":\"Party=Independent<br>State=%{x}<br>Previous_Election_won=%{y}<extra></extra>\",\"legendgroup\":\"Independent\",\"marker\":{\"color\":\"#ab63fa\",\"symbol\":\"circle\"},\"mode\":\"markers\",\"name\":\"Independent\",\"orientation\":\"v\",\"showlegend\":true,\"x\":[\"Uttar Pradesh\"],\"xaxis\":\"x\",\"y\":[299],\"yaxis\":\"y\",\"type\":\"scatter\"}],                        {\"template\":{\"data\":{\"histogram2dcontour\":[{\"type\":\"histogram2dcontour\",\"colorbar\":{\"outlinewidth\":0,\"ticks\":\"\"},\"colorscale\":[[0.0,\"#0d0887\"],[0.1111111111111111,\"#46039f\"],[0.2222222222222222,\"#7201a8\"],[0.3333333333333333,\"#9c179e\"],[0.4444444444444444,\"#bd3786\"],[0.5555555555555556,\"#d8576b\"],[0.6666666666666666,\"#ed7953\"],[0.7777777777777778,\"#fb9f3a\"],[0.8888888888888888,\"#fdca26\"],[1.0,\"#f0f921\"]]}],\"choropleth\":[{\"type\":\"choropleth\",\"colorbar\":{\"outlinewidth\":0,\"ticks\":\"\"}}],\"histogram2d\":[{\"type\":\"histogram2d\",\"colorbar\":{\"outlinewidth\":0,\"ticks\":\"\"},\"colorscale\":[[0.0,\"#0d0887\"],[0.1111111111111111,\"#46039f\"],[0.2222222222222222,\"#7201a8\"],[0.3333333333333333,\"#9c179e\"],[0.4444444444444444,\"#bd3786\"],[0.5555555555555556,\"#d8576b\"],[0.6666666666666666,\"#ed7953\"],[0.7777777777777778,\"#fb9f3a\"],[0.8888888888888888,\"#fdca26\"],[1.0,\"#f0f921\"]]}],\"heatmap\":[{\"type\":\"heatmap\",\"colorbar\":{\"outlinewidth\":0,\"ticks\":\"\"},\"colorscale\":[[0.0,\"#0d0887\"],[0.1111111111111111,\"#46039f\"],[0.2222222222222222,\"#7201a8\"],[0.3333333333333333,\"#9c179e\"],[0.4444444444444444,\"#bd3786\"],[0.5555555555555556,\"#d8576b\"],[0.6666666666666666,\"#ed7953\"],[0.7777777777777778,\"#fb9f3a\"],[0.8888888888888888,\"#fdca26\"],[1.0,\"#f0f921\"]]}],\"heatmapgl\":[{\"type\":\"heatmapgl\",\"colorbar\":{\"outlinewidth\":0,\"ticks\":\"\"},\"colorscale\":[[0.0,\"#0d0887\"],[0.1111111111111111,\"#46039f\"],[0.2222222222222222,\"#7201a8\"],[0.3333333333333333,\"#9c179e\"],[0.4444444444444444,\"#bd3786\"],[0.5555555555555556,\"#d8576b\"],[0.6666666666666666,\"#ed7953\"],[0.7777777777777778,\"#fb9f3a\"],[0.8888888888888888,\"#fdca26\"],[1.0,\"#f0f921\"]]}],\"contourcarpet\":[{\"type\":\"contourcarpet\",\"colorbar\":{\"outlinewidth\":0,\"ticks\":\"\"}}],\"contour\":[{\"type\":\"contour\",\"colorbar\":{\"outlinewidth\":0,\"ticks\":\"\"},\"colorscale\":[[0.0,\"#0d0887\"],[0.1111111111111111,\"#46039f\"],[0.2222222222222222,\"#7201a8\"],[0.3333333333333333,\"#9c179e\"],[0.4444444444444444,\"#bd3786\"],[0.5555555555555556,\"#d8576b\"],[0.6666666666666666,\"#ed7953\"],[0.7777777777777778,\"#fb9f3a\"],[0.8888888888888888,\"#fdca26\"],[1.0,\"#f0f921\"]]}],\"surface\":[{\"type\":\"surface\",\"colorbar\":{\"outlinewidth\":0,\"ticks\":\"\"},\"colorscale\":[[0.0,\"#0d0887\"],[0.1111111111111111,\"#46039f\"],[0.2222222222222222,\"#7201a8\"],[0.3333333333333333,\"#9c179e\"],[0.4444444444444444,\"#bd3786\"],[0.5555555555555556,\"#d8576b\"],[0.6666666666666666,\"#ed7953\"],[0.7777777777777778,\"#fb9f3a\"],[0.8888888888888888,\"#fdca26\"],[1.0,\"#f0f921\"]]}],\"mesh3d\":[{\"type\":\"mesh3d\",\"colorbar\":{\"outlinewidth\":0,\"ticks\":\"\"}}],\"scatter\":[{\"fillpattern\":{\"fillmode\":\"overlay\",\"size\":10,\"solidity\":0.2},\"type\":\"scatter\"}],\"parcoords\":[{\"type\":\"parcoords\",\"line\":{\"colorbar\":{\"outlinewidth\":0,\"ticks\":\"\"}}}],\"scatterpolargl\":[{\"type\":\"scatterpolargl\",\"marker\":{\"colorbar\":{\"outlinewidth\":0,\"ticks\":\"\"}}}],\"bar\":[{\"error_x\":{\"color\":\"#2a3f5f\"},\"error_y\":{\"color\":\"#2a3f5f\"},\"marker\":{\"line\":{\"color\":\"#E5ECF6\",\"width\":0.5},\"pattern\":{\"fillmode\":\"overlay\",\"size\":10,\"solidity\":0.2}},\"type\":\"bar\"}],\"scattergeo\":[{\"type\":\"scattergeo\",\"marker\":{\"colorbar\":{\"outlinewidth\":0,\"ticks\":\"\"}}}],\"scatterpolar\":[{\"type\":\"scatterpolar\",\"marker\":{\"colorbar\":{\"outlinewidth\":0,\"ticks\":\"\"}}}],\"histogram\":[{\"marker\":{\"pattern\":{\"fillmode\":\"overlay\",\"size\":10,\"solidity\":0.2}},\"type\":\"histogram\"}],\"scattergl\":[{\"type\":\"scattergl\",\"marker\":{\"colorbar\":{\"outlinewidth\":0,\"ticks\":\"\"}}}],\"scatter3d\":[{\"type\":\"scatter3d\",\"line\":{\"colorbar\":{\"outlinewidth\":0,\"ticks\":\"\"}},\"marker\":{\"colorbar\":{\"outlinewidth\":0,\"ticks\":\"\"}}}],\"scattermapbox\":[{\"type\":\"scattermapbox\",\"marker\":{\"colorbar\":{\"outlinewidth\":0,\"ticks\":\"\"}}}],\"scatterternary\":[{\"type\":\"scatterternary\",\"marker\":{\"colorbar\":{\"outlinewidth\":0,\"ticks\":\"\"}}}],\"scattercarpet\":[{\"type\":\"scattercarpet\",\"marker\":{\"colorbar\":{\"outlinewidth\":0,\"ticks\":\"\"}}}],\"carpet\":[{\"aaxis\":{\"endlinecolor\":\"#2a3f5f\",\"gridcolor\":\"white\",\"linecolor\":\"white\",\"minorgridcolor\":\"white\",\"startlinecolor\":\"#2a3f5f\"},\"baxis\":{\"endlinecolor\":\"#2a3f5f\",\"gridcolor\":\"white\",\"linecolor\":\"white\",\"minorgridcolor\":\"white\",\"startlinecolor\":\"#2a3f5f\"},\"type\":\"carpet\"}],\"table\":[{\"cells\":{\"fill\":{\"color\":\"#EBF0F8\"},\"line\":{\"color\":\"white\"}},\"header\":{\"fill\":{\"color\":\"#C8D4E3\"},\"line\":{\"color\":\"white\"}},\"type\":\"table\"}],\"barpolar\":[{\"marker\":{\"line\":{\"color\":\"#E5ECF6\",\"width\":0.5},\"pattern\":{\"fillmode\":\"overlay\",\"size\":10,\"solidity\":0.2}},\"type\":\"barpolar\"}],\"pie\":[{\"automargin\":true,\"type\":\"pie\"}]},\"layout\":{\"autotypenumbers\":\"strict\",\"colorway\":[\"#636efa\",\"#EF553B\",\"#00cc96\",\"#ab63fa\",\"#FFA15A\",\"#19d3f3\",\"#FF6692\",\"#B6E880\",\"#FF97FF\",\"#FECB52\"],\"font\":{\"color\":\"#2a3f5f\"},\"hovermode\":\"closest\",\"hoverlabel\":{\"align\":\"left\"},\"paper_bgcolor\":\"white\",\"plot_bgcolor\":\"#E5ECF6\",\"polar\":{\"bgcolor\":\"#E5ECF6\",\"angularaxis\":{\"gridcolor\":\"white\",\"linecolor\":\"white\",\"ticks\":\"\"},\"radialaxis\":{\"gridcolor\":\"white\",\"linecolor\":\"white\",\"ticks\":\"\"}},\"ternary\":{\"bgcolor\":\"#E5ECF6\",\"aaxis\":{\"gridcolor\":\"white\",\"linecolor\":\"white\",\"ticks\":\"\"},\"baxis\":{\"gridcolor\":\"white\",\"linecolor\":\"white\",\"ticks\":\"\"},\"caxis\":{\"gridcolor\":\"white\",\"linecolor\":\"white\",\"ticks\":\"\"}},\"coloraxis\":{\"colorbar\":{\"outlinewidth\":0,\"ticks\":\"\"}},\"colorscale\":{\"sequential\":[[0.0,\"#0d0887\"],[0.1111111111111111,\"#46039f\"],[0.2222222222222222,\"#7201a8\"],[0.3333333333333333,\"#9c179e\"],[0.4444444444444444,\"#bd3786\"],[0.5555555555555556,\"#d8576b\"],[0.6666666666666666,\"#ed7953\"],[0.7777777777777778,\"#fb9f3a\"],[0.8888888888888888,\"#fdca26\"],[1.0,\"#f0f921\"]],\"sequentialminus\":[[0.0,\"#0d0887\"],[0.1111111111111111,\"#46039f\"],[0.2222222222222222,\"#7201a8\"],[0.3333333333333333,\"#9c179e\"],[0.4444444444444444,\"#bd3786\"],[0.5555555555555556,\"#d8576b\"],[0.6666666666666666,\"#ed7953\"],[0.7777777777777778,\"#fb9f3a\"],[0.8888888888888888,\"#fdca26\"],[1.0,\"#f0f921\"]],\"diverging\":[[0,\"#8e0152\"],[0.1,\"#c51b7d\"],[0.2,\"#de77ae\"],[0.3,\"#f1b6da\"],[0.4,\"#fde0ef\"],[0.5,\"#f7f7f7\"],[0.6,\"#e6f5d0\"],[0.7,\"#b8e186\"],[0.8,\"#7fbc41\"],[0.9,\"#4d9221\"],[1,\"#276419\"]]},\"xaxis\":{\"gridcolor\":\"white\",\"linecolor\":\"white\",\"ticks\":\"\",\"title\":{\"standoff\":15},\"zerolinecolor\":\"white\",\"automargin\":true,\"zerolinewidth\":2},\"yaxis\":{\"gridcolor\":\"white\",\"linecolor\":\"white\",\"ticks\":\"\",\"title\":{\"standoff\":15},\"zerolinecolor\":\"white\",\"automargin\":true,\"zerolinewidth\":2},\"scene\":{\"xaxis\":{\"backgroundcolor\":\"#E5ECF6\",\"gridcolor\":\"white\",\"linecolor\":\"white\",\"showbackground\":true,\"ticks\":\"\",\"zerolinecolor\":\"white\",\"gridwidth\":2},\"yaxis\":{\"backgroundcolor\":\"#E5ECF6\",\"gridcolor\":\"white\",\"linecolor\":\"white\",\"showbackground\":true,\"ticks\":\"\",\"zerolinecolor\":\"white\",\"gridwidth\":2},\"zaxis\":{\"backgroundcolor\":\"#E5ECF6\",\"gridcolor\":\"white\",\"linecolor\":\"white\",\"showbackground\":true,\"ticks\":\"\",\"zerolinecolor\":\"white\",\"gridwidth\":2}},\"shapedefaults\":{\"line\":{\"color\":\"#2a3f5f\"}},\"annotationdefaults\":{\"arrowcolor\":\"#2a3f5f\",\"arrowhead\":0,\"arrowwidth\":1},\"geo\":{\"bgcolor\":\"white\",\"landcolor\":\"#E5ECF6\",\"subunitcolor\":\"white\",\"showland\":true,\"showlakes\":true,\"lakecolor\":\"white\"},\"title\":{\"x\":0.05},\"mapbox\":{\"style\":\"light\"}}},\"xaxis\":{\"anchor\":\"y\",\"domain\":[0.0,1.0],\"title\":{\"text\":\"State\"}},\"yaxis\":{\"anchor\":\"x\",\"domain\":[0.0,1.0],\"title\":{\"text\":\"Previous_Election_won\"}},\"legend\":{\"title\":{\"text\":\"Party\"},\"tracegroupgap\":0},\"margin\":{\"t\":60}},                        {\"responsive\": true}                    ).then(function(){\n",
       "                            \n",
       "var gd = document.getElementById('212a385f-13a0-4637-bea3-50d9f5493aaf');\n",
       "var x = new MutationObserver(function (mutations, observer) {{\n",
       "        var display = window.getComputedStyle(gd).display;\n",
       "        if (!display || display === 'none') {{\n",
       "            console.log([gd, 'removed!']);\n",
       "            Plotly.purge(gd);\n",
       "            observer.disconnect();\n",
       "        }}\n",
       "}});\n",
       "\n",
       "// Listen for the removal of the full notebook cells\n",
       "var notebookContainer = gd.closest('#notebook-container');\n",
       "if (notebookContainer) {{\n",
       "    x.observe(notebookContainer, {childList: true});\n",
       "}}\n",
       "\n",
       "// Listen for the clearing of the current output cell\n",
       "var outputEl = gd.closest('.output');\n",
       "if (outputEl) {{\n",
       "    x.observe(outputEl, {childList: true});\n",
       "}}\n",
       "\n",
       "                        })                };                });            </script>        </div>"
      ]
     },
     "metadata": {},
     "output_type": "display_data"
    }
   ],
   "source": [
    "import plotly.express as px\n",
    "fig = px.scatter(df, x=\"State\", y=\"Previous_Election_won\", color=\"Party\",\n",
    "                  hover_data=['State'])\n",
    "fig.show()"
   ]
  }
 ],
 "metadata": {
  "kernelspec": {
   "display_name": "Python 3 (ipykernel)",
   "language": "python",
   "name": "python3"
  },
  "language_info": {
   "codemirror_mode": {
    "name": "ipython",
    "version": 3
   },
   "file_extension": ".py",
   "mimetype": "text/x-python",
   "name": "python",
   "nbconvert_exporter": "python",
   "pygments_lexer": "ipython3",
   "version": "3.10.7"
  }
 },
 "nbformat": 4,
 "nbformat_minor": 5
}
